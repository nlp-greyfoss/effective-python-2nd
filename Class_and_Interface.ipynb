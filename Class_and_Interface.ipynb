{
 "cells": [
  {
   "cell_type": "markdown",
   "id": "81495a75-20d4-4992-a591-6403eee9d374",
   "metadata": {},
   "source": [
    "# 引言\n",
    "\n",
    "Python的类与继承机制，让我们很容易就能用对象表达出程序应有的行为，而且可以逐渐改进并扩展这些行为。\n",
    "\n",
    "# #37 用组合起来的类来实现多层结构，不要用嵌套的内置类型\n",
    "\n",
    "Python内置的字典类型，很适合维护对象在生命期内的动态内部状态。所谓动态的，是指我们无法获知那套状态会用到哪些标识符。\n",
    "例如，如果要用成绩册(Gradebook)记录学生的分数，而我们又没有办法提前确定这些学生的名字，那么受到记录的每位学生与各自的分数，对于Gradebook对象来说，就属于动态的内部状态。\n",
    "\n",
    "为了实现这个需求，笔者定义了下面这样一个类。"
   ]
  },
  {
   "cell_type": "code",
   "execution_count": 35,
   "id": "6c01b635-d729-498b-b0c4-f50b3a8241f6",
   "metadata": {},
   "outputs": [],
   "source": [
    "class SimpleGradebook:\n",
    "    def __init__(self):\n",
    "        self._grades = {}\n",
    "\n",
    "    def add_student(self, name):\n",
    "        self._grades[name] = []\n",
    "\n",
    "    def report_grade(self, name, score):\n",
    "        self._grades[name].append(score)\n",
    "\n",
    "    def average_grade(self, name):\n",
    "        grades = self._grades[name]\n",
    "        return sum(grades) / len(grades)"
   ]
  },
  {
   "cell_type": "markdown",
   "id": "7154047b-5988-4221-b583-6b07fa589b25",
   "metadata": {},
   "source": [
    "这个类用起来很简单。"
   ]
  },
  {
   "cell_type": "code",
   "execution_count": 36,
   "id": "23dd18bf-f307-4fc0-b8b9-9eb813fadb43",
   "metadata": {},
   "outputs": [
    {
     "name": "stdout",
     "output_type": "stream",
     "text": [
      "90.0\n"
     ]
    }
   ],
   "source": [
    "book = SimpleGradebook()\n",
    "book.add_student('Isaac Newton')\n",
    "book.report_grade('Isaac Newton', 90)\n",
    "book.report_grade('Isaac Newton', 95)\n",
    "book.report_grade('Isaac Newton', 85)\n",
    "\n",
    "print(book.average_grade('Isaac Newton'))\n"
   ]
  },
  {
   "cell_type": "markdown",
   "id": "d46cdf3f-e147-4684-91a9-a22892da986e",
   "metadata": {},
   "source": [
    "字典与相关的内置类型用起来很方便，但同时也容易遭到滥用导致代码出问题。例如，我们现在要扩展这个`SimpleGradebook`类的功能，让它按照科目保存成绩，而不是把所有科目的成绩存在一起。\n",
    "通过修改`_grades`字典的用法，使它必须把键(学生的名字)与另一个字典相对应。那份小字典以各科的名称作键与一份列表对应起来，以保存学生在这一科的全部考试成绩。"
   ]
  },
  {
   "cell_type": "code",
   "execution_count": 37,
   "id": "d3b4ab57-f43c-4566-b395-ade9aa58bc9f",
   "metadata": {},
   "outputs": [],
   "source": [
    "from collections import defaultdict\n",
    "\n",
    "class BySubjectGradebook:\n",
    "    def __init__(self):\n",
    "        self._grades = {}                       # 外面的字典\n",
    "\n",
    "    def add_student(self, name):\n",
    "        self._grades[name] = defaultdict(list)  # 里面的字典"
   ]
  },
  {
   "cell_type": "markdown",
   "id": "b4d5fb9e-9005-40cd-901a-b00ab228cbaa",
   "metadata": {},
   "source": [
    "程序写到现在，还算比较直观。但是接下来，我们要编写`report_grade`方法来记录某位学生在某科目上的一次成绩，并且要写`average_grade`方法计算某位学生的所有科目的平均成绩。这两个方法写起了就稍微有点复杂了。"
   ]
  },
  {
   "cell_type": "code",
   "execution_count": 38,
   "id": "acaaab76-c0b5-4fa2-a8c4-1c8ef9a1f315",
   "metadata": {},
   "outputs": [],
   "source": [
    "from collections import defaultdict\n",
    "\n",
    "class BySubjectGradebook:\n",
    "    def __init__(self):\n",
    "        self._grades = {}                       # 外面的字典\n",
    "\n",
    "    def add_student(self, name):\n",
    "        self._grades[name] = defaultdict(list)  # 里面的字典\n",
    "        \n",
    "    def report_grade(self, name, subject, grade):\n",
    "        by_subject = self._grades[name]\n",
    "        grade_list = by_subject[subject]\n",
    "        grade_list.append(grade)\n",
    "\n",
    "    def average_grade(self, name):\n",
    "        by_subject = self._grades[name]\n",
    "        total, count = 0, 0\n",
    "        for grades in by_subject.values():\n",
    "            total += sum(grades)\n",
    "            count += len(grades)\n",
    "        return total / count"
   ]
  },
  {
   "cell_type": "markdown",
   "id": "4e1f9a56-ccac-4142-840c-042d3196a317",
   "metadata": {},
   "source": [
    "扩展后的类，用起来依然比较容易。"
   ]
  },
  {
   "cell_type": "code",
   "execution_count": 39,
   "id": "1f627a6e-e51e-49b7-b75c-3b49c438864d",
   "metadata": {},
   "outputs": [
    {
     "name": "stdout",
     "output_type": "stream",
     "text": [
      "81.25\n"
     ]
    }
   ],
   "source": [
    "book = BySubjectGradebook()\n",
    "book.add_student('Albert Einstein')\n",
    "book.report_grade('Albert Einstein', 'Math', 75)\n",
    "book.report_grade('Albert Einstein', 'Math', 65)\n",
    "book.report_grade('Albert Einstein', 'Gym', 90)\n",
    "book.report_grade('Albert Einstein', 'Gym', 95)\n",
    "print(book.average_grade('Albert Einstein'))"
   ]
  },
  {
   "cell_type": "markdown",
   "id": "49463217-c36a-4f1f-a4b7-488c7fa55a0e",
   "metadata": {},
   "source": [
    "现在假设需求又变了，我们还要记录每次考试在科目里的权重。实现这项功能的一种办法就是改变里面那个小字典的用法，让它不要把成绩直接添加到与键名(科目名称)相对应的那份列表里，而是先用成绩与权重构成元组，然后把`(score,weight)`形式的元组添加到列表里。"
   ]
  },
  {
   "cell_type": "code",
   "execution_count": 40,
   "id": "a6b56bde-7744-4a2d-aa98-ae7e8d442304",
   "metadata": {},
   "outputs": [],
   "source": [
    "class WeightedGradebook:\n",
    "    def __init__(self):\n",
    "        self._grades = {}\n",
    "\n",
    "    def add_student(self, name):\n",
    "        self._grades[name] = defaultdict(list)\n",
    "\n",
    "    def report_grade(self, name, subject, score, weight):\n",
    "        by_subject = self._grades[name]\n",
    "        grade_list = by_subject[subject]\n",
    "        grade_list.append((score, weight))"
   ]
  },
  {
   "cell_type": "markdown",
   "id": "1c44bfa0-c9e0-43ac-ab6a-069250c4478b",
   "metadata": {},
   "source": [
    "`report_grade`方法改起来似乎挺简单的，但是`average_grade`方法就比较难懂了。"
   ]
  },
  {
   "cell_type": "code",
   "execution_count": 41,
   "id": "b0181b2a-fb42-44be-bdc8-1c9873c86856",
   "metadata": {},
   "outputs": [],
   "source": [
    "class WeightedGradebook:\n",
    "    def __init__(self):\n",
    "        self._grades = {}\n",
    "\n",
    "    def add_student(self, name):\n",
    "        self._grades[name] = defaultdict(list)\n",
    "\n",
    "    def report_grade(self, name, subject, score, weight):\n",
    "        by_subject = self._grades[name]\n",
    "        grade_list = by_subject[subject]\n",
    "        grade_list.append((score, weight))\n",
    "        \n",
    "    def average_grade(self, name):\n",
    "        by_subject = self._grades[name]\n",
    "\n",
    "        score_sum, score_count = 0, 0\n",
    "        for subject, scores in by_subject.items():\n",
    "            subject_avg, total_weight = 0, 0\n",
    "            for score, weight in scores:\n",
    "                subject_avg += score * weight\n",
    "                total_weight += weight\n",
    "\n",
    "            score_sum += subject_avg / total_weight\n",
    "            score_count += 1\n",
    "\n",
    "        return score_sum / score_count\n"
   ]
  },
  {
   "cell_type": "markdown",
   "id": "8575d136-c344-4a95-8c8a-1c465bf80e0b",
   "metadata": {},
   "source": [
    "这个类用起来也变得困难了。"
   ]
  },
  {
   "cell_type": "code",
   "execution_count": 42,
   "id": "7382bf6f-21d9-4168-849b-64809f318a7e",
   "metadata": {},
   "outputs": [
    {
     "name": "stdout",
     "output_type": "stream",
     "text": [
      "80.25\n"
     ]
    }
   ],
   "source": [
    "book = WeightedGradebook()\n",
    "book.add_student('Albert Einstein')\n",
    "book.report_grade('Albert Einstein', 'Math', 75, 0.05)\n",
    "book.report_grade('Albert Einstein', 'Math', 65, 0.15)\n",
    "book.report_grade('Albert Einstein', 'Math', 70, 0.80)\n",
    "book.report_grade('Albert Einstein', 'Gym', 100, 0.40)\n",
    "book.report_grade('Albert Einstein', 'Gym', 85, 0.60)\n",
    "print(book.average_grade('Albert Einstein'))"
   ]
  },
  {
   "cell_type": "markdown",
   "id": "6af8ba54-5c96-4ea1-ba1d-0bf7fb8ece46",
   "metadata": {},
   "source": [
    "如果遇到的是类似这种比较复杂的需求，那么不要再嵌套字典、元组、集合、列表等内置的类型了，而是应该编写一批新类并让这些类形成一套体系。\n",
    "\n",
    "只要发现记录内部状态的代码开始变得复杂起来，就应该及时把这些代码拆分到多个类里。这样可以定义良好的接口，并且能够合理地封装数据。这种写法可以在接口与具体实现之间创建一层抽象。\n",
    "\n",
    "## 把多层嵌套的内置类型重构为类体系\n",
    "\n",
    "有很多种办法可以实现重构。我们这里采用的办法是，先从依赖树的最底层做起，也就是考虑怎么记录某科目的单次考试成绩与权重。我们以元组的形式来保存单次考试成绩，并且把这种元素添加到列表里面。"
   ]
  },
  {
   "cell_type": "code",
   "execution_count": 43,
   "id": "2dc56c2f-a838-40f4-b6ec-079a5204a69b",
   "metadata": {},
   "outputs": [
    {
     "name": "stdout",
     "output_type": "stream",
     "text": [
      "89.5\n"
     ]
    }
   ],
   "source": [
    "grades = []\n",
    "grades.append((95, 0.45))\n",
    "grades.append((85, 0.55))\n",
    "total = sum(score * weight for score, weight in grades)\n",
    "total_weight = sum(weight for _, weight in grades)\n",
    "average_grade = total / total_weight\n",
    "print(average_grade)"
   ]
  },
  {
   "cell_type": "markdown",
   "id": "8d4e9fb9-36c2-4c83-9164-172d89f0d2e0",
   "metadata": {},
   "source": [
    "汇总每次考试的权重之和`total_weight`时，不需要关注具体的成绩。\n",
    "这种写法的问题在于，元组里的元素只能通过位置区分。例如，如果还要把老师的评语记在每次考试的成绩旁边，那么早前使用二元组的那些代码就全都需要修改，因为现在必须采用包含三个元素的元组才行。"
   ]
  },
  {
   "cell_type": "code",
   "execution_count": 44,
   "id": "85b87508-bac4-4da7-bafb-5b252c804086",
   "metadata": {},
   "outputs": [
    {
     "name": "stdout",
     "output_type": "stream",
     "text": [
      "89.5\n"
     ]
    }
   ],
   "source": [
    "grades = []\n",
    "grades.append((95, 0.45, 'Great job'))\n",
    "grades.append((85, 0.55, 'Better next time'))\n",
    "total = sum(score * weight for score, weight, _ in grades)\n",
    "total_weight = sum(weight for _, weight, _ in grades)\n",
    "average_grade = total / total_weight\n",
    "print(average_grade)"
   ]
  },
  {
   "cell_type": "markdown",
   "id": "9165a463-cbe1-4ccf-aa82-933d03981b1c",
   "metadata": {},
   "source": [
    "元组拖得太长，就跟字典套得太深一样，都不好维护。所以只要发现元组里的元素超过两个，就应该考虑其他办法了。\n",
    "\n",
    "Python有个命名元组(namedtuple)类型，恰好可以满足这样的需求，这种命名元组类型很容易定义出小型的表示不可变的数据。"
   ]
  },
  {
   "cell_type": "code",
   "execution_count": 45,
   "id": "ff03b72d-8345-4b0a-81dd-76fd03697e3a",
   "metadata": {},
   "outputs": [],
   "source": [
    "from collections import namedtuple\n",
    "\n",
    "Grade = namedtuple('Grade', ('score', 'weight'))"
   ]
  },
  {
   "cell_type": "markdown",
   "id": "069ceafd-42a1-4073-b6c0-1bda960eccf0",
   "metadata": {},
   "source": [
    "这样的类，既可以通过位置参数构造，也可以用关键字参数来创建。每个属性都有名字，可以根据属性名称访问字段，如果将来需求发生变化，也很容易把这种结构改成普通的类。\n",
    "\n",
    "> namedtuple的局限\n",
    "> 1. 实例的属性值仍然可以通过数字下标与迭代来访问，如果有人通过这种方式访问这些属性，将来不太容易把它转换为普通的类。\n",
    "\n",
    "有了叫作`Grade`的命名元组，我们就你可以写出表示科目的`Subject`类。"
   ]
  },
  {
   "cell_type": "code",
   "execution_count": 46,
   "id": "9f0db63b-89f9-439f-85c7-c0c1d491fc22",
   "metadata": {},
   "outputs": [],
   "source": [
    "class Subject:\n",
    "    def __init__(self):\n",
    "        self._grades = []\n",
    "\n",
    "    def report_grade(self, score, weight):\n",
    "        self._grades.append(Grade(score, weight))\n",
    "\n",
    "    def average_grade(self):\n",
    "        total, total_weight = 0, 0\n",
    "        for grade in self._grades:\n",
    "            total += grade.score * grade.weight\n",
    "            total_weight += grade.weight\n",
    "        return total / total_weight"
   ]
  },
  {
   "cell_type": "markdown",
   "id": "fab7d19c-caa4-4738-9c53-952fc22f3469",
   "metadata": {},
   "source": [
    "然后，就可以写一个表示学生的`Student`类，用它来记录某位学生各科目的考试成绩。"
   ]
  },
  {
   "cell_type": "code",
   "execution_count": 47,
   "id": "a3eb3f2a-8290-40c9-b410-20eb0d65878e",
   "metadata": {},
   "outputs": [],
   "source": [
    "class Student:\n",
    "    def __init__(self):\n",
    "        self._subjects = defaultdict(Subject)\n",
    "\n",
    "    def get_subject(self, name):\n",
    "        return self._subjects[name]\n",
    "\n",
    "    def average_grade(self):\n",
    "        total, count = 0, 0\n",
    "        for subject in self._subjects.values():\n",
    "            total += subject.average_grade()\n",
    "            count += 1\n",
    "        return total / count"
   ]
  },
  {
   "cell_type": "markdown",
   "id": "05ef6276-2625-4def-a967-5fae91b187ea",
   "metadata": {},
   "source": [
    "最后，写这样一个表示成绩册的`Gradebook`容器类，把每位学生的名字与表示这位学生的`Student`对象关联起来。"
   ]
  },
  {
   "cell_type": "code",
   "execution_count": 48,
   "id": "bf256700-a848-4fbe-8c7f-121462ca5c28",
   "metadata": {},
   "outputs": [],
   "source": [
    "class Gradebook:\n",
    "    def __init__(self):\n",
    "        self._students = defaultdict(Student)\n",
    "\n",
    "    def get_student(self, name):\n",
    "        return self._students[name]"
   ]
  },
  {
   "cell_type": "markdown",
   "id": "d8cef327-8f84-4a47-8b87-db8f48486a34",
   "metadata": {},
   "source": [
    "这些类所占的篇幅虽然比原来那种写法长了一倍，但理解起来却要容易得多。"
   ]
  },
  {
   "cell_type": "code",
   "execution_count": 49,
   "id": "ff16aa08-7fa6-4d1f-9cf9-b42d64f18845",
   "metadata": {},
   "outputs": [
    {
     "name": "stdout",
     "output_type": "stream",
     "text": [
      "80.25\n"
     ]
    }
   ],
   "source": [
    "book = Gradebook()\n",
    "albert = book.get_student('Albert Einstein')\n",
    "math = albert.get_subject('Math')\n",
    "math.report_grade(75, 0.05)\n",
    "math.report_grade(65, 0.15)\n",
    "math.report_grade(70, 0.80)\n",
    "gym = albert.get_subject('Gym')\n",
    "gym.report_grade(100, 0.40)\n",
    "gym.report_grade(85, 0.60)\n",
    "print(albert.average_grade())"
   ]
  },
  {
   "cell_type": "markdown",
   "id": "89ebf4f1-1337-4a7a-bd8d-eb97120cdd81",
   "metadata": {},
   "source": [
    "# #38 让简单的接口接受函数，而不是类的实例\n",
    "\n",
    "Python有许多内置的API，都允许我们传入某个函数来定制它的行为。这种函数可以叫作挂钩(hook)，API在执行的过程中，会回调这些挂钩函数。\n",
    "\n",
    "例如，`list`类型的`sort`方法就带有可选的`key`参数，如果指定了这个参数，那么它就会安装你提供的挂钩函数来决定列表中每个元素的先后顺序。"
   ]
  },
  {
   "cell_type": "code",
   "execution_count": 50,
   "id": "f69277a4-a5f1-4e33-86f3-76f4b27e5d78",
   "metadata": {},
   "outputs": [
    {
     "name": "stdout",
     "output_type": "stream",
     "text": [
      "['Plato', 'Socrates', 'Aristotle', 'Archimedes']\n"
     ]
    }
   ],
   "source": [
    "names = ['Socrates', 'Archimedes', 'Plato', 'Aristotle']\n",
    "names.sort(key=len)\n",
    "print(names)"
   ]
  },
  {
   "cell_type": "markdown",
   "id": "ab19daa6-ae35-42e5-ac0e-2880bd47ddef",
   "metadata": {},
   "source": [
    "在Python中，许多挂钩都是无状态的函数，带有明确的参数与返回值。挂钩用函数来描述，要比定义成类更简单。用作挂钩的函数与别的函数一样，都是Python里的头等对象，即，这些函数与方法可以像Python中其他值那样传递与引用。\n",
    "\n",
    "例如，我们要定制`defaultdict`类的行为。这种数据结构允许调用者提供一个函数，用来在键名缺失的情况下，创建与这个键相对应的值。只要字典发现访问的键不存在，就会触发这个函数，以返回应该与键相关联的默认值。\n",
    "下面定义一个`log_missing`函数作为键名缺失时的挂钩，该函数总是会把这种键的默认值设为0。\n"
   ]
  },
  {
   "cell_type": "code",
   "execution_count": 51,
   "id": "7bcf7ee9-7e50-4e21-a4c8-b81dcb1341b9",
   "metadata": {},
   "outputs": [],
   "source": [
    "def log_missing():\n",
    "    print('Key added')\n",
    "    return 0"
   ]
  },
  {
   "cell_type": "markdown",
   "id": "b6234a50-d145-44a5-9e81-cd0005a92b97",
   "metadata": {},
   "source": [
    "下面这段代码通过定制的`defaultdict`字典，把`increments`列表里面描述的增量添加到`current`这个普通字典所提供的初始量上面。"
   ]
  },
  {
   "cell_type": "code",
   "execution_count": 52,
   "id": "ae06b378-6ab3-4a6f-86bc-9d5ce49780b8",
   "metadata": {},
   "outputs": [
    {
     "name": "stdout",
     "output_type": "stream",
     "text": [
      "Before: {'green': 12, 'blue': 3}\n",
      "Key added\n",
      "Key added\n",
      "After:  {'green': 12, 'blue': 20, 'red': 5, 'orange': 9}\n"
     ]
    }
   ],
   "source": [
    "from collections import defaultdict\n",
    "\n",
    "current = {'green': 12, 'blue': 3}\n",
    "increments = [\n",
    "    ('red', 5),\n",
    "    ('blue', 17),\n",
    "    ('orange', 9),\n",
    "]\n",
    "result = defaultdict(log_missing, current)\n",
    "print('Before:', dict(result))\n",
    "# 有两个键没在字典中，因此触发了两次\n",
    "for key, amount in increments:\n",
    "    result[key] += amount\n",
    "print('After: ', dict(result))"
   ]
  },
  {
   "cell_type": "markdown",
   "id": "c8d97b63-454f-400e-a50b-522f695e77be",
   "metadata": {},
   "source": [
    "通过`log_missing`这样的挂钩函数，我们很容易构建出便于测试的API，这种API可以把挂钩所实现的附加效果与数据本身所应具备的确定行为分开。\n",
    "\n",
    "例如，假设我们要在传给`defaultdict`的挂钩里面，统计它总共遇到了多少次键名缺失的情况。要实现这项功能，其中一个办法是采用有状态的闭包。下面就定义一个辅助函数，把`missing`闭包当作挂钩传给`defaultdict`字典，以便为缺失的键提供默认值。"
   ]
  },
  {
   "cell_type": "code",
   "execution_count": 53,
   "id": "32f59ce8-2a92-4337-9b07-143391d39bc4",
   "metadata": {},
   "outputs": [],
   "source": [
    "def increment_with_report(current, increments):\n",
    "    added_count = 0\n",
    "\n",
    "    def missing():\n",
    "        nonlocal added_count  # 有状态的闭包\n",
    "        added_count += 1\n",
    "        return 0\n",
    "\n",
    "    result = defaultdict(missing, current)\n",
    "    for key, amount in increments:\n",
    "        result[key] += amount\n",
    "\n",
    "    return result, added_count"
   ]
  },
  {
   "cell_type": "markdown",
   "id": "0928937b-e384-4eca-ae6c-0dc726a77ae1",
   "metadata": {},
   "source": [
    "运行这个辅助函数处理前面的数据，可以得到预期的结果。统计键名缺失次数所用的`added_count`状态是由`missing`挂钩维护的，这体现了把简单函数传给接口的另一好处，也就是方便稍后添加新的功能，因为我们可以把实现这项功能所用的状态隐藏在这个简单的闭包里面。"
   ]
  },
  {
   "cell_type": "code",
   "execution_count": 54,
   "id": "a0212398-298e-4d86-8fd1-3eb99e1a87b5",
   "metadata": {},
   "outputs": [],
   "source": [
    "result, count = increment_with_report(current, increments)\n",
    "assert count == 2"
   ]
  },
  {
   "cell_type": "markdown",
   "id": "472b0e3b-c4c9-4e06-b7f8-6fdba9268128",
   "metadata": {},
   "source": [
    "与无状态的闭包函数相比，用有状态的闭包作为挂钩写出来的代码会难懂一些。为了让代码更清晰，可以专门定义一个小类，把原本由闭包所维护的状态给封装起来。"
   ]
  },
  {
   "cell_type": "code",
   "execution_count": 55,
   "id": "bea2d05e-ecbe-4a6e-ba40-9863291fb905",
   "metadata": {},
   "outputs": [],
   "source": [
    "class CountMissing:\n",
    "    def __init__(self):\n",
    "        self.added = 0\n",
    "\n",
    "    def missing(self):\n",
    "        self.added += 1\n",
    "        return 0"
   ]
  },
  {
   "cell_type": "markdown",
   "id": "63131523-e9c0-4d7f-a404-81dcee107f73",
   "metadata": {},
   "source": [
    "在Python中，方法与函数都是头等的对象，因此可以直接通过对象引用它所属的`CountMissing`类里的`missing`方法，并把这个方法传给`defaultdict`充当挂钩，让字典可以用这个挂钩制作默认值。在Python中，这种通过对象实例而引用的方法，很容易就能通过参数传给API当挂钩函数使用。"
   ]
  },
  {
   "cell_type": "code",
   "execution_count": 56,
   "id": "cc5ce1d6-b09a-4d37-9b9d-485bcfafbb2e",
   "metadata": {},
   "outputs": [],
   "source": [
    "counter = CountMissing()\n",
    "result = defaultdict(counter.missing, current)  # 方法引用\n",
    "for key, amount in increments:\n",
    "    result[key] += amount\n",
    "assert counter.added == 2"
   ]
  },
  {
   "cell_type": "markdown",
   "id": "a6476731-ad70-41e0-b404-c86a132c1daa",
   "metadata": {},
   "source": [
    "为了让这个类的意义更加明确，可以给它定义名为`__call__`的特殊方法。这会让这个类的对象能够像函数那样得到调用。同时，也让内置的`callable`函数能够针对这种实例返回`True`值，用以表示这个实例与普通的函数或方法类似，都是可调用的。\n",
    "==凡是能够在后面加`()`执行的对象，都叫作`callable`==。"
   ]
  },
  {
   "cell_type": "code",
   "execution_count": 57,
   "id": "53508e0b-55e6-43bc-84f6-49dc936c1dc0",
   "metadata": {},
   "outputs": [],
   "source": [
    "class BetterCountMissing:\n",
    "    def __init__(self):\n",
    "        self.added = 0\n",
    "\n",
    "    def __call__(self):\n",
    "        self.added += 1\n",
    "        return 0\n",
    "\n",
    "counter = BetterCountMissing()\n",
    "assert counter() == 0\n",
    "assert callable(counter)"
   ]
  },
  {
   "cell_type": "markdown",
   "id": "1dff833d-8129-44bc-bc72-05588e0eeb9e",
   "metadata": {},
   "source": [
    "下面，就用这样的`BetterCountMissing`实例给`defaultdict`当挂钩。"
   ]
  },
  {
   "cell_type": "code",
   "execution_count": 58,
   "id": "81a6c424-5b91-450c-be08-697e0135874a",
   "metadata": {},
   "outputs": [],
   "source": [
    "counter = BetterCountMissing()\n",
    "result = defaultdict(counter, current) # 基于__call__\n",
    "for key, amount in increments:\n",
    "    result[key] += amount\n",
    "assert counter.added == 2"
   ]
  },
  {
   "cell_type": "markdown",
   "id": "eff69bba-f4c7-4a59-9779-ded53813c163",
   "metadata": {},
   "source": [
    "如果某个类定义了`__call__`特殊方法，那么它的实例就可以像普通的Python函数那样调用。\n",
    "\n",
    "# #39 通过@classmethod多态来构造同一体系中的各类对象\n",
    "\n",
    "在Python中，不仅对象支持多态，类也支持多态。\n",
    "\n",
    "> 这里说的对象支持多态，可理解为在超类对象上面调用实例方法，实际触发的是子类对象的同名实例方法；\n",
    "> 类支持多态，可理解为在超类上面调用类方法，实际触发的是子类的同名类方法。\n",
    "\n",
    "多态机制使同一体系中的多个类可以按照各自独有的方式来实现同一个方法，这意味着这些类都可以满足同一套接口，或者都可以当作某个抽象类来使用，同时，它们又能在这个前提下，实现各自的功能。\n",
    "\n",
    "例如，要实现一套`MapReduce`(映射-归纳/映射-化简)流程，并且以一个通用的类来表示输入数据。于是，我们定义这样一个`InputData`类，并把`read`方法留给子类去实现。\n"
   ]
  },
  {
   "cell_type": "code",
   "execution_count": 59,
   "id": "1db1de7f-4539-43c4-bfdf-0c1e9aaff0ff",
   "metadata": {},
   "outputs": [],
   "source": [
    "class InputData:\n",
    "    def read(self):\n",
    "        raise NotImplementedError"
   ]
  },
  {
   "cell_type": "markdown",
   "id": "b40d1456-d1f7-4f66-af7d-5f67da4690e3",
   "metadata": {},
   "source": [
    "然后，编写一个具体的`InputData`子类，例如，可以从磁盘文件中读取数据的`PathInputData`类。"
   ]
  },
  {
   "cell_type": "code",
   "execution_count": 60,
   "id": "92034843-704a-4002-bad3-253878bed928",
   "metadata": {},
   "outputs": [],
   "source": [
    "class PathInputData(InputData):\n",
    "    def __init__(self, path):\n",
    "        super().__init__()\n",
    "        self.path = path\n",
    "\n",
    "    def read(self):\n",
    "        with open(self.path) as f:\n",
    "            return f.read()"
   ]
  },
  {
   "cell_type": "markdown",
   "id": "8098702a-b78e-4e7b-82d6-e60c99ca7019",
   "metadata": {},
   "source": [
    "通用的`InputData`类以后可能会有很多个像`PathInputData`这样的子类，每个子类都会实现标准的`read`接口，并按照各自的方式把需要处理的数据读取过来。\n",
    "\n",
    "除了输入数据要通用，我们还想让处理`MapReduce`任务的工作节点也能有一套通用的抽象接口，这样不同的`Worker`就可以通过这套标准的接口来消耗输入数据。"
   ]
  },
  {
   "cell_type": "code",
   "execution_count": 61,
   "id": "12627a10-4102-4df4-9a9b-d9376e169c8d",
   "metadata": {},
   "outputs": [],
   "source": [
    "class Worker:\n",
    "    def __init__(self, input_data):\n",
    "        self.input_data = input_data\n",
    "        self.result = None\n",
    "\n",
    "    def map(self):\n",
    "        raise NotImplementedError\n",
    "\n",
    "    def reduce(self, other):\n",
    "        raise NotImplementedError"
   ]
  },
  {
   "cell_type": "markdown",
   "id": "a079101e-a4c9-44ea-9653-9c3d1f7aff7c",
   "metadata": {},
   "source": [
    "下面，我们定义一种具体的`Worker`子类，使它按照特定的方式实现`MapReduce`。这里统计每份数据里的换行符个数，然后把所有的统计值汇总起来。"
   ]
  },
  {
   "cell_type": "code",
   "execution_count": 62,
   "id": "26c8dd5d-e467-4ac1-8a4d-2e32f9bfb417",
   "metadata": {},
   "outputs": [],
   "source": [
    "class LineCountWorker(Worker):\n",
    "    def map(self):\n",
    "        data = self.input_data.read()\n",
    "        self.result = data.count('\\n')\n",
    "\n",
    "    def reduce(self, other):\n",
    "        self.result += other.result"
   ]
  },
  {
   "cell_type": "markdown",
   "id": "f3d4ed41-5d84-4087-9ba2-6f13bd0ef5cf",
   "metadata": {},
   "source": [
    "这样似乎不错，但是如何把这些组件拼接起来。输入数据与工作节点都有各自的类体系，而且这两套体系也抽象出了合理的接口。\n",
    "然后，它们都必须落实到具体的对象上面，只有构造除了具体对象，才能写出有用的程序。\n",
    "最简单的办法，是编写几个辅助函数，手动构建这些对象，并把它们连接起来。例如，可以采用下面的辅助函数读取目录中的内容，并给目录下每份文件构造一个`PathInputData`实例。"
   ]
  },
  {
   "cell_type": "code",
   "execution_count": 63,
   "id": "96407dee-0bb1-4629-80a3-35dc537792de",
   "metadata": {},
   "outputs": [],
   "source": [
    "import os\n",
    "\n",
    "def generate_inputs(data_dir):\n",
    "    for name in os.listdir(data_dir):\n",
    "        yield PathInputData(os.path.join(data_dir, name))"
   ]
  },
  {
   "cell_type": "markdown",
   "id": "f777454d-72ec-4b27-8311-4a2b65990af4",
   "metadata": {},
   "source": [
    "接下来，再编写一个辅助函数，针对`generate_inputs`返回的每个`InputData`实例分别创建相应的`LineCountWorker`对象。"
   ]
  },
  {
   "cell_type": "code",
   "execution_count": 64,
   "id": "c5f157b1-120f-4aae-a9c3-ea5ec5f62832",
   "metadata": {},
   "outputs": [],
   "source": [
    "def create_workers(input_list):\n",
    "    workers = []\n",
    "    for input_data in input_list:\n",
    "        workers.append(LineCountWorker(input_data))\n",
    "    return workers"
   ]
  },
  {
   "cell_type": "markdown",
   "id": "11a659f8-61f3-4f84-bb39-708aab1e9e0c",
   "metadata": {},
   "source": [
    "然后，将这些`Worker`实例的映射(map)工作分发到多个线程中去执行。反复调用`reduce`，把这些`Worker`计算出的结果合并成一个值。"
   ]
  },
  {
   "cell_type": "code",
   "execution_count": 65,
   "id": "37e2c994-eaa8-4fd6-8104-b0efcfcfd804",
   "metadata": {},
   "outputs": [],
   "source": [
    "from threading import Thread\n",
    "\n",
    "def execute(workers):\n",
    "    threads = [Thread(target=w.map) for w in workers]\n",
    "    for thread in threads: thread.start()\n",
    "    for thread in threads: thread.join()\n",
    "\n",
    "    first, *rest = workers\n",
    "    for worker in rest:\n",
    "        first.reduce(worker)\n",
    "    return first.result"
   ]
  },
  {
   "cell_type": "markdown",
   "id": "2a8d6d56-6437-45dd-a148-7ddfd1b50999",
   "metadata": {},
   "source": [
    "最后，编写一个函数，将刚才那三个环节串起来。"
   ]
  },
  {
   "cell_type": "code",
   "execution_count": 66,
   "id": "1c46e25a-91f7-4145-bad8-1c5524b8007f",
   "metadata": {},
   "outputs": [],
   "source": [
    "def mapreduce(data_dir):\n",
    "    inputs = generate_inputs(data_dir)\n",
    "    workers = create_workers(inputs)\n",
    "    return execute(workers)"
   ]
  },
  {
   "cell_type": "markdown",
   "id": "5a1a9273-a8ba-4b1d-ba34-046722983327",
   "metadata": {},
   "source": [
    "可以看到，该函数可以很好地处理随机制造出的这批输入文件。"
   ]
  },
  {
   "cell_type": "code",
   "execution_count": 69,
   "id": "35e0473c-9cf0-4cf6-930f-cc0dd1faaec3",
   "metadata": {},
   "outputs": [
    {
     "name": "stdout",
     "output_type": "stream",
     "text": [
      "There are 4996 lines\n"
     ]
    }
   ],
   "source": [
    "import os\n",
    "import random\n",
    "\n",
    "def write_test_files(tmpdir):\n",
    "    os.makedirs(tmpdir)\n",
    "    for i in range(100):\n",
    "        with open(os.path.join(tmpdir, str(i)), 'w') as f:\n",
    "            f.write('\\n' * random.randint(0, 100))\n",
    "\n",
    "tmpdir = 'test_inputs'\n",
    "write_test_files(tmpdir)\n",
    "\n",
    "result = mapreduce(tmpdir)\n",
    "print(f'There are {result} lines')"
   ]
  },
  {
   "cell_type": "markdown",
   "id": "459a59d2-fa2f-42be-99ef-292de4b8ce6e",
   "metadata": {},
   "source": [
    "然后这样做有个大问题，就是`mapreduce`函数根本不通用。假如要使用其他的`InputData`或`Worker`子类，那就必须修改`generate_inputs`、`create_workers`与`mapreduce`代码。\n",
    "\n",
    "这个问题的根本原因在于，构造对象的办法不够通用。Python中最好能够通过类方法多态(class method polymorphism)来解决。这种多态与`InputData.read`所体现的实例方法多态(instance method polymorphism)很像，只不过它针对的是类，而不是这些类的对象。\n",
    "\n",
    "我们现在运用方法多态来实现`MapReduce`流程所用到的这些类。首先改写`InputData`类，把`generate_inputs`方法放到该类里面并声明成通用的`@classmethod`，这样它所欲子类都可以通过同一个接口来新建具体的`InputData`实例。"
   ]
  },
  {
   "cell_type": "code",
   "execution_count": 70,
   "id": "7e542817-1405-4428-b97b-16c645ad2995",
   "metadata": {},
   "outputs": [],
   "source": [
    "class GenericInputData:\n",
    "    def read(self):\n",
    "        raise NotImplementedError\n",
    "\n",
    "    @classmethod\n",
    "    def generate_inputs(cls, config):\n",
    "        raise NotImplementedError"
   ]
  },
  {
   "cell_type": "markdown",
   "id": "02facd6e-58a1-4a2c-a835-1a24241abf2b",
   "metadata": {},
   "source": [
    "新的`generate_inputs`方法带有一个叫作`config`的字典参数，调用者可以把一系列匹配信息放到字典中，让具体的`GenericInputData`子类去解读。例如，`PathInputData`这个子类就会通过`data_dir`键从字典里寻找含有输入文件的那个目录。"
   ]
  },
  {
   "cell_type": "code",
   "execution_count": 71,
   "id": "2ba7ce1c-cdb8-4005-93e1-31f78167e251",
   "metadata": {},
   "outputs": [],
   "source": [
    "class PathInputData(GenericInputData):\n",
    "    def __init__(self, path):\n",
    "        super().__init__()\n",
    "        self.path = path\n",
    "\n",
    "    def read(self):\n",
    "        with open(self.path) as f:\n",
    "            return f.read()\n",
    "\n",
    "    @classmethod\n",
    "    def generate_inputs(cls, config):\n",
    "        data_dir = config['data_dir']\n",
    "        for name in os.listdir(data_dir):\n",
    "            yield cls(os.path.join(data_dir, name))\n"
   ]
  },
  {
   "cell_type": "markdown",
   "id": "846899cf-82fd-4d5c-b90e-032bade92b32",
   "metadata": {},
   "source": [
    "然后，可以用类似的思路改写前面的`Worker`类。把叫作`create_workers`的辅助方法移动到这个类里面，也声明为`@classmethod`。\n",
    "新方法的`input_class`参数将会是`GenericInputData`的某个子类，我们要通过这个参数触发那个子类的`generate_inputs`方法，以创建出`Worker`所需的输入信息。\n",
    "然后通过`cls(input_data)`这个通用的形式来调用构造函数，这样创建的实例，其类型是`cls`所表示的具体`GenericWorker`子类。"
   ]
  },
  {
   "cell_type": "code",
   "execution_count": 72,
   "id": "8673aa42-74a3-4b52-a45a-39b07a72987e",
   "metadata": {},
   "outputs": [],
   "source": [
    "class GenericWorker:\n",
    "    def __init__(self, input_data):\n",
    "        self.input_data = input_data\n",
    "        self.result = None\n",
    "\n",
    "    def map(self):\n",
    "        raise NotImplementedError\n",
    "\n",
    "    def reduce(self, other):\n",
    "        raise NotImplementedError\n",
    "\n",
    "    @classmethod\n",
    "    def create_workers(cls, input_class, config):\n",
    "        workers = []\n",
    "        for input_data in input_class.generate_inputs(config):\n",
    "            workers.append(cls(input_data))\n",
    "        return workers"
   ]
  },
  {
   "cell_type": "markdown",
   "id": "e04e5e5e-fbbf-4c95-8490-8a1298f2e296",
   "metadata": {},
   "source": [
    "上面的代码创建输入信息时，用的是`input_class.generate_inputs`这样的写法，这么写正是为了触发类多态机制，以便将`generate_inputs`派发到`input_class`所表示的那个实际子类上面。\n",
    "还要注意的是，在构造`GenericWorker`的子类对象时，用的是`cls(...)`这样的通用写法，而没有直接调用`__init__`方法。\n",
    "\n",
    "接下来要修改具体的`Worker`类。"
   ]
  },
  {
   "cell_type": "code",
   "execution_count": 73,
   "id": "4908e2be-5e57-45cd-911f-6dbc47deacd9",
   "metadata": {},
   "outputs": [],
   "source": [
    "class LineCountWorker(GenericWorker):\n",
    "    def map(self):\n",
    "        data = self.input_data.read()\n",
    "        self.result = data.count('\\n')\n",
    "\n",
    "    def reduce(self, other):\n",
    "        self.result += other.result"
   ]
  },
  {
   "cell_type": "markdown",
   "id": "a6b6f8fa-30e4-4e7c-9966-dfed165a0bdd",
   "metadata": {},
   "source": [
    "最后，重写`mapreduce`函数，让它通过`worker_class.create_workers`来创建工作节点，这样它就变得通用了。"
   ]
  },
  {
   "cell_type": "code",
   "execution_count": 74,
   "id": "aef5ff87-8c32-42f8-ae60-65028eedbab4",
   "metadata": {},
   "outputs": [],
   "source": [
    "def mapreduce(worker_class, input_class, config):\n",
    "    workers = worker_class.create_workers(input_class, config)\n",
    "    return execute(workers)"
   ]
  },
  {
   "cell_type": "markdown",
   "id": "744d845e-9e03-4562-a175-706def99fd43",
   "metadata": {},
   "source": [
    "这次调用`mapreduce`时，必须多传几个参数，因为现在是通用的函数，必须把实际的输入数据与实际的工作节点告诉它。"
   ]
  },
  {
   "cell_type": "code",
   "execution_count": 76,
   "id": "96747b43-8c33-46ec-91c2-58ddf98b168d",
   "metadata": {},
   "outputs": [
    {
     "name": "stdout",
     "output_type": "stream",
     "text": [
      "There are 4996 lines\n"
     ]
    }
   ],
   "source": [
    "config = {'data_dir': tmpdir}\n",
    "result = mapreduce(LineCountWorker, PathInputData, config)\n",
    "print(f'There are {result} lines')"
   ]
  },
  {
   "cell_type": "markdown",
   "id": "5fdb0166-2515-401b-bc22-7a13bb8d8110",
   "metadata": {},
   "source": [
    "这样我们能随意编写其他的`GenericInputData`与`GenericWorker`子类，而不用再花时间去调整它们之间的拼接代码。\n",
    "\n",
    "# #40 通过super初始化超类\n",
    "\n",
    "以前有种简单的写法，能在子类里面执行超类的初始化逻辑，那就是直接在超类名称上调用`__init__`方法并把子类实例传进去。"
   ]
  },
  {
   "cell_type": "code",
   "execution_count": 77,
   "id": "f88d2bb1-0d1a-4edb-be05-d805fa4d280e",
   "metadata": {},
   "outputs": [],
   "source": [
    "class MyBaseClass:\n",
    "    def __init__(self, value):\n",
    "        self.value = value\n",
    "\n",
    "class MyChildClass(MyBaseClass):\n",
    "    def __init__(self):\n",
    "        MyBaseClass.__init__(self, 5)\n",
    "\n",
    "    def times_two(self):\n",
    "        return self.value * 2\n",
    "\n",
    "foo = MyChildClass()\n",
    "assert foo.times_two() == 10"
   ]
  },
  {
   "cell_type": "markdown",
   "id": "6bf83c8e-3681-408a-8a12-20ff39120c93",
   "metadata": {},
   "source": [
    "这个办法可以应对比较简单的类体系，但是在其他的情况下容易出现问题。\n",
    "\n",
    "如果某个类继承了多个超类，那么直接调用超类的`__init__`方法会让代码产生误会。\n",
    "\n",
    "直接调用`__init__`方法所产生的第一个问题在于，超类的构造逻辑不一定会按照它们在子类`class`语句中的声明顺序执行。例如，在`MyBaseClass`之外再定义两个类，让它们也分别去操纵本实例的`value`字段。"
   ]
  },
  {
   "cell_type": "code",
   "execution_count": 78,
   "id": "cd071542-e2e1-4a2a-b3fd-9a9d966ca39c",
   "metadata": {},
   "outputs": [],
   "source": [
    "class TimesTwo:\n",
    "    def __init__(self):\n",
    "        self.value *= 2\n",
    "\n",
    "class PlusFive:\n",
    "    def __init__(self):\n",
    "        self.value += 5"
   ]
  },
  {
   "cell_type": "markdown",
   "id": "b3697e94-a49b-406a-b6c2-014ce04c4351",
   "metadata": {},
   "source": [
    "下面这子类继承了刚才那三个类，而且它在`class`语句里指定的超类顺序与它执行那些超类的`__init__`时所用的顺序一致。"
   ]
  },
  {
   "cell_type": "code",
   "execution_count": 79,
   "id": "71c5cc13-18b6-4db5-b659-56b8546d8401",
   "metadata": {},
   "outputs": [],
   "source": [
    "class OneWay(MyBaseClass, TimesTwo, PlusFive):\n",
    "    def __init__(self, value):\n",
    "        MyBaseClass.__init__(self, value)\n",
    "        TimesTwo.__init__(self)\n",
    "        PlusFive.__init__(self)"
   ]
  },
  {
   "cell_type": "markdown",
   "id": "2a5e809e-e6af-4b32-8131-c64cbb363720",
   "metadata": {},
   "source": [
    "这样写，程序会按正常顺序初始化那几个超类。"
   ]
  },
  {
   "cell_type": "code",
   "execution_count": 80,
   "id": "c6a4ebcc-1932-4e8d-b3df-660a76cdda18",
   "metadata": {},
   "outputs": [
    {
     "name": "stdout",
     "output_type": "stream",
     "text": [
      "First ordering value is (5 * 2) + 5 = 15\n"
     ]
    }
   ],
   "source": [
    "foo = OneWay(5)\n",
    "\n",
    "print('First ordering value is (5 * 2) + 5 =', foo.value)"
   ]
  },
  {
   "cell_type": "markdown",
   "id": "61fcb3fe-102f-440e-b1c1-75bbad1ca3d3",
   "metadata": {},
   "source": [
    "但如果子类在`class`语句里指定的超类顺序，与它执行那些超类的`__init__`时的顺序不同，那么运行结果就会让人困惑。"
   ]
  },
  {
   "cell_type": "code",
   "execution_count": 82,
   "id": "0d5f4d8d-5333-4b1b-add2-dbbc147469e9",
   "metadata": {},
   "outputs": [],
   "source": [
    "class AnotherWay(MyBaseClass, PlusFive, TimesTwo):\n",
    "    def __init__(self, value):\n",
    "        MyBaseClass.__init__(self, value)\n",
    "        TimesTwo.__init__(self) # 与继承的顺序不同\n",
    "        PlusFive.__init__(self)"
   ]
  },
  {
   "cell_type": "markdown",
   "id": "79f5ab31-0cd8-4984-a7c2-8d24f7ee35db",
   "metadata": {},
   "source": [
    "这样写，会使代码很难理解。实际上，程序依照的是`__init__`的调用顺序，而不是`class`语句中的声明顺序。"
   ]
  },
  {
   "cell_type": "code",
   "execution_count": 83,
   "id": "74540f5c-13d3-462a-bccc-30956f62141a",
   "metadata": {},
   "outputs": [
    {
     "name": "stdout",
     "output_type": "stream",
     "text": [
      "Second ordering value is 15\n"
     ]
    }
   ],
   "source": [
    "bar = AnotherWay(5)\n",
    "print('Second ordering value is', bar.value) # 5 x 2 + 5"
   ]
  },
  {
   "cell_type": "markdown",
   "id": "7d74336e-7b0a-4d09-9c51-852cdc02737d",
   "metadata": {},
   "source": [
    "直接调用`__init__`所产生的第二个问题在于，无法正确处理菱形问题。这种继承指的是子类通过类体系里两条不同路径的类继承了同一个超类。\n",
    "例如，下面先从`MyBaseClass`派生出两个子类。"
   ]
  },
  {
   "cell_type": "code",
   "execution_count": 84,
   "id": "d3b6640e-cce2-4462-a558-87fc5aca5e02",
   "metadata": {},
   "outputs": [],
   "source": [
    "class TimesSeven(MyBaseClass):\n",
    "    def __init__(self, value):\n",
    "        MyBaseClass.__init__(self, value)\n",
    "        self.value *= 7\n",
    "\n",
    "class PlusNine(MyBaseClass):\n",
    "    def __init__(self, value):\n",
    "        MyBaseClass.__init__(self, value)\n",
    "        self.value += 9"
   ]
  },
  {
   "cell_type": "markdown",
   "id": "a3ffad7d-9086-4817-a5e1-3fef9fb2a227",
   "metadata": {},
   "source": [
    "然后，定义最终的子类，让它分别继承上面两个类，这样`MyBaseClass`就会出现在菱形体系的顶端。"
   ]
  },
  {
   "cell_type": "code",
   "execution_count": 85,
   "id": "945daa52-3d7b-4992-be3c-3aa68c4c2747",
   "metadata": {},
   "outputs": [
    {
     "name": "stdout",
     "output_type": "stream",
     "text": [
      "Should be (5 * 7) + 9 = 44 but is 14\n"
     ]
    }
   ],
   "source": [
    "class ThisWay(TimesSeven, PlusNine):\n",
    "    def __init__(self, value):\n",
    "        TimesSeven.__init__(self, value)\n",
    "        PlusNine.__init__(self, value)\n",
    "\n",
    "foo = ThisWay(5)\n",
    "print('Should be (5 * 7) + 9 = 44 but is', foo.value)"
   ]
  },
  {
   "cell_type": "markdown",
   "id": "b50e30ca-e7ad-428f-b2b7-2d233be12542",
   "metadata": {},
   "source": [
    "当`ThisWay`调用第二个超类的`__init__`时，那个方法会再度触发`MyBaseClass`的`__init__`，导致`self.value`重置为`5`。所以，最终的结果为`5 + 9 = 14`。\n",
    "\n",
    "为了解决这些问题，Python内置了`super`函数并且规定了标准的方法解析顺序(method resolution order,MRO)。`super`能够确保菱形继承体系中的共同超类只初始化一次。MRO可以确定超类之间的初始化顺序。\n",
    "\n",
    "下面再穿件一套菱形的类体系，但是这次，我们改用`super()`来调用超类的初始化逻辑。"
   ]
  },
  {
   "cell_type": "code",
   "execution_count": 86,
   "id": "533ef70d-8bc4-4de7-90e1-7cdd5b92eae4",
   "metadata": {},
   "outputs": [],
   "source": [
    "class MyBaseClass:\n",
    "    def __init__(self, value):\n",
    "        self.value = value\n",
    "\n",
    "class TimesSevenCorrect(MyBaseClass):\n",
    "    def __init__(self, value):\n",
    "        super().__init__(value)\n",
    "        self.value *= 7\n",
    "\n",
    "class PlusNineCorrect(MyBaseClass):\n",
    "    def __init__(self, value):\n",
    "        super().__init__(value)\n",
    "        self.value += 9"
   ]
  },
  {
   "cell_type": "markdown",
   "id": "6f6cbc33-5e2c-42f1-a41a-9d9c39372211",
   "metadata": {},
   "source": [
    "位于菱形结构顶端的`MyBaseClass`会率先初始化，而且只会初始化一次。接下来，程序会参照菱形底端那个子类在`class`语句里声明超类时的顺序，来执行菱形结构中部的那两个超类。"
   ]
  },
  {
   "cell_type": "code",
   "execution_count": 87,
   "id": "a35ad99d-a618-4ca0-82ff-9418062e711f",
   "metadata": {},
   "outputs": [
    {
     "name": "stdout",
     "output_type": "stream",
     "text": [
      "Should be 7 * (5 + 9) = 98 and is 98\n"
     ]
    }
   ],
   "source": [
    "class GoodWay(TimesSevenCorrect, PlusNineCorrect):\n",
    "    def __init__(self, value):\n",
    "        super().__init__(value)\n",
    "\n",
    "foo = GoodWay(5)\n",
    "print('Should be 7 * (5 + 9) = 98 and is', foo.value)"
   ]
  },
  {
   "cell_type": "markdown",
   "id": "6efc1b9f-b0dc-4461-9d2d-d0b0d59df862",
   "metadata": {},
   "source": [
    "这个执行顺序，似乎与看上去的想法。实际上，这两个超类之间的初始化顺序，要由子类的MRO确定，它可以通过mro方法来查询。"
   ]
  },
  {
   "cell_type": "code",
   "execution_count": 88,
   "id": "db9ef2b3-1f9c-4e0f-a66a-94dbfb2a4e0b",
   "metadata": {},
   "outputs": [
    {
     "name": "stdout",
     "output_type": "stream",
     "text": [
      "<class '__main__.GoodWay'>\n",
      "<class '__main__.TimesSevenCorrect'>\n",
      "<class '__main__.PlusNineCorrect'>\n",
      "<class '__main__.MyBaseClass'>\n",
      "<class 'object'>\n"
     ]
    }
   ],
   "source": [
    "mro_str = '\\n'.join(repr(cls) for cls in GoodWay.mro())\n",
    "print(mro_str)"
   ]
  },
  {
   "cell_type": "markdown",
   "id": "c5c11784-5064-45c3-af37-02d8296c1713",
   "metadata": {},
   "source": [
    "调用`GoodWay(5)`时，会先触发`TimesSevenCorrect.__init__`，进而触发`PlusNineCorrect.__init__`，而这又会触发`MyBaseClass.__init__`。程序到达菱形结果的顶端后，开始执行`MyBaseClass`的初始化逻辑，然后按照与刚才相反的顺序，依次执行`PlusNineCorrect`、`TimesSevenCorrect`和`GoodWay`的初始化逻辑。\n",
    "\n",
    "所以，程序先在`MyBaseClass`中把`value`设成`5`，然后在`PlusNineCorrect`中给它加`9`，得到`14`，接着又在`TimesSevenCorrect`将它乘`7`，得到`98`。\n",
    "\n",
    "除了可以应对菱形继承结构，通过`super()`调用`__init__`,可使代码更容易维护。\n",
    "\n",
    "`super`函数也可以用双参数的形式调用，第一个参数表示从这个类型开始按照方法解析顺序MRO向上搜索，而解析顺序则要由第二个参数所在类型的`__mro__`决定。\n",
    "\n",
    "例如，按照下面这种写法，如果在`super`所返回的内容上调用`__init__`方法，那么程序会从`ExplicitTrisect`类型开始（不含该类型本身）按照MRO向上搜索，直到找到这样的`__init__`方法为止，而解析顺序是由第二个参数所属的类型`ExplicitTrisect`决定的，所以解析顺序是`ExplicitTrisect -> MyBaseClass -> object`。"
   ]
  },
  {
   "cell_type": "code",
   "execution_count": 89,
   "id": "91d832bc-58d6-44f2-acf0-1a030c6c34c2",
   "metadata": {},
   "outputs": [],
   "source": [
    "class ExplicitTrisect(MyBaseClass):\n",
    "    def __init__(self, value):\n",
    "        super(ExplicitTrisect, self).__init__(value)\n",
    "        self.value /= 3\n",
    "assert ExplicitTrisect(9).value == 3"
   ]
  },
  {
   "cell_type": "markdown",
   "id": "28de903f-60e8-4c95-9103-37c0955c719d",
   "metadata": {},
   "source": [
    "一般来说，在类的`__init__`方法里面通过`super`初始化实例时，不需要采用双参数的形式，而是可以直接采用不带参数的写法调用`super`，这样Python编译器会自动将`__class__`和`self`当成参数传递进去。所以，下面这两种写法跟刚才那种写法是同一个意思。"
   ]
  },
  {
   "cell_type": "code",
   "execution_count": 90,
   "id": "02c1c6cb-3675-474a-8740-ce80b6750000",
   "metadata": {},
   "outputs": [],
   "source": [
    "class AutomaticTrisect(MyBaseClass):\n",
    "    def __init__(self, value):\n",
    "        super(__class__, self).__init__(value)\n",
    "        self.value /= 3\n",
    "\n",
    "class ImplicitTrisect(MyBaseClass):\n",
    "    def __init__(self, value):\n",
    "        super().__init__(value)\n",
    "        self.value /= 3\n",
    "\n",
    "assert ExplicitTrisect(9).value == 3\n",
    "assert AutomaticTrisect(9).value == 3\n",
    "assert ImplicitTrisect(9).value == 3"
   ]
  },
  {
   "cell_type": "markdown",
   "id": "3bc4d177-b66f-40ed-8e74-b0ee088cd2f8",
   "metadata": {},
   "source": [
    "只有一种情况需要明确给`super`指定参数，就是：我们想从子类里面访问超类对某项功能所做的实现方案，而那种方案可能已经被子类覆盖掉了。\n",
    "\n",
    "# #41 考虑用mix-in类来表示可组合的功能\n",
    "\n",
    "基本原则是尽量少用多重继承。\n",
    "\n",
    "如果既要通过多重继承来方便地封装逻辑，又想避开可能出现的问题，那么就应该把有待继承的类写成mix-in类。这种类只提供一小套方法给子类去沿用，而不定义自己实例级别的属性，也不需要`__init__`构造函数。\n",
    "\n",
    "在Python里面很容易编写mix-in，因为无论对象是什么类型，我们都可以方便地检视它当前的状态。这种动态监测机制，让我们只需要把通用的功能在mix-in实现一遍即可，将来也可以把这项功能应用到其他许多类里面。\n",
    "\n",
    "例如，现在要实现这样一个功能，把内存中的Python对象表示成字典形式以便做序列化处理。不妨将这项功能写为通用代码，以供其他类使用。\n",
    "\n",
    "为了演示这种做法，我们定义下面这个mix-in，让它提供名为`to_dict`的public方法。凡是想支持这项功能的类，都可以从mix-in继承。"
   ]
  },
  {
   "cell_type": "code",
   "execution_count": 91,
   "id": "0aecd786-99e3-4df4-a6aa-06f89d7589d9",
   "metadata": {},
   "outputs": [],
   "source": [
    "class ToDictMixin:\n",
    "    def to_dict(self):\n",
    "        return self._traverse_dict(self.__dict__)"
   ]
  },
  {
   "cell_type": "markdown",
   "id": "3b258b46-d3bd-4a61-bcd3-473a3acaafe9",
   "metadata": {},
   "source": [
    "具体的实现代码写得很直观，我们可以通过`instance`函数动态地检视值的类型，并利用`hasattr`函数判断值里面有没有叫作`__dict__`的字典。"
   ]
  },
  {
   "cell_type": "code",
   "execution_count": 92,
   "id": "4d350145-004a-49ff-93d1-414692421eb0",
   "metadata": {},
   "outputs": [],
   "source": [
    "   \n",
    "class ToDictMixin:\n",
    "    def to_dict(self):\n",
    "        return self._traverse_dict(self.__dict__)\n",
    "    \n",
    "    def _traverse_dict(self, instance_dict):\n",
    "        output = {}\n",
    "        for key, value in instance_dict.items():\n",
    "            output[key] = self._traverse(key, value)\n",
    "        return output\n",
    "\n",
    "    def _traverse(self, key, value):\n",
    "        if isinstance(value, ToDictMixin):\n",
    "            return value.to_dict()\n",
    "        elif isinstance(value, dict):\n",
    "            return self._traverse_dict(value)\n",
    "        elif isinstance(value, list):\n",
    "            return [self._traverse(key, i) for i in value]\n",
    "        elif hasattr(value, '__dict__'):\n",
    "            return self._traverse_dict(value.__dict__)\n",
    "        else:\n",
    "            return value"
   ]
  },
  {
   "cell_type": "markdown",
   "id": "6500acb0-26e6-40bb-b555-3ca59201801c",
   "metadata": {},
   "source": [
    "下面以二叉树为例，演示如何表示二叉树的`BinaryTree`类具备刚才那个mix-in所提供的的功能。"
   ]
  },
  {
   "cell_type": "code",
   "execution_count": 93,
   "id": "9da017c0-4886-4ce7-bfae-df33ea377232",
   "metadata": {},
   "outputs": [],
   "source": [
    "class BinaryTree(ToDictMixin):\n",
    "    def __init__(self, value, left=None, right=None):\n",
    "        self.value = value\n",
    "        self.left = left\n",
    "        self.right = right"
   ]
  },
  {
   "cell_type": "markdown",
   "id": "2e40c106-5424-4629-818e-02874df5ebae",
   "metadata": {},
   "source": [
    "定义了这样的`BinaryTree`类猴，很容易就能把二叉树里面那些相互关联的Python对象转换成字典的形式。"
   ]
  },
  {
   "cell_type": "code",
   "execution_count": 94,
   "id": "e721b6a1-2ec8-4148-9c28-2971bfab49d1",
   "metadata": {},
   "outputs": [
    {
     "name": "stdout",
     "output_type": "stream",
     "text": [
      "{'left': {'left': None,\n",
      "          'right': {'left': None, 'right': None, 'value': 9},\n",
      "          'value': 7},\n",
      " 'right': {'left': {'left': None, 'right': None, 'value': 11},\n",
      "           'right': None,\n",
      "           'value': 13},\n",
      " 'value': 10}\n"
     ]
    }
   ],
   "source": [
    "from pprint import pprint\n",
    "tree = BinaryTree(10,\n",
    "    left=BinaryTree(7, right=BinaryTree(9)),\n",
    "    right=BinaryTree(13, left=BinaryTree(11)))\n",
    "\n",
    "pprint(tree.to_dict())\n"
   ]
  },
  {
   "cell_type": "markdown",
   "id": "60996fde-9892-404c-93d5-e717666299f7",
   "metadata": {},
   "source": [
    "mix-in最妙的地方在于，子类既可以沿用它所提供的的功能，又可以对其中一些地方做自己的处理。\n",
    "\n",
    "例如，我们从`BinaryTree`派生了一个子类，让这种特殊的`BinaryTreeWithParent`二叉树能够把指向上级节点的引用保存下来。\n",
    "但问题是，这种二叉树的`to_dict`方法是从`ToDictMixin`继承来的，它所触发的`_traverse`方法，在面对循环引用时，会无休止地递归下去。"
   ]
  },
  {
   "cell_type": "code",
   "execution_count": 95,
   "id": "28cba095-7890-4e8c-973a-5acef2f09f4a",
   "metadata": {},
   "outputs": [],
   "source": [
    "class BinaryTreeWithParent(BinaryTree):\n",
    "    def __init__(self, value, left=None,\n",
    "                 right=None, parent=None):\n",
    "        super().__init__(value, left=left, right=right)\n",
    "        self.parent = parent"
   ]
  },
  {
   "cell_type": "markdown",
   "id": "c1c287e9-3bf6-47d3-b178-b925a0bbe8cb",
   "metadata": {},
   "source": [
    "为了避免无限循环，我们可以覆盖`BinaryTreeWithParent._traverse`方法，让它对指向上级节点的引用做专门处理，而对于其他的值，则继续沿用从mix-in继承的`_traverse`逻辑。\n",
    "下面这段代码，首先判断当前值是不是指向上级节点的引用。如果是，就直接返回上级节点的`value`值；如果不是，那就通过内置的`super`函数沿用由mix-in超类所给出默认实现方案。"
   ]
  },
  {
   "cell_type": "code",
   "execution_count": 96,
   "id": "a8cd2908-bc1c-40be-9d0f-af708b3d808c",
   "metadata": {},
   "outputs": [],
   "source": [
    "class BinaryTreeWithParent(BinaryTree):\n",
    "    def __init__(self, value, left=None,\n",
    "                 right=None, parent=None):\n",
    "        super().__init__(value, left=left, right=right)\n",
    "        self.parent = parent\n",
    "        \n",
    "    def _traverse(self, key, value):\n",
    "        if (isinstance(value, BinaryTreeWithParent) and\n",
    "                key == 'parent'):\n",
    "            return value.value  # 防止循环\n",
    "        else:\n",
    "            return super()._traverse(key, value)"
   ]
  },
  {
   "cell_type": "markdown",
   "id": "5bed3ded-c299-466b-b982-001dddc7012d",
   "metadata": {},
   "source": [
    "现在调用`BinaryTreeWithParent.to_dict`就没有问题了。"
   ]
  },
  {
   "cell_type": "code",
   "execution_count": 97,
   "id": "c508c193-9c1d-4f5a-81ee-cd8f8381e37e",
   "metadata": {},
   "outputs": [
    {
     "name": "stdout",
     "output_type": "stream",
     "text": [
      "{'left': {'left': None,\n",
      "          'parent': 10,\n",
      "          'right': {'left': None, 'parent': 7, 'right': None, 'value': 9},\n",
      "          'value': 7},\n",
      " 'parent': None,\n",
      " 'right': None,\n",
      " 'value': 10}\n"
     ]
    }
   ],
   "source": [
    "root = BinaryTreeWithParent(10)\n",
    "root.left = BinaryTreeWithParent(7, parent=root)\n",
    "root.left.right = BinaryTreeWithParent(9, parent=root.left)\n",
    "pprint(root.to_dict())"
   ]
  },
  {
   "cell_type": "markdown",
   "id": "08bd2901-17a3-4931-9cc9-8050619c66d1",
   "metadata": {},
   "source": [
    "只要`BinaryTreeWithParent._traverse`没问题，带有`BinaryTreeWithParent`属性的其他类就可以直接继承`ToDictMixin`，这样的话，程序在把这种对象转换成字典时，会自动对其中的`BinaryTreeWithParent`属性做出正确处理。"
   ]
  },
  {
   "cell_type": "code",
   "execution_count": 98,
   "id": "91c267a5-9d34-44cd-8895-0e77b4a97d69",
   "metadata": {},
   "outputs": [
    {
     "name": "stdout",
     "output_type": "stream",
     "text": [
      "{'name': 'foobar',\n",
      " 'tree_with_parent': {'left': None, 'parent': 7, 'right': None, 'value': 9}}\n"
     ]
    }
   ],
   "source": [
    "class NamedSubTree(ToDictMixin):\n",
    "    def __init__(self, name, tree_with_parent):\n",
    "        self.name = name\n",
    "        self.tree_with_parent = tree_with_parent\n",
    "\n",
    "my_tree = NamedSubTree('foobar', root.left.right)\n",
    "pprint(my_tree.to_dict())  "
   ]
  },
  {
   "cell_type": "markdown",
   "id": "6f7af5a8-2c54-4d0a-b502-5fa568a8c298",
   "metadata": {},
   "source": [
    "多个mix-in可以组合起来用。例如，我们要再写一个mix-in，让所有的类都可以通过继承它来实现JSON序列化功能。\n",
    "在编写这个mix-in时，假设继承了它的那个类肯定有自己的`to_dict`方法。"
   ]
  },
  {
   "cell_type": "code",
   "execution_count": 99,
   "id": "5a5eaeb3-b346-4c3d-b8b3-67cda22d3122",
   "metadata": {},
   "outputs": [],
   "source": [
    "import json\n",
    "\n",
    "class JsonMixin:\n",
    "    @classmethod\n",
    "    def from_json(cls, data):\n",
    "        kwargs = json.loads(data)\n",
    "        return cls(**kwargs)\n",
    "\n",
    "    def to_json(self):\n",
    "        return json.dumps(self.to_dict())"
   ]
  },
  {
   "cell_type": "markdown",
   "id": "7337bf2c-809d-4140-af1a-ff19c17b5cc9",
   "metadata": {},
   "source": [
    "`JsonMixin`既定义了实例方法，也定义了类方法。于是，继承了这个mix-in的其他类也会拥有这两种行为。\n",
    "在本例中，继承`JsonMixin`的类只需要提供`to_dict`方法以及能接受关键字参数的`__init__`方法即可。\n",
    "\n",
    "有了这样两个mix-in，我们很容易就能创建一套含有工具类的体系，让其中的各种类型都可以把对象序列化成JSON格式并且能够根据JSON格式的数据创建这样的对象。\n",
    "而这只需要开发者按照固定的样式多写一点代码即可。\n",
    "\n",
    "例如，可以用这样一套由数据类所构成的体系表示数据中心的各种设备与它们之间的结构关系。"
   ]
  },
  {
   "cell_type": "code",
   "execution_count": 100,
   "id": "1087ab56-2598-4c7a-b8bf-0160cee49457",
   "metadata": {},
   "outputs": [],
   "source": [
    "class DatacenterRack(ToDictMixin, JsonMixin):\n",
    "    def __init__(self, switch=None, machines=None):\n",
    "        self.switch = Switch(**switch)\n",
    "        self.machines = [\n",
    "            Machine(**kwargs) for kwargs in machines]\n",
    "\n",
    "class Switch(ToDictMixin, JsonMixin):\n",
    "    def __init__(self, ports=None, speed=None):\n",
    "        self.ports = ports\n",
    "        self.speed = speed\n",
    "\n",
    "class Machine(ToDictMixin, JsonMixin):\n",
    "    def __init__(self, cores=None, ram=None, disk=None):\n",
    "        self.cores = cores\n",
    "        self.ram = ram\n",
    "        self.disk = disk"
   ]
  },
  {
   "cell_type": "markdown",
   "id": "8eaff214-df05-4037-a686-127abd6d4e05",
   "metadata": {},
   "source": [
    "这样，我们很容易就能根据JSON格式的信息把这些对象还原出来，另外，也可以把它们再序列化成JSON格式。\n"
   ]
  },
  {
   "cell_type": "code",
   "execution_count": 102,
   "id": "8eeece6f-ccb6-4dff-b450-a9af611ee28b",
   "metadata": {},
   "outputs": [],
   "source": [
    "serialized = \"\"\"{\n",
    "    \"switch\": {\"ports\": 5, \"speed\": 1e9},\n",
    "    \"machines\": [\n",
    "        {\"cores\": 8, \"ram\": 32e9, \"disk\": 5e12},\n",
    "        {\"cores\": 4, \"ram\": 16e9, \"disk\": 1e12},\n",
    "        {\"cores\": 2, \"ram\": 4e9, \"disk\": 500e9}\n",
    "    ]\n",
    "}\"\"\"\n",
    "\n",
    "# 反序列化成DatacenterRack对象\n",
    "deserialized = DatacenterRack.from_json(serialized)\n",
    "# 序列化成JSON格式\n",
    "roundtrip = deserialized.to_json()\n",
    "assert json.loads(serialized) == json.loads(roundtrip)"
   ]
  },
  {
   "cell_type": "markdown",
   "id": "91995ad6-f17e-4960-b994-1fba9f111f72",
   "metadata": {},
   "source": [
    "对于`JsonMixin`这样的mix-in来说，即便直接继承它的那个类还通过类体系中的其他更高层类型间接地继承了它，程序依然能正常运行，因为Python可以把相关的方法正确地派发给`JsonMixin`类。"
   ]
  },
  {
   "cell_type": "markdown",
   "id": "05d5b6a7-21b9-4fd0-8daa-ea3ef4b1210b",
   "metadata": {},
   "source": [
    "# #42  优先考虑用public属性表示应受保护的数据，不要用private属性表示\n",
    "\n",
    "Python类的属性只有两种访问级别，`public`和`private`。"
   ]
  },
  {
   "cell_type": "code",
   "execution_count": 1,
   "id": "3a07e98d-712c-46df-83c0-a11a6b3f1be2",
   "metadata": {},
   "outputs": [],
   "source": [
    "class MyObject:\n",
    "    def __init__(self):\n",
    "        self.public_field = 5\n",
    "        self.__private_field = 10\n",
    "    \n",
    "    def get_private_field(self):\n",
    "        return self.__private_field"
   ]
  },
  {
   "cell_type": "markdown",
   "id": "a679fd42-aab4-475b-bb22-86b8a4d1288c",
   "metadata": {},
   "source": [
    "`public`属性能公开访问"
   ]
  },
  {
   "cell_type": "code",
   "execution_count": 2,
   "id": "48189ccb-3cff-430d-a573-a07f263ed260",
   "metadata": {},
   "outputs": [],
   "source": [
    "foo = MyObject()\n",
    "assert foo.public_field == 5"
   ]
  },
  {
   "cell_type": "markdown",
   "id": "ba8d9076-9c3f-4269-8ee3-27cb7b214c0b",
   "metadata": {},
   "source": [
    "如果属性名以两个下划线开头，那么即为`private`字段。"
   ]
  },
  {
   "cell_type": "code",
   "execution_count": 4,
   "id": "bf2aef26-8bca-4ec2-a892-a83258cafdb2",
   "metadata": {},
   "outputs": [],
   "source": [
    "assert foo.get_private_field() == 10"
   ]
  },
  {
   "cell_type": "markdown",
   "id": "c21fe3fc-95d4-4f9a-b94f-91c25ede672f",
   "metadata": {},
   "source": [
    "但如果直接访问`private`字段，那就会抛出异常。"
   ]
  },
  {
   "cell_type": "code",
   "execution_count": 5,
   "id": "91d8fb87-30ba-40d8-a3c7-d057729ef6f6",
   "metadata": {},
   "outputs": [
    {
     "ename": "AttributeError",
     "evalue": "'MyObject' object has no attribute '__private_field'",
     "output_type": "error",
     "traceback": [
      "\u001b[0;31m---------------------------------------------------------------------------\u001b[0m",
      "\u001b[0;31mAttributeError\u001b[0m                            Traceback (most recent call last)",
      "\u001b[0;32m<ipython-input-5-a888a87e4048>\u001b[0m in \u001b[0;36m<module>\u001b[0;34m\u001b[0m\n\u001b[0;32m----> 1\u001b[0;31m \u001b[0mfoo\u001b[0m\u001b[0;34m.\u001b[0m\u001b[0m__private_field\u001b[0m\u001b[0;34m\u001b[0m\u001b[0;34m\u001b[0m\u001b[0m\n\u001b[0m",
      "\u001b[0;31mAttributeError\u001b[0m: 'MyObject' object has no attribute '__private_field'"
     ]
    }
   ],
   "source": [
    "foo.__private_field"
   ]
  },
  {
   "cell_type": "markdown",
   "id": "8db4a536-32d8-485f-b1ba-255184ebccbb",
   "metadata": {},
   "source": [
    "类方法可以访问本类的`private`属性，因为类方法也是在这个类的范围里声明的。"
   ]
  },
  {
   "cell_type": "code",
   "execution_count": 6,
   "id": "5baa1e36-78de-4df5-9803-a996af27fb0a",
   "metadata": {},
   "outputs": [],
   "source": [
    "class MyOtherObject:\n",
    "    def __init__(self):\n",
    "        self.__private_field = 71\n",
    "    \n",
    "    @classmethod\n",
    "    def get_private_field_of_instance(cls, instance):\n",
    "        return instance.__private_field\n",
    "    \n",
    "bar = MyOtherObject()\n",
    "assert bar.get_private_field_of_instance(bar) == 71"
   ]
  },
  {
   "cell_type": "markdown",
   "id": "4972fbad-bc9f-42bc-a45d-9ee57f9d2bfe",
   "metadata": {},
   "source": [
    "`private`字段也只能给这个类自己用，子类不能访问超类的`private`字段。"
   ]
  },
  {
   "cell_type": "code",
   "execution_count": 8,
   "id": "71d5261d-7588-4011-92d2-297259b3455c",
   "metadata": {},
   "outputs": [
    {
     "ename": "AttributeError",
     "evalue": "'MyChildObject' object has no attribute '_MyChildObject__private_field'",
     "output_type": "error",
     "traceback": [
      "\u001b[0;31m---------------------------------------------------------------------------\u001b[0m",
      "\u001b[0;31mAttributeError\u001b[0m                            Traceback (most recent call last)",
      "\u001b[0;32m<ipython-input-8-2c64f8b0f537>\u001b[0m in \u001b[0;36m<module>\u001b[0;34m\u001b[0m\n\u001b[1;32m      8\u001b[0m \u001b[0;34m\u001b[0m\u001b[0m\n\u001b[1;32m      9\u001b[0m \u001b[0mbaz\u001b[0m \u001b[0;34m=\u001b[0m \u001b[0mMyChildObject\u001b[0m\u001b[0;34m(\u001b[0m\u001b[0;34m)\u001b[0m\u001b[0;34m\u001b[0m\u001b[0;34m\u001b[0m\u001b[0m\n\u001b[0;32m---> 10\u001b[0;31m \u001b[0mbaz\u001b[0m\u001b[0;34m.\u001b[0m\u001b[0mget_private_field\u001b[0m\u001b[0;34m(\u001b[0m\u001b[0;34m)\u001b[0m\u001b[0;34m\u001b[0m\u001b[0;34m\u001b[0m\u001b[0m\n\u001b[0m",
      "\u001b[0;32m<ipython-input-8-2c64f8b0f537>\u001b[0m in \u001b[0;36mget_private_field\u001b[0;34m(self)\u001b[0m\n\u001b[1;32m      5\u001b[0m \u001b[0;32mclass\u001b[0m \u001b[0mMyChildObject\u001b[0m\u001b[0;34m(\u001b[0m\u001b[0mMyParentObject\u001b[0m\u001b[0;34m)\u001b[0m\u001b[0;34m:\u001b[0m\u001b[0;34m\u001b[0m\u001b[0;34m\u001b[0m\u001b[0m\n\u001b[1;32m      6\u001b[0m     \u001b[0;32mdef\u001b[0m \u001b[0mget_private_field\u001b[0m\u001b[0;34m(\u001b[0m\u001b[0mself\u001b[0m\u001b[0;34m)\u001b[0m\u001b[0;34m:\u001b[0m\u001b[0;34m\u001b[0m\u001b[0;34m\u001b[0m\u001b[0m\n\u001b[0;32m----> 7\u001b[0;31m         \u001b[0;32mreturn\u001b[0m \u001b[0mself\u001b[0m\u001b[0;34m.\u001b[0m\u001b[0m__private_field\u001b[0m\u001b[0;34m\u001b[0m\u001b[0;34m\u001b[0m\u001b[0m\n\u001b[0m\u001b[1;32m      8\u001b[0m \u001b[0;34m\u001b[0m\u001b[0m\n\u001b[1;32m      9\u001b[0m \u001b[0mbaz\u001b[0m \u001b[0;34m=\u001b[0m \u001b[0mMyChildObject\u001b[0m\u001b[0;34m(\u001b[0m\u001b[0;34m)\u001b[0m\u001b[0;34m\u001b[0m\u001b[0;34m\u001b[0m\u001b[0m\n",
      "\u001b[0;31mAttributeError\u001b[0m: 'MyChildObject' object has no attribute '_MyChildObject__private_field'"
     ]
    }
   ],
   "source": [
    "class MyParentObject:\n",
    "    def __init__(self):\n",
    "        self.__private_field = 71\n",
    "    \n",
    "class MyChildObject(MyParentObject):\n",
    "    def get_private_field(self):\n",
    "        return self.__private_field\n",
    "\n",
    "baz = MyChildObject()\n",
    "baz.get_private_field()"
   ]
  },
  {
   "cell_type": "markdown",
   "id": "457093d2-bc70-4633-acf2-dbbccee426c1",
   "metadata": {},
   "source": [
    "这种防止其他类访问`private`属性的功能，其实仅仅是通过变换属性名称而实现的。比如`MyChildObject.get_private_field`这样的方法想要访问`__private_field`属性时，它会把下划线和类名加载这个属性名称的前面，所以代码上实际上访问的是`_MyChildObject__private_field`。了解了这种规则，我们就可以从任何一个类里面访问`private`属性。"
   ]
  },
  {
   "cell_type": "code",
   "execution_count": 9,
   "id": "9bc382be-ceac-4384-805f-7cf714a4ae3b",
   "metadata": {},
   "outputs": [],
   "source": [
    "assert baz._MyParentObject__private_field == 71"
   ]
  },
  {
   "cell_type": "markdown",
   "id": "b75db24f-6959-41b4-beea-fc9f24ffcda2",
   "metadata": {},
   "source": [
    "查看该对象的属性字典，也可以发现`private`属性的名称其实是变换后的名称存储的。"
   ]
  },
  {
   "cell_type": "code",
   "execution_count": 10,
   "id": "d56d5e18-c3da-40c7-9777-f08b9526c665",
   "metadata": {},
   "outputs": [
    {
     "name": "stdout",
     "output_type": "stream",
     "text": [
      "{'_MyOtherObject__private_field': 71}\n"
     ]
    }
   ],
   "source": [
    "print(bar.__dict__)"
   ]
  },
  {
   "cell_type": "markdown",
   "id": "ef986621-8761-46ab-bf5c-25e8ceb67ccd",
   "metadata": {},
   "source": [
    "为了减少在不知情情况下访问内部数据而造成的损伤，Python开发者会按照风格指南里面建议的方式来给字段命名。以单下划线开头的字段(如`_protected_field`)，习惯上叫作受保护(`protected`)的字段。\n",
    "\n",
    "只有一种情况是可以考虑用`private`属性解决的，就是子类属性有可能与超类重名的清下。"
   ]
  },
  {
   "cell_type": "code",
   "execution_count": 12,
   "id": "79708b06-4594-49ea-8c0c-f8f7e5ba1e8d",
   "metadata": {},
   "outputs": [
    {
     "name": "stdout",
     "output_type": "stream",
     "text": [
      "hello and hello should be different\n"
     ]
    }
   ],
   "source": [
    "class ApiClass:\n",
    "    def __init__(self):\n",
    "        self._value = 5\n",
    "    \n",
    "    def get(self):\n",
    "        return self._value\n",
    "\n",
    "class Child(ApiClass):\n",
    "    def __init__(self):\n",
    "        super().__init__()\n",
    "        self._value = 'hello' # 冲突了，覆盖掉父类\n",
    "        \n",
    "a = Child()\n",
    "print(f'{a.get()} and {a._value} should be different')"
   ]
  },
  {
   "cell_type": "markdown",
   "id": "bf7e0d58-1727-4952-afc0-e15e9d8daa1c",
   "metadata": {},
   "source": [
    "属性名越常见，越容易冲突。为了减少冲突，我们可以把超类的属性设计成`private`属性，使子类的属性名不太可能与超类重复。"
   ]
  },
  {
   "cell_type": "code",
   "execution_count": 15,
   "id": "6a61bdc9-b1dc-4944-9327-1f53690f6b0c",
   "metadata": {},
   "outputs": [
    {
     "name": "stdout",
     "output_type": "stream",
     "text": [
      "5 and hello should be different\n"
     ]
    }
   ],
   "source": [
    "class ApiClass:\n",
    "    def __init__(self):\n",
    "        self.__value = 5\n",
    "    \n",
    "    def get(self):\n",
    "        return self.__value\n",
    "\n",
    "class Child(ApiClass):\n",
    "    def __init__(self):\n",
    "        super().__init__()\n",
    "        self._value = 'hello'\n",
    "        \n",
    "a = Child()\n",
    "print(f'{a.get()} and {a._value} should be different')"
   ]
  },
  {
   "cell_type": "markdown",
   "id": "298e638c-782c-4acc-b668-1950ab6fca1b",
   "metadata": {},
   "source": [
    "# #43 自定义的容器类型应该从collections.abc继承\n",
    "\n",
    "下面我们自定义一种`list`类型，继承自`list`，提供了`frequency`方法，计算每个元素出现的次数。"
   ]
  },
  {
   "cell_type": "code",
   "execution_count": 1,
   "id": "f1a926da-ff2e-4d5e-a1b4-350793875e92",
   "metadata": {},
   "outputs": [],
   "source": [
    "class FrequencyList(list):\n",
    "    def __init__(self, members):\n",
    "        super().__init__(members)\n",
    "    \n",
    "    def frequency(self):\n",
    "        counts = {}\n",
    "        for item in self:\n",
    "            counts[item] = counts.get(item, 0) + 1\n",
    "        return counts"
   ]
  },
  {
   "cell_type": "markdown",
   "id": "f4c7e779-ad8b-42f4-a5a6-b2d68e5cacfc",
   "metadata": {},
   "source": [
    "继承`list`类，就可以自动获得标注的Python列表所具有的各项功能。这样就可以像使用普通列表那样使用`FrequencyList`了。"
   ]
  },
  {
   "cell_type": "code",
   "execution_count": 2,
   "id": "fc45ee61-a161-4acc-b58d-d848d0ed4ebc",
   "metadata": {},
   "outputs": [
    {
     "name": "stdout",
     "output_type": "stream",
     "text": [
      "Length is 6\n",
      "After pop: ['a', 'b', 'a', 'c', 'a']\n",
      "Frequency: {'a': 3, 'b': 1, 'c': 1}\n"
     ]
    }
   ],
   "source": [
    "foo = FrequencyList(['a', 'b', 'a', 'c', 'a', 'd'])\n",
    "print('Length is',len(foo))\n",
    "\n",
    "foo.pop()\n",
    "print('After pop:', repr(foo))\n",
    "print('Frequency:', foo.frequency())"
   ]
  },
  {
   "cell_type": "markdown",
   "id": "c0349ce9-dea1-429e-90fd-d13815ec906f",
   "metadata": {},
   "source": [
    "有时，某个对象所属的类本身虽然不是`list`的子类，但我们还是想让它能像`list`那样，可以通过下标来访问。\n",
    "例如，表示二叉树节点的`BinaryNode`类就不是`list`的子类，我们想让它能像序列那样通过下标来访问。"
   ]
  },
  {
   "cell_type": "code",
   "execution_count": 3,
   "id": "9209acfc-23fc-472f-a70e-e88bfa516534",
   "metadata": {},
   "outputs": [],
   "source": [
    "class BinaryNode:\n",
    "    def __init__(self, value, left=None, right=None):\n",
    "        self.value = value\n",
    "        self.left = left\n",
    "        self.right = right"
   ]
  },
  {
   "cell_type": "markdown",
   "id": "06dcb06d-4a29-4c8d-a241-5c1c835dd9e8",
   "metadata": {},
   "source": [
    "此时就需要实现一些特殊的实例方法。当通过下标访问序列中的元素时："
   ]
  },
  {
   "cell_type": "code",
   "execution_count": 4,
   "id": "30223abc-85cf-45d7-a2b2-3623e9f1cf83",
   "metadata": {},
   "outputs": [
    {
     "data": {
      "text/plain": [
       "1"
      ]
     },
     "execution_count": 4,
     "metadata": {},
     "output_type": "execute_result"
    }
   ],
   "source": [
    "bar = [1, 2, 3]\n",
    "bar[0]"
   ]
  },
  {
   "cell_type": "markdown",
   "id": "3c8d18ca-1ab8-4b5c-bae7-02de9676561f",
   "metadata": {},
   "source": [
    "Python会把访问操作解读为：\n",
    "```py\n",
    "bar.__getitem__(0)\n",
    "```\n",
    "所以我们可以定义`__getitem__`方法："
   ]
  },
  {
   "cell_type": "code",
   "execution_count": 5,
   "id": "be1b4cd9-727c-4fc2-ade2-7e61b5f44b27",
   "metadata": {},
   "outputs": [],
   "source": [
    "class IndexableNode(BinaryNode):\n",
    "    \n",
    "    def _traverse(self):\n",
    "        if self.left is not None:\n",
    "            yield from self.left._traverse()\n",
    "        yield self\n",
    "        if self.right is not None:\n",
    "            yield from self.right._traverse()\n",
    "    \n",
    "    def __getitem__(self, index):\n",
    "        for i, item in enumerate(self._traverse()):\n",
    "            if i == index:\n",
    "                return item.value\n",
    "        raise IndexError(f'Index {index} is out of range')"
   ]
  },
  {
   "cell_type": "markdown",
   "id": "00f657d2-4a6d-4394-a415-cadc11a76067",
   "metadata": {},
   "source": [
    "我们可以像使用`BinaryNode`那样，用这种定制过的`IndexableNode`对象来构造二叉树。"
   ]
  },
  {
   "cell_type": "code",
   "execution_count": 8,
   "id": "8b70880d-282f-4522-aadb-328ea1a2a68b",
   "metadata": {},
   "outputs": [],
   "source": [
    "tree = IndexableNode(\n",
    "    10,\n",
    "    left=IndexableNode(\n",
    "        5,\n",
    "        left=IndexableNode(2),\n",
    "        right=IndexableNode(\n",
    "            6,\n",
    "            right=IndexableNode(7))),\n",
    "    right=IndexableNode(\n",
    "        15,\n",
    "        left=IndexableNode(11)))"
   ]
  },
  {
   "cell_type": "markdown",
   "id": "7df2e74b-b52f-45e4-97e6-c2b141239216",
   "metadata": {},
   "source": [
    "我们既可以像访问列表那样访问，又可以通过`left`和`right`属性来访问。"
   ]
  },
  {
   "cell_type": "code",
   "execution_count": 9,
   "id": "02dabfe5-f5c9-4d07-9045-49ba8cbddc11",
   "metadata": {},
   "outputs": [
    {
     "name": "stdout",
     "output_type": "stream",
     "text": [
      "LRR is 7\n",
      "Index 0 is 2\n",
      "Index 1 is 5\n",
      "11 in the tree? True\n",
      "17 in the tree? False\n",
      "Tree is [2, 5, 6, 7, 10, 11, 15]\n"
     ]
    }
   ],
   "source": [
    "print('LRR is', tree.left.right.right.value)\n",
    "print('Index 0 is', tree[0])\n",
    "print('Index 1 is', tree[1])\n",
    "print('11 in the tree?', 11 in tree)\n",
    "print('17 in the tree?', 17 in tree)\n",
    "print('Tree is', list(tree))\n"
   ]
  },
  {
   "cell_type": "markdown",
   "id": "4c9483f0-5cc2-418a-9bdc-f2f7713a9def",
   "metadata": {},
   "source": [
    "问题是，除了通过下标索引，`list`实例还支持其他的功能，所以只实现`__getitem__`这样一个特殊方法是不够的。例如，我们不能获取长度："
   ]
  },
  {
   "cell_type": "code",
   "execution_count": 10,
   "id": "5f329b0c-a712-4ec4-a49b-6f1d43023006",
   "metadata": {},
   "outputs": [
    {
     "ename": "TypeError",
     "evalue": "object of type 'IndexableNode' has no len()",
     "output_type": "error",
     "traceback": [
      "\u001b[0;31m---------------------------------------------------------------------------\u001b[0m",
      "\u001b[0;31mTypeError\u001b[0m                                 Traceback (most recent call last)",
      "\u001b[0;32m<ipython-input-10-dc0343ec22f7>\u001b[0m in \u001b[0;36m<module>\u001b[0;34m\u001b[0m\n\u001b[0;32m----> 1\u001b[0;31m \u001b[0mlen\u001b[0m\u001b[0;34m(\u001b[0m\u001b[0mtree\u001b[0m\u001b[0;34m)\u001b[0m\u001b[0;34m\u001b[0m\u001b[0;34m\u001b[0m\u001b[0m\n\u001b[0m",
      "\u001b[0;31mTypeError\u001b[0m: object of type 'IndexableNode' has no len()"
     ]
    }
   ],
   "source": [
    "len(tree)"
   ]
  },
  {
   "cell_type": "markdown",
   "id": "b640ba1a-ba05-40d5-95bc-1187e2845cf3",
   "metadata": {},
   "source": [
    "要想让定制的二叉树支持内置的`len`函数，必须再实现一个特殊方法，`__len__`方法。"
   ]
  },
  {
   "cell_type": "code",
   "execution_count": 11,
   "id": "cfa1d28c-4735-4c54-8f83-29d4968b7bbb",
   "metadata": {},
   "outputs": [
    {
     "name": "stdout",
     "output_type": "stream",
     "text": [
      "Tree length is 7\n"
     ]
    }
   ],
   "source": [
    "class SequenceNode(IndexableNode):\n",
    "    def __len__(self):\n",
    "        for count, _ in enumerate(self._traverse(), 1):\n",
    "            pass\n",
    "        return count\n",
    "\n",
    "tree = SequenceNode(\n",
    "    10,\n",
    "    left=SequenceNode(\n",
    "        5,\n",
    "        left=SequenceNode(2),\n",
    "        right=SequenceNode(\n",
    "            6,\n",
    "            right=SequenceNode(7))),\n",
    "    right=SequenceNode(\n",
    "        15,\n",
    "        left=SequenceNode(11)))\n",
    "\n",
    "print('Tree length is', len(tree))\n"
   ]
  },
  {
   "cell_type": "markdown",
   "id": "c6a10886-d1fb-4b8e-a74b-42180140a267",
   "metadata": {},
   "source": [
    "哪怕是这样，我们还是无法让这种二叉树具备列表所应支持的全套功能。\n",
    "为了方便大家定制容器，Python内置的`collections.abc`模块定义了一系列抽象基类(abstract base class)，把每种容器类型应该提供的所有常用方法都写了出来。\n",
    "我们只需要从这样的抽象基类里面继承就好。"
   ]
  },
  {
   "cell_type": "code",
   "execution_count": 12,
   "id": "1aa9c5ff-4a89-4b8d-928b-095a2c4fa37e",
   "metadata": {},
   "outputs": [
    {
     "ename": "TypeError",
     "evalue": "Can't instantiate abstract class BadType with abstract methods __getitem__, __len__",
     "output_type": "error",
     "traceback": [
      "\u001b[0;31m---------------------------------------------------------------------------\u001b[0m",
      "\u001b[0;31mTypeError\u001b[0m                                 Traceback (most recent call last)",
      "\u001b[0;32m<ipython-input-12-997f61651b50>\u001b[0m in \u001b[0;36m<module>\u001b[0;34m\u001b[0m\n\u001b[1;32m      4\u001b[0m     \u001b[0;32mpass\u001b[0m\u001b[0;34m\u001b[0m\u001b[0;34m\u001b[0m\u001b[0m\n\u001b[1;32m      5\u001b[0m \u001b[0;34m\u001b[0m\u001b[0m\n\u001b[0;32m----> 6\u001b[0;31m \u001b[0mfoo\u001b[0m \u001b[0;34m=\u001b[0m \u001b[0mBadType\u001b[0m\u001b[0;34m(\u001b[0m\u001b[0;34m)\u001b[0m\u001b[0;34m\u001b[0m\u001b[0;34m\u001b[0m\u001b[0m\n\u001b[0m",
      "\u001b[0;31mTypeError\u001b[0m: Can't instantiate abstract class BadType with abstract methods __getitem__, __len__"
     ]
    }
   ],
   "source": [
    "from collections.abc import Sequence\n",
    "\n",
    "class BadType(Sequence):\n",
    "    pass\n",
    "\n",
    "foo = BadType()"
   ]
  },
  {
   "cell_type": "markdown",
   "id": "03893f7f-9e34-4f7b-81e9-3181622c931d",
   "metadata": {},
   "source": [
    "如果忘记实现某些必须的方法，Python还会“友好地”给你提示。\n",
    "一旦这些必备的方法都实现好了，我们就可以从`collections.abc`模块的抽象基类里面继承了。\n",
    "\n",
    "例如下面这个`BetterNode`二叉树类就是正确的，因为它通过继承前面的类实现了序列容器所应支持的全部必备方法，至于其他一些方法(如`index`与`count`)则会由`Sequence`这个抽象基类自动帮我们实现。"
   ]
  },
  {
   "cell_type": "code",
   "execution_count": 13,
   "id": "309f3685-743a-4d8f-8e24-5f2d93fb5c7b",
   "metadata": {},
   "outputs": [
    {
     "name": "stdout",
     "output_type": "stream",
     "text": [
      "Index of 7 is 3\n",
      "Count of 10 is 1\n",
      "Tree length is 7\n"
     ]
    }
   ],
   "source": [
    "class BetterNode(SequenceNode, Sequence):\n",
    "    pass\n",
    "\n",
    "tree = BetterNode(\n",
    "    10,\n",
    "    left=BetterNode(\n",
    "        5,\n",
    "        left=BetterNode(2),\n",
    "        right=BetterNode(\n",
    "            6,\n",
    "            right=BetterNode(7))),\n",
    "    right=BetterNode(\n",
    "        15,\n",
    "        left=BetterNode(11)))\n",
    "\n",
    "print('Index of 7 is', tree.index(7))\n",
    "print('Count of 10 is', tree.count(10))\n",
    "print('Tree length is', len(tree))"
   ]
  },
  {
   "cell_type": "markdown",
   "id": "95595727-cd08-45d6-a504-645167187bbb",
   "metadata": {},
   "source": [
    "`collections.abc`模块要求子类必须实现某些特殊方法，另外，Python在比较或排序对象时，还会用到其他一些特殊方法，无论定制的是不是容器类，有时为了支持某些功能，都必须定义相关的特殊方法才行。"
   ]
  },
  {
   "cell_type": "code",
   "execution_count": null,
   "id": "9fb7683a-925c-481e-8aec-bef74bd74995",
   "metadata": {},
   "outputs": [],
   "source": []
  }
 ],
 "metadata": {
  "kernelspec": {
   "display_name": "Python 3",
   "language": "python",
   "name": "python3"
  },
  "language_info": {
   "codemirror_mode": {
    "name": "ipython",
    "version": 3
   },
   "file_extension": ".py",
   "mimetype": "text/x-python",
   "name": "python",
   "nbconvert_exporter": "python",
   "pygments_lexer": "ipython3",
   "version": "3.8.8"
  }
 },
 "nbformat": 4,
 "nbformat_minor": 5
}
