{
 "cells": [
  {
   "cell_type": "markdown",
   "id": "ce1815d1-4597-41a5-afbe-88075be301aa",
   "metadata": {},
   "source": [
    "# #11 学会对序列做切片\n",
    "\n",
    "Python可以从序列里切割(slice)出一部分内容。凡是实现了`__getitem__`与`__setitem__`这两个特殊方法的类都可以切割。\n",
    "\n",
    "切割最基本的写法是`somelist[start:end]`，从`start`开始取，不包括`end`。"
   ]
  },
  {
   "cell_type": "code",
   "execution_count": 1,
   "id": "e4f4edcb-a939-449b-a59f-3b861e1fe521",
   "metadata": {},
   "outputs": [
    {
     "name": "stdout",
     "output_type": "stream",
     "text": [
      "Middle two:  ['d', 'e']\n",
      "All but ens:  ['b', 'c', 'd', 'e', 'f', 'g']\n"
     ]
    }
   ],
   "source": [
    "a = ['a', 'b', 'c', 'd', 'e', 'f', 'g', 'h']\n",
    "print('Middle two: ', a[3:5]) # Middle two:  ['d', 'e']\n",
    "print('All but ens: ', a[1:7]) # All but ens:  ['b', 'c', 'd', 'e', 'f', 'g']"
   ]
  },
  {
   "cell_type": "markdown",
   "id": "dcb28570-c428-4dae-b0dc-33c2820d7be2",
   "metadata": {},
   "source": [
    "如果从头开始切割列表，可以省略冒号左侧的下标0。"
   ]
  },
  {
   "cell_type": "code",
   "execution_count": 2,
   "id": "e1628c41-34ad-477f-a545-1f2f97865ecb",
   "metadata": {},
   "outputs": [],
   "source": [
    "assert a[:5] == a[0:5]"
   ]
  },
  {
   "cell_type": "markdown",
   "id": "32ff357a-e3df-4837-a42c-5f5a8d5c8385",
   "metadata": {},
   "source": [
    "如果一直取到列表末尾，那就应该省略冒号右侧的下标。"
   ]
  },
  {
   "cell_type": "code",
   "execution_count": 3,
   "id": "6d10311d-cc41-4701-ae01-8b265a8c5e82",
   "metadata": {},
   "outputs": [],
   "source": [
    "assert a[5:] == a[5:len(a)]"
   ]
  },
  {
   "cell_type": "markdown",
   "id": "3e6b7eed-3410-476c-b289-ad1e2cee517e",
   "metadata": {},
   "source": [
    "用负数做下标表示从列表末尾往前算。下面看一些切割示例："
   ]
  },
  {
   "cell_type": "code",
   "execution_count": 11,
   "id": "3891bd35-d6f3-4ce0-8296-13a5ab77edee",
   "metadata": {},
   "outputs": [
    {
     "name": "stdout",
     "output_type": "stream",
     "text": [
      "['a', 'b', 'c', 'd', 'e', 'f', 'g', 'h']\n",
      "['a', 'b', 'c', 'd', 'e']\n",
      "['a', 'b', 'c', 'd', 'e', 'f', 'g']\n",
      "['e', 'f', 'g', 'h']\n",
      "['f', 'g', 'h']\n",
      "['c', 'd', 'e']\n",
      "['c', 'd', 'e', 'f', 'g']\n",
      "['f', 'g']\n"
     ]
    }
   ],
   "source": [
    "print(a[:])     # ['a', 'b', 'c', 'd', 'e', 'f', 'g', 'h']\n",
    "print(a[:5])    # ['a', 'b', 'c', 'd', 'e']\n",
    "print(a[:-1])   # ['a', 'b', 'c', 'd', 'e', 'f', 'g']           # -1表示最后一个\n",
    "print(a[4:])    #                     ['e', 'f', 'g', 'h']\n",
    "print(a[-3:])   #                          ['f', 'g', 'h']\n",
    "print(a[2:5])   #           ['c', 'd', 'e']\n",
    "print(a[2:-1])  #           ['c', 'd', 'e', 'f', 'g']\n",
    "print(a[-3:-1]) #                          ['f', 'g']"
   ]
  },
  {
   "cell_type": "markdown",
   "id": "f56e0c03-f50d-4954-a64f-0df28c7c6d9d",
   "metadata": {},
   "source": [
    "如果起点与终点所确定的范围超出了列表的边界，那么系统会自动忽略不存在的元素。"
   ]
  },
  {
   "cell_type": "code",
   "execution_count": 13,
   "id": "887d8a66-d121-4c30-a9a7-2f219d1043cf",
   "metadata": {},
   "outputs": [
    {
     "data": {
      "text/plain": [
       "['a', 'b', 'c', 'd', 'e', 'f', 'g', 'h']"
      ]
     },
     "execution_count": 13,
     "metadata": {},
     "output_type": "execute_result"
    }
   ],
   "source": [
    "first_twenty_items = a[:20] # 取a的前20个元素，但是a没有那么多元素，就取出a的所有元素\n",
    "last_twenty_items = a[-20:] # 取a的最后20个元素\n",
    "first_twenty_items # ['a', 'b', 'c', 'd', 'e', 'f', 'g', 'h']"
   ]
  },
  {
   "cell_type": "markdown",
   "id": "8967af1e-a895-4080-963f-5aecdc2aa5c9",
   "metadata": {},
   "source": [
    "切割出来的列表是一份全新的列表。即使把某个元素换掉，也不会影响原列表。"
   ]
  },
  {
   "cell_type": "code",
   "execution_count": 15,
   "id": "b3274010-56cd-4086-b1ab-17cc2e5d4f4f",
   "metadata": {},
   "outputs": [
    {
     "name": "stdout",
     "output_type": "stream",
     "text": [
      "Before     ['d', 'e', 'f', 'g', 'h']\n",
      "After      ['d', 99, 'f', 'g', 'h']\n",
      "No change: ['a', 'b', 'c', 'd', 'e', 'f', 'g', 'h']\n"
     ]
    }
   ],
   "source": [
    "b = a[3:]\n",
    "print('Before    ', b)\n",
    "b[1] = 99\n",
    "print('After     ', b)\n",
    "print('No change:',a)\n"
   ]
  },
  {
   "cell_type": "markdown",
   "id": "50797bd4-15f4-46a8-9e12-c89d86fef734",
   "metadata": {},
   "source": [
    "切片还可以出现在赋值符号的左侧，表示用右侧那些元素把原列表中位于这个范围之内的元素换掉。\n",
    "这种赋值不要求左右两侧所指定的元素个数相等。在原列表中，位于切片范围之前和之后的那些元素会予以保留，但是列表的长度可能有所变化。\n",
    "\n",
    "例如，下面这个例子中，列表会变短，因为赋值符号的右侧只提供了3个值，但是左侧那个切片却涵盖了5个值，列表会比原来少两个元素。"
   ]
  },
  {
   "cell_type": "code",
   "execution_count": 16,
   "id": "02a2b28b-4b12-46a3-aa90-6cc254145c54",
   "metadata": {},
   "outputs": [
    {
     "name": "stdout",
     "output_type": "stream",
     "text": [
      "Before  ['a', 'b', 'c', 'd', 'e', 'f', 'g', 'h']\n",
      "After   ['a', 'b', 99, 22, 14, 'h']\n"
     ]
    }
   ],
   "source": [
    "print('Before ', a)\n",
    "a[2:7] = [99, 22, 14]\n",
    "print('After  ', a)"
   ]
  },
  {
   "cell_type": "markdown",
   "id": "6d4286d3-fb32-43bb-b12a-53bb62a374ea",
   "metadata": {},
   "source": [
    "而下面这段代码会使列表变长："
   ]
  },
  {
   "cell_type": "code",
   "execution_count": 17,
   "id": "5a274ed9-4eb2-4660-b761-05d5da55fce0",
   "metadata": {},
   "outputs": [
    {
     "name": "stdout",
     "output_type": "stream",
     "text": [
      "Before  ['a', 'b', 99, 22, 14, 'h']\n",
      "After   ['a', 'b', 47, 11, 22, 14, 'h']\n"
     ]
    }
   ],
   "source": [
    "print('Before ', a)\n",
    "a[2:3] = [47, 11]\n",
    "print('After  ', a)"
   ]
  },
  {
   "cell_type": "markdown",
   "id": "6693bb18-3c47-429d-a14c-f56967653ed3",
   "metadata": {},
   "source": [
    "起止位置都留空的切片，出现在赋值右侧，表示给这个列表做副本。"
   ]
  },
  {
   "cell_type": "code",
   "execution_count": 19,
   "id": "a0f7b3b8-2f87-4440-8949-f28329af931e",
   "metadata": {},
   "outputs": [],
   "source": [
    "b = a[:]\n",
    "assert b == a  and b is not a"
   ]
  },
  {
   "cell_type": "markdown",
   "id": "be33ea77-3fe8-4261-99d8-96b6c5e70bc4",
   "metadata": {},
   "source": [
    "把不带起止下标的切片放在赋值符号左边，表示是用右边那个列表的副本把左侧列表的全部内容替换掉。"
   ]
  },
  {
   "cell_type": "code",
   "execution_count": 20,
   "id": "051e655c-2c2c-47b8-a1ba-c680c97c8dee",
   "metadata": {},
   "outputs": [
    {
     "name": "stdout",
     "output_type": "stream",
     "text": [
      "Before a ['a', 'b', 47, 11, 22, 14, 'h']\n",
      "Before b ['a', 'b', 47, 11, 22, 14, 'h']\n",
      "After a  [101, 102, 103]\n",
      "After b  [101, 102, 103]\n"
     ]
    }
   ],
   "source": [
    "b = a\n",
    "print('Before a', a)\n",
    "print('Before b', b)\n",
    "a[:] = [101, 102, 103] #左侧列表的引用不变，值发生了改变。\n",
    "assert a is b \n",
    "print('After a ', a)\n",
    "print('After b ', b)\n"
   ]
  },
  {
   "cell_type": "markdown",
   "id": "e3505d5c-24eb-4904-95fd-60913f10c9df",
   "metadata": {},
   "source": [
    "# #12 不要在切片里同时指定起止下标与步长\n",
    "\n",
    "Python还有一种特殊的步长切片形式，即`somelist[start:end:stride]`。这种形式会在每`n`个元素里面选取一个，这样很容易就能把奇数位置上的元素与偶数位置上的元素分别通过`x[::2]`与`x[1::2]`选取出来。"
   ]
  },
  {
   "cell_type": "code",
   "execution_count": 21,
   "id": "f36580e8-5e9b-4dee-9cf3-34bbcf4b1627",
   "metadata": {},
   "outputs": [
    {
     "name": "stdout",
     "output_type": "stream",
     "text": [
      "['red', 'yellow', 'blue']\n",
      "['orange', 'green', 'purple']\n"
     ]
    }
   ],
   "source": [
    "x = ['red', 'orange', 'yellow', 'green', 'blue', 'purple']\n",
    "odds = x[::2]   # 从下标0开始，每2个元素取一个(隔1个取1个)\n",
    "evens = x[1::2] # 从下标1开始，每2个元素取一个\n",
    "print(odds)\n",
    "print(evens)"
   ]
  },
  {
   "cell_type": "markdown",
   "id": "bc1b1336-5653-445a-b0a1-83b6a1940781",
   "metadata": {},
   "source": [
    "但是，带有步长的切片经常会引发意外的效果，并使程序出现bug。列如，Python里面有个技巧，把`-1`当成步长对`bytes`类型的字符串做切片，这样就能将字符串反转过来。"
   ]
  },
  {
   "cell_type": "code",
   "execution_count": 22,
   "id": "607dc7fb-6de4-42f0-853d-184daf70d43f",
   "metadata": {},
   "outputs": [
    {
     "data": {
      "text/plain": [
       "b'esoognom'"
      ]
     },
     "execution_count": 22,
     "metadata": {},
     "output_type": "execute_result"
    }
   ],
   "source": [
    "x = b'mongoose'\n",
    "y = x[::-1]\n",
    "y # b'esoognom"
   ]
  },
  {
   "cell_type": "markdown",
   "id": "9bfe9150-26d4-4d0f-b81c-39267a915f7e",
   "metadata": {},
   "source": [
    "Unicode形式的字符串也可以这样反转"
   ]
  },
  {
   "cell_type": "code",
   "execution_count": 23,
   "id": "959e1b12-b43f-4109-a436-68810862b988",
   "metadata": {},
   "outputs": [
    {
     "data": {
      "text/plain": [
       "'饼月'"
      ]
     },
     "execution_count": 23,
     "metadata": {},
     "output_type": "execute_result"
    }
   ],
   "source": [
    "x = '月饼'\n",
    "y = x[::-1]\n",
    "y"
   ]
  },
  {
   "cell_type": "markdown",
   "id": "cb7c5099-2352-4626-8d2b-5fe679e41a1f",
   "metadata": {},
   "source": [
    "但如果把这种字符串编码成UTF-8标准的字节数据，就不能用这个技巧来反转了。"
   ]
  },
  {
   "cell_type": "code",
   "execution_count": 24,
   "id": "4c9f9b8f-8c47-47c9-8947-a5fa7b595316",
   "metadata": {},
   "outputs": [
    {
     "ename": "UnicodeDecodeError",
     "evalue": "'utf-8' codec can't decode byte 0xbc in position 0: invalid start byte",
     "output_type": "error",
     "traceback": [
      "\u001b[0;31m---------------------------------------------------------------------------\u001b[0m",
      "\u001b[0;31mUnicodeDecodeError\u001b[0m                        Traceback (most recent call last)",
      "\u001b[0;32m<ipython-input-24-778a665e5529>\u001b[0m in \u001b[0;36m<module>\u001b[0;34m\u001b[0m\n\u001b[1;32m      2\u001b[0m \u001b[0mx\u001b[0m \u001b[0;34m=\u001b[0m \u001b[0mw\u001b[0m\u001b[0;34m.\u001b[0m\u001b[0mencode\u001b[0m\u001b[0;34m(\u001b[0m\u001b[0;34m'utf-8'\u001b[0m\u001b[0;34m)\u001b[0m\u001b[0;34m\u001b[0m\u001b[0;34m\u001b[0m\u001b[0m\n\u001b[1;32m      3\u001b[0m \u001b[0my\u001b[0m \u001b[0;34m=\u001b[0m \u001b[0mx\u001b[0m\u001b[0;34m[\u001b[0m\u001b[0;34m:\u001b[0m\u001b[0;34m:\u001b[0m\u001b[0;34m-\u001b[0m\u001b[0;36m1\u001b[0m\u001b[0;34m]\u001b[0m\u001b[0;34m\u001b[0m\u001b[0;34m\u001b[0m\u001b[0m\n\u001b[0;32m----> 4\u001b[0;31m \u001b[0mz\u001b[0m \u001b[0;34m=\u001b[0m \u001b[0my\u001b[0m\u001b[0;34m.\u001b[0m\u001b[0mdecode\u001b[0m\u001b[0;34m(\u001b[0m\u001b[0;34m'utf-8'\u001b[0m\u001b[0;34m)\u001b[0m\u001b[0;34m\u001b[0m\u001b[0;34m\u001b[0m\u001b[0m\n\u001b[0m",
      "\u001b[0;31mUnicodeDecodeError\u001b[0m: 'utf-8' codec can't decode byte 0xbc in position 0: invalid start byte"
     ]
    }
   ],
   "source": [
    "w = '月饼'\n",
    "x = w.encode('utf-8')\n",
    "y = x[::-1]\n",
    "z = y.decode('utf-8')"
   ]
  },
  {
   "cell_type": "markdown",
   "id": "e73639e2-dd64-4d47-9c7c-1831b4136335",
   "metadata": {},
   "source": [
    "除了`-1`外，用其他负数做步长值，有没有意义呢？"
   ]
  },
  {
   "cell_type": "code",
   "execution_count": 27,
   "id": "bd82d422-c748-4d59-a8e7-3475b9c1a0eb",
   "metadata": {},
   "outputs": [
    {
     "name": "stdout",
     "output_type": "stream",
     "text": [
      "['a', 'c', 'e', 'g']\n",
      "['h', 'f', 'd', 'b']\n"
     ]
    }
   ],
   "source": [
    "x = ['a', 'b', 'c', 'd', 'e', 'f', 'g', 'h']\n",
    "print(x[::2]) # ['a', 'c', 'e', 'g']  从头开始，每隔1个取一个\n",
    "print(x[::-2]) # ['h', 'f', 'd', 'b'] 从末尾开始往前"
   ]
  },
  {
   "cell_type": "markdown",
   "id": "e6884396-0033-4a33-8caf-18996ce83da6",
   "metadata": {},
   "source": [
    "那么`2::2`是什么意思？`-2::2`、`-2:2:-2`等又是什么意思？"
   ]
  },
  {
   "cell_type": "code",
   "execution_count": 29,
   "id": "dec5d2f9-311b-4abd-8ac5-bd055bd247ac",
   "metadata": {},
   "outputs": [
    {
     "name": "stdout",
     "output_type": "stream",
     "text": [
      "['c', 'e', 'g']\n",
      "['g', 'e', 'c', 'a']\n",
      "['g', 'e']\n",
      "[]\n"
     ]
    }
   ],
   "source": [
    "print(x[2::2])    # ['c', 'e', 'g']\n",
    "print(x[-2::-2])  # ['g', 'e', 'c', 'a']\n",
    "print(x[-2:2:-2]) # ['g', 'e']\n",
    "print(x[2:2:-2])  # []"
   ]
  },
  {
   "cell_type": "markdown",
   "id": "f0107348-3e59-4a75-81a7-a9caff61fd02",
   "metadata": {},
   "source": [
    "同时使用起止下标与步长会让切片很难懂。\n",
    "为了避免这个问题，建议大家不要把起止下标和步长同时写在切片里。\n",
    "如果必须指定步长，那么尽量采用正数，而且要把起止下标都留空。即便必须同时使用步长值与起止下标，也应该考虑分成两次来写。"
   ]
  },
  {
   "cell_type": "code",
   "execution_count": 33,
   "id": "86125909-bdae-4c68-9852-064da2dc7a9a",
   "metadata": {},
   "outputs": [],
   "source": [
    "y = x[::2] # ['a', 'c', 'e', 'g']\n",
    "z = y[1:-1] # ['c', 'e']"
   ]
  },
  {
   "cell_type": "markdown",
   "id": "e03789c5-e1c4-4d99-8cfe-75d3cb256773",
   "metadata": {},
   "source": [
    "像上面这样先隔位选取然后再切割，会让程序做一次浅拷贝。如果程序没有那么多时间或内存取分两步操作，那么可以改用内置的`itertools`模块中的`islice`方法。"
   ]
  },
  {
   "cell_type": "markdown",
   "id": "d1cf6566-40a8-4e72-9e44-149971afb7aa",
   "metadata": {},
   "source": [
    "# #13 通过带星号的unpacking操作来捕获多个元素，不要用切片\n",
    "\n",
    "基本的unpacking操作有一项限制，就是必须提前确定需要拆解的序列的长度。\n",
    "例如，销售汽车的时候，我们可能会把每辆车的年龄写到一份列表中，然后按照从大到小的顺序排好。如果试着通过基本的unpacking操作获取其中最旧的两辆车，那么程序运行时就会出现异常。"
   ]
  },
  {
   "cell_type": "code",
   "execution_count": 34,
   "id": "f734d3f9-f762-4e3c-9ccc-fbea7e597520",
   "metadata": {},
   "outputs": [
    {
     "ename": "ValueError",
     "evalue": "too many values to unpack (expected 2)",
     "output_type": "error",
     "traceback": [
      "\u001b[0;31m---------------------------------------------------------------------------\u001b[0m",
      "\u001b[0;31mValueError\u001b[0m                                Traceback (most recent call last)",
      "\u001b[0;32m<ipython-input-34-99634ca0e408>\u001b[0m in \u001b[0;36m<module>\u001b[0;34m\u001b[0m\n\u001b[1;32m      1\u001b[0m \u001b[0mcar_ages\u001b[0m \u001b[0;34m=\u001b[0m \u001b[0;34m[\u001b[0m\u001b[0;36m0\u001b[0m\u001b[0;34m,\u001b[0m \u001b[0;36m9\u001b[0m\u001b[0;34m,\u001b[0m \u001b[0;36m4\u001b[0m\u001b[0;34m,\u001b[0m \u001b[0;36m8\u001b[0m\u001b[0;34m,\u001b[0m \u001b[0;36m7\u001b[0m\u001b[0;34m,\u001b[0m \u001b[0;36m20\u001b[0m\u001b[0;34m,\u001b[0m \u001b[0;36m19\u001b[0m\u001b[0;34m,\u001b[0m \u001b[0;36m1\u001b[0m\u001b[0;34m,\u001b[0m \u001b[0;36m6\u001b[0m\u001b[0;34m,\u001b[0m \u001b[0;36m15\u001b[0m\u001b[0;34m]\u001b[0m\u001b[0;34m\u001b[0m\u001b[0;34m\u001b[0m\u001b[0m\n\u001b[1;32m      2\u001b[0m \u001b[0mcar_ages_descending\u001b[0m \u001b[0;34m=\u001b[0m \u001b[0msorted\u001b[0m\u001b[0;34m(\u001b[0m\u001b[0mcar_ages\u001b[0m\u001b[0;34m,\u001b[0m \u001b[0mreverse\u001b[0m\u001b[0;34m=\u001b[0m\u001b[0;32mTrue\u001b[0m\u001b[0;34m)\u001b[0m\u001b[0;34m\u001b[0m\u001b[0;34m\u001b[0m\u001b[0m\n\u001b[0;32m----> 3\u001b[0;31m \u001b[0moldest\u001b[0m\u001b[0;34m,\u001b[0m \u001b[0msecond_oldest\u001b[0m \u001b[0;34m=\u001b[0m \u001b[0mcar_ages_descending\u001b[0m\u001b[0;34m\u001b[0m\u001b[0;34m\u001b[0m\u001b[0m\n\u001b[0m",
      "\u001b[0;31mValueError\u001b[0m: too many values to unpack (expected 2)"
     ]
    }
   ],
   "source": [
    "car_ages = [0, 9, 4, 8, 7, 20, 19, 1, 6, 15]\n",
    "car_ages_descending = sorted(car_ages, reverse=True)\n",
    "oldest, second_oldest = car_ages_descending"
   ]
  },
  {
   "cell_type": "markdown",
   "id": "e32bfe3c-6b5c-4a13-bb41-ddb5114dda82",
   "metadata": {},
   "source": [
    "新手经常通过下标与切片来处理这个问题。例如，可以明确通过下标把最旧和第二旧的那两辆车取出来，然后把其余的车放到另一份列表中。"
   ]
  },
  {
   "cell_type": "code",
   "execution_count": 35,
   "id": "826a0238-a310-44fa-b6e3-bbd2e45165c3",
   "metadata": {},
   "outputs": [
    {
     "name": "stdout",
     "output_type": "stream",
     "text": [
      "20 19 [15, 9, 8, 7, 6, 4, 1, 0]\n"
     ]
    }
   ],
   "source": [
    "oldest = car_ages_descending[0]\n",
    "second_oldest = car_ages_descending[1]\n",
    "others = car_ages_descending[2:]\n",
    "print(oldest, second_oldest, others) # 20 19 [15, 9, 8, 7, 6, 4, 1, 0]"
   ]
  },
  {
   "cell_type": "markdown",
   "id": "661b3d1c-d330-45dc-93e0-831413cf38f2",
   "metadata": {},
   "source": [
    "下标与切片会让代码看起来很乱。而且，这样也很容易出错。\n",
    "这个问题通过星号表达式(starred expresion)来解决更会更好一些，这也是一种unpacking操作，它可以把无法由普通变量接收的那些元素全部囊括进去。\n",
    "下面用带星号的unpacking操作改写刚才的代码。"
   ]
  },
  {
   "cell_type": "code",
   "execution_count": 36,
   "id": "df6fc05e-50f1-4647-b8a5-f3b622d4a03d",
   "metadata": {},
   "outputs": [
    {
     "name": "stdout",
     "output_type": "stream",
     "text": [
      "20 19 [15, 9, 8, 7, 6, 4, 1, 0]\n"
     ]
    }
   ],
   "source": [
    "oldest, second_oldest, *others = car_ages_descending\n",
    "print(oldest, second_oldest, others) # 20 19 [15, 9, 8, 7, 6, 4, 1, 0]"
   ]
  },
  {
   "cell_type": "markdown",
   "id": "c7c11cc4-bcc1-40a0-bdcc-0201032e8203",
   "metadata": {},
   "source": [
    "这样写简短易读，而且不容易出错。\n",
    "这种星号表达式可以出现在任意位置，所以它能捕获序列中的任何一段元素。"
   ]
  },
  {
   "cell_type": "code",
   "execution_count": 37,
   "id": "3da6cc2f-3fef-4fcd-9924-f915022a1df5",
   "metadata": {},
   "outputs": [
    {
     "name": "stdout",
     "output_type": "stream",
     "text": [
      "20 0 [19, 15, 9, 8, 7, 6, 4, 1]\n",
      "0 1 [20, 19, 15, 9, 8, 7, 6, 4]\n"
     ]
    }
   ],
   "source": [
    "oldest, *others, youngest = car_ages_descending\n",
    "print(oldest, youngest, others) # 20 0 [19, 15, 9, 8, 7, 6, 4, 1]\n",
    "\n",
    "*others, second_youngest, youngest = car_ages_descending\n",
    "print(youngest, second_youngest, others) # 0 1 [20, 19, 15, 9, 8, 7, 6, 4]"
   ]
  },
  {
   "cell_type": "markdown",
   "id": "47fb6a53-d5ae-445d-a7ff-ccbd53472f65",
   "metadata": {},
   "source": [
    "不过，在使用这种写法时，至少要确保有一个普通的接收变量与它搭配，否则就会出错。例如不能像下面这样，只使用带星的表达式而不搭配普通变量。"
   ]
  },
  {
   "cell_type": "code",
   "execution_count": 38,
   "id": "1172394c-a685-408c-ad12-591fe93d9190",
   "metadata": {},
   "outputs": [
    {
     "ename": "SyntaxError",
     "evalue": "starred assignment target must be in a list or tuple (<ipython-input-38-77c6f344fe32>, line 1)",
     "output_type": "error",
     "traceback": [
      "\u001b[0;36m  File \u001b[0;32m\"<ipython-input-38-77c6f344fe32>\"\u001b[0;36m, line \u001b[0;32m1\u001b[0m\n\u001b[0;31m    *others = car_ages_descending\u001b[0m\n\u001b[0m    ^\u001b[0m\n\u001b[0;31mSyntaxError\u001b[0m\u001b[0;31m:\u001b[0m starred assignment target must be in a list or tuple\n"
     ]
    }
   ],
   "source": [
    "*others = car_ages_descending"
   ]
  },
  {
   "cell_type": "markdown",
   "id": "fc80a2ef-d04a-4723-a137-b97408dc2a23",
   "metadata": {},
   "source": [
    "对于单层结构来说，同一级里面最多只能出现一次带星号的unpacking。"
   ]
  },
  {
   "cell_type": "code",
   "execution_count": 39,
   "id": "6ca95704-12ae-4225-8c30-37b81d46e28b",
   "metadata": {},
   "outputs": [
    {
     "ename": "SyntaxError",
     "evalue": "two starred expressions in assignment (<ipython-input-39-77dccc131ad1>, line 1)",
     "output_type": "error",
     "traceback": [
      "\u001b[0;36m  File \u001b[0;32m\"<ipython-input-39-77dccc131ad1>\"\u001b[0;36m, line \u001b[0;32m1\u001b[0m\n\u001b[0;31m    first, *middle, *second_middle, last = [1, 2, 3, 4]\u001b[0m\n\u001b[0m    ^\u001b[0m\n\u001b[0;31mSyntaxError\u001b[0m\u001b[0;31m:\u001b[0m two starred expressions in assignment\n"
     ]
    }
   ],
   "source": [
    "first, *middle, *second_middle, last = [1, 2, 3, 4]"
   ]
  },
  {
   "cell_type": "markdown",
   "id": "7d7dd2c1-0790-45b0-b133-660d9f101fcf",
   "metadata": {},
   "source": [
    "如果要拆解的结构有多层，那么同一级的不同部分里可以各自出现带星号的unpacking操作。\n",
    "但是不推荐这种写法，这里举一个例子，让大家了解一下。"
   ]
  },
  {
   "cell_type": "code",
   "execution_count": 40,
   "id": "92abef96-a267-4541-ac09-d8766f58ad41",
   "metadata": {},
   "outputs": [
    {
     "name": "stdout",
     "output_type": "stream",
     "text": [
      "Best at Downtown is Silver Shadow, 2 others\n",
      "Best at Airport is Skyline, 3 others\n"
     ]
    }
   ],
   "source": [
    "car_inventory = {\n",
    "\t'Downtown': ('Silver Shadow', 'Pinto', 'DMC'),\n",
    "\t'Airport': ('Skyline', 'Viper', 'Gremlin', 'Nova'),\n",
    "}\n",
    "\n",
    "((loc1, (best1, *rest1)),\n",
    " (loc2, (best2, *rest2))) = car_inventory.items()\n",
    "\n",
    "print(f'Best at {loc1} is {best1}, {len(rest1)} others')\n",
    "print(f'Best at {loc2} is {best2}, {len(rest2)} others')"
   ]
  },
  {
   "cell_type": "markdown",
   "id": "e4e17c8e-c126-4a31-90e5-846024a7c057",
   "metadata": {},
   "source": [
    "星号表达式总会形成一份列表实例。如果要拆分的序列里已经没有元素留给它了，那么列表就是空白的。\n",
    "如果能提前确定有待处理的序列里面至少会有N个元素，那么这项特性就相当有用。"
   ]
  },
  {
   "cell_type": "code",
   "execution_count": 41,
   "id": "2ea31f7c-fdb8-4b5c-8915-a12f41958095",
   "metadata": {},
   "outputs": [
    {
     "name": "stdout",
     "output_type": "stream",
     "text": [
      "1 2 []\n"
     ]
    }
   ],
   "source": [
    "short_list = [1, 2]\n",
    "first, second, *rest = short_list\n",
    "print(first, second, rest)"
   ]
  },
  {
   "cell_type": "markdown",
   "id": "fd8f50fa-088c-414a-9be1-b6035b8446d6",
   "metadata": {},
   "source": [
    "unpacking操作也可以用在迭代器上，但是这样写与把数据拆分到多个变量里面的那种基本写法相比，并没有太大优势。\n",
    "\n",
    "对迭代器做unpacking操作的好处，主要体现在带星号的用法上面，它使迭代器的拆分值更清晰。\n",
    "例如，这里有个生成器，每次可以从含有整个一周的汽车订单的CSV文件中取出一行数据。"
   ]
  },
  {
   "cell_type": "code",
   "execution_count": 43,
   "id": "7dffe9b7-6a32-47cb-82ac-9f608fc442b4",
   "metadata": {},
   "outputs": [],
   "source": [
    "def generate_csv():\n",
    "\tyield ('Date', 'Make' , 'Model', 'Year', 'Price')\n",
    "\tfor i in range(100):\n",
    "\t\tyield ('2019-03-25', 'Honda', 'Fit' , '2010', '$3400')\n",
    "\t\tyield ('2019-03-26', 'Ford', 'F150' , '2008', '$2400')\n"
   ]
  },
  {
   "cell_type": "markdown",
   "id": "b36c3ff3-3e47-42ae-b03e-39ac964639df",
   "metadata": {},
   "source": [
    "我们可以用下标和切片来处理这个生成器所给出的结果，但是这样写需要很多行代码，而且可读性不好。"
   ]
  },
  {
   "cell_type": "code",
   "execution_count": 44,
   "id": "7919dcfc-7bbf-462f-b0d6-a9be4eda2d4f",
   "metadata": {},
   "outputs": [
    {
     "name": "stdout",
     "output_type": "stream",
     "text": [
      "CSV Header: ('Date', 'Make', 'Model', 'Year', 'Price')\n",
      "Row count:  200\n"
     ]
    }
   ],
   "source": [
    "# Example 11\n",
    "all_csv_rows = list(generate_csv())\n",
    "header = all_csv_rows[0]\n",
    "rows = all_csv_rows[1:]\n",
    "print('CSV Header:', header)\n",
    "print('Row count: ', len(rows))"
   ]
  },
  {
   "cell_type": "markdown",
   "id": "35183868-f50e-4e33-a099-505b84e31dc1",
   "metadata": {},
   "source": [
    "利用带星号的unpacking操作，我们可以把第一行单独放到`header`变量里，同时把迭代器所给出的其余内容合起来表示成`rows`变量。这样就很清晰了。"
   ]
  },
  {
   "cell_type": "code",
   "execution_count": 45,
   "id": "8ba04212-0bcb-4743-bd2e-530305cb0bbe",
   "metadata": {},
   "outputs": [
    {
     "name": "stdout",
     "output_type": "stream",
     "text": [
      "CSV Header: ('Date', 'Make', 'Model', 'Year', 'Price')\n",
      "Row count:  200\n"
     ]
    }
   ],
   "source": [
    "it = generate_csv()\n",
    "header, *rows = it\n",
    "print('CSV Header:', header)\n",
    "print('Row count: ', len(rows))"
   ]
  },
  {
   "cell_type": "markdown",
   "id": "2f625bc8-2227-4a15-ad77-de36696c7873",
   "metadata": {},
   "source": [
    "带星号的这部分总是会形成一份列表，所以要注意，可能会耗尽计算机的全部内存。\n",
    "所以，首先要确认系统有足够的内存可以存储拆分出来的结果数据。"
   ]
  },
  {
   "cell_type": "markdown",
   "id": "2c3b1628-7a97-4987-b110-847733f346bb",
   "metadata": {},
   "source": [
    "# #14 用sort方法的key参数来表示复杂的排序逻辑\n",
    "\n",
    "列表类型提供了叫`sort`的方法，可以根据多项指标给`list`实例中的元素排序。默认按照升序排序。"
   ]
  },
  {
   "cell_type": "code",
   "execution_count": 1,
   "id": "836a30c5-10ea-47e9-9497-7ccd2d50ddb1",
   "metadata": {},
   "outputs": [
    {
     "name": "stdout",
     "output_type": "stream",
     "text": [
      "[11, 68, 70, 86, 93]\n"
     ]
    }
   ],
   "source": [
    "numbers = [93, 86, 11, 68, 70]\n",
    "numbers.sort()\n",
    "print(numbers) # [11, 68, 70, 86, 93]"
   ]
  },
  {
   "cell_type": "markdown",
   "id": "45b1b58e-e057-4450-84eb-e7128cfa621f",
   "metadata": {},
   "source": [
    "那么，一般对象该如何排序呢？比如定义以`Tool`类表示各种建筑工具，它带有`__repr__`方法："
   ]
  },
  {
   "cell_type": "code",
   "execution_count": 3,
   "id": "5d02c11e-9d2b-4cff-81b0-63d370b9ae89",
   "metadata": {},
   "outputs": [],
   "source": [
    "class Tool:\n",
    "    def __init__(self, name, weight):\n",
    "        self.name = name\n",
    "        self.weight = weight\n",
    "\n",
    "    def __repr__(self):\n",
    "        return f'Tool({self.name!r}, {self.weight})'\n",
    "    \n",
    "tools = [\n",
    "    Tool('level', 3.5),\n",
    "    Tool('hammer', 1.25),\n",
    "    Tool('screwdriver', 0.5),\n",
    "    Tool('chisel', 0.25),\n",
    "]"
   ]
  },
  {
   "cell_type": "markdown",
   "id": "8386624d-3bfa-4862-93d6-1e21302d515f",
   "metadata": {},
   "source": [
    "此时如果直接调用`sort`方法会报错的，因为排序所需要的特殊方法并没有定义在`Tool`类中。"
   ]
  },
  {
   "cell_type": "code",
   "execution_count": 4,
   "id": "338d8830-c887-4a3f-8b89-dc4bcebf4d10",
   "metadata": {},
   "outputs": [
    {
     "ename": "TypeError",
     "evalue": "'<' not supported between instances of 'Tool' and 'Tool'",
     "output_type": "error",
     "traceback": [
      "\u001b[0;31m---------------------------------------------------------------------------\u001b[0m",
      "\u001b[0;31mTypeError\u001b[0m                                 Traceback (most recent call last)",
      "\u001b[0;32m<ipython-input-4-934c749d7824>\u001b[0m in \u001b[0;36m<module>\u001b[0;34m\u001b[0m\n\u001b[0;32m----> 1\u001b[0;31m \u001b[0mtools\u001b[0m\u001b[0;34m.\u001b[0m\u001b[0msort\u001b[0m\u001b[0;34m(\u001b[0m\u001b[0;34m)\u001b[0m\u001b[0;34m\u001b[0m\u001b[0;34m\u001b[0m\u001b[0m\n\u001b[0m",
      "\u001b[0;31mTypeError\u001b[0m: '<' not supported between instances of 'Tool' and 'Tool'"
     ]
    }
   ],
   "source": [
    "tools.sort()"
   ]
  },
  {
   "cell_type": "markdown",
   "id": "9c3cb00a-38df-4413-bf0c-45271b2bfd3f",
   "metadata": {},
   "source": [
    "很多对象需要在不同的情况下按照不同的标准排序。\n",
    "\n",
    "这些排序标准通常是针对对象中的某个属性。我们可以把这样的排序逻辑定义成函数，然后将这个函数传给`sort`方法的`key`参数。`key`所表示的函数本身应该带有一个参数，这个参数指代列表中有待排序的对象，函数返回的应该是个可比较的值。以便`sort`方法以该值为标准给这些对象排序。\n",
    "\n",
    "下面用`lambda`关键字定义这样一个函数，把它传给`sort`方法的`key`参数，让我们能按照`name`的字母顺序排列这些`Tool`对象。"
   ]
  },
  {
   "cell_type": "code",
   "execution_count": 5,
   "id": "382e597d-28f4-4de2-a5f0-253bf80fae0f",
   "metadata": {},
   "outputs": [
    {
     "name": "stdout",
     "output_type": "stream",
     "text": [
      "Unsorted: [Tool('level', 3.5), Tool('hammer', 1.25), Tool('screwdriver', 0.5), Tool('chisel', 0.25)]\n",
      "\n",
      "Sorted:   [Tool('chisel', 0.25), Tool('hammer', 1.25), Tool('level', 3.5), Tool('screwdriver', 0.5)]\n"
     ]
    }
   ],
   "source": [
    "print('Unsorted:', repr(tools))\n",
    "tools.sort(key=lambda x: x.name)\n",
    "print('\\nSorted:  ', tools)"
   ]
  },
  {
   "cell_type": "markdown",
   "id": "467f4700-1ec5-45c2-94d9-af8209c8f8fd",
   "metadata": {},
   "source": [
    "如果想改用另一项标准，比如用`weight`来排序，那只需要再定义一个`lambda`函数："
   ]
  },
  {
   "cell_type": "code",
   "execution_count": 6,
   "id": "91b8409f-4aff-4389-9822-e9c29f5a17ab",
   "metadata": {},
   "outputs": [
    {
     "name": "stdout",
     "output_type": "stream",
     "text": [
      "By weight: [Tool('chisel', 0.25), Tool('screwdriver', 0.5), Tool('hammer', 1.25), Tool('level', 3.5)]\n"
     ]
    }
   ],
   "source": [
    "tools.sort(key=lambda x: x.weight)\n",
    "print('By weight:', tools)"
   ]
  },
  {
   "cell_type": "markdown",
   "id": "507e575f-4af4-4814-84e1-42d1d86e27aa",
   "metadata": {},
   "source": [
    "在编写传给`key`参数的`lambda`函数时，可以像刚才那样返回对象的某个属性，如果对象时序列、元组或字典，那么还可以返回其中的某个元素。只要是有效的表达式，都可以充当`lambda`函数的返回值。\n",
    "\n",
    "对于字符串这样的基本类型，我们可能需要通过`key`函数先对它的内容做一些变换，并根据变换之后的结果来排序。例如，下面这个`places`列表中存放着表示地点的字符串，如果想在排序的时候忽略大小写，那我们可以先用`lower`方法把待排序的字符串处理一下(因为默认的字典顺序，大写字母在小写字母之前)。"
   ]
  },
  {
   "cell_type": "code",
   "execution_count": 7,
   "id": "5b73b10e-841b-4d51-a457-d13cfa6f2187",
   "metadata": {},
   "outputs": [
    {
     "name": "stdout",
     "output_type": "stream",
     "text": [
      "Case sensitive:   ['New York', 'Paris', 'home', 'work']\n",
      "Case insensitive: ['home', 'New York', 'Paris', 'work']\n"
     ]
    }
   ],
   "source": [
    "places = ['home', 'work', 'New York', 'Paris']\n",
    "places.sort()\n",
    "print('Case sensitive:  ', places)\n",
    "places.sort(key=lambda x: x.lower())\n",
    "print('Case insensitive:', places)"
   ]
  },
  {
   "cell_type": "markdown",
   "id": "7dbe1eac-f952-459d-a5bb-1946495e7a67",
   "metadata": {},
   "source": [
    "有时我们可能需要用多个标准来排序。例如，下面的列表里有一些电动工具，我们想以`weight`为首要指标来排序，在重量相同的情况下，再按`name`排序。"
   ]
  },
  {
   "cell_type": "code",
   "execution_count": 8,
   "id": "cdbf0902-820d-4262-8728-0ea6bef1ef17",
   "metadata": {},
   "outputs": [],
   "source": [
    "power_tools = [\n",
    "    Tool('drill', 4),\n",
    "    Tool('circular saw', 5),\n",
    "    Tool('jackhammer', 40),\n",
    "    Tool('sander', 4),\n",
    "]"
   ]
  },
  {
   "cell_type": "markdown",
   "id": "45e0024d-7f0b-44fa-b17f-4610f7ddb67c",
   "metadata": {},
   "source": [
    "在Python里，最简单的方案是利用元组实现。两个元组之间是可比较的，因为这种类型本身已经定义了自然顺序，即，`sort`方法所要求的特殊方法(例如`__lt__`)，它都已经定义好了。元组在实现这些特殊方法时会依次比较每个位置的那两个对应元素，直到能够确定大小为止。\n",
    "\n",
    "下面，我们看看元组是如何比较重量的。"
   ]
  },
  {
   "cell_type": "code",
   "execution_count": 9,
   "id": "431a622b-ab0b-44e5-88a4-e3d833e8bc57",
   "metadata": {},
   "outputs": [],
   "source": [
    "saw = (5, 'circular saw')\n",
    "jackhammer = (40, 'jackhammer')\n",
    "assert not (jackhammer < saw) "
   ]
  },
  {
   "cell_type": "markdown",
   "id": "fa29a475-78df-41d9-ab50-afebdb4f1dcd",
   "metadata": {},
   "source": [
    "如果两个元组的首个元素相等，就比较第二个元素，如果仍然相等，就继续往下比较。"
   ]
  },
  {
   "cell_type": "code",
   "execution_count": 10,
   "id": "8701dd49-9b0f-4561-bfcf-faf5fbed484e",
   "metadata": {},
   "outputs": [],
   "source": [
    "drill = (4, 'drill')\n",
    "sander = (4, 'sander')\n",
    "assert drill[0] == sander[0]  # 重量相等\n",
    "assert drill[1] < sander[1]   # 字母顺序d < s\n",
    "assert drill < sander         # 因此，drill < sander"
   ]
  },
  {
   "cell_type": "markdown",
   "id": "cf24cdd8-787b-4d24-8712-30e3dc47f533",
   "metadata": {},
   "source": [
    "利用元组的这项特性，我们可以用工具的`weight`和`name`构造一个元组。下面就定义一个这样的`lambda`函数，让它返回这种元组，把首要指标(`weight`)写在前面。"
   ]
  },
  {
   "cell_type": "code",
   "execution_count": 14,
   "id": "4aab456d-9751-4b9d-ae8e-237bb1501cb8",
   "metadata": {},
   "outputs": [
    {
     "name": "stdout",
     "output_type": "stream",
     "text": [
      "[Tool('drill', 4), Tool('sander', 4), Tool('circular saw', 5), Tool('jackhammer', 40)]\n"
     ]
    }
   ],
   "source": [
    "power_tools.sort(key=lambda x: (x.weight, x.name)) # 代表元组的括号不能少\n",
    "print(power_tools)"
   ]
  },
  {
   "cell_type": "markdown",
   "id": "c056e187-1545-45fb-83b9-a17e04eb4b00",
   "metadata": {},
   "source": [
    "这种做法有个缺点，就是`key`函数所构造的这个元组只能按同一个排序方法来对比它所表示的各项指标。\n",
    "所以不太好实现`weight`按降序而`name`按升序的效果。`sort`方法可以指定`reverse`参数，这个参数会同时影响元组中的每项指标。"
   ]
  },
  {
   "cell_type": "code",
   "execution_count": 16,
   "id": "6eada6e8-73a9-44f7-bbde-400e2665ab4e",
   "metadata": {},
   "outputs": [
    {
     "name": "stdout",
     "output_type": "stream",
     "text": [
      "[Tool('jackhammer', 40), Tool('circular saw', 5), Tool('sander', 4), Tool('drill', 4)]\n"
     ]
    }
   ],
   "source": [
    "power_tools.sort(key=lambda x: (x.weight, x.name),\n",
    "                 reverse=True)  # 使所有的指标变成降序\n",
    "print(power_tools)"
   ]
  },
  {
   "cell_type": "markdown",
   "id": "4a6af797-95ff-4abb-ab38-e9aef42f790c",
   "metadata": {},
   "source": [
    "如果其中一项是数字，那么可以在实现`key`函数时，利用一元减操作让两个指标按照不同的方向排序。即，`key`函数在返回这个元组时，可以单独对这项指标取相反数，并保持其他指标不变，这就相当于让排序算法单独在这项指标上采用逆序。下面演示怎样按照重量从大到小，名称从小到大的顺序排列。"
   ]
  },
  {
   "cell_type": "code",
   "execution_count": 17,
   "id": "b9b41651-b68f-4b0a-ac9d-92a8271c628b",
   "metadata": {},
   "outputs": [
    {
     "name": "stdout",
     "output_type": "stream",
     "text": [
      "[Tool('jackhammer', 40), Tool('circular saw', 5), Tool('drill', 4), Tool('sander', 4)]\n"
     ]
    }
   ],
   "source": [
    "power_tools.sort(key=lambda x: (-x.weight, x.name))\n",
    "print(power_tools)"
   ]
  },
  {
   "cell_type": "markdown",
   "id": "c982d106-fca3-4002-a62a-b06d9b331863",
   "metadata": {},
   "source": [
    "显然，这个技巧并不适合所有的类型。比如，我们试着对`name`运用一元减操作。"
   ]
  },
  {
   "cell_type": "code",
   "execution_count": 18,
   "id": "ee679260-9fec-4f1c-bc5d-ce1e43e4df64",
   "metadata": {},
   "outputs": [
    {
     "ename": "TypeError",
     "evalue": "bad operand type for unary -: 'str'",
     "output_type": "error",
     "traceback": [
      "\u001b[0;31m---------------------------------------------------------------------------\u001b[0m",
      "\u001b[0;31mTypeError\u001b[0m                                 Traceback (most recent call last)",
      "\u001b[0;32m<ipython-input-18-bcb3ccff0ae9>\u001b[0m in \u001b[0;36m<module>\u001b[0;34m\u001b[0m\n\u001b[0;32m----> 1\u001b[0;31m power_tools.sort(key=lambda x: (x.weight, -x.name),\n\u001b[0m\u001b[1;32m      2\u001b[0m                      reverse=True)\n",
      "\u001b[0;32m<ipython-input-18-bcb3ccff0ae9>\u001b[0m in \u001b[0;36m<lambda>\u001b[0;34m(x)\u001b[0m\n\u001b[0;32m----> 1\u001b[0;31m power_tools.sort(key=lambda x: (x.weight, -x.name),\n\u001b[0m\u001b[1;32m      2\u001b[0m                      reverse=True)\n",
      "\u001b[0;31mTypeError\u001b[0m: bad operand type for unary -: 'str'"
     ]
    }
   ],
   "source": [
    "power_tools.sort(key=lambda x: (x.weight, -x.name),\n",
    "                     reverse=True)"
   ]
  },
  {
   "cell_type": "markdown",
   "id": "28754ddc-43c8-4943-b63f-2b6c56539dab",
   "metadata": {},
   "source": [
    "可以看到，`str`类型不支持一元减操作。此时，可以考虑`sort`方法的一项特征，就是这个方法是个稳定的排序算法。意味着，如果`key`函数认定两个值相等，那么这两个值在排序结果中的先后顺序会与它们在排序前的顺序一致。\n",
    "于是，我们可以在同一个列表上多次调用`sort`方法，每次指定不同的排序指标。\n",
    "下面我们就利用这项特征实现刚才想要达成的那种效果，把首要指标(重量)降序放在第二轮，把次要指标(名称)升序放在第一轮。"
   ]
  },
  {
   "cell_type": "code",
   "execution_count": 19,
   "id": "9f91b66b-3762-4428-b031-6dc37fbc569a",
   "metadata": {},
   "outputs": [
    {
     "name": "stdout",
     "output_type": "stream",
     "text": [
      "[Tool('jackhammer', 40), Tool('circular saw', 5), Tool('drill', 4), Tool('sander', 4)]\n"
     ]
    }
   ],
   "source": [
    "power_tools.sort(key=lambda x: x.name)   # Name 升序\n",
    "\n",
    "power_tools.sort(key=lambda x: x.weight, # Weight 降序\n",
    "                 reverse=True)\n",
    "\n",
    "print(power_tools)"
   ]
  },
  {
   "cell_type": "markdown",
   "id": "42a69ce5-f328-4241-a6b3-cd612c9ed80e",
   "metadata": {},
   "source": [
    "为什么这样可以呢？ 我们拆开来看。先看第一轮，也就是按照名称升序排列："
   ]
  },
  {
   "cell_type": "code",
   "execution_count": 20,
   "id": "20e102c6-c782-419a-8fb4-c0e399bf7010",
   "metadata": {},
   "outputs": [
    {
     "name": "stdout",
     "output_type": "stream",
     "text": [
      "[Tool('circular saw', 5), Tool('drill', 4), Tool('jackhammer', 40), Tool('sander', 4)]\n"
     ]
    }
   ],
   "source": [
    "power_tools.sort(key=lambda x: x.name)\n",
    "print(power_tools)"
   ]
  },
  {
   "cell_type": "markdown",
   "id": "8cd983eb-4e96-4429-b9b9-3a1caf270586",
   "metadata": {},
   "source": [
    "然后执行第二轮，即按重要降序排列。这时,由于'sander'与'drill'所对应的两个`Tool`重量相同，`key`函数会判定这两个对象相等，于是，在`sort`方法的排序结果中，它们之间的先后词序就跟第一轮结束时的次序相同。\n",
    "所以，我们再实现了按重量降序排序的同时，保留了重量相同的对象在上一轮排序结果时的相对次序，而上一轮是按照名称升序排列的。"
   ]
  },
  {
   "cell_type": "code",
   "execution_count": 21,
   "id": "b98f5633-8d15-42e4-9c88-70bc93eac51f",
   "metadata": {},
   "outputs": [
    {
     "name": "stdout",
     "output_type": "stream",
     "text": [
      "[Tool('jackhammer', 40), Tool('circular saw', 5), Tool('drill', 4), Tool('sander', 4)]\n"
     ]
    }
   ],
   "source": [
    "power_tools.sort(key=lambda x: x.weight,\n",
    "                 reverse=True)\n",
    "print(power_tools)"
   ]
  },
  {
   "cell_type": "markdown",
   "id": "a67432ac-7e85-4499-b4a5-baaa309022ba",
   "metadata": {},
   "source": [
    "无论有多少项排序指标都可以按照这种思路来实现，而且每项指标可以分别按照各自的方向来排，不用全部都是升序或降序。==只需要倒着写即可==，即把最主要的那项排序指标放在最后一轮处理。\n",
    "\n",
    "但是只调用一次`sort`，还是要比调用多次`sort`简单，不到万不得已，不要用多次排序的方式。\n",
    "\n",
    "# #15 不要过分依赖给字典添加条目时所用的顺序\n",
    "\n",
    "从Python3.6开始，字典会保留键值对在添加时所用的顺序。"
   ]
  },
  {
   "cell_type": "code",
   "execution_count": 22,
   "id": "c6e299de-d5b9-4075-a359-8223894ef509",
   "metadata": {},
   "outputs": [
    {
     "name": "stdout",
     "output_type": "stream",
     "text": [
      "{'cat': 'kitten', 'dog': 'puppy'}\n"
     ]
    }
   ],
   "source": [
    "baby_names = {\n",
    "    'cat': 'kitten',\n",
    "    'dog': 'puppy',\n",
    "}\n",
    "print(baby_names)"
   ]
  },
  {
   "cell_type": "markdown",
   "id": "c2872cd7-f43f-4d6a-a727-ac46483ad14f",
   "metadata": {},
   "source": [
    "在Python3.5之前的版本中，`dict`所提供的许多方法都不保证固定的顺序，所以让人觉得好像是随机处理的。在新版的Python中，这些方法可以按照当初添加键值对的顺序来处理了。"
   ]
  },
  {
   "cell_type": "code",
   "execution_count": 23,
   "id": "6a315063-ae78-457d-b5f8-8ed86383a3af",
   "metadata": {},
   "outputs": [
    {
     "name": "stdout",
     "output_type": "stream",
     "text": [
      "['cat', 'dog']\n",
      "['kitten', 'puppy']\n",
      "[('cat', 'kitten'), ('dog', 'puppy')]\n",
      "('dog', 'puppy')\n"
     ]
    }
   ],
   "source": [
    "print(list(baby_names.keys()))\n",
    "print(list(baby_names.values()))\n",
    "print(list(baby_names.items()))\n",
    "print(baby_names.popitem())  #  最后添加的元素"
   ]
  },
  {
   "cell_type": "markdown",
   "id": "f49fd1f1-2d39-45e3-b6b5-fc5c111cb771",
   "metadata": {},
   "source": [
    "这项变化对Python中那些依赖字典类型及其实现细节的特性产生了很多影响。\n",
    "函数的关键字参数，以前是按照近乎随机的顺序出现，现在，这些关键字参数总能保留调用函数时所指定的那套顺序。"
   ]
  },
  {
   "cell_type": "code",
   "execution_count": 24,
   "id": "2cba6dfc-7088-4d0b-9467-61277e43b3b9",
   "metadata": {},
   "outputs": [
    {
     "name": "stdout",
     "output_type": "stream",
     "text": [
      "goose = gosling\n",
      "kangaroo = joey\n"
     ]
    }
   ],
   "source": [
    "def my_func(**kwargs):\n",
    "    for key, value in kwargs.items():\n",
    "        print(f'{key} = {value}')\n",
    "\n",
    "my_func(goose='gosling', kangaroo='joey')"
   ]
  },
  {
   "cell_type": "markdown",
   "id": "9f97c0b7-52b3-48f5-aa9b-16663bbfd39c",
   "metadata": {},
   "source": [
    "另外，类也会利用字典来保存这个类的实例所具备的一些数据。在早前抱抱你的Python中，对象中的字段看上去好像是随机出现的。在新版中，我们就可以认为这些字段在`__dict__`中出现的顺序应该与当初赋值时的顺序一样。"
   ]
  },
  {
   "cell_type": "code",
   "execution_count": 25,
   "id": "4d71c234-b51f-48a2-8f18-3ea26ff38320",
   "metadata": {},
   "outputs": [
    {
     "name": "stdout",
     "output_type": "stream",
     "text": [
      "alligator = hatchling\n",
      "elephant = calf\n"
     ]
    }
   ],
   "source": [
    "class MyClass:\n",
    "    def __init__(self):\n",
    "        self.alligator = 'hatchling'\n",
    "        self.elephant = 'calf'\n",
    "\n",
    "a = MyClass()\n",
    "for key, value in a.__dict__.items():\n",
    "    print(f'{key} = {value}')"
   ]
  },
  {
   "cell_type": "markdown",
   "id": "3f9c0f4b-cfb9-4b8d-adcc-69d6a78779c0",
   "metadata": {},
   "source": [
    "所以，我们可以利用这样的特征来实现一些功能，而且可以把它融入自己给类和函数所设计的API中。\n",
    "\n",
    "但处理字典的时候，不能总是假设所有的字典都能保留键值对插入时的顺序。在Python中，我们很容易就定义出特制的容器类型，并且让这些容器也像标准的`list`与`dict`等类型那样遵守相关的协议。\n",
    "Python不是静态类型的语音，大多数代码都以鸭子类型机制运作（即对象支持什么样的行为，就可以当成什么样的数据使用，而不用执着于它在类体系中的地位）。这种特性可能会产生意想不到的问题。\n",
    "\n",
    "例如，现在要写一个程序，统计各种小动物的受欢迎程度。我们可以设定一个字典，把每种动物和它得到的票数关联起来。"
   ]
  },
  {
   "cell_type": "code",
   "execution_count": 26,
   "id": "9fe85e57-c673-4e25-b26c-adeff4618075",
   "metadata": {},
   "outputs": [],
   "source": [
    "votes = {\n",
    "    'otter': 1281,\n",
    "    'polar bear': 587,\n",
    "    'fox': 863,\n",
    "}"
   ]
  },
  {
   "cell_type": "markdown",
   "id": "f072bdb7-3cd1-404d-a97f-62ebdae5a6e7",
   "metadata": {},
   "source": [
    "现在定义一个函数来处理投票数据。用户可以把空的字典传给这个函数，这样的话，它就会把每个动物及其排名放到这个字典中。这种字典可以充当数据模型，给带有用户界面的元素提供数据。"
   ]
  },
  {
   "cell_type": "code",
   "execution_count": 27,
   "id": "661684f7-ec7b-4d72-b39d-593f124cc8e8",
   "metadata": {},
   "outputs": [],
   "source": [
    "def populate_ranks(votes, ranks):\n",
    "    names = list(votes.keys())\n",
    "    names.sort(key=votes.get, reverse=True)\n",
    "    for i, name in enumerate(names, 1):\n",
    "        ranks[name] = i"
   ]
  },
  {
   "cell_type": "markdown",
   "id": "660add92-991b-40e4-ae81-26bdaa9893c9",
   "metadata": {},
   "source": [
    "我们还需要写一个函数查出人气最高的动物。这个函数假定`populate_ranks`总是会按照升序向字典写入键值对，这样第一个出现在字典里的就应该是排名最靠前的动物。"
   ]
  },
  {
   "cell_type": "code",
   "execution_count": 28,
   "id": "c2f7ce4f-9a08-4fa5-a49e-c02d8e4b6843",
   "metadata": {},
   "outputs": [],
   "source": [
    "def get_winner(ranks):\n",
    "    return next(iter(ranks))"
   ]
  },
  {
   "cell_type": "markdown",
   "id": "985016f3-2520-49ec-9197-75db53a8eb21",
   "metadata": {},
   "source": [
    "下面来验证刚才设计的函数，看它们能不能实现想要的结果。"
   ]
  },
  {
   "cell_type": "code",
   "execution_count": 29,
   "id": "bf06c927-bc15-4006-8937-a75ef5bce511",
   "metadata": {},
   "outputs": [
    {
     "name": "stdout",
     "output_type": "stream",
     "text": [
      "{'otter': 1, 'fox': 2, 'polar bear': 3}\n",
      "otter\n"
     ]
    }
   ],
   "source": [
    "ranks = {}\n",
    "populate_ranks(votes, ranks)\n",
    "print(ranks)\n",
    "winner = get_winner(ranks)\n",
    "print(winner)"
   ]
  },
  {
   "cell_type": "markdown",
   "id": "8a18e528-1d2b-4f7e-972f-90c161f3bfca",
   "metadata": {},
   "source": [
    "结果没有问题。但是，假设现在需求变了，我们想要按照字母顺序在UI中显示。为了实现这种效果，我们用内置的`collections.abc`模块定义这样一个类。这个类的功能和字典一样，而且会按照字母顺序迭代其中的内容。"
   ]
  },
  {
   "cell_type": "code",
   "execution_count": 30,
   "id": "99e1e85f-14a8-4378-bb11-cc8b3c5f474c",
   "metadata": {},
   "outputs": [],
   "source": [
    "from collections.abc import MutableMapping\n",
    "\n",
    "class SortedDict(MutableMapping):\n",
    "    def __init__(self):\n",
    "        self.data = {}\n",
    "\n",
    "    def __getitem__(self, key):\n",
    "        return self.data[key]\n",
    "\n",
    "    def __setitem__(self, key, value):\n",
    "        self.data[key] = value\n",
    "\n",
    "    def __delitem__(self, key):\n",
    "        del self.data[key]\n",
    "\n",
    "    def __iter__(self):\n",
    "        keys = list(self.data.keys())\n",
    "        keys.sort()\n",
    "        for key in keys:\n",
    "            yield key\n",
    "\n",
    "    def __len__(self):\n",
    "        return len(self.data)"
   ]
  },
  {
   "cell_type": "markdown",
   "id": "4cc67abf-43d5-4edb-9cb2-b4d16bbe92d1",
   "metadata": {},
   "source": [
    "原来使用标准库`dict`的地方，现在可以改用这个类的实例。我们这个`SortedDict`类与标准的字典遵循同一套协议，因此程序不会出错。但是，我们并没有得到预期的效果。"
   ]
  },
  {
   "cell_type": "code",
   "execution_count": 31,
   "id": "4939acb9-0c93-4402-9cbe-b06f143e48e8",
   "metadata": {},
   "outputs": [
    {
     "name": "stdout",
     "output_type": "stream",
     "text": [
      "{'otter': 1, 'fox': 2, 'polar bear': 3}\n",
      "fox\n"
     ]
    }
   ],
   "source": [
    "sorted_ranks = SortedDict()\n",
    "populate_ranks(votes, sorted_ranks)\n",
    "print(sorted_ranks.data)\n",
    "winner = get_winner(sorted_ranks)\n",
    "print(winner)"
   ]
  },
  {
   "cell_type": "markdown",
   "id": "441baabe-9c2e-4ede-b6e2-c75f31d04e01",
   "metadata": {},
   "source": [
    "为什么会这样，因为`get_winner`总是假设， 迭代字典时的顺序应该跟`populate_ranks`函数当初向字典中插入数据时的顺序一样。但是这次，我们用的是`SortedDict`实例，而不是标准的`dict`实例，所以这项假设不成立。\n",
    "\n",
    "因此，函数返回的数据是按照字母顺序排列时最先出现的那个数据，也就是'fox'。\n",
    "\n",
    "这个问题有三种解决方法。第一种是重新实现`get_winner`函数，使它不再假设`ranks`字典总是按照固定的顺序来迭代。这是最保险、最稳妥的一种方法。"
   ]
  },
  {
   "cell_type": "code",
   "execution_count": 32,
   "id": "01bb841d-c883-4963-a6e4-b7be14ad806c",
   "metadata": {},
   "outputs": [
    {
     "name": "stdout",
     "output_type": "stream",
     "text": [
      "otter\n"
     ]
    }
   ],
   "source": [
    "def get_winner(ranks):\n",
    "    for name, rank in ranks.items():\n",
    "        if rank == 1:\n",
    "            return name\n",
    "\n",
    "winner = get_winner(sorted_ranks)\n",
    "print(winner)"
   ]
  },
  {
   "cell_type": "markdown",
   "id": "17473799-deb5-4985-afab-d835cce9b8df",
   "metadata": {},
   "source": [
    "第二种方法是在函数开头先判断`ranks`是不是预期的那种标准字典。如果不是，就抛出异常。这个方法的运行性能要比刚才那个好。"
   ]
  },
  {
   "cell_type": "code",
   "execution_count": 33,
   "id": "0fe5b1ec-d86e-4096-9c06-370a1b7ad218",
   "metadata": {},
   "outputs": [
    {
     "ename": "TypeError",
     "evalue": "must provide a dict instance",
     "output_type": "error",
     "traceback": [
      "\u001b[0;31m---------------------------------------------------------------------------\u001b[0m",
      "\u001b[0;31mTypeError\u001b[0m                                 Traceback (most recent call last)",
      "\u001b[0;32m<ipython-input-33-f71ee8f2b79a>\u001b[0m in \u001b[0;36m<module>\u001b[0;34m\u001b[0m\n\u001b[1;32m      6\u001b[0m \u001b[0;32massert\u001b[0m \u001b[0mget_winner\u001b[0m\u001b[0;34m(\u001b[0m\u001b[0mranks\u001b[0m\u001b[0;34m)\u001b[0m \u001b[0;34m==\u001b[0m \u001b[0;34m'otter'\u001b[0m\u001b[0;34m\u001b[0m\u001b[0;34m\u001b[0m\u001b[0m\n\u001b[1;32m      7\u001b[0m \u001b[0;34m\u001b[0m\u001b[0m\n\u001b[0;32m----> 8\u001b[0;31m \u001b[0mget_winner\u001b[0m\u001b[0;34m(\u001b[0m\u001b[0msorted_ranks\u001b[0m\u001b[0;34m)\u001b[0m\u001b[0;34m\u001b[0m\u001b[0;34m\u001b[0m\u001b[0m\n\u001b[0m",
      "\u001b[0;32m<ipython-input-33-f71ee8f2b79a>\u001b[0m in \u001b[0;36mget_winner\u001b[0;34m(ranks)\u001b[0m\n\u001b[1;32m      1\u001b[0m \u001b[0;32mdef\u001b[0m \u001b[0mget_winner\u001b[0m\u001b[0;34m(\u001b[0m\u001b[0mranks\u001b[0m\u001b[0;34m)\u001b[0m\u001b[0;34m:\u001b[0m\u001b[0;34m\u001b[0m\u001b[0;34m\u001b[0m\u001b[0m\n\u001b[1;32m      2\u001b[0m         \u001b[0;32mif\u001b[0m \u001b[0;32mnot\u001b[0m \u001b[0misinstance\u001b[0m\u001b[0;34m(\u001b[0m\u001b[0mranks\u001b[0m\u001b[0;34m,\u001b[0m \u001b[0mdict\u001b[0m\u001b[0;34m)\u001b[0m\u001b[0;34m:\u001b[0m\u001b[0;34m\u001b[0m\u001b[0;34m\u001b[0m\u001b[0m\n\u001b[0;32m----> 3\u001b[0;31m             \u001b[0;32mraise\u001b[0m \u001b[0mTypeError\u001b[0m\u001b[0;34m(\u001b[0m\u001b[0;34m'must provide a dict instance'\u001b[0m\u001b[0;34m)\u001b[0m\u001b[0;34m\u001b[0m\u001b[0;34m\u001b[0m\u001b[0m\n\u001b[0m\u001b[1;32m      4\u001b[0m         \u001b[0;32mreturn\u001b[0m \u001b[0mnext\u001b[0m\u001b[0;34m(\u001b[0m\u001b[0miter\u001b[0m\u001b[0;34m(\u001b[0m\u001b[0mranks\u001b[0m\u001b[0;34m)\u001b[0m\u001b[0;34m)\u001b[0m\u001b[0;34m\u001b[0m\u001b[0;34m\u001b[0m\u001b[0m\n\u001b[1;32m      5\u001b[0m \u001b[0;34m\u001b[0m\u001b[0m\n",
      "\u001b[0;31mTypeError\u001b[0m: must provide a dict instance"
     ]
    }
   ],
   "source": [
    "def get_winner(ranks):\n",
    "        if not isinstance(ranks, dict):\n",
    "            raise TypeError('must provide a dict instance')\n",
    "        return next(iter(ranks))\n",
    "    \n",
    "assert get_winner(ranks) == 'otter'\n",
    "    \n",
    "get_winner(sorted_ranks)"
   ]
  },
  {
   "cell_type": "markdown",
   "id": "a9c96fce-b165-4387-830a-6a22b4b6f889",
   "metadata": {},
   "source": [
    "第三种方法是通过类型注解来保存传给`get_winner`函数的确是个真正的`dict`实例，而不是那种行为根标准字典类似的`MutableMapping`。下面就采用严格模式，针对含有注解的代码运行`mypy`工具。"
   ]
  },
  {
   "cell_type": "markdown",
   "id": "a5e2afbd-b6cb-4be3-8d78-869f6b4dd094",
   "metadata": {},
   "source": [
    "`example.py`:\n",
    "\n",
    "```py\n",
    "# python -m mypy <path>\n",
    "\n",
    "from typing import Dict, MutableMapping\n",
    "\n",
    "def populate_ranks(votes: Dict[str, int],\n",
    "                   ranks: Dict[str, int]) -> None:\n",
    "    names = list(votes.keys())\n",
    "    names.sort(key=votes.get, reverse=True)\n",
    "    for i, name in enumerate(names, 1):\n",
    "        ranks[name] = i\n",
    "\n",
    "def get_winner(ranks: Dict[str, int]) -> str:\n",
    "    return next(iter(ranks))\n",
    "\n",
    "from typing import Iterator, MutableMapping\n",
    "\n",
    "class SortedDict(MutableMapping[str, int]):\n",
    "    def __init__(self) -> None:\n",
    "        self.data: Dict[str, int] = {}\n",
    "\n",
    "    def __getitem__(self, key: str) -> int:\n",
    "        return self.data[key]\n",
    "\n",
    "    def __setitem__(self, key: str, value: int) -> None:\n",
    "        self.data[key] = value\n",
    "\n",
    "    def __delitem__(self, key: str) -> None:\n",
    "        del self.data[key]\n",
    "\n",
    "    def __iter__(self) -> Iterator[str]:\n",
    "        keys = list(self.data.keys())\n",
    "        keys.sort()\n",
    "        for key in keys:\n",
    "            yield key\n",
    "\n",
    "    def __len__(self) -> int:\n",
    "        return len(self.data)\n",
    "\n",
    "votes = {\n",
    "    'otter': 1281,\n",
    "    'polar bear': 587,\n",
    "    'fox': 863,\n",
    "}\n",
    "\n",
    "sorted_ranks = SortedDict()\n",
    "populate_ranks(votes, sorted_ranks)\n",
    "print(sorted_ranks.data)\n",
    "winner = get_winner(sorted_ranks)\n",
    "print(winner)\n",
    "```\n",
    "\n",
    "```sh\n",
    "# 首先按照mypy\n",
    "$ pip install mypy\n",
    "$ python -m mypy --strict example.py \n",
    "example.py:6: error: Argument \"key\" to \"sort\" of \"list\" has incompatible type overloaded function; expected \"Callable[[str], SupportsLessThan]\"\n",
    "example.py:44: error: Argument 2 to \"populate_ranks\" has incompatible type \"SortedDict\"; expected \"Dict[str, int]\"\n",
    "example.py:46: error: Argument 1 to \"get_winner\" has incompatible type \"SortedDict\"; expected \"Dict[str, int]\"\n",
    "Found 3 errors in 1 file (checked 1 source file)\n",
    "```\n",
    "\n",
    "这样可以检查出类型不相符的问题，`mypy`会标出错误的用法。这个方案既能保证静态类型准确，又不会影响程序的运行效率。\n",
    "\n",
    "# #16 用get处理不在字典中的情况，不要使用in与KeyError\n",
    "\n",
    "假设我们要给一家三明治店设计菜单，所以想先确定大家喜欢吃哪些类型的面包。我们定义一个字典，把每种款式的名字和它当前的得票数关联起来。"
   ]
  },
  {
   "cell_type": "code",
   "execution_count": 34,
   "id": "d68ddd22-6880-4cee-894e-40a5f2ab98cf",
   "metadata": {},
   "outputs": [],
   "source": [
    "counters = {\n",
    "    'pumpernickel': 2,\n",
    "    'sourdough': 1,\n",
    "}"
   ]
  },
  {
   "cell_type": "markdown",
   "id": "424a4ca6-9933-4207-9a03-025e138e82e6",
   "metadata": {},
   "source": [
    "如果要记录新的一票。首先要判断对应的键在不在字典里。如果不在，那就把这个键的票数设成0，然后增加所得票数。这需要两次访问这个键，第一次是为了判断它是否在字典里，第二次为了用它来获取对应的值，而且还要做一次赋值。\n",
    "下面我们用`if`语句来实现该逻辑。"
   ]
  },
  {
   "cell_type": "code",
   "execution_count": 35,
   "id": "c3a194d5-fc87-4454-9bc9-b4ace5c1655d",
   "metadata": {},
   "outputs": [],
   "source": [
    "key = 'wheat'\n",
    "\n",
    "if key in counters:\n",
    "    count = counters[key]\n",
    "else:\n",
    "    count = 0\n",
    "\n",
    "counters[key] = count + 1"
   ]
  },
  {
   "cell_type": "markdown",
   "id": "ab01db00-9618-4618-8289-08418ce58d63",
   "metadata": {},
   "source": [
    "这有个办法也能实现相同的功能，就是利用`KeyError`异常。如果程序抛出了这个异常，那说明要获取的键不在字典里。\n",
    "这个写法比刚才的简单，因为只需要访问一次键名就可以了。"
   ]
  },
  {
   "cell_type": "code",
   "execution_count": 36,
   "id": "984df437-6c11-4104-9d0b-04acfdab7466",
   "metadata": {},
   "outputs": [],
   "source": [
    "key = 'brioche'\n",
    "\n",
    "try:\n",
    "    count = counters[key]\n",
    "except KeyError:\n",
    "    count = 0\n",
    "\n",
    "counters[key] = count + 1"
   ]
  },
  {
   "cell_type": "markdown",
   "id": "e173c000-21e5-47d7-8646-01bf9ef61515",
   "metadata": {},
   "source": [
    "获取字典中存在的键，或给字典中不存在的键指定默认值，这两种操作非常常见。\n",
    "Python的内置字典`dict`提供了`get`方法，可以指定键不存在时返回的默认值。\n",
    "这种写法也只需要在查询键值时访问一次键名，然后做一次赋值操作，但要比刚才那种通过`KeyError`实现的方案简单得多。"
   ]
  },
  {
   "cell_type": "code",
   "execution_count": 37,
   "id": "0503b58f-a1c9-4993-907a-339ad164011f",
   "metadata": {},
   "outputs": [],
   "source": [
    "count = counters.get(key, 0)\n",
    "counters[key] = count + 1"
   ]
  },
  {
   "cell_type": "markdown",
   "id": "d3afadad-0ac6-4ee3-8e22-9714ca1e9056",
   "metadata": {},
   "source": [
    "对于通过`in`表达式与`KeyError`实现的那两种方案来说，确实可以通过各种技巧来简化代码，但不管怎样简化，都无法完全消除重复赋值。所以，优先考虑用`get`方法来实现，因为`in`方案与`KeyError`方案无论如何读比它复杂。"
   ]
  },
  {
   "cell_type": "code",
   "execution_count": 38,
   "id": "04bffb95-f2e8-4446-bd8c-2aaea6e5a1ec",
   "metadata": {},
   "outputs": [],
   "source": [
    "if key not in counters:\n",
    "    counters[key] = 0\n",
    "counters[key] += 1\n",
    "\n",
    "if key in counters:\n",
    "    counters[key] += 1\n",
    "else:\n",
    "    counters[key] = 1\n",
    "\n",
    "try:\n",
    "    counters[key] += 1\n",
    "except KeyError:\n",
    "    counters[key] = 1"
   ]
  },
  {
   "cell_type": "markdown",
   "id": "a74682fa-5d32-4252-aef0-c067ee2de7eb",
   "metadata": {},
   "source": [
    "如果字典里保存的数据比较复杂，比如列表，那该怎么办？例如，这次不仅要记录每种面包得的得票数，而且要记录投票的人。那可以像下面这样，把面包的名称(`key`)跟一份列表关联起来，而那份列表指的就是喜欢该面包的人。"
   ]
  },
  {
   "cell_type": "code",
   "execution_count": 39,
   "id": "a516c15a-575c-4f0d-a25d-332331632bcd",
   "metadata": {},
   "outputs": [],
   "source": [
    "votes = {\n",
    "    'baguette': ['Bob', 'Alice'],\n",
    "    'ciabatta': ['Coco', 'Deb'],\n",
    "}\n",
    "\n",
    "key = 'brioche'\n",
    "who = 'Elmer'\n",
    "\n",
    "if key in votes:\n",
    "    names = votes[key]\n",
    "else:\n",
    "    votes[key] = names = []\n",
    "\n",
    "names.append(who)"
   ]
  },
  {
   "cell_type": "markdown",
   "id": "0a68a218-4f62-4683-bbc6-f07e36d5922e",
   "metadata": {},
   "source": [
    "在采用`in`表达式实现的方案里，如果`key`已经存在，那么需要访问两次。一次在`if`语句里，另一次是在获取投票人列表的那条`names = votes[key]`语句里。\n",
    "\n",
    "如果`key`不存在，那就只要在`if`语句中访问一次，然后在`else`分支中赋值一次值。这和上面那个单纯统计得票数的例子不同，这次如果发现键名不存在，那么只需要把空白的列表与这个键关联起来就行了。\n",
    "\n",
    "`votes[key] = names = []`既可以把空白列表赋给`names`变量，又可以把这份列表与`key`相关联，这两项操作，只需要一行语句即可表达出来。\n",
    "把空白列表(默认值)插入字典后，不需要再用另一条赋值语句给其中的某个元素赋值，一维可以直接在指向这份列表的`names`变量上调用`append`方法把投票人的名字添加进去。\n",
    "\n",
    "还可以利用`KeyError`异常来实现。"
   ]
  },
  {
   "cell_type": "code",
   "execution_count": 40,
   "id": "00a9c8f4-dcfd-4330-9320-d003dda6e8de",
   "metadata": {},
   "outputs": [],
   "source": [
    "key = 'rye'\n",
    "who = 'Felix'\n",
    "\n",
    "try:\n",
    "    names = votes[key]\n",
    "except KeyError:\n",
    "    votes[key] = names = []\n",
    "\n",
    "names.append(who)"
   ]
  },
  {
   "cell_type": "markdown",
   "id": "0946cf0e-659b-4111-844c-963b9fc1b42d",
   "metadata": {},
   "source": [
    "同样，这个列子也能通过`get`方法改写。这样的话，如果键存在，只需要访问一次键名；如果不存在，那么还要在`if`块中用键名`key`作为下标赋一次值。"
   ]
  },
  {
   "cell_type": "code",
   "execution_count": 41,
   "id": "791db825-d2cb-4c54-8653-3cfc82273be9",
   "metadata": {},
   "outputs": [],
   "source": [
    "key = 'wheat'\n",
    "who = 'Gertrude'\n",
    "\n",
    "names = votes.get(key)\n",
    "if names is None:\n",
    "    votes[key] = names = []\n",
    "    \n",
    "names.append(who)"
   ]
  },
  {
   "cell_type": "markdown",
   "id": "d4f01559-71c8-4a61-8427-216e748ad93e",
   "metadata": {},
   "source": [
    "这个方案中，无论`votes.get(key)`的结果是不是`None`，都要把这个结果赋给`names`变量，只不过在结果为`None`的时候，还需要在`if`块中做一些处理。这种逻辑用赋值表达式，参见第10条，改写可以再节省一行代码。"
   ]
  },
  {
   "cell_type": "code",
   "execution_count": 45,
   "id": "ae23fd2f-ba31-428b-a677-406017dd7c5b",
   "metadata": {},
   "outputs": [],
   "source": [
    "if (names := votes.get(key)) is None:\n",
    "    votes[key] = names = []\n",
    "names.append(who)"
   ]
  },
  {
   "cell_type": "markdown",
   "id": "a50d34c7-453a-49f1-bf9a-565f9f1b89cf",
   "metadata": {},
   "source": [
    "`dict`类型提供了`setdefault`方法，能够继续简化代码。"
   ]
  },
  {
   "cell_type": "code",
   "execution_count": 46,
   "id": "f40fb8c5-0883-4840-94ef-87c19622a2e1",
   "metadata": {},
   "outputs": [],
   "source": [
    "key = 'cornbread'\n",
    "who = 'Kirk'\n",
    "\n",
    "names = votes.setdefault(key, [])\n",
    "names.append(who)"
   ]
  },
  {
   "cell_type": "markdown",
   "id": "e5103172-152e-4cba-b16d-706ed4113553",
   "metadata": {},
   "source": [
    "如果字典里本身有这个`key`，那么这个方法要做的，其实仅仅是返回相关的值而已，这时它不会`set`。\n",
    "\n",
    "在字典里面没有这个键时，`setdefault`方法会把默认值直接放到字典里，而不是先给它做副本，然后把副本放到字典中。我们用下面这段代码演示一下默认值为列表时可能出现的问题。\n"
   ]
  },
  {
   "cell_type": "code",
   "execution_count": 47,
   "id": "e67d6ffa-02bf-4197-b067-50b3f756bc33",
   "metadata": {},
   "outputs": [
    {
     "name": "stdout",
     "output_type": "stream",
     "text": [
      "Before: {'foo': []}\n",
      "After:  {'foo': ['hello']}\n"
     ]
    }
   ],
   "source": [
    "data = {}\n",
    "\n",
    "key = 'foo'\n",
    "value = []\n",
    "data.setdefault(key, value)\n",
    "print('Before:', data)\n",
    "value.append('hello')\n",
    "print('After: ', data)"
   ]
  },
  {
   "cell_type": "markdown",
   "id": "2a1ce776-b3be-4dfb-b1cf-54b0eafc8a6c",
   "metadata": {},
   "source": [
    "这意味着每次调用`setdefault`时都要构造一个新的默认值出来。这可能产生较大的性能开销。\n",
    "回到之前那个只记录票数而不记录投票人的例子。那个例子为什么不用`setdefault`改写呢？比如，可以这样写："
   ]
  },
  {
   "cell_type": "code",
   "execution_count": 48,
   "id": "d63a4450-8ec6-4fd5-a4b9-2db7f9982b8b",
   "metadata": {},
   "outputs": [],
   "source": [
    "key = 'dutch crunch'\n",
    "\n",
    "count = counters.setdefault(key, 0)\n",
    "counters[key] = count + 1"
   ]
  },
  {
   "cell_type": "markdown",
   "id": "be54f030-b5e3-4e3c-bedd-005b77f5a8c8",
   "metadata": {},
   "source": [
    "这样写的问题是，根本就没必要调用`setdefault`，因为不管字典里有没有这个键，我们都要递增它所对应的值。\n",
    "\n",
    "```py\n",
    "count = counters.get(key, 0)\n",
    "counters[key] = count + 1\n",
    "```\n",
    "无论字典里有没有这个键，之前那种`get`方案只需要一次访问操作与一次赋值操作即可(如上代码，访问`key`,不存在即返回0，第二行赋值一次。)，而目前的`setdefault`方案(在字典没有键的情况下)需要一次访问操作与两次赋值操作。\n",
    "\n",
    "只有在少数几种情况下用`setdefault`处理缺失的键才是最简短的方式，例如：与键相关的默认值构造起来开销很低且可以变化，而且不用担心异常问题。在这种特殊的场合，可以用这个`setdefault`方案取代`get`方案。即便如此，一般也应该优先考虑用`defaultdict`取代`dict`。\n"
   ]
  },
  {
   "cell_type": "markdown",
   "id": "312073b5-b34b-4a1c-a87e-8970c1e1bc27",
   "metadata": {},
   "source": [
    "# # 17 用defaultdict处理内部状态中缺失的元素，而不要用setdefault\n",
    "\n",
    "如果字典不是自己创建的，那么对其中缺失的键可以考虑用四种办法解决。在这四种办法中，`get`方法要胜过利用`in`表达式和`KeyError`异常来解决的那两种方法。对于某些用例，我们可能觉得`setdefault`应该是代码最简短的办法。\n",
    "\n",
    "例如，要记录去过哪些国家，还要记录在每个国家中到过哪些城市。那可以用这样一个字典。"
   ]
  },
  {
   "cell_type": "code",
   "execution_count": 49,
   "id": "4a482d26-d560-4584-8fb3-d0befa5f6cb7",
   "metadata": {},
   "outputs": [],
   "source": [
    "visits = {\n",
    "    'Mexico': {'Tulum', 'Puerto Vallarta'},\n",
    "    'Japan': {'Hakone'},\n",
    "}\n"
   ]
  },
  {
   "cell_type": "markdown",
   "id": "07bfa726-1fa7-4c86-ab6c-a041652212b8",
   "metadata": {},
   "source": [
    "无论字典中有没有这个国家名，都可以用`setdefault`方案把新的城市添加到对应的集合里。"
   ]
  },
  {
   "cell_type": "code",
   "execution_count": 50,
   "id": "0423bf23-2b08-4792-82ec-ac94ec07e85e",
   "metadata": {},
   "outputs": [],
   "source": [
    "visits.setdefault('France', set()).add('Arles')  # 代码简短\n",
    "\n",
    "if (japan := visits.get('Japan')) is None:       # 这种代码就长多了\n",
    "    visits['Japan'] = japan = set()\n",
    "japan.add('Kyoto')"
   ]
  },
  {
   "cell_type": "markdown",
   "id": "ec533b27-3ad4-4fde-b774-05f880a82194",
   "metadata": {},
   "source": [
    "如果程序所访问的这个字典需要由你自己明确地创建，那又该怎么写？其实这种情况很常见，例如我们经常需要用字典实例来维护对象的内部状态。下面，我们写这样一个类，把刚才那个范例逻辑封装到辅助方法中，使用户可以调用该方法啦访问字典中保存的动态内部状态。\n",
    "\n"
   ]
  },
  {
   "cell_type": "code",
   "execution_count": 51,
   "id": "921e6ada-808d-471e-b282-58a2a8ea1465",
   "metadata": {},
   "outputs": [],
   "source": [
    "class Visits:\n",
    "    def __init__(self):\n",
    "        self.data = {}\n",
    "\n",
    "    def add(self, country, city):\n",
    "        city_set = self.data.setdefault(country, set())\n",
    "        city_set.add(city)"
   ]
  },
  {
   "cell_type": "markdown",
   "id": "cc52ff90-a7dc-4403-a78a-ff6d8e99b1e6",
   "metadata": {},
   "source": [
    "这个新类把刚才那套复杂的逻辑掩盖了起来，正确地调用了`setdefault`方法。"
   ]
  },
  {
   "cell_type": "code",
   "execution_count": 52,
   "id": "285560c6-89f9-4818-916a-b9c812694216",
   "metadata": {},
   "outputs": [
    {
     "name": "stdout",
     "output_type": "stream",
     "text": [
      "{'Russia': {'Yekaterinburg'}, 'Tanzania': {'Zanzibar'}}\n"
     ]
    }
   ],
   "source": [
    "visits = Visits()\n",
    "visits.add('Russia', 'Yekaterinburg')\n",
    "visits.add('Tanzania', 'Zanzibar')\n",
    "print(visits.data)"
   ]
  },
  {
   "cell_type": "markdown",
   "id": "95ea428a-433f-4630-8b95-8403bb051086",
   "metadata": {},
   "source": [
    "问题是，`Visits.add`方法还是写得不够理想，因为它还是调用了`setdefault`方法。这种写法也不够高效，因为每次调用`add`方法时，无论`country`参数所指定的国家名称是否存在，都必须构建新的`set`实例。\n",
    "\n",
    "Python提供了`defaultdict`类，能轻松地实现出刚才那套逻辑。它会在键缺失的情况下，自动添加这个键以及键所对应的默认值。我们只需要在构造这种字典时提供一个函数即可。\n",
    "每次发现键不存在时，该字典都会调用这个函数返回一份新的默认值。"
   ]
  },
  {
   "cell_type": "code",
   "execution_count": 53,
   "id": "09858938-70cb-4312-b49d-a331b657b0fe",
   "metadata": {},
   "outputs": [
    {
     "name": "stdout",
     "output_type": "stream",
     "text": [
      "defaultdict(<class 'set'>, {'England': {'London', 'Bath'}})\n"
     ]
    }
   ],
   "source": [
    "from collections import defaultdict\n",
    "\n",
    "class Visits:\n",
    "    def __init__(self):\n",
    "        self.data = defaultdict(set)\n",
    "\n",
    "    def add(self, country, city):\n",
    "        self.data[country].add(city)\n",
    "\n",
    "visits = Visits()\n",
    "visits.add('England', 'Bath')\n",
    "visits.add('England', 'London')\n",
    "print(visits.data)"
   ]
  },
  {
   "cell_type": "markdown",
   "id": "fb9685dc-7fa9-4d1e-aac9-89d70777fc3d",
   "metadata": {},
   "source": [
    "这次`add`方法相当简洁。"
   ]
  },
  {
   "cell_type": "markdown",
   "id": "ffc1ce92-d321-496a-bef3-231477077a2e",
   "metadata": {},
   "source": [
    "# #18 学会利用__missing__构造依赖键的默认值\n",
    "\n",
    "内置的`dict`类型提供了`setdefault`方法，在特殊场合可以用这个方法处理缺失的键。然后，对于一般情况，还是应该考虑使用`defaultdict`类型。当然，也有一些任务是这二者都处理不好的。\n",
    "\n",
    "例如，我们要写一个程序，在文件系统里管理社交网络账号中的图片。这个程序应该用字典把这些图片的路径名跟相关的文件句柄关联起来，这样我们就能方便地读取并写入图像了。\n",
    "下面先用普通的`dict`实例实现。"
   ]
  },
  {
   "cell_type": "code",
   "execution_count": 54,
   "id": "d42e265b-2c37-43e7-a80e-a06575708720",
   "metadata": {},
   "outputs": [
    {
     "name": "stdout",
     "output_type": "stream",
     "text": [
      "{'profile_1234.png': <_io.BufferedRandom name='profile_1234.png'>}\n",
      "b'image data here 1234'\n"
     ]
    }
   ],
   "source": [
    "pictures = {}\n",
    "path = 'profile_1234.png'\n",
    "\n",
    "with open(path, 'wb') as f:\n",
    "    f.write(b'image data here 1234')\n",
    "\n",
    "if (handle := pictures.get(path)) is None:\n",
    "    try:\n",
    "        handle = open(path, 'a+b')\n",
    "    except OSError:\n",
    "        print(f'Failed to open path {path}')\n",
    "        raise\n",
    "    else:\n",
    "        pictures[path] = handle\n",
    "\n",
    "handle.seek(0)\n",
    "image_data = handle.read()\n",
    "\n",
    "print(pictures)\n",
    "print(image_data)"
   ]
  },
  {
   "cell_type": "markdown",
   "id": "e09b37cb-338f-4da5-9feb-f9765fca1d25",
   "metadata": {},
   "source": [
    "如果字典里已经有这个文件句柄，那么这种写法只需要进行一次字典访问。如果没有，那么它会通过`get`方法访问一次字典，然后在`try/except/else`结构的`else`分支中做一次赋值。读取数据的代码与打开文件并处理异常的代码可以分开写。\n",
    "\n",
    "这套逻辑也能用`in`表达式或`KeyError`实现，但那两种方案的字典访问次数与代码嵌套层数都比较多。有人可能认为，既然这套逻辑能用`get`、`in`与`KeyError`这三种方案实现，那么也应该可以用`setdefault`方法来实现。"
   ]
  },
  {
   "cell_type": "code",
   "execution_count": 55,
   "id": "633935c8-a253-42a3-9358-6a404c61f60c",
   "metadata": {},
   "outputs": [],
   "source": [
    "try:\n",
    "    handle = pictures.setdefault(path, open(path, 'a+b'))\n",
    "except OSError:\n",
    "    print(f'Failed to open path {path}')\n",
    "    raise\n",
    "else:\n",
    "    handle.seek(0)\n",
    "    image_data = handle.read()"
   ]
  },
  {
   "cell_type": "markdown",
   "id": "dc8cdb0e-23d3-45eb-8cc4-bfafb440cbfc",
   "metadata": {},
   "source": [
    "这样写有很多问题。首先，即使图片的路径已经在字典里了，程序还是的调用内置的`open`函数创建文件句柄。\n",
    "另外，如果`try`块抛出异常，那我们可能无法判断这个异常是`open`函数导致的，还是`setdefault`方法导致的，因为这两次调用全部写在同一行代码里。\n",
    "\n",
    "如果要把这套逻辑用作内部状态的管理，那么可能还会想到第五种方案，就是用`defaultdict`来记录跟踪这些图片。"
   ]
  },
  {
   "cell_type": "code",
   "execution_count": 56,
   "id": "b57aa4ab-257b-43cf-b6a3-691f28126c24",
   "metadata": {},
   "outputs": [
    {
     "ename": "TypeError",
     "evalue": "open_picture() missing 1 required positional argument: 'profile_path'",
     "output_type": "error",
     "traceback": [
      "\u001b[0;31m---------------------------------------------------------------------------\u001b[0m",
      "\u001b[0;31mTypeError\u001b[0m                                 Traceback (most recent call last)",
      "\u001b[0;32m<ipython-input-56-78ce5b3ca9fc>\u001b[0m in \u001b[0;36m<module>\u001b[0;34m\u001b[0m\n\u001b[1;32m     14\u001b[0m \u001b[0;34m\u001b[0m\u001b[0m\n\u001b[1;32m     15\u001b[0m \u001b[0mpictures\u001b[0m \u001b[0;34m=\u001b[0m \u001b[0mdefaultdict\u001b[0m\u001b[0;34m(\u001b[0m\u001b[0mopen_picture\u001b[0m\u001b[0;34m)\u001b[0m\u001b[0;34m\u001b[0m\u001b[0;34m\u001b[0m\u001b[0m\n\u001b[0;32m---> 16\u001b[0;31m \u001b[0mhandle\u001b[0m \u001b[0;34m=\u001b[0m \u001b[0mpictures\u001b[0m\u001b[0;34m[\u001b[0m\u001b[0mpath\u001b[0m\u001b[0;34m]\u001b[0m\u001b[0;34m\u001b[0m\u001b[0;34m\u001b[0m\u001b[0m\n\u001b[0m\u001b[1;32m     17\u001b[0m \u001b[0mhandle\u001b[0m\u001b[0;34m.\u001b[0m\u001b[0mseek\u001b[0m\u001b[0;34m(\u001b[0m\u001b[0;36m0\u001b[0m\u001b[0;34m)\u001b[0m\u001b[0;34m\u001b[0m\u001b[0;34m\u001b[0m\u001b[0m\n\u001b[1;32m     18\u001b[0m \u001b[0mimage_data\u001b[0m \u001b[0;34m=\u001b[0m \u001b[0mhandle\u001b[0m\u001b[0;34m.\u001b[0m\u001b[0mread\u001b[0m\u001b[0;34m(\u001b[0m\u001b[0;34m)\u001b[0m\u001b[0;34m\u001b[0m\u001b[0;34m\u001b[0m\u001b[0m\n",
      "\u001b[0;31mTypeError\u001b[0m: open_picture() missing 1 required positional argument: 'profile_path'"
     ]
    }
   ],
   "source": [
    " path = 'profile_4555.csv'\n",
    "    \n",
    "with open(path, 'wb') as f:\n",
    "    f.write(b'image data here 9239')\n",
    "\n",
    "from collections import defaultdict\n",
    "\n",
    "def open_picture(profile_path):\n",
    "    try:\n",
    "        return open(profile_path, 'a+b')\n",
    "    except OSError:\n",
    "        print(f'Failed to open path {profile_path}')\n",
    "        raise\n",
    "\n",
    "pictures = defaultdict(open_picture)\n",
    "handle = pictures[path]\n",
    "handle.seek(0)\n",
    "image_data = handle.read()"
   ]
  },
  {
   "cell_type": "markdown",
   "id": "d995be57-a1fd-4ad6-9c75-7d7019bcbf96",
   "metadata": {},
   "source": [
    "出错了，原因在于，传给`defaultdict`的那个函数只能是不需要参数的函数，而我们写的辅助函数需要一个参数。`defaultdict`不知道当前要访问的这个键叫神马，所以无法给辅助函数传递这个参数。\n",
    "此时，还有一种解决方案，通过继承`dict`类型并实现`__missing__`特殊方法来解决这个问题。我们可以把字典里不存在这个键时所要执行的逻辑写在这个方法中。"
   ]
  },
  {
   "cell_type": "code",
   "execution_count": 57,
   "id": "81369339-a47b-471d-a339-fa5af3cb6c56",
   "metadata": {},
   "outputs": [
    {
     "name": "stdout",
     "output_type": "stream",
     "text": [
      "{'profile_4555.csv': <_io.BufferedRandom name='profile_4555.csv'>}\n",
      "b'image data here 9239'\n"
     ]
    }
   ],
   "source": [
    "class Pictures(dict):\n",
    "    def __missing__(self, key):\n",
    "        value = open_picture(key)\n",
    "        self[key] = value\n",
    "        return value\n",
    "\n",
    "pictures = Pictures()\n",
    "handle = pictures[path]\n",
    "handle.seek(0)\n",
    "image_data = handle.read()\n",
    "print(pictures)\n",
    "print(image_data)"
   ]
  },
  {
   "cell_type": "markdown",
   "id": "dafe4b65-c8c7-468e-ad46-04b9c2e2fe86",
   "metadata": {},
   "source": [
    "访问`pictures[path]`时，如果`pictures`字典里没有`path`这个键，那就调用`__missing__`方法。这个方法必须根据`key`参数创建一份新的默认值，系统会把这个默认值插入字典并返回给调用放。\n",
    "以后再访问`pictures[path]`，就不会调用`__missing__`了，因为字典里已经有了对应的键与值。"
   ]
  },
  {
   "cell_type": "code",
   "execution_count": null,
   "id": "616a6d66-1a05-4e66-bf05-ffbd77b274ae",
   "metadata": {},
   "outputs": [],
   "source": []
  }
 ],
 "metadata": {
  "kernelspec": {
   "display_name": "Python 3",
   "language": "python",
   "name": "python3"
  },
  "language_info": {
   "codemirror_mode": {
    "name": "ipython",
    "version": 3
   },
   "file_extension": ".py",
   "mimetype": "text/x-python",
   "name": "python",
   "nbconvert_exporter": "python",
   "pygments_lexer": "ipython3",
   "version": "3.8.8"
  }
 },
 "nbformat": 4,
 "nbformat_minor": 5
}
