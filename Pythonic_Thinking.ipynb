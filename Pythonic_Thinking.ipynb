{
 "cells": [
  {
   "attachments": {
    "d82f8aa1-b246-4e7a-8c1c-fc35e7076923.png": {
     "image/png": "[encoded data removed]"
    }
   },
   "cell_type": "markdown",
   "id": "0ba5617b-f3fa-4f27-b197-81c381ea04a2",
   "metadata": {},
   "source": [
    "# #1 查询自己使用的Python版本\n",
    " \n",
    "在有些系统中，`python`是`python2.x`的别名，而`python3`是`python3.x`的别名。可以用`--version`查找所使用的具体Python版本。\n",
    "```sh\n",
    "$ python --version\n",
    "Python 3.8.5\n",
    "```\n",
    "\n",
    "在执行Python代码的过程中，可以通过内置的`sys`模块查询Python版本：\n",
    "```python\n",
    ">>> import sys\n",
    ">>> print(sys.version_info)\n",
    "sys.version_info(major=3, minor=8, micro=5, releaselevel='final', serial=0)\n",
    ">>> print(sys.version)\n",
    "3.8.5 (default, Sep  4 2020, 07:30:14) \n",
    "[GCC 7.3.0]\n",
    "```\n",
    "\n",
    "Python2 于2020年1月1日停止维护，因此建议大家都转换到Python3来。\n",
    "\n",
    "\n",
    "# #2 遵循PEP8 风格指南\n",
    "\n",
    "Python Enhancement Proposal #8 叫作PEP8，是一份针对Python代码格式而编写的风格指南。大家都采用一致的风格可以让代码可读性更好。大家应该把完整[指南](https://www.python.org/dev/peps/pep-0008/)阅读一遍。\n",
    "如果你没有阅读完整版，那么下面几条要绝对遵守。\n",
    "\n",
    "## 与空白有关的建议\n",
    "\n",
    "在Python中，空白(空白符，空格或制表符等)在语法上相当重要。大家应该遵循以下几条建议：\n",
    "* 用空格(space)表示缩进，而不要使用制表符(Tab)\n",
    "* 和语法相关的每一层缩进都用4个空格表示\n",
    "* 每行不超过79个字符\n",
    "    * 在PyCharm中，我们只要代码不超过这条线即可：![image.png](attachment:d82f8aa1-b246-4e7a-8c1c-fc35e7076923.png)\n",
    "* 对于占据多行的长表达式来说，除了首行之外的其余各行都应该在通常的缩进级别之上再加4个空格\n",
    "* 在同一份文件中，函数与类之间用两个空行隔开\n",
    "* 在同一个类中，方法与方法用一个空行隔开\n",
    "* 使用字典时，键与冒号之间不加空格，写在同一行的冒号和值之间应该加一个空格\n",
    "* 给变量赋值时，赋值符号的左边和右边各加一个空格，并且只加一个空格就好\n",
    "* 给变量的类型做注解时，不要把变量名和冒号隔开，但在类型信息前应该有一个空格\n",
    "\n",
    "## 与命名有关的建议\n",
    "\n",
    "PEP8 建议采用不同的方式来给Python代码中的各个部分命名，这样在阅读代码时，就可以根据这些名称看出它们的角色。遵守以下建议：\n",
    "* 函数、变量及属性用小写字母来拼写，各单词之间用下划线相连，例如：`lowercase_undersoce`\n",
    "* 受保护的实例属性，用一个下划线开头，例如： `_leading_underscore`\n",
    "* 私有的实例属性，用两个下划线开头，例如：`__double_leading_underscore`\n",
    "* 类(包括异常)命名时，每个单词的首字母均大写，例如：`CapitalizedWord`\n",
    "* 模块级别的常量，所有字母都大写，各单词之间用下划线相连，例如：`ALL_CAPS`\n",
    "* 类中的实例方法，应该把第一个参数命名为`self`，用来表示该对象本身\n",
    "* 类方法的第一个参数，应该命名为`cls`，用来表示这个类本身\n",
    "\n",
    "## 与表达式和语句有关的建议\n",
    "* 采用行内否定，即把否定词直接写在要否定的内容前面，而不要放在整个表达式的前面，例如应该写`if a is not b`，而不是`if not a is b`\n",
    "* 不要通过长度判断容器或序列是不是空的，例如不要通过`if len(somelist) == 0`判断`somelist`是否为`[]`或`''`等空值，而是应该采用`if not somelist`这样的写法来判断，因为Python会把空值自动评估为`False`\n",
    "* 如果要判断容器或序列里有没有内容，也不要通过长度来判断，而是应该采用`if somelist`语句，因为Python会把非空的值自动判断为`True`\n",
    "* 不要把`if`语句、`for`循环、`while`循环及`except`复合语句挤在一行。应该把这些语句分成多行来写，这样更清晰\n",
    "* 如果表达式一行写不下，可以用括号将其括起来，而且要适当地添加换行与缩进以便于阅读\n",
    "* 多行的表达式，应该用括号括起来，而不要用`\\`符号续行\n",
    "\n",
    "## 与引入有关的建议\n",
    "* `import`语句总是应该放在文件开头\n",
    "* 引入模块时，总是应该使用绝对名称，而不应该根据当前模块路径来使用相对名称。例如，要引入`bar`包中的`foo`模块，应该完整地写出`from bar import foo`，即便当前路径为`bar`包里，也不应该简写为`import foo`\n",
    "* 如果一定要用相对名称来编写`import`语句，那就应该明确地写成：`from . import foo`\n",
    "* 文件中的`import`语句应该按顺序分成三个部分：首先引入标准库里的模块，然后引入第三方模块，最后引入自己的模块。属于同一个部分的`import`语句按字母顺序排列。\n",
    "\n",
    "\n",
    "# #3 了解bytes与str的区别\n",
    "\n",
    "Python有两种类型可以表示字符序列：`bytes`和`str`。`bytes`实例包含的是原始数据，即8位的无符号值。"
   ]
  },
  {
   "cell_type": "code",
   "execution_count": 1,
   "id": "06af161b-ad3d-4b73-aae6-e2545f937497",
   "metadata": {},
   "outputs": [
    {
     "name": "stdout",
     "output_type": "stream",
     "text": [
      "[104, 101, 108, 108, 111]\n",
      "b'hello'\n"
     ]
    }
   ],
   "source": [
    "a = b'h\\x65llo'\n",
    "print(list(a)) # [104, 101, 108, 108, 111]\n",
    "print(a) # b'hello'"
   ]
  },
  {
   "cell_type": "markdown",
   "id": "2df7effa-7eb2-4f32-aee4-d152044164d2",
   "metadata": {},
   "source": [
    "`str`实例包含的是Unicode码点，这些码点与人类语言之中的文本字符相对应。"
   ]
  },
  {
   "cell_type": "code",
   "execution_count": 2,
   "id": "dfc800fa-bf27-4e75-b106-5519cf641b0f",
   "metadata": {},
   "outputs": [
    {
     "name": "stdout",
     "output_type": "stream",
     "text": [
      "['a', '̀', ' ', 'p', 'r', 'o', 'p', 'o', 's']\n",
      "à propos\n"
     ]
    }
   ],
   "source": [
    "a = 'a\\u0300 propos'\n",
    "print(list(a)) # ['a', '̀', ' ', 'p', 'r', 'o', 'p', 'o', 's']\n",
    "print(a) # à propos"
   ]
  },
  {
   "cell_type": "markdown",
   "id": "12103551-10da-4e71-8a12-cb21414950df",
   "metadata": {},
   "source": [
    "`str`实例不一定非要用某种固定的方案编码成二进制数据，`bytes`实例也不一定非要按照某一种固定的方案解码成字符串。要把Unicode数据转换成二进制数据，必须调用`str`的`encode`方法。要把二进制数据转换成Unicode数据，必须调用`bytes`的`decode`方法。调用这些方法的时候，可以明确指出使用的编码方案。\n",
    "\n",
    "编写Python程序的时候，一定要把解码和编码操作放在最外层来做，让程序的核心部分可以使用Unicode数据来运作，这种办法通常叫做Unicode三明治。\n",
    "程序的核心部分，应该用`str`类型来表示Unicode数据，并且不要锁定到某种字符编码上面。这样可以让程序接受许多种文本编码，并把它们都转换成Unicode。\n",
    "\n",
    "两种不同的字符类型与Python中两种常见的使用情况相对应：\n",
    "* 开发者需要操作原始的8位值序列，序列里面的这些8位值合起来表示一个应该按UTF-8或其他标准编码的字符串\n",
    "* 开发者需要操作通用的Unicode字符串，而不是操作某种特定编码的字符串\n",
    "我们通常需要编写两个辅助函数，以便在这两种情况之间转换，确保输入值类型符合开发者的预期形式。\n",
    "\n",
    "第一个辅助函数接受`bytes`或`str`实例，并返回`str`："
   ]
  },
  {
   "cell_type": "code",
   "execution_count": 3,
   "id": "4b89cdd0-0827-424a-ac61-1221dc37e50a",
   "metadata": {},
   "outputs": [
    {
     "name": "stdout",
     "output_type": "stream",
     "text": [
      "'foo'\n",
      "'bar'\n"
     ]
    }
   ],
   "source": [
    "def to_str(bytes_or_str):\n",
    "    if isinstance(bytes_or_str, bytes):\n",
    "        value = bytes_or_str.decode('utf-8') # to str\n",
    "    else:\n",
    "        value = bytes_or_str\n",
    "    return value\n",
    "\n",
    "print(repr(to_str(b'foo'))) # 'foo'\n",
    "print(repr(to_str('bar'))) # 'bar'"
   ]
  },
  {
   "cell_type": "markdown",
   "id": "78f1e817-bd4a-46c0-9f10-5ec0da985098",
   "metadata": {},
   "source": [
    "第二个辅助函数也接受`bytes`或`str`实例，但它返回的是`bytes`："
   ]
  },
  {
   "cell_type": "code",
   "execution_count": 4,
   "id": "b2c26998-5f26-47f3-b541-ec77e47b4dd3",
   "metadata": {},
   "outputs": [
    {
     "name": "stdout",
     "output_type": "stream",
     "text": [
      "'foo'\n",
      "'bar'\n"
     ]
    }
   ],
   "source": [
    "def to_bytes(bytes_or_str):\n",
    "    if isinstance(bytes_or_str, str):\n",
    "        value = bytes_or_str.encode('utf-8') # to bytes\n",
    "    else:\n",
    "        value = bytes_or_str\n",
    "    return value \n",
    "\n",
    "print(repr(to_str(b'foo'))) # 'foo'\n",
    "print(repr(to_str('bar'))) # 'bar'"
   ]
  },
  {
   "cell_type": "markdown",
   "id": "dcfe77a4-d99a-4ad3-880f-845014b3888a",
   "metadata": {},
   "source": [
    "使用原始的8位值与Unicode字符串时，有两个问题要注意。\n",
    "第一个问题是，`bytes`与`str`这两种类型似乎以相同的方式工作，但其实例并不互相兼容，所以在传递字符序列的时候必须考虑好其类型。\n",
    "\n",
    "可以用`+`操作符将`bytes`添加到`bytes`，`str`也是如此。"
   ]
  },
  {
   "cell_type": "code",
   "execution_count": 5,
   "id": "4cec6cec-c507-42ee-b08e-a505b4548d21",
   "metadata": {},
   "outputs": [
    {
     "name": "stdout",
     "output_type": "stream",
     "text": [
      "b'onetwo'\n",
      "onetwo\n"
     ]
    }
   ],
   "source": [
    "print(b'one' + b'two') # b'onetwo'\n",
    "print('one' + 'two')  # onetwo"
   ]
  },
  {
   "cell_type": "markdown",
   "id": "23000722-aafb-4e4c-a8ca-0940fa60f10a",
   "metadata": {},
   "source": [
    "但是不能将`str`实例添加到`bytes`实例："
   ]
  },
  {
   "cell_type": "code",
   "execution_count": 6,
   "id": "f7bddf3e-367c-4cba-85d7-2412c955e3e2",
   "metadata": {},
   "outputs": [
    {
     "ename": "TypeError",
     "evalue": "can't concat str to bytes",
     "output_type": "error",
     "traceback": [
      "\u001b[0;31m---------------------------------------------------------------------------\u001b[0m",
      "\u001b[0;31mTypeError\u001b[0m                                 Traceback (most recent call last)",
      "\u001b[0;32m<ipython-input-6-f531e85f0fca>\u001b[0m in \u001b[0;36m<module>\u001b[0;34m\u001b[0m\n\u001b[0;32m----> 1\u001b[0;31m \u001b[0;34mb'one'\u001b[0m \u001b[0;34m+\u001b[0m \u001b[0;34m'two'\u001b[0m\u001b[0;34m\u001b[0m\u001b[0;34m\u001b[0m\u001b[0m\n\u001b[0m",
      "\u001b[0;31mTypeError\u001b[0m: can't concat str to bytes"
     ]
    }
   ],
   "source": [
    "b'one' + 'two'"
   ]
  },
  {
   "cell_type": "markdown",
   "id": "61223a9d-2031-4e95-ae19-0b99afb321e0",
   "metadata": {},
   "source": [
    "也不能将`bytes`实例添加到`str`实例："
   ]
  },
  {
   "cell_type": "code",
   "execution_count": 8,
   "id": "96d47b40-f0b7-4489-9c1f-ab3929bfed2e",
   "metadata": {},
   "outputs": [
    {
     "ename": "TypeError",
     "evalue": "can only concatenate str (not \"bytes\") to str",
     "output_type": "error",
     "traceback": [
      "\u001b[0;31m---------------------------------------------------------------------------\u001b[0m",
      "\u001b[0;31mTypeError\u001b[0m                                 Traceback (most recent call last)",
      "\u001b[0;32m<ipython-input-8-4bf1340b6409>\u001b[0m in \u001b[0;36m<module>\u001b[0;34m\u001b[0m\n\u001b[0;32m----> 1\u001b[0;31m \u001b[0;34m'one'\u001b[0m \u001b[0;34m+\u001b[0m \u001b[0;34mb'two'\u001b[0m\u001b[0;34m\u001b[0m\u001b[0;34m\u001b[0m\u001b[0m\n\u001b[0m",
      "\u001b[0;31mTypeError\u001b[0m: can only concatenate str (not \"bytes\") to str"
     ]
    }
   ],
   "source": [
    "'one' + b'two'"
   ]
  },
  {
   "cell_type": "markdown",
   "id": "a078467a-b6a2-4034-a2ce-f6c45da174fe",
   "metadata": {},
   "source": [
    "`bytes`与`bytes`之间可以用二元操作符来比较大小，`str`之间也可以："
   ]
  },
  {
   "cell_type": "code",
   "execution_count": 9,
   "id": "8cc0d48e-e512-41ba-8942-14da58c40477",
   "metadata": {},
   "outputs": [],
   "source": [
    "assert b'red' > b'blue'\n",
    "assert 'red' > 'blue'"
   ]
  },
  {
   "cell_type": "markdown",
   "id": "746022c2-9e31-47a8-9266-1462693e6164",
   "metadata": {},
   "source": [
    "但是`str`不能与`bytes`实例比较："
   ]
  },
  {
   "cell_type": "code",
   "execution_count": 10,
   "id": "1df61c0f-cbbf-4657-8975-c6409128c16f",
   "metadata": {},
   "outputs": [
    {
     "ename": "TypeError",
     "evalue": "'>' not supported between instances of 'str' and 'bytes'",
     "output_type": "error",
     "traceback": [
      "\u001b[0;31m---------------------------------------------------------------------------\u001b[0m",
      "\u001b[0;31mTypeError\u001b[0m                                 Traceback (most recent call last)",
      "\u001b[0;32m<ipython-input-10-51b54d0b93a4>\u001b[0m in \u001b[0;36m<module>\u001b[0;34m\u001b[0m\n\u001b[0;32m----> 1\u001b[0;31m \u001b[0;32massert\u001b[0m \u001b[0;34m'red'\u001b[0m \u001b[0;34m>\u001b[0m \u001b[0;34mb'blue'\u001b[0m\u001b[0;34m\u001b[0m\u001b[0;34m\u001b[0m\u001b[0m\n\u001b[0m",
      "\u001b[0;31mTypeError\u001b[0m: '>' not supported between instances of 'str' and 'bytes'"
     ]
    }
   ],
   "source": [
    "assert 'red' > b'blue'"
   ]
  },
  {
   "cell_type": "markdown",
   "id": "04cf9284-d368-4804-86f1-445792f170de",
   "metadata": {},
   "source": [
    "反过来也一样，`bytes`实例不能与`str`实例比较。\n",
    "判断`bytes`实例与`str`实例是否相等，总是返回`False`，即使它们表示的字符完全相同。"
   ]
  },
  {
   "cell_type": "code",
   "execution_count": 11,
   "id": "70398e37-39c7-4d10-ac52-cdb81f088dd2",
   "metadata": {},
   "outputs": [
    {
     "name": "stdout",
     "output_type": "stream",
     "text": [
      "False\n"
     ]
    }
   ],
   "source": [
    "print(b'foo' == 'foo') # False"
   ]
  },
  {
   "cell_type": "markdown",
   "id": "e2771b17-f3a0-4591-924e-3546e3b6d64a",
   "metadata": {},
   "source": [
    "两种类型的实例都可以出现在`%`操作符的右侧，用来替换左侧那个格式字符串里的`%s`。"
   ]
  },
  {
   "cell_type": "code",
   "execution_count": 12,
   "id": "908759fb-3d48-4527-921f-3191403b022a",
   "metadata": {},
   "outputs": [
    {
     "name": "stdout",
     "output_type": "stream",
     "text": [
      "b'red blue'\n",
      "red blue\n"
     ]
    }
   ],
   "source": [
    "print(b'red %s' % b'blue') # b'red blue'\n",
    "print('red %s' % 'blue') # red blue"
   ]
  },
  {
   "cell_type": "markdown",
   "id": "41827098-65fc-4bdc-af93-bed979efca3e",
   "metadata": {},
   "source": [
    "如果格式字符串是`bytes`类型，那么不能用`str`实例来替换其中的`%s`，因为Python不知道这个`str`应该按照什么方案来编码。"
   ]
  },
  {
   "cell_type": "code",
   "execution_count": 13,
   "id": "56dcca8e-a3a7-4643-b82c-d275ea347650",
   "metadata": {},
   "outputs": [
    {
     "ename": "TypeError",
     "evalue": "%b requires a bytes-like object, or an object that implements __bytes__, not 'str'",
     "output_type": "error",
     "traceback": [
      "\u001b[0;31m---------------------------------------------------------------------------\u001b[0m",
      "\u001b[0;31mTypeError\u001b[0m                                 Traceback (most recent call last)",
      "\u001b[0;32m<ipython-input-13-996799a8aced>\u001b[0m in \u001b[0;36m<module>\u001b[0;34m\u001b[0m\n\u001b[0;32m----> 1\u001b[0;31m \u001b[0mprint\u001b[0m\u001b[0;34m(\u001b[0m\u001b[0;34mb'red %s'\u001b[0m \u001b[0;34m%\u001b[0m \u001b[0;34m'blue'\u001b[0m\u001b[0;34m)\u001b[0m\u001b[0;34m\u001b[0m\u001b[0;34m\u001b[0m\u001b[0m\n\u001b[0m",
      "\u001b[0;31mTypeError\u001b[0m: %b requires a bytes-like object, or an object that implements __bytes__, not 'str'"
     ]
    }
   ],
   "source": [
    "print(b'red %s' % 'blue')"
   ]
  },
  {
   "cell_type": "markdown",
   "id": "bcb54fef-9822-4dff-b3dc-85d10d020efc",
   "metadata": {},
   "source": [
    "但是反过来却可以，如果格式字符串是`str`类型，则可以使用`bytes`实例来替换其中的`%s`，但是，可能和你想要的结果不一样。"
   ]
  },
  {
   "cell_type": "code",
   "execution_count": 15,
   "id": "4b45e949-8483-42fb-93fb-29873a3b65e5",
   "metadata": {},
   "outputs": [
    {
     "name": "stdout",
     "output_type": "stream",
     "text": [
      "red b'blue'\n"
     ]
    }
   ],
   "source": [
    "print('red %s' % b'blue') # red b'blue'"
   ]
  },
  {
   "cell_type": "markdown",
   "id": "b3ca026f-9127-49ca-b8bd-f6c33e752106",
   "metadata": {},
   "source": [
    "因为这样会让系统在`bytes`实例上调用`__repr__`方法，然后得到的结果替换格式字符串里目的`%s`，因此程序会输出`b'blue'`。\n",
    "\n",
    "第二个问题发生在操作文件句柄的时候，这里的句柄指由内置的`open`函数返回的句柄。这样的句柄默认需要使用Unicode字符串操作，而不能采用原始的`bytes`。\n",
    "例如，向文件写入二进制文数据的时候，下面这种写法其实是错误的。"
   ]
  },
  {
   "cell_type": "code",
   "execution_count": 17,
   "id": "83bea5ee-a5fa-4114-8f86-4e4d358aac2e",
   "metadata": {},
   "outputs": [
    {
     "ename": "TypeError",
     "evalue": "write() argument must be str, not bytes",
     "output_type": "error",
     "traceback": [
      "\u001b[0;31m---------------------------------------------------------------------------\u001b[0m",
      "\u001b[0;31mTypeError\u001b[0m                                 Traceback (most recent call last)",
      "\u001b[0;32m<ipython-input-17-e42a59df12fe>\u001b[0m in \u001b[0;36m<module>\u001b[0;34m\u001b[0m\n\u001b[1;32m      1\u001b[0m \u001b[0;32mwith\u001b[0m \u001b[0mopen\u001b[0m\u001b[0;34m(\u001b[0m\u001b[0;34m'data.bin'\u001b[0m\u001b[0;34m,\u001b[0m \u001b[0;34m'w'\u001b[0m\u001b[0;34m)\u001b[0m \u001b[0;32mas\u001b[0m \u001b[0mf\u001b[0m\u001b[0;34m:\u001b[0m\u001b[0;34m\u001b[0m\u001b[0;34m\u001b[0m\u001b[0m\n\u001b[0;32m----> 2\u001b[0;31m     \u001b[0mf\u001b[0m\u001b[0;34m.\u001b[0m\u001b[0mwrite\u001b[0m\u001b[0;34m(\u001b[0m\u001b[0;34mb'\\xf1\\xf2\\xf3\\xf4\\xf5'\u001b[0m\u001b[0;34m)\u001b[0m\u001b[0;34m\u001b[0m\u001b[0;34m\u001b[0m\u001b[0m\n\u001b[0m",
      "\u001b[0;31mTypeError\u001b[0m: write() argument must be str, not bytes"
     ]
    }
   ],
   "source": [
    "with open('data.bin', 'w') as f:\n",
    "    f.write(b'\\xf1\\xf2\\xf3\\xf4\\xf5')"
   ]
  },
  {
   "cell_type": "markdown",
   "id": "caf06f21-4a80-4d61-a73a-70ed6e5f7583",
   "metadata": {},
   "source": [
    "发生异常的原因是在调用`open`函数时，指定的是`w`模式，所以系统要求必须以文本模式写入。如果想用二进制模式，则应该指定`wb`。\n",
    "在文本模式下，`write`方法接受的是包含Unicode数据的`str`实例，不是包含二进制数据的`bytes`实例。"
   ]
  },
  {
   "cell_type": "code",
   "execution_count": 19,
   "id": "1b718f50-3fdf-405c-8518-0a7767f90182",
   "metadata": {},
   "outputs": [],
   "source": [
    "with open('data.bin', 'wb') as f:\n",
    "    f.write(b'\\xf1\\xf2\\xf3\\xf4\\xf5')"
   ]
  },
  {
   "cell_type": "markdown",
   "id": "c86d8c4f-9d52-456f-a5e8-c22416974292",
   "metadata": {},
   "source": [
    "在读取文件的时候也有类似的问题。例如，如果要把刚才写入的二进制文件读出来，那么不能用下面的写法："
   ]
  },
  {
   "cell_type": "code",
   "execution_count": 20,
   "id": "9dc0508e-0f77-4193-b462-38e539239f8b",
   "metadata": {},
   "outputs": [
    {
     "ename": "UnicodeDecodeError",
     "evalue": "'utf-8' codec can't decode byte 0xf1 in position 0: invalid continuation byte",
     "output_type": "error",
     "traceback": [
      "\u001b[0;31m---------------------------------------------------------------------------\u001b[0m",
      "\u001b[0;31mUnicodeDecodeError\u001b[0m                        Traceback (most recent call last)",
      "\u001b[0;32m<ipython-input-20-e61b03babdec>\u001b[0m in \u001b[0;36m<module>\u001b[0;34m\u001b[0m\n\u001b[1;32m      1\u001b[0m \u001b[0;32mwith\u001b[0m \u001b[0mopen\u001b[0m\u001b[0;34m(\u001b[0m\u001b[0;34m'data.bin'\u001b[0m\u001b[0;34m,\u001b[0m \u001b[0;34m'r'\u001b[0m\u001b[0;34m)\u001b[0m \u001b[0;32mas\u001b[0m \u001b[0mf\u001b[0m\u001b[0;34m:\u001b[0m\u001b[0;34m\u001b[0m\u001b[0;34m\u001b[0m\u001b[0m\n\u001b[0;32m----> 2\u001b[0;31m     \u001b[0mdata\u001b[0m \u001b[0;34m=\u001b[0m \u001b[0mf\u001b[0m\u001b[0;34m.\u001b[0m\u001b[0mread\u001b[0m\u001b[0;34m(\u001b[0m\u001b[0;34m)\u001b[0m\u001b[0;34m\u001b[0m\u001b[0;34m\u001b[0m\u001b[0m\n\u001b[0m",
      "\u001b[0;32m~/anaconda3/envs/py38/lib/python3.8/codecs.py\u001b[0m in \u001b[0;36mdecode\u001b[0;34m(self, input, final)\u001b[0m\n\u001b[1;32m    320\u001b[0m         \u001b[0;31m# decode input (taking the buffer into account)\u001b[0m\u001b[0;34m\u001b[0m\u001b[0;34m\u001b[0m\u001b[0;34m\u001b[0m\u001b[0m\n\u001b[1;32m    321\u001b[0m         \u001b[0mdata\u001b[0m \u001b[0;34m=\u001b[0m \u001b[0mself\u001b[0m\u001b[0;34m.\u001b[0m\u001b[0mbuffer\u001b[0m \u001b[0;34m+\u001b[0m \u001b[0minput\u001b[0m\u001b[0;34m\u001b[0m\u001b[0;34m\u001b[0m\u001b[0m\n\u001b[0;32m--> 322\u001b[0;31m         \u001b[0;34m(\u001b[0m\u001b[0mresult\u001b[0m\u001b[0;34m,\u001b[0m \u001b[0mconsumed\u001b[0m\u001b[0;34m)\u001b[0m \u001b[0;34m=\u001b[0m \u001b[0mself\u001b[0m\u001b[0;34m.\u001b[0m\u001b[0m_buffer_decode\u001b[0m\u001b[0;34m(\u001b[0m\u001b[0mdata\u001b[0m\u001b[0;34m,\u001b[0m \u001b[0mself\u001b[0m\u001b[0;34m.\u001b[0m\u001b[0merrors\u001b[0m\u001b[0;34m,\u001b[0m \u001b[0mfinal\u001b[0m\u001b[0;34m)\u001b[0m\u001b[0;34m\u001b[0m\u001b[0;34m\u001b[0m\u001b[0m\n\u001b[0m\u001b[1;32m    323\u001b[0m         \u001b[0;31m# keep undecoded input until the next call\u001b[0m\u001b[0;34m\u001b[0m\u001b[0;34m\u001b[0m\u001b[0;34m\u001b[0m\u001b[0m\n\u001b[1;32m    324\u001b[0m         \u001b[0mself\u001b[0m\u001b[0;34m.\u001b[0m\u001b[0mbuffer\u001b[0m \u001b[0;34m=\u001b[0m \u001b[0mdata\u001b[0m\u001b[0;34m[\u001b[0m\u001b[0mconsumed\u001b[0m\u001b[0;34m:\u001b[0m\u001b[0;34m]\u001b[0m\u001b[0;34m\u001b[0m\u001b[0;34m\u001b[0m\u001b[0m\n",
      "\u001b[0;31mUnicodeDecodeError\u001b[0m: 'utf-8' codec can't decode byte 0xf1 in position 0: invalid continuation byte"
     ]
    }
   ],
   "source": [
    "with open('data.bin', 'r') as f:\n",
    "    data = f.read()"
   ]
  },
  {
   "cell_type": "markdown",
   "id": "aa897189-0211-4ef8-a085-5623eb8f0bed",
   "metadata": {},
   "source": [
    "指定的是`r`模式，也是文本模式。若要用二进制模式读取，应该指定`rb`。\n",
    "以文本模式操纵句柄时，系统会采用默认的文本编码方案处理二进制数据。所以上面的写法会让系统通过`bytes.decode`把这份数据解码成`str`字符串，再用`str.encode`把字符串编码成二进制值。\n",
    "大多数系统默认的编码方法是UTF-8，所以很可能会把`b'\\xf1\\xf2\\xf3\\xf4\\xf5'`当成UTF-8格式的字符串取解码，于是就会出现上面那样的错误。为了修正错误，需要改成`rb`。"
   ]
  },
  {
   "cell_type": "code",
   "execution_count": 22,
   "id": "1d5b76d4-832d-47be-8eec-341794d3ce24",
   "metadata": {},
   "outputs": [],
   "source": [
    "with open('data.bin', 'rb') as f:\n",
    "    data = f.read()\n",
    "\n",
    "assert data == b'\\xf1\\xf2\\xf3\\xf4\\xf5'"
   ]
  },
  {
   "cell_type": "markdown",
   "id": "afb671b6-bb77-4362-93db-5e1a6bb2e89f",
   "metadata": {},
   "source": [
    "另一种改法是在调用`open`函数的时候，通过`encoding`参数明确指定编码标准。\n",
    "例如，假设刚才写到文件里的那些二进制数据表示的是一个采用`cp1252`标准来编码的字符串，则可以这样写：\n"
   ]
  },
  {
   "cell_type": "code",
   "execution_count": 23,
   "id": "6e422de9-3074-4480-b354-1bdd1c3043d0",
   "metadata": {},
   "outputs": [],
   "source": [
    "with open('data.bin', 'r', encoding='cp1252') as f:\n",
    "    data = f.read()\n",
    "    \n",
    "assert data == 'ñòóôõ'"
   ]
  },
  {
   "cell_type": "markdown",
   "id": "ab8b57de-4532-450e-831d-1a84431e6287",
   "metadata": {},
   "source": [
    "这个例子提醒我们注意当前操作系统默认的编码标准是否与我们期望的一致。如果不确定，那么明确指定`encoding`参数。\n",
    "\n",
    "> 可以通过下面的代码来查看系统默认的编码标准。\n",
    ">```py\n",
    ">import locale\n",
    ">print(locale.getpreferredencoding())\n",
    ">```"
   ]
  },
  {
   "cell_type": "markdown",
   "id": "06a51546-1f2c-4dba-9c2e-7b13fa07c93f",
   "metadata": {},
   "source": [
    "# #4 用支持插值的f-string取代C风格的格式字符串与str.format写法\n",
    "\n",
    "用Python对字符串做格式化处理有四种办法可以考虑，但其中三种方法有严重的缺陷，先解释为什么不要使用这三种办法，最后再给出剩下的那一种。\n",
    "\n",
    "**最常用的字符串格式化方式是采用`%`格式化操作符。** \n",
    "例如，下面通过`%`操作符把难以阅读的二进制和十六进制，显示成十进制的形式。"
   ]
  },
  {
   "cell_type": "code",
   "execution_count": 1,
   "id": "1a569ead-dc68-436b-93e0-7cbfff48562f",
   "metadata": {},
   "outputs": [
    {
     "name": "stdout",
     "output_type": "stream",
     "text": [
      "Binary is 187, hex is 3167\n"
     ]
    }
   ],
   "source": [
    "a = 0b10111011\n",
    "b = 0xc5f\n",
    "print('Binary is %d, hex is %d' % (a, b)) # Binary is 187, hex is 3167"
   ]
  },
  {
   "cell_type": "markdown",
   "id": "d4798dea-b2d5-4bbb-87b7-af7eeecabf42",
   "metadata": {},
   "source": [
    "这种C风格的格式字符串，在Python里有四个缺点。\n",
    "第一个缺点是，如果`%`右侧那个元组里面的值在类型或顺序上有变化，那么程序可能会因为转换类型时发生不兼容问题而出现错误。\n",
    "例如，下面这个简单的格式化表达式是正确的。"
   ]
  },
  {
   "cell_type": "code",
   "execution_count": 3,
   "id": "795f39bd-37d2-490f-9881-a4e2f295ec80",
   "metadata": {},
   "outputs": [
    {
     "name": "stdout",
     "output_type": "stream",
     "text": [
      "my_var     = 1.23\n"
     ]
    }
   ],
   "source": [
    "key = 'my_var'\n",
    "value = 1.234\n",
    "formatted = '%-10s = %.2f' % (key, value)\n",
    "print(formatted) # my_var     = 1.23"
   ]
  },
  {
   "cell_type": "markdown",
   "id": "9aed02f9-6bde-4d90-a6d7-9a9fcb41d1ee",
   "metadata": {},
   "source": [
    "但如果把`key`和`value`互换位置，那么程序就会出现异常。"
   ]
  },
  {
   "cell_type": "code",
   "execution_count": 4,
   "id": "1eb35796-c840-400e-a373-aa8a06ef4a04",
   "metadata": {},
   "outputs": [
    {
     "ename": "TypeError",
     "evalue": "must be real number, not str",
     "output_type": "error",
     "traceback": [
      "\u001b[0;31m---------------------------------------------------------------------------\u001b[0m",
      "\u001b[0;31mTypeError\u001b[0m                                 Traceback (most recent call last)",
      "\u001b[0;32m<ipython-input-4-3438bf149d3e>\u001b[0m in \u001b[0;36m<module>\u001b[0;34m\u001b[0m\n\u001b[0;32m----> 1\u001b[0;31m \u001b[0mreordered_tuple\u001b[0m \u001b[0;34m=\u001b[0m \u001b[0;34m'%-10s = %.2f'\u001b[0m \u001b[0;34m%\u001b[0m \u001b[0;34m(\u001b[0m\u001b[0mvalue\u001b[0m\u001b[0;34m,\u001b[0m \u001b[0mkey\u001b[0m\u001b[0;34m)\u001b[0m\u001b[0;34m\u001b[0m\u001b[0;34m\u001b[0m\u001b[0m\n\u001b[0m",
      "\u001b[0;31mTypeError\u001b[0m: must be real number, not str"
     ]
    }
   ],
   "source": [
    "reordered_tuple = '%-10s = %.2f' % (value, key)"
   ]
  },
  {
   "cell_type": "markdown",
   "id": "71409f5d-0795-4991-9550-db64559d63a9",
   "metadata": {},
   "source": [
    "如果`%`右侧的写法不变，但左侧那个格式字符串里面的两个说明符对调了顺序，那么程序同样会发生这个错误。"
   ]
  },
  {
   "cell_type": "code",
   "execution_count": 5,
   "id": "ab0ac8a6-6364-47e8-9452-942d4e19cd66",
   "metadata": {},
   "outputs": [
    {
     "ename": "TypeError",
     "evalue": "must be real number, not str",
     "output_type": "error",
     "traceback": [
      "\u001b[0;31m---------------------------------------------------------------------------\u001b[0m",
      "\u001b[0;31mTypeError\u001b[0m                                 Traceback (most recent call last)",
      "\u001b[0;32m<ipython-input-5-7391cce685e6>\u001b[0m in \u001b[0;36m<module>\u001b[0;34m\u001b[0m\n\u001b[0;32m----> 1\u001b[0;31m \u001b[0mreordered_string\u001b[0m \u001b[0;34m=\u001b[0m \u001b[0;34m'%.2f = %-10s'\u001b[0m \u001b[0;34m%\u001b[0m \u001b[0;34m(\u001b[0m\u001b[0mkey\u001b[0m\u001b[0;34m,\u001b[0m \u001b[0mvalue\u001b[0m\u001b[0;34m)\u001b[0m\u001b[0;34m\u001b[0m\u001b[0;34m\u001b[0m\u001b[0m\n\u001b[0m",
      "\u001b[0;31mTypeError\u001b[0m: must be real number, not str"
     ]
    }
   ],
   "source": [
    "reordered_string = '%.2f = %-10s' % (key, value)"
   ]
  },
  {
   "cell_type": "markdown",
   "id": "b9a4a948-ed9f-452e-b1fa-3f1d932bff1a",
   "metadata": {},
   "source": [
    "要想避免这种问题，必须经常检查`%`操作符左右两侧的写法是否相互兼容。\n",
    "\n",
    "第二个缺点是，在填充模板之前，经常要先对准备填写进去的这个值稍微做一些处理，但这样，整个表达式可能会写得很长，让人觉得比较混乱。\n",
    "下面这段代码用来罗列厨房里的各种食材，现在的这种写法并没有对填入格式字符串里面的那三个值预先作出调整。"
   ]
  },
  {
   "cell_type": "code",
   "execution_count": 6,
   "id": "d5d6d529-3931-4596-a15b-9c747ccf9509",
   "metadata": {},
   "outputs": [
    {
     "name": "stdout",
     "output_type": "stream",
     "text": [
      "#0: avocados   = 1.25\n",
      "#1: bananas    = 2.50\n",
      "#2: cherries   = 15.00\n"
     ]
    }
   ],
   "source": [
    "pantry = [\n",
    "    ('avocados', 1.25),\n",
    "    ('bananas', 2.5),\n",
    "    ('cherries', 15),\n",
    "]\n",
    "for i, (item, count) in enumerate(pantry):\n",
    "    print('#%d: %-10s = %.2f' % (i, item, count))"
   ]
  },
  {
   "cell_type": "markdown",
   "id": "1bc0b9e3-0a79-4ea3-8991-3861da198d5a",
   "metadata": {},
   "source": [
    "如果想让打印出来的信息更好懂，那可能得把这几个值稍微调整一下，但是调整后，`%`操作符右侧的那个三元组就特别长，所以需要多行拆分才能写的下，这会影响可读性。"
   ]
  },
  {
   "cell_type": "code",
   "execution_count": 7,
   "id": "373713ac-cee1-4f05-908a-3fe73ccf37f9",
   "metadata": {},
   "outputs": [
    {
     "name": "stdout",
     "output_type": "stream",
     "text": [
      "#1: Avocados   = 1\n",
      "#2: Bananas    = 2\n",
      "#3: Cherries   = 15\n"
     ]
    }
   ],
   "source": [
    "for i, (item, count) in enumerate(pantry):\n",
    "    print('#%d: %-10s = %d' % (\n",
    "        i + 1,\n",
    "        item.title(),\n",
    "        round(count)))"
   ]
  },
  {
   "cell_type": "markdown",
   "id": "399a0cd9-8057-49c0-84d3-4bfc8b063e65",
   "metadata": {},
   "source": [
    "第三个缺点是， 如果想用同一个值来填充格式字符串里的多个位置，那么必须在`%`操作符右侧的元组中相应地多次重复该值。"
   ]
  },
  {
   "cell_type": "code",
   "execution_count": 8,
   "id": "eb9b0073-ec89-41d1-9b4f-573dcfe80518",
   "metadata": {},
   "outputs": [
    {
     "name": "stdout",
     "output_type": "stream",
     "text": [
      "Max loves food. See Max cook.\n"
     ]
    }
   ],
   "source": [
    "template = '%s loves food. See %s cook.'\n",
    "name = 'Max'\n",
    "formatted = template % (name, name)\n",
    "print(formatted) # Max loves food. See Max cook."
   ]
  },
  {
   "cell_type": "markdown",
   "id": "445cffe1-b670-4e88-b7ec-a66720d45e3e",
   "metadata": {},
   "source": [
    "如果想在填充之前把这个值修改一下，那么必须同时修改多处才行。"
   ]
  },
  {
   "cell_type": "code",
   "execution_count": 9,
   "id": "1cca6a6f-6dc9-4169-adbe-192f64eba8fc",
   "metadata": {},
   "outputs": [
    {
     "name": "stdout",
     "output_type": "stream",
     "text": [
      "Brad loves food. See Brad cook.\n"
     ]
    }
   ],
   "source": [
    "name = 'brad'\n",
    "formatted = template % (name.title(), name.title())\n",
    "print(formatted) # Brad loves food. See Brad cook."
   ]
  },
  {
   "cell_type": "markdown",
   "id": "89d23561-15a3-486a-bcb3-cb41bfac9772",
   "metadata": {},
   "source": [
    "为了解决上面提到的一些问题。Python的`%`操作符允许我们用`dict`取代`tuple`。\n",
    "这样，我们可以让格式字符串里面的说明符与`dict`里面的键以相应的名称对应起来，例如`%(key)s`这个说明符，意思就是用字符串(`s`)来表示`dict`里面名为`key`的那个键所保存的值。\n",
    "下面通过这种办法解决刚才讲的第一个缺点，也就是`%`两侧的顺序不匹配问题。"
   ]
  },
  {
   "cell_type": "code",
   "execution_count": 10,
   "id": "b41e93ce-981d-4d98-a483-86d5ab7d3e38",
   "metadata": {},
   "outputs": [],
   "source": [
    "key = 'my_var'\n",
    "value = 1.234\n",
    "\n",
    "old_way = '%-10s = %.2f' % (key, value)\n",
    "\n",
    "new_way = '%(key)-10s = %(value).2f' % {\n",
    "    'key': key, 'value': value}  # Original\n",
    "\n",
    "reordered = '%(key)-10s = %(value).2f' % {\n",
    "    'value': value, 'key': key}  # Swapped\n",
    "\n",
    "assert old_way == new_way == reordered"
   ]
  },
  {
   "cell_type": "markdown",
   "id": "62e4408a-908c-442e-bf23-05f79c8bcbcc",
   "metadata": {},
   "source": [
    "这种写法还可以解决第三个缺点，也就是用同一值替换多个格式说明符的问题。改用这种写法后，我们就不用在`%`右侧重复这个值了。"
   ]
  },
  {
   "cell_type": "code",
   "execution_count": 11,
   "id": "9fbe1a9e-8957-4a58-8f10-24b3b002eb50",
   "metadata": {},
   "outputs": [],
   "source": [
    "name = 'Max'\n",
    "\n",
    "template = '%s loves food. See %s cook.'\n",
    "before = template % (name, name)   # Tuple\n",
    "\n",
    "template = '%(name)s loves food. See %(name)s cook.'\n",
    "after = template % {'name': name}  # Dictionary\n",
    "\n",
    "assert before == after"
   ]
  },
  {
   "cell_type": "markdown",
   "id": "d7a00ab6-a67f-4410-a059-2eb44b07683f",
   "metadata": {},
   "source": [
    "但是， 这种写法会让刚才讲的第二个缺点变得更加严重，因为字典格式字符串的引入，我们必须给每一个值都定义键名，而且要在键名的右侧加冒号，格式化表示变得更加冗长。\n",
    "我们把不采用`dict`的写法与采用`dict`的写法对比一下，就可以看到这种缺点："
   ]
  },
  {
   "cell_type": "code",
   "execution_count": 12,
   "id": "0e0669ba-0a11-4bfa-b2fe-1b837c392293",
   "metadata": {},
   "outputs": [],
   "source": [
    "for i, (item, count) in enumerate(pantry):\n",
    "    before = '#%d: %-10s = %d' % (\n",
    "        i + 1,\n",
    "        item.title(),\n",
    "        round(count))\n",
    "\n",
    "    after = '#%(loop)d: %(item)-10s = %(count)d' % {\n",
    "        'loop': i + 1,\n",
    "        'item': item.title(),\n",
    "        'count': round(count),\n",
    "    }\n",
    "\n",
    "    assert before == after"
   ]
  },
  {
   "cell_type": "markdown",
   "id": "21e93860-4b94-4795-9ee5-154291fbcfdc",
   "metadata": {},
   "source": [
    "应用C风格格式化表达式的第四个缺点是，把`dict`写到格式化表达式里面会让代码变多。每个键都至少写两次：一次是在格式化说明符中，还有一次是在字典中作为键，另外，定义字典时，可能还要专门用一个变量来表示这个键所对应的值。"
   ]
  },
  {
   "cell_type": "code",
   "execution_count": 14,
   "id": "5b69ea3c-4e45-4f9f-ba97-7bf7126642c2",
   "metadata": {},
   "outputs": [
    {
     "name": "stdout",
     "output_type": "stream",
     "text": [
      "Today's soup is lentil.\n"
     ]
    }
   ],
   "source": [
    "soup = 'lentil'\n",
    "formatted = 'Today\\'s soup is %(soup)s.' % {'soup': soup} # 三个soup\n",
    "print(formatted) # Today's soup is lentil."
   ]
  },
  {
   "cell_type": "markdown",
   "id": "656e18fe-4a10-4d38-93b0-40f4828cce4e",
   "metadata": {},
   "source": [
    "除了要反复写键名，在格式化表达式里使用`dict`的方法还会让表达式变得特别长，通常必须拆分为多行来写。"
   ]
  },
  {
   "cell_type": "code",
   "execution_count": 15,
   "id": "deb1d5d1-e31e-436b-98c6-e0fc2fd360fb",
   "metadata": {},
   "outputs": [
    {
     "name": "stdout",
     "output_type": "stream",
     "text": [
      "Today's soup is lentil, buy one get two kumamoto oysters, and our special entrée is schnitzel.\n"
     ]
    }
   ],
   "source": [
    "menu = {\n",
    "    'soup': 'lentil',\n",
    "    'oyster': 'kumamoto',\n",
    "    'special': 'schnitzel',\n",
    "}\n",
    "template = ('Today\\'s soup is %(soup)s, '\n",
    "            'buy one get two %(oyster)s oysters, '\n",
    "            'and our special entrée is %(special)s.')\n",
    "formatted = template % menu\n",
    "print(formatted) # Today's soup is lentil, buy one get two kumamoto oysters, and our special entrée is schnitzel."
   ]
  },
  {
   "cell_type": "markdown",
   "id": "0a98ed05-be3a-4eb5-ae5d-46020c45566e",
   "metadata": {},
   "source": [
    "肯定有更好的办法才对。\n",
    "\n",
    "## 内置的format函数与str类的format方法\n",
    "\n",
    "Python 3添加了高级字符串格式化机制，它的表达能力比老式C风格的格式化字符串要强，且不再使用`%`操作符。我们针对需要调整格式的这个Python值，调用内置的`format`函数，并把这个值所应具备的格式也传给该函数，即可实现格式化。"
   ]
  },
  {
   "cell_type": "code",
   "execution_count": 17,
   "id": "6090e1d9-77e6-4f25-b64d-6cbb47b8f5e7",
   "metadata": {},
   "outputs": [
    {
     "name": "stdout",
     "output_type": "stream",
     "text": [
      "1,234.57\n",
      "*      my string       *\n"
     ]
    }
   ],
   "source": [
    "a = 1234.5678\n",
    "formatted =format(a , ',.2f') #,表示显示千位分隔符\n",
    "print(formatted) # 1,234.57\n",
    "\n",
    "b = 'my string'\n",
    "formatted = format(b, '^20s') # ^表示居中对齐\n",
    "print('*', formatted, '*') # *      my string       *"
   ]
  },
  {
   "cell_type": "markdown",
   "id": "2125071d-deb1-4c9d-9eab-50ac5a6e74e6",
   "metadata": {},
   "source": [
    "如果`str`类型的字符串里面有许多值都需要调整格式，则可以调用`str`的新`format`方法。\n",
    "该方法把格式有待调整的那些位置在字符串里先用`{}`代替，然后按从左到右的顺序，把需要填写到那些位置的值传给`format`方法，使这些值依次出现在字符串中的相应位置。\n"
   ]
  },
  {
   "cell_type": "code",
   "execution_count": 18,
   "id": "7f24dca1-01a6-4085-b8fc-5058e1db0ba0",
   "metadata": {},
   "outputs": [
    {
     "name": "stdout",
     "output_type": "stream",
     "text": [
      "my_var = 1.234\n"
     ]
    }
   ],
   "source": [
    "key = 'my_var'\n",
    "value = 1.234\n",
    "\n",
    "formatted = '{} = {}'.format(key, value)\n",
    "print(formatted) # my_var = 1.234"
   ]
  },
  {
   "cell_type": "markdown",
   "id": "7eb49ff3-70dc-40b2-962d-bb655af0e416",
   "metadata": {},
   "source": [
    "你可以在`{}`里面写个冒号，然后把格式说明符写在冒号的左边："
   ]
  },
  {
   "cell_type": "code",
   "execution_count": 19,
   "id": "65f00483-e91f-4278-89ae-2b505b6b921a",
   "metadata": {},
   "outputs": [
    {
     "name": "stdout",
     "output_type": "stream",
     "text": [
      "my_var     = 1.23\n"
     ]
    }
   ],
   "source": [
    "formatted = '{:<10} = {:.2f}'.format(key, value)\n",
    "print(formatted) # my_var     = 1.23"
   ]
  },
  {
   "cell_type": "markdown",
   "id": "4f11aa58-9ff0-4693-883f-ba013de39062",
   "metadata": {},
   "source": [
    "在调用`str.format`的时候，如果想把`str`里面的`{`、`}`照原样输出，那么也得转义。"
   ]
  },
  {
   "cell_type": "code",
   "execution_count": 20,
   "id": "7f171c1a-b8aa-434f-a785-5606b203c8ca",
   "metadata": {},
   "outputs": [
    {
     "name": "stdout",
     "output_type": "stream",
     "text": [
      "12.50%\n",
      "1.23 replaces {}\n"
     ]
    }
   ],
   "source": [
    "print('%.2f%%' % 12.5) # 12.50%\n",
    "print('{} replaces {{}}'.format(1.23)) # 1.23 replaces {}"
   ]
  },
  {
   "cell_type": "markdown",
   "id": "e28afbb5-d37c-4d93-bf82-57af00ceb739",
   "metadata": {},
   "source": [
    "调用`str.foramt`时，可以给`str`的`{}`里面写上数字，指代`format`方法在这个位置所接收到的参数值位置索引。\n",
    "以后即使这些`{}`格式字符串中的词序有所变动，也不用调换传给`format`方法的那些参数。这样就避免了前面说的第一个缺点。"
   ]
  },
  {
   "cell_type": "code",
   "execution_count": 21,
   "id": "93411925-d70c-4715-8713-4041ce1a5701",
   "metadata": {},
   "outputs": [
    {
     "name": "stdout",
     "output_type": "stream",
     "text": [
      "1.234 = my_var\n"
     ]
    }
   ],
   "source": [
    "formatted = '{1} = {0}'.format(key, value)\n",
    "print(formatted) # 1.234 = my_var"
   ]
  },
  {
   "cell_type": "markdown",
   "id": "9c3ea5e5-17e1-4f64-8dae-64e12663e992",
   "metadata": {},
   "source": [
    "同一个位置索引可以出现在`str`里面的多个`{}`里面，这些`{}`指代的都是`format`方法在对应位置所收到的值。\n",
    "不需要重复地传给`format`方法，也就解决了第三个缺点。"
   ]
  },
  {
   "cell_type": "code",
   "execution_count": 22,
   "id": "7d5c5a81-1d3d-43e4-b1bd-e441663f03dc",
   "metadata": {},
   "outputs": [
    {
     "name": "stdout",
     "output_type": "stream",
     "text": [
      "Max loves food. See Max cook.\n"
     ]
    }
   ],
   "source": [
    "formatted = '{0} loves food. See {0} cook.'.format(name)\n",
    "print(formatted) # Max loves food. See Max cook."
   ]
  },
  {
   "cell_type": "markdown",
   "id": "62793209-26fa-45e6-a7c4-30b0b032142d",
   "metadata": {},
   "source": [
    "然后，这个新的`str.format`方法并没有解决第二个问题。如果在对值做填充之前要先对这个值做出调整，那么用这种方法写出来的代码还是跟原来一样乱，可读性差。\n",
    "把原来那种写法和现在的新写法对比一下，大家就会看到新写法并不比原来好多少。"
   ]
  },
  {
   "cell_type": "code",
   "execution_count": 23,
   "id": "e44051ee-d0ca-4cc3-bcea-8144110a71b5",
   "metadata": {},
   "outputs": [],
   "source": [
    "for i, (item, count) in enumerate(pantry):\n",
    "    old_style = '#%d: %-10s = %d' % (\n",
    "        i + 1,\n",
    "        item.title(),\n",
    "        round(count))\n",
    "\n",
    "    new_style = '#{}: {:<10s} = {}'.format(\n",
    "        i + 1,\n",
    "        item.title(),\n",
    "        round(count))\n",
    "\n",
    "    assert old_style == new_style"
   ]
  },
  {
   "cell_type": "markdown",
   "id": "5d99d8a1-52f3-46f9-b288-aaae898d0185",
   "metadata": {},
   "source": [
    "当然，这种`{}`形式的说明符，还支持一些比较高级的用法，例如可以查询`dict`中某个键的值，可以访问`list`里面某个位置的元素，还可以把值转换成Unicode或`repr`字符串。\n",
    "下面这段代码把这三项特性结合了起来。"
   ]
  },
  {
   "cell_type": "code",
   "execution_count": 24,
   "id": "6f238d29-53f2-4574-a4be-0ceba37321d7",
   "metadata": {},
   "outputs": [
    {
     "name": "stdout",
     "output_type": "stream",
     "text": [
      "First letter is 'k'\n"
     ]
    }
   ],
   "source": [
    "formatted = 'First letter is {menu[oyster][0]!r}'.format(\n",
    "    menu=menu)\n",
    "print(formatted) # First letter is 'k'"
   ]
  },
  {
   "cell_type": "markdown",
   "id": "1d018e37-0f4d-495b-b5d7-890aee3b4933",
   "metadata": {},
   "source": [
    "但是这些特性，依然不能解决前面提到的第四个缺点，即键名需要多次重复的问题。\n",
    "下面把C风格的格式化表达式与新的`str.format`方法对比一下，看看这两种写法在处理键值对形式的数据时有什么区别。"
   ]
  },
  {
   "cell_type": "code",
   "execution_count": 25,
   "id": "2f06d766-c1cc-4451-85ec-0d702a970a07",
   "metadata": {},
   "outputs": [],
   "source": [
    "old_template = (\n",
    "    'Today\\'s soup is %(soup)s, '\n",
    "    'buy one get two %(oyster)s oysters, '\n",
    "    'and our special entrée is %(special)s.')\n",
    "old_formatted = old_template % {\n",
    "    'soup': 'lentil',\n",
    "    'oyster': 'kumamoto',\n",
    "    'special': 'schnitzel',\n",
    "}\n",
    "\n",
    "new_template = (\n",
    "    'Today\\'s soup is {soup}, '\n",
    "    'buy one get two {oyster} oysters, '\n",
    "    'and our special entrée is {special}.')\n",
    "new_formatted = new_template.format(\n",
    "    soup='lentil',\n",
    "    oyster='kumamoto',\n",
    "    special='schnitzel',\n",
    ")\n",
    "\n",
    "assert old_formatted == new_formatted"
   ]
  },
  {
   "cell_type": "markdown",
   "id": "7b10d962-ca21-41f3-9728-2ffb020c558e",
   "metadata": {},
   "source": [
    "因为`str.format`方法有这样的一些缺点，而且没办法解决第二个与第四个缺点，总体来说，不推荐大家使用。\n",
    "\n",
    "## 插值格式字符串\n",
    "Python3.6 添加了一种新特性，叫作插值格式字符串(interpolated format string,f-string)。可以解决上面提到的所有问题，新语法特性要求在格式字符串的前面加字母`f`作为前缀，这跟字母`b`与字母`r`的用法类似，它们分别表示字节形式的字符串于原始的(未经转义的)字符串的前缀。\n",
    "\n",
    "f-string把格式化字符串的表达能力发挥到了极致，彻底解决了上文提到的第四个缺点，也就是键名重复导致的程序冗余问题。\n",
    "可以直接在f-string的`{}`里面引用当前Python范围内的所有名称，从而达到简化的目的。"
   ]
  },
  {
   "cell_type": "code",
   "execution_count": 26,
   "id": "c2b126fc-9d1c-4756-b79d-b2f5b7424a55",
   "metadata": {},
   "outputs": [
    {
     "name": "stdout",
     "output_type": "stream",
     "text": [
      "my_var = 1.234\n"
     ]
    }
   ],
   "source": [
    "key = 'my_var'\n",
    "value = 1.234\n",
    "\n",
    "formatted = f'{key} = {value}'\n",
    "print(formatted) # my_var = 1.234"
   ]
  },
  {
   "cell_type": "markdown",
   "id": "e71027fa-e88e-42a1-ae53-0d5d019df0af",
   "metadata": {},
   "source": [
    "`str.format`方法所支持的那套迷你语言，也就是在`{}`内的冒号右侧所采用的那套规则，现在也可以用到f-string里面，而且还可以像早前使用`str.format`那样，通过`!`符号把值转换成Unicode及`repr`形式的字符串。"
   ]
  },
  {
   "cell_type": "code",
   "execution_count": 27,
   "id": "090b774d-a7e3-4eda-8f99-a4220c5c7070",
   "metadata": {},
   "outputs": [
    {
     "name": "stdout",
     "output_type": "stream",
     "text": [
      "'my_var'   = 1.23\n"
     ]
    }
   ],
   "source": [
    "formatted = f'{key!r:<10} = {value:.2f}'\n",
    "print(formatted) # 'my_var'   = 1.23"
   ]
  },
  {
   "cell_type": "markdown",
   "id": "39b02d0c-d504-4e42-a966-fce15fdbcbcb",
   "metadata": {},
   "source": [
    "同一个问题，使用f-string来解决总是比通过`%`简单，而且也比`str.format`方法简单。下面按照从短到长的顺序把这几种写法所占的篇幅对比一下："
   ]
  },
  {
   "cell_type": "code",
   "execution_count": 28,
   "id": "1bfb483d-3c1e-41a2-8e50-4e7284ed140c",
   "metadata": {},
   "outputs": [],
   "source": [
    "f_string = f'{key:<10} = {value:.2f}'\n",
    "\n",
    "c_tuple  = '%-10s = %.2f' % (key, value)\n",
    "\n",
    "str_args = '{:<10} = {:.2f}'.format(key, value)\n",
    "\n",
    "str_kw   = '{key:<10} = {value:.2f}'.format(key=key, value=value)\n",
    "\n",
    "c_dict   = '%(key)-10s = %(value).2f' % {'key': key, 'value': value}\n",
    "\n",
    "assert c_tuple == c_dict == f_string\n",
    "assert str_args == str_kw == f_string"
   ]
  },
  {
   "cell_type": "markdown",
   "id": "ddf93ee6-c285-42d1-a915-adbc32f368e2",
   "metadata": {},
   "source": [
    "在f-string方法中，各种Python表达式都可以出现在`{}`里，于是这就解决了前面提到的第二个缺点。\n",
    "我们现在可以用相当简洁的写法对需要填充到字符串里面的值做出微调。\n",
    "C风格的写法与采用`str.format`方法的写法可能会让表达式变得很长，但如果改用f-string，或许一行就能完成。"
   ]
  },
  {
   "cell_type": "code",
   "execution_count": 29,
   "id": "91b73cbf-9873-4e03-b839-c06b17545fc7",
   "metadata": {},
   "outputs": [],
   "source": [
    "for i, (item, count) in enumerate(pantry):\n",
    "    old_style = '#%d: %-10s = %d' % (\n",
    "        i + 1,\n",
    "        item.title(),\n",
    "        round(count))\n",
    "\n",
    "    new_style = '#{}: {:<10s} = {}'.format(\n",
    "        i + 1,\n",
    "        item.title(),\n",
    "        round(count))\n",
    "\n",
    "    f_string = f'#{i+1}: {item.title():<10s} = {round(count)}'\n",
    "\n",
    "    assert old_style == new_style == f_string"
   ]
  },
  {
   "cell_type": "markdown",
   "id": "77efbcaa-49fc-439e-af02-d2c1076b79a7",
   "metadata": {},
   "source": [
    "要是想表达得更清楚一些，可以把f-string写成多行的形式。这样仍然好过另外那两种多行的写法。"
   ]
  },
  {
   "cell_type": "code",
   "execution_count": 30,
   "id": "dab897ba-2307-4374-998a-4b3afca70920",
   "metadata": {},
   "outputs": [
    {
     "name": "stdout",
     "output_type": "stream",
     "text": [
      "#1: Avocados   = 1\n",
      "#2: Bananas    = 2\n",
      "#3: Cherries   = 15\n"
     ]
    }
   ],
   "source": [
    "for i, (item, count) in enumerate(pantry):\n",
    "    print(f'#{i+1}: '\n",
    "          f'{item.title():<10s} = '\n",
    "          f'{round(count)}')"
   ]
  },
  {
   "cell_type": "markdown",
   "id": "423fef95-a3a0-4998-a953-e4e6c312ea87",
   "metadata": {},
   "source": [
    "Python表达式也可以出现在格式说明符中。例如，下面的代码把小数点之后的位数用变量来表示，然后把这个变量的名字`places`用`{}`括起来放到格式说明符中，这样写比硬编码更灵活。"
   ]
  },
  {
   "cell_type": "code",
   "execution_count": 32,
   "id": "fc2755c7-864f-43ae-a9d4-070bd0355258",
   "metadata": {},
   "outputs": [
    {
     "name": "stdout",
     "output_type": "stream",
     "text": [
      "My number is 1.235\n"
     ]
    }
   ],
   "source": [
    "places = 3\n",
    "number = 1.23456\n",
    "print(f'My number is {number:.{places}f}')"
   ]
  },
  {
   "cell_type": "markdown",
   "id": "750e61e5-7fb6-42f6-a708-618ca40b6b53",
   "metadata": {},
   "source": [
    "在Python内置的四种字符串格式方法里，建议优先考虑使用f-string。\n",
    "\n",
    "# #5 用辅助函数取代复杂的表达式\n",
    "\n",
    "Python的语法相当简明，所以有时只用一条表达式就能实现许多逻辑。例如要把URL之中的查询字符串拆分成键值对，那么只需要使用`parse_qs`函数就可以了。"
   ]
  },
  {
   "cell_type": "code",
   "execution_count": 36,
   "id": "81fa2617-e71c-4097-bdcc-46df6fc03a81",
   "metadata": {},
   "outputs": [
    {
     "name": "stdout",
     "output_type": "stream",
     "text": [
      "{'red': ['5'], 'blue': ['0'], 'green': ['']}\n"
     ]
    }
   ],
   "source": [
    "from urllib.parse import parse_qs\n",
    "my_values = parse_qs('red=5&blue=0&green=',keep_blank_values=True)\n",
    "print(repr(my_values)) # {'red': ['5'], 'blue': ['0'], 'green': ['']}"
   ]
  },
  {
   "cell_type": "markdown",
   "id": "29ed2564-50f7-4bbb-b8ba-e126671134c3",
   "metadata": {},
   "source": [
    "在解析查询字符串时，可以发现"
   ]
  }
 ],
 "metadata": {
  "kernelspec": {
   "display_name": "Python 3",
   "language": "python",
   "name": "python3"
  },
  "language_info": {
   "codemirror_mode": {
    "name": "ipython",
    "version": 3
   },
   "file_extension": ".py",
   "mimetype": "text/x-python",
   "name": "python",
   "nbconvert_exporter": "python",
   "pygments_lexer": "ipython3",
   "version": "3.8.8"
  }
 },
 "nbformat": 4,
 "nbformat_minor": 5
}
