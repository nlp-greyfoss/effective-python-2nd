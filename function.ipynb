{
 "cells": [
  {
   "cell_type": "markdown",
   "id": "88961e0f-4de5-4de7-9b88-dd6093a22633",
   "metadata": {},
   "source": [
    "# 引言\n",
    "\n",
    "Python函数提供了许多能够简化编程工作的特性，有些是Pythton特有的。这些特性能够更明确地体现出函数的目标。\n",
    "\n",
    "# #19 不要把函数返回的多个值拆分到三个以上的变量中\n",
    "\n",
    "拆包机制允许Python函数返回一个以上的值。假如现在要统计一群鳄鱼的各项指标，把每条鳄鱼的体长都保存在列表里。接着要编写函数，查出列表中最短与最长的鳄鱼。可以用下面这种写法实现，它可以同时把这两个值都返回。"
   ]
  },
  {
   "cell_type": "code",
   "execution_count": 1,
   "id": "af3960c5-00a9-4b96-8f6a-32d74450e95b",
   "metadata": {},
   "outputs": [
    {
     "name": "stdout",
     "output_type": "stream",
     "text": [
      "Min: 60, Max: 73\n"
     ]
    }
   ],
   "source": [
    "def get_stats(numbers):\n",
    "    minimum = min(numbers)\n",
    "    maximum = max(numbers)\n",
    "    return minimum, maximum\n",
    "\n",
    "lengths = [63, 73, 72, 60, 67, 66, 71, 61, 72, 70]\n",
    "\n",
    "minimum, maximum = get_stats(lengths)  # Two return values\n",
    "\n",
    "print(f'Min: {minimum}, Max: {maximum}')"
   ]
  },
  {
   "cell_type": "markdown",
   "id": "c3bd348b-c304-4934-a55c-02f088e39030",
   "metadata": {},
   "source": [
    "函数返回的其实是个元组。相当于用这两个变量分别接收元组中的两个元素。下面演示一下拆包语句和返回多个值的函数是怎么使用的。"
   ]
  },
  {
   "cell_type": "code",
   "execution_count": 2,
   "id": "1ec0ff0c-efac-4012-896d-a050ca65d9bb",
   "metadata": {},
   "outputs": [],
   "source": [
    "first, second = 1, 2\n",
    "assert first == 1\n",
    "assert second == 2\n",
    "\n",
    "def my_function():\n",
    "    return 1, 2\n",
    "\n",
    "first, second = my_function()\n",
    "assert first == 1\n",
    "assert second == 2"
   ]
  },
  {
   "cell_type": "markdown",
   "id": "66ca56a2-6b76-455d-a182-d59c31664453",
   "metadata": {},
   "source": [
    "==在返回多个值的时候，可以用带星号的表达式接收那些没有被普通变量捕获到的值。==\n",
    "例如，我们还要写一个函数，计算每条鳄鱼的长度与这些鳄鱼的平均长度之比。该函数会把比值放到列表里返回，我们可以只接受最长与最短的鳄鱼所对应的比值，其他的用带星号的写法总括。"
   ]
  },
  {
   "cell_type": "code",
   "execution_count": 3,
   "id": "543371b4-0c26-4d56-9558-695c594c86ab",
   "metadata": {},
   "outputs": [
    {
     "name": "stdout",
     "output_type": "stream",
     "text": [
      "Longest:  108%\n",
      "Shortest:  89%\n"
     ]
    }
   ],
   "source": [
    "def get_avg_ratio(numbers):\n",
    "    average = sum(numbers) / len(numbers)\n",
    "    scaled = [x / average for x in numbers]\n",
    "    scaled.sort(reverse=True)\n",
    "    return scaled\n",
    "\n",
    "longest, *middle, shortest = get_avg_ratio(lengths)\n",
    "\n",
    "print(f'Longest:  {longest:>4.0%}')\n",
    "print(f'Shortest: {shortest:>4.0%}')"
   ]
  },
  {
   "cell_type": "markdown",
   "id": "724efaa7-3c58-44a0-92b0-fc59b4581799",
   "metadata": {},
   "source": [
    "假设现在需求又变了，我们这次还想知道平均长度、中位长度以及样本的总数。我们可以扩展原来的`get_stats`函数，然后用元组返回。"
   ]
  },
  {
   "cell_type": "code",
   "execution_count": 4,
   "id": "1cab4583-65c5-4b5a-9285-4b7509f4726d",
   "metadata": {},
   "outputs": [
    {
     "name": "stdout",
     "output_type": "stream",
     "text": [
      "Min: 60, Max: 73\n",
      "Average: 67.5, Median: 68.5, Count 10\n"
     ]
    }
   ],
   "source": [
    "def get_stats(numbers):\n",
    "    minimum = min(numbers)\n",
    "    maximum = max(numbers)\n",
    "    count = len(numbers)\n",
    "    average = sum(numbers) / count\n",
    "\n",
    "    sorted_numbers = sorted(numbers)\n",
    "    middle = count // 2\n",
    "    if count % 2 == 0:\n",
    "        lower = sorted_numbers[middle - 1]\n",
    "        upper = sorted_numbers[middle]\n",
    "        median = (lower + upper) / 2\n",
    "    else:\n",
    "        median = sorted_numbers[middle]\n",
    "\n",
    "    return minimum, maximum, average, median, count\n",
    "\n",
    "minimum, maximum, average, median, count = get_stats(lengths)\n",
    "\n",
    "print(f'Min: {minimum}, Max: {maximum}')\n",
    "print(f'Average: {average}, Median: {median}, Count {count}')\n",
    "\n",
    "assert minimum == 60\n",
    "assert maximum == 73\n",
    "assert average == 67.5\n",
    "assert median == 68.5\n",
    "assert count == 10"
   ]
  },
  {
   "cell_type": "markdown",
   "id": "01d90525-ebb9-4b0b-ad07-74bf551aea13",
   "metadata": {},
   "source": [
    "这样写有两个问题。首先，函数返回的五个值都是数字，所以很容易搞错顺序。调用方同时接收这么多返回值，也容易出错。\n",
    "第二问题是，调用函数并拆分返回值的那行代码会非常长，按照PEP8风格指南，可能需要折行，这让代码看起来很丑陋。"
   ]
  },
  {
   "cell_type": "code",
   "execution_count": 5,
   "id": "97d4fefa-80bd-4687-8e19-4da338366995",
   "metadata": {},
   "outputs": [],
   "source": [
    "minimum, maximum, average, median, count = get_stats(\n",
    "    lengths)\n",
    "\n",
    "minimum, maximum, average, median, count = \\\n",
    "    get_stats(lengths)\n",
    "\n",
    "(minimum, maximum, average,\n",
    " median, count) = get_stats(lengths)\n",
    "\n",
    "(minimum, maximum, average, median, count\n",
    "    ) = get_stats(lengths)"
   ]
  },
  {
   "cell_type": "markdown",
   "id": "60764264-98aa-4750-9a01-a67b4039dc07",
   "metadata": {},
   "source": [
    "为了避免这些问题，我们不应该把函数返回的多个值拆分到三个以上的变量里。一个三元组最多只能拆成三个普通变量，或两个普通变量与一个万能变量(带星号的变量)。\n",
    "\n",
    "如果要拆分的值比较多，那么还是定义一个命名元组或轻便的类。\n",
    "\n",
    "# #20 遇到意外状况时应该抛出异常，不要返回None\n",
    "\n",
    "编写工具函数时，许多人都喜欢用`None`这个返回值表示特殊情况。这或许有几分道理，例如，编写一个辅助函数计算两数相除的结果，在除数为0的情况下，返回`None`似乎很合理。"
   ]
  },
  {
   "cell_type": "code",
   "execution_count": 6,
   "id": "d057373b-7dbd-4e99-a3e8-0104987b435b",
   "metadata": {},
   "outputs": [],
   "source": [
    "def careful_divide(a, b):\n",
    "    try:\n",
    "        return a / b\n",
    "    except ZeroDivisionError:\n",
    "        return None"
   ]
  },
  {
   "cell_type": "markdown",
   "id": "a916283e-9747-4f98-bbd0-fbfc4f2a2d18",
   "metadata": {},
   "source": [
    "调用这个函数时，可以按照自己的方式处理这样的返回值。"
   ]
  },
  {
   "cell_type": "code",
   "execution_count": 7,
   "id": "9fc0dd8e-f9d5-4eb1-b65d-d942772a7da7",
   "metadata": {},
   "outputs": [
    {
     "name": "stdout",
     "output_type": "stream",
     "text": [
      "Invalid inputs\n"
     ]
    }
   ],
   "source": [
    "x, y = 1, 0\n",
    "result = careful_divide(x, y)\n",
    "if result is None:\n",
    "    print('Invalid inputs')"
   ]
  },
  {
   "cell_type": "markdown",
   "id": "58f8442a-ef23-45cf-8385-ffc88ac1c8eb",
   "metadata": {},
   "source": [
    "如果传给`careful_divide`的被除数为0，这时应该返回为0。问题是，在`if`条件判断中，可能会根据值本身是否相当于`False`来做判断："
   ]
  },
  {
   "cell_type": "code",
   "execution_count": 8,
   "id": "c21a0267-5184-4900-89fc-a149d310e8a4",
   "metadata": {},
   "outputs": [
    {
     "name": "stdout",
     "output_type": "stream",
     "text": [
      "Invalid inputs\n"
     ]
    }
   ],
   "source": [
    "x, y = 0, 5\n",
    "result = careful_divide(x, y)\n",
    "if not result:\n",
    "    print('Invalid inputs') "
   ]
  },
  {
   "cell_type": "markdown",
   "id": "076deacc-8811-460c-823c-f44569e05c6e",
   "metadata": {},
   "source": [
    "这种情况，会把返回0也当成返回`None`那样处理。因此`careful_divide`这样，用`None`来表示特殊状况的函数很容易出错。有两种办法可以减少这样的错误。\n",
    "\n",
    "第一种办法是，利用二元组把计算结果分成两部分返回。元组的首个元素表示是否操作成功，第二个元素表示计算的实际值。\n",
    "但是，有点麻烦。\n",
    "\n",
    "第二种办法是，不用`None`表示特例，而是向调用方抛出异常。"
   ]
  },
  {
   "cell_type": "code",
   "execution_count": 9,
   "id": "1597efb8-d677-4a7d-b902-1b8e101f4139",
   "metadata": {},
   "outputs": [],
   "source": [
    "def careful_divide(a, b):\n",
    "    try:\n",
    "        return a / b\n",
    "    except ZeroDivisionError as e:\n",
    "        raise ValueError('Invalid inputs')"
   ]
  },
  {
   "cell_type": "markdown",
   "id": "d84bbdac-83e3-4a8a-8919-1bec682b75ab",
   "metadata": {},
   "source": [
    "现在，调用方拿到函数的返回值之后，不用判断操作是否成功了。只要用`try`把函数包起来。"
   ]
  },
  {
   "cell_type": "code",
   "execution_count": 11,
   "id": "b3baba9a-53af-4f93-b6dd-7fa27accedd1",
   "metadata": {},
   "outputs": [
    {
     "name": "stdout",
     "output_type": "stream",
     "text": [
      "Result is 2.5\n"
     ]
    }
   ],
   "source": [
    "x, y = 5, 2\n",
    "try:\n",
    "    result = careful_divide(x, y)\n",
    "except ValueError:\n",
    "    print('Invalid inputs')\n",
    "else:\n",
    "    print('Result is %.1f' % result)"
   ]
  },
  {
   "cell_type": "markdown",
   "id": "daed79d8-70de-4272-b0da-b8cd168c45a8",
   "metadata": {},
   "source": [
    "这个办法也可以扩展到那些使用类型注解的代码中，我们可以把函数的返回值指定为`float`类型，这样它就不可能返回`None`了。然而，Python采用的是动态类型与静态类型相搭配的gradual类型系统，我们不能再函数的接口上指定函数可能抛出哪些异常(像Java的受检异常)。所以，我们只好把有可能抛出的异常写在文档里面，并希望调用方能根据文档适当地捕获相关异常。"
   ]
  },
  {
   "cell_type": "code",
   "execution_count": 12,
   "id": "da8205cc-02ac-4692-8a91-4a011ae39c35",
   "metadata": {},
   "outputs": [],
   "source": [
    "def careful_divide(a: float, b: float) -> float:\n",
    "    \"\"\"Divides a by b.\n",
    "    Raises:\n",
    "        ValueError: When the inputs cannot be divided.\n",
    "    \"\"\"\n",
    "    try:\n",
    "        return a / b\n",
    "    except ZeroDivisionError as e:\n",
    "        raise ValueError('Invalid inputs')"
   ]
  },
  {
   "cell_type": "markdown",
   "id": "938fbe9f-036f-4950-abd5-28b9f80e5fa7",
   "metadata": {},
   "source": [
    "这样写，输入、输出与异常都显得很清晰，所以调用方出错的概率就变得很小了。\n",
    "\n",
    "# #21 了解如何在闭包里面使用外围作用域中的变量\n",
    "\n",
    "有时，我们要给列表中的元素排序，而且要优先把某个群组之中的元素放在其他元素的前面。\n",
    "实现这种做法的一种常见方案，是把辅助函数通过`key`参数传给列表的`sort`方法，让这个方法根据辅助函数所返回的值来决定元素在列表中的先后顺序。\n",
    "辅助函数先判断当前元素是否处在重要的群组里，如果在，就把返回值的第一项写成0，让它能够排在不属于这个组的那些元素之前。"
   ]
  },
  {
   "cell_type": "code",
   "execution_count": 13,
   "id": "36ebc4f7-7091-4c06-9ef3-caa660d38b29",
   "metadata": {},
   "outputs": [],
   "source": [
    "def sort_priority(values, group):\n",
    "    def helper(x):\n",
    "        if x in group:\n",
    "            return (0, x)\n",
    "        return (1, x)\n",
    "    values.sort(key=helper)"
   ]
  },
  {
   "cell_type": "markdown",
   "id": "fa4f862b-444f-44b5-a1b1-eb231445a0be",
   "metadata": {},
   "source": [
    "该函数可以处理比较简单的输入数据。"
   ]
  },
  {
   "cell_type": "code",
   "execution_count": 14,
   "id": "fbbbcfdd-e0db-4f80-b4e1-ccd529265673",
   "metadata": {},
   "outputs": [
    {
     "name": "stdout",
     "output_type": "stream",
     "text": [
      "[2, 3, 5, 7, 1, 4, 6, 8]\n"
     ]
    }
   ],
   "source": [
    "numbers = [8, 3, 1, 2, 5, 4, 7, 6]\n",
    "group = {2, 3, 5, 7}\n",
    "sort_priority(numbers, group)\n",
    "print(numbers)"
   ]
  },
  {
   "cell_type": "markdown",
   "id": "316ae05f-1e97-4e68-b9d3-69cb0ad83995",
   "metadata": {},
   "source": [
    "它为什么能实现这个功能呢？要分三个原因来讲：\n",
    "1. Python支持闭包(closure)，这让定义在大函数里面的小函数也能引用大函数之中的变量。此例中，`helper`函数能引用`group`参数。\n",
    "2. 函数在Python里是头等对象(first-class object)，所以你可以像操作其他对象那样，直接引用它们、把它们赋值给变量、将它们当成参数传给其他函数，或是在`in`表达式与`if`语句里面对它做比较，等等。闭包函数也是函数，所以，同样可以传给`sort`方法的`key`参数。\n",
    "3. Python在判断两个序列(包括元组)的大小时。它首先比较0号位置的那两个元素，如果相等，就比较1号位的那两个元素；以此类推，直到得出结论为止。所以，我们可以利用这套规则让`helper`这个闭包函数返回一个元组，并把关键指标写成元组的首个元素表示当前排序的值是否需要优先。\n",
    "\n",
    "如果这个`sort_priority`函数还能告诉我们，列表里面有没有位于重要群组之中的元素，那就更好了，因为这样可以让调用者更方便地作出相应处理。\n",
    "添加这样一个功能似乎相当简单，因为闭包函数本身就需要判断当前值是否处于重要群组之中，既然这样，那么不妨让它在发现这种值时，顺便把标志变量翻转过来。最后，让闭包外的大函数返回这个标志变量，如果闭包函数当时遇到过这样的值，那么这个标志肯定是`True`。"
   ]
  },
  {
   "cell_type": "code",
   "execution_count": 15,
   "id": "c01347a1-fb24-4ffe-ac61-55caa5faa6db",
   "metadata": {},
   "outputs": [],
   "source": [
    "def sort_priority2(numbers, group):\n",
    "    found = False\n",
    "    def helper(x):\n",
    "        if x in group:\n",
    "            found = True  # Seems simple\n",
    "            return (0, x)\n",
    "        return (1, x)\n",
    "    numbers.sort(key=helper)\n",
    "    return found"
   ]
  },
  {
   "cell_type": "markdown",
   "id": "5b56d9f8-f2bd-430a-aa46-fe47c6afb3fc",
   "metadata": {},
   "source": [
    "我们还是用刚才的输入数据来运行这个新函数。"
   ]
  },
  {
   "cell_type": "code",
   "execution_count": 16,
   "id": "d81c4fa0-a136-46c7-a9fb-a7237d3431a9",
   "metadata": {},
   "outputs": [
    {
     "name": "stdout",
     "output_type": "stream",
     "text": [
      "Found: False\n",
      "[2, 3, 5, 7, 1, 4, 6, 8]\n"
     ]
    }
   ],
   "source": [
    "found = sort_priority2(numbers, group)\n",
    "print('Found:', found)\n",
    "print(numbers)"
   ]
  },
  {
   "cell_type": "markdown",
   "id": "7fe13355-4c92-4e84-b3cb-807ba8f5e92f",
   "metadata": {},
   "source": [
    "排序结果没有问题。但是表示函数返回值的`found`变量应该为`True`，我们却看到`False`，为什么？\n",
    "\n",
    "在表达式中引用某个变量时，Python解释器会按照下面的顺序，在各个作用域里面查找这个变量，以解析这次引用。\n",
    "1. 当前函数的作用域\n",
    "2. 外围作用域(例如包含当前函数的其他函数所对应的作用域)。\n",
    "3. 包含当前代码的那个模块所对应的作用域(也叫全局作用域)。\n",
    "4. 内置作用域(build-in scope)，也就是包含`len`与`str`等函数的那个作用域。\n",
    "\n",
    "如果这些作用域中都没有定义名称相符合的变量，那么程序就抛出`NameError`异常。"
   ]
  },
  {
   "cell_type": "code",
   "execution_count": 17,
   "id": "8d5a79cb-88f5-48c9-85b1-b26e56c29961",
   "metadata": {},
   "outputs": [
    {
     "ename": "NameError",
     "evalue": "name 'dese_not_exist' is not defined",
     "output_type": "error",
     "traceback": [
      "\u001b[0;31m---------------------------------------------------------------------------\u001b[0m",
      "\u001b[0;31mNameError\u001b[0m                                 Traceback (most recent call last)",
      "\u001b[0;32m<ipython-input-17-b3d7a163059a>\u001b[0m in \u001b[0;36m<module>\u001b[0;34m\u001b[0m\n\u001b[0;32m----> 1\u001b[0;31m \u001b[0mfoo\u001b[0m \u001b[0;34m=\u001b[0m \u001b[0mdese_not_exist\u001b[0m \u001b[0;34m*\u001b[0m \u001b[0;36m5\u001b[0m\u001b[0;34m\u001b[0m\u001b[0;34m\u001b[0m\u001b[0m\n\u001b[0m",
      "\u001b[0;31mNameError\u001b[0m: name 'dese_not_exist' is not defined"
     ]
    }
   ],
   "source": [
    "foo = dese_not_exist * 5"
   ]
  },
  {
   "cell_type": "markdown",
   "id": "bbc89a21-7e5c-4cbe-b914-235d89177124",
   "metadata": {},
   "source": [
    "刚才讲的是遍历出现在赋值符号(=)右边时，该怎么认定。现在讲变量出现在赋值符号左边时(变量赋值)，该怎么处理。这要分两种情况处理，如果变量已经定义在当前作用域中，那么直接把新值交给它就行了。\n",
    "如果当前作用域中不存在这个变量，那么即便外围作用域里有同名的变量，Python也还是会把这次的赋值操作当成变量的定义来处理，这会产生一个重要的效果，Python会把包含赋值操作的这个函数当成新定义的这个变量的作用域。\n",
    "\n",
    "这解释了刚才那种写法错在何处。`sort_priority2`函数里面的`helper`闭包函数是把`True`赋值给了变量`found`。当前作用域里面没有这样一个叫`found`的变量，所以就算外围的`sort_priority2`函数里面有`found`变量，系统也还是会把这次赋值当成定义，也就是会在`helper`里面定义一个新的`found`变量，而不是把它当成给`sort_priority2`已有的那个`found`变量赋值。"
   ]
  },
  {
   "cell_type": "code",
   "execution_count": 18,
   "id": "527c787d-f3c1-4a20-b910-071d9a219b58",
   "metadata": {},
   "outputs": [],
   "source": [
    "def sort_priority2(numbers, group):\n",
    "    found = False         # 作用域: 'sort_priority2'\n",
    "    def helper(x):\n",
    "        if x in group:\n",
    "            found = True  # 作用域: 'helper' -- Bad!\n",
    "            return (0, x)\n",
    "        return (1, x)\n",
    "    numbers.sort(key=helper)\n",
    "    return found"
   ]
  },
  {
   "cell_type": "markdown",
   "id": "c9fab3b6-0f6c-4037-9f22-d85a291d337d",
   "metadata": {},
   "source": [
    "这种问题有时也称为作用域bug(scoping bug)，Python新手可能会认为这样的赋值规则很奇怪，但实际上Python是故意这样设计的。\n",
    "因为这样可以防止函数中的局部变量污染外围模块。假如不这样做，那么函数里的每条赋值语句都有可能影响全局作用域的变量，这样不仅混乱，而且会让全局变量之间彼此交互影响，从而导致很多难以探查的bug。"
   ]
  },
  {
   "cell_type": "code",
   "execution_count": null,
   "id": "c1e0d1a7-aea6-4be9-8e9d-2528e8c4484f",
   "metadata": {},
   "outputs": [],
   "source": []
  }
 ],
 "metadata": {
  "kernelspec": {
   "display_name": "Python 3",
   "language": "python",
   "name": "python3"
  },
  "language_info": {
   "codemirror_mode": {
    "name": "ipython",
    "version": 3
   },
   "file_extension": ".py",
   "mimetype": "text/x-python",
   "name": "python",
   "nbconvert_exporter": "python",
   "pygments_lexer": "ipython3",
   "version": "3.8.8"
  }
 },
 "nbformat": 4,
 "nbformat_minor": 5
}
