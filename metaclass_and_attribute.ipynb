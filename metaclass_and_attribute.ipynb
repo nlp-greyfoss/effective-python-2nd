{
 "cells": [
  {
   "cell_type": "markdown",
   "id": "b544615b-75ed-4823-967a-d67dbbeeff01",
   "metadata": {},
   "source": [
    "# 引言\n",
    "元类(metaclass)能够拦截Python的class语句，让系统每次定义类的时候，都能实现某些特殊的行为。\n",
    "Python还内置了一种神奇而强大的特性，可以动态地定制属性访问操作。\n",
    "\n",
    "# #44 用纯属性与修饰器取代旧式的setter与getter方法\n",
    "\n",
    "从其他编程语言转入Python的开发者，可能想在类里面明确地实现getter与setter方法。"
   ]
  },
  {
   "cell_type": "code",
   "execution_count": 1,
   "id": "06acd08b-60d6-49dc-8f4d-70bdf6e247c5",
   "metadata": {},
   "outputs": [],
   "source": [
    "class OldResistor:\n",
    "    def __init__(self, ohms):\n",
    "        self._ohms = ohms\n",
    "\n",
    "    def get_ohms(self):\n",
    "        return self._ohms\n",
    "\n",
    "    def set_ohms(self, ohms):\n",
    "        self._ohms = ohms"
   ]
  },
  {
   "cell_type": "markdown",
   "id": "5a52901c-3e33-4953-9556-eb45e0fb7123",
   "metadata": {},
   "source": [
    "虽然这些setter与getter用起来很简单，但这并不符合Python的风格。"
   ]
  },
  {
   "cell_type": "code",
   "execution_count": 2,
   "id": "a45ea8a6-7dc7-43f9-821e-0e5d9c251007",
   "metadata": {},
   "outputs": [
    {
     "name": "stdout",
     "output_type": "stream",
     "text": [
      "Before: 50000.0\n",
      "After:  10000.0\n"
     ]
    }
   ],
   "source": [
    "r0 = OldResistor(50e3)\n",
    "print('Before:', r0.get_ohms())\n",
    "r0.set_ohms(10e3)\n",
    "print('After: ', r0.get_ohms())"
   ]
  },
  {
   "cell_type": "markdown",
   "id": "83f108a3-87d6-4673-a69f-c4b3ecfe7e4a",
   "metadata": {},
   "source": [
    "例如，想让属性值变大或变小，采用这些方法来写会特别麻烦。"
   ]
  },
  {
   "cell_type": "code",
   "execution_count": 3,
   "id": "48b77ce9-f601-459c-9ea8-e7bcfd120096",
   "metadata": {},
   "outputs": [],
   "source": [
    "r0.set_ohms(r0.get_ohms() - 4e3)\n",
    "assert r0.get_ohms() == 6e3"
   ]
  },
  {
   "cell_type": "markdown",
   "id": "31e6ea1e-d637-4f89-bee0-d17f626e3a51",
   "metadata": {},
   "source": [
    "在Python中没有必要明确定义setter与getter方法。而是应该从最简单的public属性开始写起，例如像下面这样："
   ]
  },
  {
   "cell_type": "code",
   "execution_count": 4,
   "id": "1d55644f-044b-4d19-ac2c-682f56201cb7",
   "metadata": {},
   "outputs": [],
   "source": [
    "class Resistor:\n",
    "    def __init__(self, ohms):\n",
    "        self.ohms = ohms\n",
    "        self.voltage = 0\n",
    "        self.current = 0 \n",
    "    \n",
    "r1 = Resistor(50e3)\n",
    "r1.ohms = 10e3"
   ]
  },
  {
   "cell_type": "markdown",
   "id": "2ecad9c9-d5bc-4ae9-84b8-1859c79fcad3",
   "metadata": {},
   "source": [
    "这样就很容易实现原地增减属性值。"
   ]
  },
  {
   "cell_type": "code",
   "execution_count": 5,
   "id": "e8c91639-ddcc-41c4-ad86-31a97fc21f9e",
   "metadata": {},
   "outputs": [],
   "source": [
    "r1.ohms += 5e3"
   ]
  },
  {
   "cell_type": "markdown",
   "id": "975b5efd-951f-461a-a973-42d41f3b4dde",
   "metadata": {},
   "source": [
    "将来如果想在设置属性时，实现特别的功能，那么可以先通过`@property`修饰器来封装获取属性的那个方法，并在封装出来的修饰器上面通过setter属性来封装设置属性的那个方法。下面这个新类继承自刚才的`Resistor`类，它允许我们通过设置voltage(电压)来改变current(电流)。为了正确实现这项功能，必须保证设置属性与获取属性所用的那两个方法都跟属性同名。"
   ]
  },
  {
   "cell_type": "code",
   "execution_count": 7,
   "id": "1092c29c-c988-456e-aa99-208a7d2c3a4b",
   "metadata": {},
   "outputs": [],
   "source": [
    "class VoltageResistance(Resistor):\n",
    "    def __init__(self, ohms):\n",
    "        super().__init__(ohms)\n",
    "        self._voltage = 0\n",
    "    \n",
    "    @property\n",
    "    def voltage(self):\n",
    "        return self._voltage\n",
    "    \n",
    "    @voltage.setter\n",
    "    def voltage(self, voltage):\n",
    "        self._voltage = voltage\n",
    "        self.current = self._voltage / self.ohms"
   ]
  },
  {
   "cell_type": "markdown",
   "id": "74cfbed9-c683-4fdf-8e38-d91678dde75e",
   "metadata": {},
   "source": [
    "按照这种写法，给voltage属性赋值会触发同名的setter方法，该方法会根据新的voltage计算本对象的current属性。"
   ]
  },
  {
   "cell_type": "code",
   "execution_count": 8,
   "id": "fbb96a0e-c972-4107-8530-985488291e9b",
   "metadata": {},
   "outputs": [
    {
     "name": "stdout",
     "output_type": "stream",
     "text": [
      "Before: 0.00 amps\n",
      "After:  0.01 amps\n"
     ]
    }
   ],
   "source": [
    "r2 = VoltageResistance(1e3)\n",
    "print(f'Before: {r2.current:.2f} amps')\n",
    "r2.voltage = 10\n",
    "print(f'After:  {r2.current:.2f} amps')"
   ]
  },
  {
   "cell_type": "markdown",
   "id": "af12761f-291e-48a3-ba6c-e84d239c926e",
   "metadata": {},
   "source": [
    "为属性指定setter方法还可以用来检查调用方所传入的值在类型与范围上是否符合要求。例如，下面这个`Resistor`子类可以确保用户设置的电阻值总是大于0的。"
   ]
  },
  {
   "cell_type": "code",
   "execution_count": 10,
   "id": "91aefb9a-dfdc-498e-8aa2-5d1326dd687d",
   "metadata": {},
   "outputs": [],
   "source": [
    "class BoundedResistance(Resistor):\n",
    "    def __init__(self, ohms):\n",
    "        super().__init__(ohms)\n",
    "    \n",
    "    @property\n",
    "    def ohms(self):\n",
    "        return self._ohms\n",
    "    \n",
    "    @ohms.setter\n",
    "    def ohms(self, ohms):\n",
    "        if ohms <= 0:\n",
    "            raise ValueError(f'ohms must be > 0; got {ohms}')\n",
    "        self._ohms = ohms"
   ]
  },
  {
   "cell_type": "markdown",
   "id": "0aa368b1-7d60-4956-ac26-c333e9ebe0f0",
   "metadata": {},
   "source": [
    "给这个类设置无效电阻值，程序会抛出异常。"
   ]
  },
  {
   "cell_type": "code",
   "execution_count": 11,
   "id": "5c929396-2216-4af1-81eb-ac261f4c0061",
   "metadata": {},
   "outputs": [
    {
     "ename": "ValueError",
     "evalue": "ohms must be > 0; got 0",
     "output_type": "error",
     "traceback": [
      "\u001b[0;31m---------------------------------------------------------------------------\u001b[0m",
      "\u001b[0;31mValueError\u001b[0m                                Traceback (most recent call last)",
      "\u001b[0;32m<ipython-input-11-4faf6805d103>\u001b[0m in \u001b[0;36m<module>\u001b[0;34m\u001b[0m\n\u001b[1;32m      1\u001b[0m \u001b[0mr3\u001b[0m \u001b[0;34m=\u001b[0m \u001b[0mBoundedResistance\u001b[0m\u001b[0;34m(\u001b[0m\u001b[0;36m1e3\u001b[0m\u001b[0;34m)\u001b[0m\u001b[0;34m\u001b[0m\u001b[0;34m\u001b[0m\u001b[0m\n\u001b[0;32m----> 2\u001b[0;31m \u001b[0mr3\u001b[0m\u001b[0;34m.\u001b[0m\u001b[0mohms\u001b[0m \u001b[0;34m=\u001b[0m \u001b[0;36m0\u001b[0m\u001b[0;34m\u001b[0m\u001b[0;34m\u001b[0m\u001b[0m\n\u001b[0m",
      "\u001b[0;32m<ipython-input-10-5ad6e7a3c812>\u001b[0m in \u001b[0;36mohms\u001b[0;34m(self, ohms)\u001b[0m\n\u001b[1;32m     10\u001b[0m     \u001b[0;32mdef\u001b[0m \u001b[0mohms\u001b[0m\u001b[0;34m(\u001b[0m\u001b[0mself\u001b[0m\u001b[0;34m,\u001b[0m \u001b[0mohms\u001b[0m\u001b[0;34m)\u001b[0m\u001b[0;34m:\u001b[0m\u001b[0;34m\u001b[0m\u001b[0;34m\u001b[0m\u001b[0m\n\u001b[1;32m     11\u001b[0m         \u001b[0;32mif\u001b[0m \u001b[0mohms\u001b[0m \u001b[0;34m<=\u001b[0m \u001b[0;36m0\u001b[0m\u001b[0;34m:\u001b[0m\u001b[0;34m\u001b[0m\u001b[0;34m\u001b[0m\u001b[0m\n\u001b[0;32m---> 12\u001b[0;31m             \u001b[0;32mraise\u001b[0m \u001b[0mValueError\u001b[0m\u001b[0;34m(\u001b[0m\u001b[0;34mf'ohms must be > 0; got {ohms}'\u001b[0m\u001b[0;34m)\u001b[0m\u001b[0;34m\u001b[0m\u001b[0;34m\u001b[0m\u001b[0m\n\u001b[0m\u001b[1;32m     13\u001b[0m         \u001b[0mself\u001b[0m\u001b[0;34m.\u001b[0m\u001b[0m_ohms\u001b[0m \u001b[0;34m=\u001b[0m \u001b[0mohms\u001b[0m\u001b[0;34m\u001b[0m\u001b[0;34m\u001b[0m\u001b[0m\n",
      "\u001b[0;31mValueError\u001b[0m: ohms must be > 0; got 0"
     ]
    }
   ],
   "source": [
    "r3 = BoundedResistance(1e3)\n",
    "r3.ohms = 0"
   ]
  },
  {
   "cell_type": "markdown",
   "id": "6d8dffa1-1005-4992-999d-4e719fa40f81",
   "metadata": {},
   "source": [
    "如果构造时所用的值无效，那么同样会触发异常。"
   ]
  },
  {
   "cell_type": "code",
   "execution_count": 12,
   "id": "60c8cbea-7b79-41e5-b736-ba0d2fad3729",
   "metadata": {},
   "outputs": [
    {
     "ename": "ValueError",
     "evalue": "ohms must be > 0; got -5",
     "output_type": "error",
     "traceback": [
      "\u001b[0;31m---------------------------------------------------------------------------\u001b[0m",
      "\u001b[0;31mValueError\u001b[0m                                Traceback (most recent call last)",
      "\u001b[0;32m<ipython-input-12-9fc5cf3426e1>\u001b[0m in \u001b[0;36m<module>\u001b[0;34m\u001b[0m\n\u001b[0;32m----> 1\u001b[0;31m \u001b[0mBoundedResistance\u001b[0m\u001b[0;34m(\u001b[0m\u001b[0;34m-\u001b[0m\u001b[0;36m5\u001b[0m\u001b[0;34m)\u001b[0m\u001b[0;34m\u001b[0m\u001b[0;34m\u001b[0m\u001b[0m\n\u001b[0m",
      "\u001b[0;32m<ipython-input-10-5ad6e7a3c812>\u001b[0m in \u001b[0;36m__init__\u001b[0;34m(self, ohms)\u001b[0m\n\u001b[1;32m      1\u001b[0m \u001b[0;32mclass\u001b[0m \u001b[0mBoundedResistance\u001b[0m\u001b[0;34m(\u001b[0m\u001b[0mResistor\u001b[0m\u001b[0;34m)\u001b[0m\u001b[0;34m:\u001b[0m\u001b[0;34m\u001b[0m\u001b[0;34m\u001b[0m\u001b[0m\n\u001b[1;32m      2\u001b[0m     \u001b[0;32mdef\u001b[0m \u001b[0m__init__\u001b[0m\u001b[0;34m(\u001b[0m\u001b[0mself\u001b[0m\u001b[0;34m,\u001b[0m \u001b[0mohms\u001b[0m\u001b[0;34m)\u001b[0m\u001b[0;34m:\u001b[0m\u001b[0;34m\u001b[0m\u001b[0;34m\u001b[0m\u001b[0m\n\u001b[0;32m----> 3\u001b[0;31m         \u001b[0msuper\u001b[0m\u001b[0;34m(\u001b[0m\u001b[0;34m)\u001b[0m\u001b[0;34m.\u001b[0m\u001b[0m__init__\u001b[0m\u001b[0;34m(\u001b[0m\u001b[0mohms\u001b[0m\u001b[0;34m)\u001b[0m\u001b[0;34m\u001b[0m\u001b[0;34m\u001b[0m\u001b[0m\n\u001b[0m\u001b[1;32m      4\u001b[0m \u001b[0;34m\u001b[0m\u001b[0m\n\u001b[1;32m      5\u001b[0m     \u001b[0;34m@\u001b[0m\u001b[0mproperty\u001b[0m\u001b[0;34m\u001b[0m\u001b[0;34m\u001b[0m\u001b[0m\n",
      "\u001b[0;32m<ipython-input-4-47bf6a706de5>\u001b[0m in \u001b[0;36m__init__\u001b[0;34m(self, ohms)\u001b[0m\n\u001b[1;32m      1\u001b[0m \u001b[0;32mclass\u001b[0m \u001b[0mResistor\u001b[0m\u001b[0;34m:\u001b[0m\u001b[0;34m\u001b[0m\u001b[0;34m\u001b[0m\u001b[0m\n\u001b[1;32m      2\u001b[0m     \u001b[0;32mdef\u001b[0m \u001b[0m__init__\u001b[0m\u001b[0;34m(\u001b[0m\u001b[0mself\u001b[0m\u001b[0;34m,\u001b[0m \u001b[0mohms\u001b[0m\u001b[0;34m)\u001b[0m\u001b[0;34m:\u001b[0m\u001b[0;34m\u001b[0m\u001b[0;34m\u001b[0m\u001b[0m\n\u001b[0;32m----> 3\u001b[0;31m         \u001b[0mself\u001b[0m\u001b[0;34m.\u001b[0m\u001b[0mohms\u001b[0m \u001b[0;34m=\u001b[0m \u001b[0mohms\u001b[0m\u001b[0;34m\u001b[0m\u001b[0;34m\u001b[0m\u001b[0m\n\u001b[0m\u001b[1;32m      4\u001b[0m         \u001b[0mself\u001b[0m\u001b[0;34m.\u001b[0m\u001b[0mvoltage\u001b[0m \u001b[0;34m=\u001b[0m \u001b[0;36m0\u001b[0m\u001b[0;34m\u001b[0m\u001b[0;34m\u001b[0m\u001b[0m\n\u001b[1;32m      5\u001b[0m         \u001b[0mself\u001b[0m\u001b[0;34m.\u001b[0m\u001b[0mcurrent\u001b[0m \u001b[0;34m=\u001b[0m \u001b[0;36m0\u001b[0m\u001b[0;34m\u001b[0m\u001b[0;34m\u001b[0m\u001b[0m\n",
      "\u001b[0;32m<ipython-input-10-5ad6e7a3c812>\u001b[0m in \u001b[0;36mohms\u001b[0;34m(self, ohms)\u001b[0m\n\u001b[1;32m     10\u001b[0m     \u001b[0;32mdef\u001b[0m \u001b[0mohms\u001b[0m\u001b[0;34m(\u001b[0m\u001b[0mself\u001b[0m\u001b[0;34m,\u001b[0m \u001b[0mohms\u001b[0m\u001b[0;34m)\u001b[0m\u001b[0;34m:\u001b[0m\u001b[0;34m\u001b[0m\u001b[0;34m\u001b[0m\u001b[0m\n\u001b[1;32m     11\u001b[0m         \u001b[0;32mif\u001b[0m \u001b[0mohms\u001b[0m \u001b[0;34m<=\u001b[0m \u001b[0;36m0\u001b[0m\u001b[0;34m:\u001b[0m\u001b[0;34m\u001b[0m\u001b[0;34m\u001b[0m\u001b[0m\n\u001b[0;32m---> 12\u001b[0;31m             \u001b[0;32mraise\u001b[0m \u001b[0mValueError\u001b[0m\u001b[0;34m(\u001b[0m\u001b[0;34mf'ohms must be > 0; got {ohms}'\u001b[0m\u001b[0;34m)\u001b[0m\u001b[0;34m\u001b[0m\u001b[0;34m\u001b[0m\u001b[0m\n\u001b[0m\u001b[1;32m     13\u001b[0m         \u001b[0mself\u001b[0m\u001b[0;34m.\u001b[0m\u001b[0m_ohms\u001b[0m \u001b[0;34m=\u001b[0m \u001b[0mohms\u001b[0m\u001b[0;34m\u001b[0m\u001b[0;34m\u001b[0m\u001b[0m\n",
      "\u001b[0;31mValueError\u001b[0m: ohms must be > 0; got -5"
     ]
    }
   ],
   "source": [
    "BoundedResistance(-5)"
   ]
  },
  {
   "cell_type": "markdown",
   "id": "48d6b08f-d132-4faa-aced-799c658e929e",
   "metadata": {},
   "source": [
    "之所以会出现这种效果，是因为子类的构造器(`BoundedResistance.__init__`)会调用超类的构造器(`Resistor.__init__`)，而超类的构造器会把`self.ohms`设置成`-5`。\n",
    "于是就会触发`BoundedResistance`里面的`@ohms.setter`方法，该方法立刻发现属性值无效，所以程序在对象还没有构造完之前，就会抛出异常。\n",
    "\n",
    "我们还可以利用`@property`阻止用户修改超类中的属性。"
   ]
  },
  {
   "cell_type": "code",
   "execution_count": 13,
   "id": "5944fb98-bca7-4b07-86eb-a2f0e47deb6f",
   "metadata": {},
   "outputs": [],
   "source": [
    "class FixedResistance(Resistor):\n",
    "    def __init__(self, ohms):\n",
    "        super().__init__(ohms)\n",
    "    \n",
    "    @property\n",
    "    def ohms(self):\n",
    "        return self._ohms\n",
    "    \n",
    "    @ohms.setter\n",
    "    def ohms(self, ohms):\n",
    "        if hasattr(self, '_ohms'):\n",
    "            raise AttributeError('Ohms is immutable')\n",
    "        self._ohms = ohms"
   ]
  },
  {
   "cell_type": "markdown",
   "id": "1b38aa57-88e0-4fc5-b974-05adfbe46f7c",
   "metadata": {},
   "source": [
    "构造好对象之后，如果试图给属性赋值，那么程序就会抛出异常。"
   ]
  },
  {
   "cell_type": "code",
   "execution_count": 14,
   "id": "c8c1a564-279a-40e6-91f4-52618d72f471",
   "metadata": {},
   "outputs": [
    {
     "ename": "AttributeError",
     "evalue": "Ohms is immutable",
     "output_type": "error",
     "traceback": [
      "\u001b[0;31m---------------------------------------------------------------------------\u001b[0m",
      "\u001b[0;31mAttributeError\u001b[0m                            Traceback (most recent call last)",
      "\u001b[0;32m<ipython-input-14-7fbedb722fb3>\u001b[0m in \u001b[0;36m<module>\u001b[0;34m\u001b[0m\n\u001b[1;32m      1\u001b[0m \u001b[0mr4\u001b[0m \u001b[0;34m=\u001b[0m \u001b[0mFixedResistance\u001b[0m\u001b[0;34m(\u001b[0m\u001b[0;36m1e3\u001b[0m\u001b[0;34m)\u001b[0m\u001b[0;34m\u001b[0m\u001b[0;34m\u001b[0m\u001b[0m\n\u001b[0;32m----> 2\u001b[0;31m \u001b[0mr4\u001b[0m\u001b[0;34m.\u001b[0m\u001b[0mohms\u001b[0m \u001b[0;34m=\u001b[0m \u001b[0;36m2e3\u001b[0m\u001b[0;34m\u001b[0m\u001b[0;34m\u001b[0m\u001b[0m\n\u001b[0m",
      "\u001b[0;32m<ipython-input-13-ba849a43c974>\u001b[0m in \u001b[0;36mohms\u001b[0;34m(self, ohms)\u001b[0m\n\u001b[1;32m     10\u001b[0m     \u001b[0;32mdef\u001b[0m \u001b[0mohms\u001b[0m\u001b[0;34m(\u001b[0m\u001b[0mself\u001b[0m\u001b[0;34m,\u001b[0m \u001b[0mohms\u001b[0m\u001b[0;34m)\u001b[0m\u001b[0;34m:\u001b[0m\u001b[0;34m\u001b[0m\u001b[0;34m\u001b[0m\u001b[0m\n\u001b[1;32m     11\u001b[0m         \u001b[0;32mif\u001b[0m \u001b[0mhasattr\u001b[0m\u001b[0;34m(\u001b[0m\u001b[0mself\u001b[0m\u001b[0;34m,\u001b[0m \u001b[0;34m'_ohms'\u001b[0m\u001b[0;34m)\u001b[0m\u001b[0;34m:\u001b[0m\u001b[0;34m\u001b[0m\u001b[0;34m\u001b[0m\u001b[0m\n\u001b[0;32m---> 12\u001b[0;31m             \u001b[0;32mraise\u001b[0m \u001b[0mAttributeError\u001b[0m\u001b[0;34m(\u001b[0m\u001b[0;34m'Ohms is immutable'\u001b[0m\u001b[0;34m)\u001b[0m\u001b[0;34m\u001b[0m\u001b[0;34m\u001b[0m\u001b[0m\n\u001b[0m\u001b[1;32m     13\u001b[0m         \u001b[0mself\u001b[0m\u001b[0;34m.\u001b[0m\u001b[0m_ohms\u001b[0m \u001b[0;34m=\u001b[0m \u001b[0mohms\u001b[0m\u001b[0;34m\u001b[0m\u001b[0;34m\u001b[0m\u001b[0m\n",
      "\u001b[0;31mAttributeError\u001b[0m: Ohms is immutable"
     ]
    }
   ],
   "source": [
    "r4 = FixedResistance(1e3)\n",
    "r4.ohms = 2e3"
   ]
  },
  {
   "cell_type": "markdown",
   "id": "9c8721ef-e5cb-4018-b6b1-686a4bdcb669",
   "metadata": {},
   "source": [
    "用`@property`实现setter和getter时，还应该注意不要让对象产生反常行为。例如，不要在某属性的getter方法里面设置其他属性的值。"
   ]
  },
  {
   "cell_type": "code",
   "execution_count": 15,
   "id": "5f7a85c3-0f94-484a-be5e-f63c3249b88b",
   "metadata": {},
   "outputs": [],
   "source": [
    "class MysteriousResistor(Resistor):\n",
    "    @property\n",
    "    def ohms(self):\n",
    "        self.voltage = self._ohms * self.current\n",
    "        return self._ohms\n",
    "\n",
    "    @ohms.setter\n",
    "    def ohms(self, ohms):\n",
    "        self._ohms = ohms"
   ]
  },
  {
   "cell_type": "markdown",
   "id": "14bf3517-95b6-48b0-ac97-038468ec1fea",
   "metadata": {},
   "source": [
    "假如在获取属性的getter方法里修改了其他属性的值，那么用户查询这个属性时，就会觉得相当奇怪。无法理解为什么另外一个属性会在他查询这个属性时发生变换。"
   ]
  },
  {
   "cell_type": "code",
   "execution_count": 16,
   "id": "7ff39cff-a1d5-4188-981e-b3b961e2a406",
   "metadata": {},
   "outputs": [
    {
     "name": "stdout",
     "output_type": "stream",
     "text": [
      "Before: 0.00\n",
      "After:  0.10\n"
     ]
    }
   ],
   "source": [
    "r7 = MysteriousResistor(10)\n",
    "r7.current = 0.01\n",
    "print(f'Before: {r7.voltage:.2f}')\n",
    "r7.ohms\n",
    "print(f'After:  {r7.voltage:.2f}')"
   ]
  },
  {
   "cell_type": "markdown",
   "id": "0a3babbf-e769-42e5-9c4e-8331b6c2962f",
   "metadata": {},
   "source": [
    "最好的办法是，只在`@property.setter`方法里面修改状态，而且只应该修改对象之中与当前属性有关的状态。同时还要注意不要产生让调用者感到意外的一些副作用，例如，不要动态地引入模块，不要运行速度较慢的辅助函数，不要做I/O等等。\n",
    "类的属性用起来应该跟其他Python对象一样方便切快捷。如果确实要执行比较复杂或比较缓慢的操作，那么应该用普通的方法来做，而不是应该把这些操作放在获取及设置属性的这两个方法里面。\n",
    "\n",
    "`@property`最大的缺点是，通过它而编写的获取即属性设置方法只能由子类共享。与此无关的类不能共用这份逻辑。但是没关系，Python还支持描述符，我们可以利用这种机制把早前编写的属性获取与属性设置逻辑复用到其他许多地方。\n",
    "\n",
    "# #45 考虑用@property实现新的属性访问逻辑，不要急着重构原有的代码"
   ]
  },
  {
   "cell_type": "markdown",
   "id": "44e34a28-7949-48e7-8de8-464f0e5c1054",
   "metadata": {},
   "source": [
    "Python内置的`@property`修饰器使开发者很容易就能实现出灵活的逻辑，它还有一种更为高级的用法，也很常见。就是把简单的数值属性迁移成那种实时计算的属性。这个用法可以确保，按照旧写法来访问属性的代码依然有效。\n",
    "`@property`可以说是一种重要的缓冲机制，使开发者能够逐渐改善接口而不影响已经写好的代码。\n",
    "\n",
    "例如，下面我们用普通的Python对象实现带有配额(quota)的漏桶(leaky bucket)。这个类可以记录当前的配额以及这份配额在多才时间内有效。"
   ]
  },
  {
   "cell_type": "code",
   "execution_count": 6,
   "id": "3ca7bc29-2249-4276-a931-8d97dc1005c7",
   "metadata": {},
   "outputs": [],
   "source": [
    "from datetime import datetime, timedelta\n",
    "\n",
    "class Bucket:\n",
    "    def __init__(self, period):\n",
    "        self.period_delta = timedelta(seconds=period)\n",
    "        self.reset_time = datetime.now()\n",
    "        self.quota = 0\n",
    "    \n",
    "    def __repr__(self):\n",
    "        return f'Bucket(quota={self.quota})'"
   ]
  },
  {
   "cell_type": "markdown",
   "id": "769f1701-a6c5-4d39-bf99-de4b95d945ae",
   "metadata": {},
   "source": [
    "漏桶算法要求在添加配额时，不能把已有的额度带到下一个时段。"
   ]
  },
  {
   "cell_type": "code",
   "execution_count": 3,
   "id": "0773abfa-28a5-40f6-9a1e-2d9e4c5552b4",
   "metadata": {},
   "outputs": [],
   "source": [
    "def fill(bucket, amount):\n",
    "    now = datetime.now()\n",
    "    if (now  - bucket.reset_time) > bucket.period_delta:\n",
    "        bucket.quota = 0\n",
    "        bucket.reset_time = now\n",
    "    bucket.quota += amount"
   ]
  },
  {
   "cell_type": "markdown",
   "id": "9f0ef69c-79c3-41c6-89c3-b501a954570a",
   "metadata": {},
   "source": [
    "如果想使用额度，那么首先必须确保漏桶当前所剩的配额是足够用的。"
   ]
  },
  {
   "cell_type": "code",
   "execution_count": 4,
   "id": "7a339269-6ed9-454f-90ab-eb9b5ae9b7f4",
   "metadata": {},
   "outputs": [],
   "source": [
    "def deduct(bucket, amount):\n",
    "    now = datetime.now()\n",
    "    if (now - bucket.reset_time) > bucket.period_delta:\n",
    "        return False\n",
    "    if bucket.quota - amount < 0:\n",
    "        return False\n",
    "    bucket.quota -= amount\n",
    "    return True"
   ]
  },
  {
   "cell_type": "markdown",
   "id": "c12ef975-b708-4d7c-8ff8-02b7c9912c1e",
   "metadata": {},
   "source": [
    "现在我们来使用这个类。首先填额度："
   ]
  },
  {
   "cell_type": "code",
   "execution_count": 7,
   "id": "f8746ca3-53e8-40b2-b080-f32fc48f6430",
   "metadata": {},
   "outputs": [
    {
     "data": {
      "text/plain": [
       "Bucket(quota=100)"
      ]
     },
     "execution_count": 7,
     "metadata": {},
     "output_type": "execute_result"
    }
   ],
   "source": [
    "bucket = Bucket(60)\n",
    "fill(bucket, 100)\n",
    "bucket"
   ]
  },
  {
   "cell_type": "markdown",
   "id": "c47194b8-3863-4906-9c9f-43f8d095f393",
   "metadata": {},
   "source": [
    "然后根据自己的需要使用额度："
   ]
  },
  {
   "cell_type": "code",
   "execution_count": 8,
   "id": "13839edd-a276-4f81-8a4e-6fefa6e35626",
   "metadata": {},
   "outputs": [
    {
     "name": "stdout",
     "output_type": "stream",
     "text": [
      "Had 99 quota\n"
     ]
    },
    {
     "data": {
      "text/plain": [
       "Bucket(quota=1)"
      ]
     },
     "execution_count": 8,
     "metadata": {},
     "output_type": "execute_result"
    }
   ],
   "source": [
    "if deduct(bucket, 99):\n",
    "    print('Had 99 quota')\n",
    "else:\n",
    "    print('Not enough for 99 quota')\n",
    "\n",
    "bucket"
   ]
  },
  {
   "cell_type": "markdown",
   "id": "1cf6fc83-ee7c-4ccc-8fff-2737c4b61508",
   "metadata": {},
   "source": [
    "这样用下去，最终会遇到额度不够的情况。从这时开始，额度就不会再变了。"
   ]
  },
  {
   "cell_type": "code",
   "execution_count": 9,
   "id": "fed56362-7dd4-467b-adf8-9db4ac60e81d",
   "metadata": {},
   "outputs": [
    {
     "name": "stdout",
     "output_type": "stream",
     "text": [
      "Not enough for 3 quota\n"
     ]
    },
    {
     "data": {
      "text/plain": [
       "Bucket(quota=1)"
      ]
     },
     "execution_count": 9,
     "metadata": {},
     "output_type": "execute_result"
    }
   ],
   "source": [
    "if deduct(bucket, 3):\n",
    "    print('Had 3 quota')\n",
    "else:\n",
    "    print('Not enough for 3 quota')\n",
    "bucket"
   ]
  },
  {
   "cell_type": "markdown",
   "id": "7d967c89-0449-4f75-9871-7ecbbde7c498",
   "metadata": {},
   "source": [
    "这种实现方式有个问题，就是没办法知道第一次填充漏桶时，给它分配的额度。我们只知道额度会越用越少直到不够位置。\n",
    "如果当前这段时间内的额度已经降到0，那么不管你想使用多少额度，`deduct`函数都会返回`False`，除非通过`fill`函数再往里面补充额度。\n",
    "所以，当`dedcut`函数返回`False`时，了解这究竟是因为`Bucket`没有足够的额度可以扣减，还是说它一开始根本就没有分配到任何额度，很重要。\n",
    "\n",
    "为了解决这个问题，可以修改这个类，把当前时间段内的初始额度与已经使用的额度明确记录下来。"
   ]
  },
  {
   "cell_type": "code",
   "execution_count": 12,
   "id": "04903d1d-92c7-4d02-b76e-651f868adbb4",
   "metadata": {},
   "outputs": [],
   "source": [
    "class NewBucket:\n",
    "    def __init__(self, period):\n",
    "        self.period_delta = timedelta(seconds=period)\n",
    "        self.reset_time = datetime.now()\n",
    "        self.max_quota = 0\n",
    "        self.quota_consumed = 0\n",
    "    \n",
    "    def __repr__(self):\n",
    "        return (f'NewBucket(max_quota={self.max_quota}) ', f'quota_consumed={self.quota_consumed}')\n",
    "    \n",
    "    @property\n",
    "    def quota(self):\n",
    "        return self.max_quota - self.quota_consumed"
   ]
  },
  {
   "cell_type": "markdown",
   "id": "8c079fb8-6ad7-42f1-964f-5b8ac01a381b",
   "metadata": {},
   "source": [
    "同时，为了让用户能像使用原来的`Bucket`类那样使用这个新类。我们下面用这个`@property`方法根据刚才设计的那两个属性实时计算漏桶目前的水位。"
   ]
  },
  {
   "cell_type": "code",
   "execution_count": 13,
   "id": "a761d838-a14f-44eb-9646-384e194f0163",
   "metadata": {},
   "outputs": [],
   "source": [
    "class NewBucket:\n",
    "    def __init__(self, period):\n",
    "        self.period_delta = timedelta(seconds=period)\n",
    "        self.reset_time = datetime.now()\n",
    "        self.max_quota = 0\n",
    "        self.quota_consumed = 0\n",
    "    \n",
    "    def __repr__(self):\n",
    "        return (f'NewBucket(max_quota={self.max_quota}) ', f'quota_consumed={self.quota_consumed}')\n",
    "    \n",
    "    @property\n",
    "    def quota(self):\n",
    "        return self.max_quota - self.quota_consumed"
   ]
  },
  {
   "cell_type": "markdown",
   "id": "2a12ffc0-296f-41ed-90a5-64c1596f4519",
   "metadata": {},
   "source": [
    "然后，我们实现下面这个方法，用来处理quota属性的赋值操作。采用旧式的`fill`与`deduct`函数来增减额度的那些代码依然可以正常运作，因为那两个函数在修改额度时会触发这个新方法，笔者在的代码里对相关情况做了特殊处理。"
   ]
  },
  {
   "cell_type": "code",
   "execution_count": 14,
   "id": "ed1e93ef-3ffd-4ab3-a679-c5a2f2e9c80f",
   "metadata": {},
   "outputs": [],
   "source": [
    "class NewBucket:\n",
    "    def __init__(self, period):\n",
    "        self.period_delta = timedelta(seconds=period)\n",
    "        self.reset_time = datetime.now()\n",
    "        self.max_quota = 0\n",
    "        self.quota_consumed = 0\n",
    "    \n",
    "    def __repr__(self):\n",
    "        return (f'NewBucket(max_quota={self.max_quota}) ', f'quota_consumed={self.quota_consumed}')\n",
    "    \n",
    "    @property\n",
    "    def quota(self):\n",
    "        return self.max_quota - self.quota_consumed\n",
    "    \n",
    "    @quota.setter\n",
    "    def quota(self, amount):\n",
    "        delta = self.max_quota - amount\n",
    "        if amount == 0 :\n",
    "            self.quota_consumed = 0\n",
    "            self.max_quota = 0\n",
    "        elif delta < 0:\n",
    "            assert self.quota_consumed == 0\n",
    "            self.max_quota = amount\n",
    "        else:\n",
    "            assert amount > 0\n",
    "            self.quota_consumed = delta"
   ]
  },
  {
   "cell_type": "markdown",
   "id": "448ca6f6-465d-443d-bed2-47466922e74f",
   "metadata": {},
   "source": [
    "按照旧的用法来使用新的漏桶，依然可以得到正确的结果。"
   ]
  },
  {
   "cell_type": "code",
   "execution_count": 17,
   "id": "312a91f5-737d-4fd2-8935-faea3fa5a920",
   "metadata": {},
   "outputs": [
    {
     "name": "stdout",
     "output_type": "stream",
     "text": [
      "Initial Bucket(quota=1)\n",
      "Filled Bucket(quota=101)\n",
      "Had 99 quota\n",
      "Now Bucket(quota=2)\n",
      "Not enough for 3 quota\n",
      "Still Bucket(quota=2)\n"
     ]
    }
   ],
   "source": [
    "bert = NewBucket(60)\n",
    "print('Initial', bucket)\n",
    "fill(bucket, 100)\n",
    "print('Filled', bucket)\n",
    "\n",
    "if deduct(bucket, 99):\n",
    "    print('Had 99 quota')\n",
    "else:\n",
    "    print('Not enough for 99 quota')\n",
    "    \n",
    "print('Now', bucket)\n",
    "\n",
    "if deduct(bucket, 3):\n",
    "    print('Had 3 quota')\n",
    "else:\n",
    "    print('Not enough for 3 quota')\n",
    "\n",
    "print('Still', bucket)"
   ]
  },
  {
   "cell_type": "markdown",
   "id": "042f6fb6-63e8-4ad9-8d4f-60d47bf9760c",
   "metadata": {},
   "source": [
    "这个方案的最大好处是，原来根据`Bucket.quota`所写的那些代码可以继续沿用，而且无须考虑`Bucket`现在已经换成了新的`NewBucket`。"
   ]
  },
  {
   "cell_type": "markdown",
   "id": "06b8659a-87b0-4e65-98f3-0205caec4dcc",
   "metadata": {},
   "source": [
    "# #46 用描述符来改写需要复用的@property方法\n",
    "\n",
    "Python内置的`@property`机制的最大确点就是不方便复用。例如，我们要编写一个类来记录学生的家庭作业成绩，而且要确保设置的成绩位于0到100之间。"
   ]
  },
  {
   "cell_type": "code",
   "execution_count": 2,
   "id": "0942b5b1-24a5-4352-9eff-cebc697c8cd2",
   "metadata": {},
   "outputs": [],
   "source": [
    "class Homework:\n",
    "    def __init__(self):\n",
    "        self._grade = 0\n",
    "    \n",
    "    @property\n",
    "    def grade(self):\n",
    "        return self._grade\n",
    "    \n",
    "    @grade.setter\n",
    "    def grade(self, value):\n",
    "        if not (0 <= value <= 100):\n",
    "            raise ValueError(f'Grade must be betwwen 0 and 100')\n",
    "        self._grade = value"
   ]
  },
  {
   "cell_type": "markdown",
   "id": "de44f760-fe75-456e-84e2-296dcc31a834",
   "metadata": {},
   "source": [
    "受`@property`修饰的属性用起来很简单。"
   ]
  },
  {
   "cell_type": "code",
   "execution_count": 3,
   "id": "bb89064e-e925-4110-bc39-c00f3690cd6e",
   "metadata": {},
   "outputs": [],
   "source": [
    "galileo = Homework()\n",
    "galileo.grade = 95"
   ]
  },
  {
   "cell_type": "markdown",
   "id": "666e2fa9-f800-4f62-85fe-6966bb59f24e",
   "metadata": {},
   "source": [
    "假设，我们还需要写一个类记录学生的考试成绩，而且要把每科的成绩分别记录下来。"
   ]
  },
  {
   "cell_type": "code",
   "execution_count": 4,
   "id": "b4e19298-6012-4788-b4a5-b0239c56d089",
   "metadata": {},
   "outputs": [],
   "source": [
    "class Exam:\n",
    "    def __init__(self):\n",
    "        self._writing_grade = 0\n",
    "        self._math_grade = 0\n",
    "    \n",
    "    @staticmethod\n",
    "    def _check_grade(value):\n",
    "        if not (0 <= value <= 100):\n",
    "            raise ValueError(f'Grade must be betwwen 0 and 100')\n"
   ]
  },
  {
   "cell_type": "markdown",
   "id": "48d04fde-86e2-4dd4-8879-dbd553054c1b",
   "metadata": {},
   "source": [
    "这样很麻烦，因为每科的成绩都需要一套`@property`方法，而且其中设置属性值的那个方法还必须调用`_check_grade`验证新值。"
   ]
  },
  {
   "cell_type": "code",
   "execution_count": 5,
   "id": "d8d5f13b-6a86-43c8-8206-c7f4af28fb72",
   "metadata": {},
   "outputs": [],
   "source": [
    "class Exam:\n",
    "    def __init__(self):\n",
    "        self._writing_grade = 0\n",
    "        self._math_grade = 0\n",
    "    \n",
    "    @staticmethod\n",
    "    def _check_grade(value):\n",
    "        if not (0 <= value <= 100):\n",
    "            raise ValueError(f'Grade must be betwwen 0 and 100')\n",
    "    \n",
    "    @property\n",
    "    def writing_grade(self):\n",
    "        return self._writing_grade\n",
    "    \n",
    "    @writing_grade.setter\n",
    "    def writing_grade(self, value):\n",
    "        self._check_grade(value)\n",
    "        self._writing_grade = value\n",
    "    \n",
    "    @property\n",
    "    def math_grade(self):\n",
    "        return self._math_grade\n",
    "    \n",
    "    @math_grade.setter\n",
    "    def math_grade(self, value):\n",
    "        self._check_grade(value)\n",
    "        self._math_grade = value\n"
   ]
  },
  {
   "cell_type": "markdown",
   "id": "d3238187-56f3-4433-b8b3-db5ff0ee065f",
   "metadata": {},
   "source": [
    "这样写不仅麻烦，而且无法复用。\n",
    "在Python里，这样的功能最好通过描述符(descriptor)实现。描述符协议规定了程序应该如何处理属性访问操作。充当描述符的那个类能够实现`__get__`与`__set__`方法，这样其他类就可以共用这个描述符所实现的逻辑而无须把这套逻辑分别重写一遍。\n",
    "\n",
    "下面重新定义`Exam`类，这次我们采用类级别的属性来实现每科成绩的访问功能，这些属性指向下面这个`Grade`类的实例，而这个`Grade`类则实现刚才提到的描述符协议。"
   ]
  },
  {
   "cell_type": "code",
   "execution_count": 6,
   "id": "0114a879-1d03-47dc-87e2-0f56f356faea",
   "metadata": {},
   "outputs": [],
   "source": [
    "class Grade:\n",
    "    def __get__(self, instance, instance_type):\n",
    "        pass\n",
    "    def __set__(self, instance, value):\n",
    "        pass\n",
    "\n",
    "class Exam:\n",
    "    math_grade = Grade()\n",
    "    writing_grade = Grade()\n",
    "    science_grade = Grade()\n",
    "    "
   ]
  },
  {
   "cell_type": "markdown",
   "id": "dcc79bd5-aea1-4701-b525-ade3ea4cf919",
   "metadata": {},
   "source": [
    "在解释`Grade`类的工作原理之前，我们首先要知道，当程序访问`Exam`实例的某个属性时，Python如何将访问操作派发到`Exam`类的描述符属性上面。例如，如果要给`Exam`实例的`writing_grade`属性赋值："
   ]
  },
  {
   "cell_type": "code",
   "execution_count": 7,
   "id": "176888c3-be35-483d-bff2-5a1f31ce004d",
   "metadata": {},
   "outputs": [],
   "source": [
    "exam = Exam()\n",
    "exam.writing_grade = 40"
   ]
  },
  {
   "cell_type": "markdown",
   "id": "690e02b8-2117-4ff1-b6d7-d0714c9d0cec",
   "metadata": {},
   "source": [
    "那么，Python会把这次赋值操作转译为："
   ]
  },
  {
   "cell_type": "code",
   "execution_count": 8,
   "id": "3cdb9f4a-8381-45da-a2f1-c2d33bee23ff",
   "metadata": {},
   "outputs": [],
   "source": [
    "Exam.__dict__['writing_grade'].__set__(exam, 40)"
   ]
  },
  {
   "cell_type": "markdown",
   "id": "c7672996-c054-4bd7-8b45-1970c68f92a8",
   "metadata": {},
   "source": [
    "获取这个属性时也一样："
   ]
  },
  {
   "cell_type": "code",
   "execution_count": 9,
   "id": "e8efeb38-e3cd-4834-9e1f-f1db54ed0f04",
   "metadata": {},
   "outputs": [],
   "source": [
    "exam.writing_grade"
   ]
  },
  {
   "cell_type": "markdown",
   "id": "6c0a0573-b81f-404e-b6d0-a065ec3638e5",
   "metadata": {},
   "source": [
    "Python会转译为："
   ]
  },
  {
   "cell_type": "code",
   "execution_count": 10,
   "id": "1d9e3ebf-0c54-47c2-8d30-ff74c077ad72",
   "metadata": {},
   "outputs": [],
   "source": [
    "Exam.__dict__['writing_grade'].__get__(exam, Exam)"
   ]
  },
  {
   "cell_type": "markdown",
   "id": "2b6180af-a424-4775-84db-c6c6aec5282c",
   "metadata": {},
   "source": [
    "这样的转译效果是由`object`的`__getattribute__`方法促成的。简单地说，就是当`Eaxm`实例里面没有名为`writing_grade`的属性时，Python会转而在类的层面查找，查询`Eaxm`类里面有没有这样一个属性。如果有，而且还实现了`__get__`与`__set__`方法后，那么系统就认定你想通过描述符协议定义的这个属性的访问行为。\n",
    "\n",
    "知道了这条规则之后，我们来尝试把`Homework`类早前用`@property`实现的成绩验证逻辑搬到`Grade`描述符里面。"
   ]
  },
  {
   "cell_type": "code",
   "execution_count": 11,
   "id": "65f1739b-2624-4f59-bd30-4c5a375e5109",
   "metadata": {},
   "outputs": [],
   "source": [
    "class Grade:\n",
    "    def __init__(self):\n",
    "        self._value = 0\n",
    "    \n",
    "    def __get__(self, instance, instance_type):\n",
    "        return self._value\n",
    "    def __set__(self, instance, value):\n",
    "        if not (0 <= value <= 100):\n",
    "            raise ValueError(f'Grade must be betwwen 0 and 100')\n",
    "        self._value = value\n"
   ]
  },
  {
   "cell_type": "markdown",
   "id": "3e806109-7214-4d07-84b9-c8e2885866b9",
   "metadata": {},
   "source": [
    "这样写其实不对，而且会让程序出现混乱。但在同一个`Exam`实例上面访问不同的属性是没有问题的。"
   ]
  },
  {
   "cell_type": "code",
   "execution_count": 12,
   "id": "f4400cee-dd3b-4d9e-ad6d-079c4ce941a7",
   "metadata": {},
   "outputs": [
    {
     "name": "stdout",
     "output_type": "stream",
     "text": [
      "Writing 82\n",
      "Science 99\n"
     ]
    }
   ],
   "source": [
    "class Exam:\n",
    "    math_grade = Grade()\n",
    "    writing_grade = Grade()\n",
    "    science_grade = Grade()\n",
    "\n",
    "first_exam = Exam()\n",
    "first_exam.writing_grade = 82\n",
    "first_exam.science_grade = 99\n",
    "print('Writing', first_exam.writing_grade)\n",
    "print('Science', first_exam.science_grade)"
   ]
  },
  {
   "cell_type": "markdown",
   "id": "ea3eae72-45ff-4df2-944a-756e69987543",
   "metadata": {},
   "source": [
    "但是，在不同的`Exam`实例上分别访问同一个属性却会看到奇怪的结果。"
   ]
  },
  {
   "cell_type": "code",
   "execution_count": 13,
   "id": "c70d0a24-8cbc-49f0-bd71-37f6c5de682e",
   "metadata": {},
   "outputs": [
    {
     "name": "stdout",
     "output_type": "stream",
     "text": [
      "Second 75 is right\n",
      "First 75 is wrong;should be 82\n"
     ]
    }
   ],
   "source": [
    "second_exam = Exam()\n",
    "second_exam.writing_grade = 75\n",
    "\n",
    "print(f'Second {second_exam.writing_grade} is right')\n",
    "print(f'First {first_exam.writing_grade} is wrong;'\n",
    "     f'should be 82')\n"
   ]
  },
  {
   "cell_type": "markdown",
   "id": "1e125b9d-9746-4d10-b8d3-079d3384a87f",
   "metadata": {},
   "source": [
    "出现这个问题的原因在于，这些`Eaxm`实例之中的`writing_grade`属性实际上是在共享同一个`Grade`实例。\n",
    "为了解决此问题，我们必须把每个`Exam`实例在这个属性上面的取值都记录下来。可以通过字典实现每个实例的状态保存。"
   ]
  },
  {
   "cell_type": "code",
   "execution_count": 14,
   "id": "b4af42af-dab5-4975-9fbb-d2727597d23a",
   "metadata": {},
   "outputs": [],
   "source": [
    "class Grade:\n",
    "    def __init__(self):\n",
    "        self._values = {}\n",
    "    \n",
    "    def __get__(self, instance, instance_type):\n",
    "        if instance is None:\n",
    "            return self\n",
    "        return self._values.get(instance, 0)\n",
    "    def __set__(self, instance, value):\n",
    "        if not (0 <= value <= 100):\n",
    "            raise ValueError(f'Grade must be betwwen 0 and 100')\n",
    "        self._values[instance] = value\n"
   ]
  },
  {
   "cell_type": "markdown",
   "id": "872e61c2-1ec1-47a3-92e9-85859c71a2c4",
   "metadata": {},
   "source": [
    "这种实现方案很简单，而且能得到正确结果，但仍然有一个缺陷，就是会泄露内存。\n",
    "\n",
    "为了解决这个问题，我们可以求助于Python内置的`weakref`模块。该模块里有一种特殊的字典，名为`WeakKeyDictionary`，它可以取代刚才实现`_values`时所用的普通字典。\n",
    "这个字典的特殊之处在于：如果运行时系统发现，指向`Eaxm`实例的引用只剩一个，而这个引用又是由`WeakKeyDictionary`的键所发起的，那么系统会将该引用从这个特殊的字典里删掉，于是指向那个`Exam`实例的引用数量就会降为0。"
   ]
  },
  {
   "cell_type": "code",
   "execution_count": 15,
   "id": "2165b58a-c00e-4639-b1ce-e73dfb2c6188",
   "metadata": {},
   "outputs": [],
   "source": [
    "from weakref import WeakKeyDictionary\n",
    "\n",
    "class Grade:\n",
    "    def __init__(self):\n",
    "        self._values = WeakKeyDictionary()\n",
    "    \n",
    "    def __get__(self, instance, instance_type):\n",
    "        if instance is None:\n",
    "            return self\n",
    "        return self._values.get(instance, 0)\n",
    "    def __set__(self, instance, value):\n",
    "        if not (0 <= value <= 100):\n",
    "            raise ValueError(f'Grade must be betwwen 0 and 100')\n",
    "        self._values[instance] = value\n"
   ]
  },
  {
   "cell_type": "markdown",
   "id": "40e181d9-9b1a-4573-b67b-9ba5589c8c0e",
   "metadata": {},
   "source": [
    "用这种字典改写`Grade`描述符之后，`Exam`就能正常运作了。"
   ]
  },
  {
   "cell_type": "code",
   "execution_count": 16,
   "id": "c9d34ba3-179d-4855-9353-7fbd1d023d9f",
   "metadata": {},
   "outputs": [
    {
     "name": "stdout",
     "output_type": "stream",
     "text": [
      "First 82 is right\n",
      "Second 75 is right\n"
     ]
    }
   ],
   "source": [
    "class Exam:\n",
    "    math_grade = Grade()\n",
    "    writing_grade = Grade()\n",
    "    science_grade = Grade()\n",
    "\n",
    "first_exam = Exam()\n",
    "first_exam.writing_grade = 82\n",
    "second_exam = Exam()\n",
    "second_exam.writing_grade = 75\n",
    "print(f'First {first_exam.writing_grade} is right')\n",
    "print(f'Second {second_exam.writing_grade} is right')\n"
   ]
  },
  {
   "cell_type": "markdown",
   "id": "7d144c6b-1725-48eb-b715-e8a0aed4dcc6",
   "metadata": {},
   "source": [
    "# 针对惰性属性使用__getattr__、__getattribute__及__setattr__\n",
    "\n",
    "假设我们想把数据库中的记录表示为Python对象，数据库有它自己的模式(schema)，而程序在把记录表示成对象时，必须知道数据库是按照什么样的模式来组织这些记录的。\n",
    "\n",
    "这种动态的行为可以通过名为`__getattr__`的特殊方法来实现。如果类中定义了此方法，那么每当访问该类对象的属性，而且实例字典里又找不到这个属性时，系统就会触发`__getattr__`方法。"
   ]
  },
  {
   "cell_type": "code",
   "execution_count": 1,
   "id": "ae0ae5e0-aab9-4671-90bc-492321508180",
   "metadata": {},
   "outputs": [],
   "source": [
    "class LazyRecord:\n",
    "    def __init__(self):\n",
    "        self.exists = 5\n",
    "    def __getattr__(self, name):\n",
    "        value = f'Value for {name}'\n",
    "        setattr(self, name, value)\n",
    "        return value"
   ]
  },
  {
   "cell_type": "code",
   "execution_count": 2,
   "id": "f29860fd-8482-415d-9439-93634f89859f",
   "metadata": {},
   "outputs": [
    {
     "name": "stdout",
     "output_type": "stream",
     "text": [
      "Before:  {'exists': 5}\n",
      "foo:   Value for foo\n",
      "After:  {'exists': 5, 'foo': 'Value for foo'}\n"
     ]
    }
   ],
   "source": [
    "data = LazyRecord()\n",
    "print('Before: ', data.__dict__) # 此时并没有foo这个属性\n",
    "print('foo:  ',data.foo)\n",
    "print('After: ', data.__dict__) # 此时多了foo这个属性"
   ]
  },
  {
   "cell_type": "markdown",
   "id": "73d088ce-e53f-4dac-8b9b-48b4ae8d4d0b",
   "metadata": {},
   "source": [
    "下面我们通过子类给LazyRecord增加日志功能，用来观察程序在什么样的情况下才会调用`__getattr__`方法。"
   ]
  },
  {
   "cell_type": "code",
   "execution_count": 3,
   "id": "8e1dd44b-98de-4873-bcc1-8f1e8ac5dbce",
   "metadata": {},
   "outputs": [],
   "source": [
    "class LoggingLazyRecord(LazyRecord):\n",
    "    def __getattr__(self, name):\n",
    "        print(f'* Called __getattr__({name!r}), populating instance dictionary')\n",
    "        result = super().__getattr__(name)\n",
    "        print(f'* Returning {result!r}')\n",
    "        return result\n",
    "\n",
    "d"
   ]
  },
  {
   "cell_type": "code",
   "execution_count": null,
   "id": "5b2b81b6-a89d-40a7-b7d3-6eff8bca3abd",
   "metadata": {},
   "outputs": [],
   "source": []
  }
 ],
 "metadata": {
  "kernelspec": {
   "display_name": "Python 3",
   "language": "python",
   "name": "python3"
  },
  "language_info": {
   "codemirror_mode": {
    "name": "ipython",
    "version": 3
   },
   "file_extension": ".py",
   "mimetype": "text/x-python",
   "name": "python",
   "nbconvert_exporter": "python",
   "pygments_lexer": "ipython3",
   "version": "3.8.8"
  }
 },
 "nbformat": 4,
 "nbformat_minor": 5
}
