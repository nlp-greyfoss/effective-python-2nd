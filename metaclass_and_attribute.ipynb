{
 "cells": [
  {
   "cell_type": "markdown",
   "id": "b544615b-75ed-4823-967a-d67dbbeeff01",
   "metadata": {},
   "source": [
    "# 引言\n",
    "元类(metaclass)能够拦截Python的class语句，让系统每次定义类的时候，都能实现某些特殊的行为。\n",
    "Python还内置了一种神奇而强大的特性，可以动态地定制属性访问操作。\n",
    "\n",
    "# #44 用纯属性与修饰器取代旧式的setter与getter方法\n",
    "\n",
    "从其他编程语言转入Python的开发者，可能想在类里面明确地实现getter与setter方法。"
   ]
  },
  {
   "cell_type": "code",
   "execution_count": 1,
   "id": "06acd08b-60d6-49dc-8f4d-70bdf6e247c5",
   "metadata": {},
   "outputs": [],
   "source": [
    "class OldResistor:\n",
    "    def __init__(self, ohms):\n",
    "        self._ohms = ohms\n",
    "\n",
    "    def get_ohms(self):\n",
    "        return self._ohms\n",
    "\n",
    "    def set_ohms(self, ohms):\n",
    "        self._ohms = ohms"
   ]
  },
  {
   "cell_type": "markdown",
   "id": "5a52901c-3e33-4953-9556-eb45e0fb7123",
   "metadata": {},
   "source": [
    "虽然这些setter与getter用起来很简单，但这并不符合Python的风格。"
   ]
  },
  {
   "cell_type": "code",
   "execution_count": 2,
   "id": "a45ea8a6-7dc7-43f9-821e-0e5d9c251007",
   "metadata": {},
   "outputs": [
    {
     "name": "stdout",
     "output_type": "stream",
     "text": [
      "Before: 50000.0\n",
      "After:  10000.0\n"
     ]
    }
   ],
   "source": [
    "r0 = OldResistor(50e3)\n",
    "print('Before:', r0.get_ohms())\n",
    "r0.set_ohms(10e3)\n",
    "print('After: ', r0.get_ohms())"
   ]
  },
  {
   "cell_type": "markdown",
   "id": "83f108a3-87d6-4673-a69f-c4b3ecfe7e4a",
   "metadata": {},
   "source": [
    "例如，想让属性值变大或变小，采用这些方法来写会特别麻烦。"
   ]
  },
  {
   "cell_type": "code",
   "execution_count": 3,
   "id": "48b77ce9-f601-459c-9ea8-e7bcfd120096",
   "metadata": {},
   "outputs": [],
   "source": [
    "r0.set_ohms(r0.get_ohms() - 4e3)\n",
    "assert r0.get_ohms() == 6e3"
   ]
  },
  {
   "cell_type": "markdown",
   "id": "31e6ea1e-d637-4f89-bee0-d17f626e3a51",
   "metadata": {},
   "source": [
    "在Python中没有必要明确定义setter与getter方法。而是应该从最简单的public属性开始写起，例如像下面这样："
   ]
  },
  {
   "cell_type": "code",
   "execution_count": 4,
   "id": "1d55644f-044b-4d19-ac2c-682f56201cb7",
   "metadata": {},
   "outputs": [],
   "source": [
    "class Resistor:\n",
    "    def __init__(self, ohms):\n",
    "        self.ohms = ohms\n",
    "        self.voltage = 0\n",
    "        self.current = 0 \n",
    "    \n",
    "r1 = Resistor(50e3)\n",
    "r1.ohms = 10e3"
   ]
  },
  {
   "cell_type": "markdown",
   "id": "2ecad9c9-d5bc-4ae9-84b8-1859c79fcad3",
   "metadata": {},
   "source": [
    "这样就很容易实现原地增减属性值。"
   ]
  },
  {
   "cell_type": "code",
   "execution_count": 5,
   "id": "e8c91639-ddcc-41c4-ad86-31a97fc21f9e",
   "metadata": {},
   "outputs": [],
   "source": [
    "r1.ohms += 5e3"
   ]
  },
  {
   "cell_type": "markdown",
   "id": "975b5efd-951f-461a-a973-42d41f3b4dde",
   "metadata": {},
   "source": [
    "将来如果想在设置属性时，实现特别的功能，那么可以先通过`@property`修饰器来封装获取属性的那个方法，并在封装出来的修饰器上面通过setter属性来封装设置属性的那个方法。下面这个新类继承自刚才的`Resistor`类，它允许我们通过设置voltage(电压)来改变current(电流)。为了正确实现这项功能，必须保证设置属性与获取属性所用的那两个方法都跟属性同名。"
   ]
  },
  {
   "cell_type": "code",
   "execution_count": 7,
   "id": "1092c29c-c988-456e-aa99-208a7d2c3a4b",
   "metadata": {},
   "outputs": [],
   "source": [
    "class VoltageResistance(Resistor):\n",
    "    def __init__(self, ohms):\n",
    "        super().__init__(ohms)\n",
    "        self._voltage = 0\n",
    "    \n",
    "    @property\n",
    "    def voltage(self):\n",
    "        return self._voltage\n",
    "    \n",
    "    @voltage.setter\n",
    "    def voltage(self, voltage):\n",
    "        self._voltage = voltage\n",
    "        self.current = self._voltage / self.ohms"
   ]
  },
  {
   "cell_type": "markdown",
   "id": "74cfbed9-c683-4fdf-8e38-d91678dde75e",
   "metadata": {},
   "source": [
    "按照这种写法，给voltage属性赋值会触发同名的setter方法，该方法会根据新的voltage计算本对象的current属性。"
   ]
  },
  {
   "cell_type": "code",
   "execution_count": 8,
   "id": "fbb96a0e-c972-4107-8530-985488291e9b",
   "metadata": {},
   "outputs": [
    {
     "name": "stdout",
     "output_type": "stream",
     "text": [
      "Before: 0.00 amps\n",
      "After:  0.01 amps\n"
     ]
    }
   ],
   "source": [
    "r2 = VoltageResistance(1e3)\n",
    "print(f'Before: {r2.current:.2f} amps')\n",
    "r2.voltage = 10\n",
    "print(f'After:  {r2.current:.2f} amps')"
   ]
  },
  {
   "cell_type": "markdown",
   "id": "af12761f-291e-48a3-ba6c-e84d239c926e",
   "metadata": {},
   "source": [
    "为属性指定setter方法还可以用来检查调用方所传入的值在类型与范围上是否符合要求。例如，下面这个`Resistor`子类可以确保用户设置的电阻值总是大于0的。"
   ]
  },
  {
   "cell_type": "code",
   "execution_count": 10,
   "id": "91aefb9a-dfdc-498e-8aa2-5d1326dd687d",
   "metadata": {},
   "outputs": [],
   "source": [
    "class BoundedResistance(Resistor):\n",
    "    def __init__(self, ohms):\n",
    "        super().__init__(ohms)\n",
    "    \n",
    "    @property\n",
    "    def ohms(self):\n",
    "        return self._ohms\n",
    "    \n",
    "    @ohms.setter\n",
    "    def ohms(self, ohms):\n",
    "        if ohms <= 0:\n",
    "            raise ValueError(f'ohms must be > 0; got {ohms}')\n",
    "        self._ohms = ohms"
   ]
  },
  {
   "cell_type": "markdown",
   "id": "0aa368b1-7d60-4956-ac26-c333e9ebe0f0",
   "metadata": {},
   "source": [
    "给这个类设置无效电阻值，程序会抛出异常。"
   ]
  },
  {
   "cell_type": "code",
   "execution_count": 11,
   "id": "5c929396-2216-4af1-81eb-ac261f4c0061",
   "metadata": {},
   "outputs": [
    {
     "ename": "ValueError",
     "evalue": "ohms must be > 0; got 0",
     "output_type": "error",
     "traceback": [
      "\u001b[0;31m---------------------------------------------------------------------------\u001b[0m",
      "\u001b[0;31mValueError\u001b[0m                                Traceback (most recent call last)",
      "\u001b[0;32m<ipython-input-11-4faf6805d103>\u001b[0m in \u001b[0;36m<module>\u001b[0;34m\u001b[0m\n\u001b[1;32m      1\u001b[0m \u001b[0mr3\u001b[0m \u001b[0;34m=\u001b[0m \u001b[0mBoundedResistance\u001b[0m\u001b[0;34m(\u001b[0m\u001b[0;36m1e3\u001b[0m\u001b[0;34m)\u001b[0m\u001b[0;34m\u001b[0m\u001b[0;34m\u001b[0m\u001b[0m\n\u001b[0;32m----> 2\u001b[0;31m \u001b[0mr3\u001b[0m\u001b[0;34m.\u001b[0m\u001b[0mohms\u001b[0m \u001b[0;34m=\u001b[0m \u001b[0;36m0\u001b[0m\u001b[0;34m\u001b[0m\u001b[0;34m\u001b[0m\u001b[0m\n\u001b[0m",
      "\u001b[0;32m<ipython-input-10-5ad6e7a3c812>\u001b[0m in \u001b[0;36mohms\u001b[0;34m(self, ohms)\u001b[0m\n\u001b[1;32m     10\u001b[0m     \u001b[0;32mdef\u001b[0m \u001b[0mohms\u001b[0m\u001b[0;34m(\u001b[0m\u001b[0mself\u001b[0m\u001b[0;34m,\u001b[0m \u001b[0mohms\u001b[0m\u001b[0;34m)\u001b[0m\u001b[0;34m:\u001b[0m\u001b[0;34m\u001b[0m\u001b[0;34m\u001b[0m\u001b[0m\n\u001b[1;32m     11\u001b[0m         \u001b[0;32mif\u001b[0m \u001b[0mohms\u001b[0m \u001b[0;34m<=\u001b[0m \u001b[0;36m0\u001b[0m\u001b[0;34m:\u001b[0m\u001b[0;34m\u001b[0m\u001b[0;34m\u001b[0m\u001b[0m\n\u001b[0;32m---> 12\u001b[0;31m             \u001b[0;32mraise\u001b[0m \u001b[0mValueError\u001b[0m\u001b[0;34m(\u001b[0m\u001b[0;34mf'ohms must be > 0; got {ohms}'\u001b[0m\u001b[0;34m)\u001b[0m\u001b[0;34m\u001b[0m\u001b[0;34m\u001b[0m\u001b[0m\n\u001b[0m\u001b[1;32m     13\u001b[0m         \u001b[0mself\u001b[0m\u001b[0;34m.\u001b[0m\u001b[0m_ohms\u001b[0m \u001b[0;34m=\u001b[0m \u001b[0mohms\u001b[0m\u001b[0;34m\u001b[0m\u001b[0;34m\u001b[0m\u001b[0m\n",
      "\u001b[0;31mValueError\u001b[0m: ohms must be > 0; got 0"
     ]
    }
   ],
   "source": [
    "r3 = BoundedResistance(1e3)\n",
    "r3.ohms = 0"
   ]
  },
  {
   "cell_type": "markdown",
   "id": "6d8dffa1-1005-4992-999d-4e719fa40f81",
   "metadata": {},
   "source": [
    "如果构造时所用的值无效，那么同样会触发异常。"
   ]
  },
  {
   "cell_type": "code",
   "execution_count": 12,
   "id": "60c8cbea-7b79-41e5-b736-ba0d2fad3729",
   "metadata": {},
   "outputs": [
    {
     "ename": "ValueError",
     "evalue": "ohms must be > 0; got -5",
     "output_type": "error",
     "traceback": [
      "\u001b[0;31m---------------------------------------------------------------------------\u001b[0m",
      "\u001b[0;31mValueError\u001b[0m                                Traceback (most recent call last)",
      "\u001b[0;32m<ipython-input-12-9fc5cf3426e1>\u001b[0m in \u001b[0;36m<module>\u001b[0;34m\u001b[0m\n\u001b[0;32m----> 1\u001b[0;31m \u001b[0mBoundedResistance\u001b[0m\u001b[0;34m(\u001b[0m\u001b[0;34m-\u001b[0m\u001b[0;36m5\u001b[0m\u001b[0;34m)\u001b[0m\u001b[0;34m\u001b[0m\u001b[0;34m\u001b[0m\u001b[0m\n\u001b[0m",
      "\u001b[0;32m<ipython-input-10-5ad6e7a3c812>\u001b[0m in \u001b[0;36m__init__\u001b[0;34m(self, ohms)\u001b[0m\n\u001b[1;32m      1\u001b[0m \u001b[0;32mclass\u001b[0m \u001b[0mBoundedResistance\u001b[0m\u001b[0;34m(\u001b[0m\u001b[0mResistor\u001b[0m\u001b[0;34m)\u001b[0m\u001b[0;34m:\u001b[0m\u001b[0;34m\u001b[0m\u001b[0;34m\u001b[0m\u001b[0m\n\u001b[1;32m      2\u001b[0m     \u001b[0;32mdef\u001b[0m \u001b[0m__init__\u001b[0m\u001b[0;34m(\u001b[0m\u001b[0mself\u001b[0m\u001b[0;34m,\u001b[0m \u001b[0mohms\u001b[0m\u001b[0;34m)\u001b[0m\u001b[0;34m:\u001b[0m\u001b[0;34m\u001b[0m\u001b[0;34m\u001b[0m\u001b[0m\n\u001b[0;32m----> 3\u001b[0;31m         \u001b[0msuper\u001b[0m\u001b[0;34m(\u001b[0m\u001b[0;34m)\u001b[0m\u001b[0;34m.\u001b[0m\u001b[0m__init__\u001b[0m\u001b[0;34m(\u001b[0m\u001b[0mohms\u001b[0m\u001b[0;34m)\u001b[0m\u001b[0;34m\u001b[0m\u001b[0;34m\u001b[0m\u001b[0m\n\u001b[0m\u001b[1;32m      4\u001b[0m \u001b[0;34m\u001b[0m\u001b[0m\n\u001b[1;32m      5\u001b[0m     \u001b[0;34m@\u001b[0m\u001b[0mproperty\u001b[0m\u001b[0;34m\u001b[0m\u001b[0;34m\u001b[0m\u001b[0m\n",
      "\u001b[0;32m<ipython-input-4-47bf6a706de5>\u001b[0m in \u001b[0;36m__init__\u001b[0;34m(self, ohms)\u001b[0m\n\u001b[1;32m      1\u001b[0m \u001b[0;32mclass\u001b[0m \u001b[0mResistor\u001b[0m\u001b[0;34m:\u001b[0m\u001b[0;34m\u001b[0m\u001b[0;34m\u001b[0m\u001b[0m\n\u001b[1;32m      2\u001b[0m     \u001b[0;32mdef\u001b[0m \u001b[0m__init__\u001b[0m\u001b[0;34m(\u001b[0m\u001b[0mself\u001b[0m\u001b[0;34m,\u001b[0m \u001b[0mohms\u001b[0m\u001b[0;34m)\u001b[0m\u001b[0;34m:\u001b[0m\u001b[0;34m\u001b[0m\u001b[0;34m\u001b[0m\u001b[0m\n\u001b[0;32m----> 3\u001b[0;31m         \u001b[0mself\u001b[0m\u001b[0;34m.\u001b[0m\u001b[0mohms\u001b[0m \u001b[0;34m=\u001b[0m \u001b[0mohms\u001b[0m\u001b[0;34m\u001b[0m\u001b[0;34m\u001b[0m\u001b[0m\n\u001b[0m\u001b[1;32m      4\u001b[0m         \u001b[0mself\u001b[0m\u001b[0;34m.\u001b[0m\u001b[0mvoltage\u001b[0m \u001b[0;34m=\u001b[0m \u001b[0;36m0\u001b[0m\u001b[0;34m\u001b[0m\u001b[0;34m\u001b[0m\u001b[0m\n\u001b[1;32m      5\u001b[0m         \u001b[0mself\u001b[0m\u001b[0;34m.\u001b[0m\u001b[0mcurrent\u001b[0m \u001b[0;34m=\u001b[0m \u001b[0;36m0\u001b[0m\u001b[0;34m\u001b[0m\u001b[0;34m\u001b[0m\u001b[0m\n",
      "\u001b[0;32m<ipython-input-10-5ad6e7a3c812>\u001b[0m in \u001b[0;36mohms\u001b[0;34m(self, ohms)\u001b[0m\n\u001b[1;32m     10\u001b[0m     \u001b[0;32mdef\u001b[0m \u001b[0mohms\u001b[0m\u001b[0;34m(\u001b[0m\u001b[0mself\u001b[0m\u001b[0;34m,\u001b[0m \u001b[0mohms\u001b[0m\u001b[0;34m)\u001b[0m\u001b[0;34m:\u001b[0m\u001b[0;34m\u001b[0m\u001b[0;34m\u001b[0m\u001b[0m\n\u001b[1;32m     11\u001b[0m         \u001b[0;32mif\u001b[0m \u001b[0mohms\u001b[0m \u001b[0;34m<=\u001b[0m \u001b[0;36m0\u001b[0m\u001b[0;34m:\u001b[0m\u001b[0;34m\u001b[0m\u001b[0;34m\u001b[0m\u001b[0m\n\u001b[0;32m---> 12\u001b[0;31m             \u001b[0;32mraise\u001b[0m \u001b[0mValueError\u001b[0m\u001b[0;34m(\u001b[0m\u001b[0;34mf'ohms must be > 0; got {ohms}'\u001b[0m\u001b[0;34m)\u001b[0m\u001b[0;34m\u001b[0m\u001b[0;34m\u001b[0m\u001b[0m\n\u001b[0m\u001b[1;32m     13\u001b[0m         \u001b[0mself\u001b[0m\u001b[0;34m.\u001b[0m\u001b[0m_ohms\u001b[0m \u001b[0;34m=\u001b[0m \u001b[0mohms\u001b[0m\u001b[0;34m\u001b[0m\u001b[0;34m\u001b[0m\u001b[0m\n",
      "\u001b[0;31mValueError\u001b[0m: ohms must be > 0; got -5"
     ]
    }
   ],
   "source": [
    "BoundedResistance(-5)"
   ]
  },
  {
   "cell_type": "markdown",
   "id": "48d6b08f-d132-4faa-aced-799c658e929e",
   "metadata": {},
   "source": [
    "之所以会出现这种效果，是因为子类的构造器(`BoundedResistance.__init__`)会调用超类的构造器(`Resistor.__init__`)，而超类的构造器会把`self.ohms`设置成`-5`。\n",
    "于是就会触发`BoundedResistance`里面的`@ohms.setter`方法，该方法立刻发现属性值无效，所以程序在对象还没有构造完之前，就会抛出异常。\n",
    "\n",
    "我们还可以利用`@property`阻止用户修改超类中的属性。"
   ]
  },
  {
   "cell_type": "code",
   "execution_count": 13,
   "id": "5944fb98-bca7-4b07-86eb-a2f0e47deb6f",
   "metadata": {},
   "outputs": [],
   "source": [
    "class FixedResistance(Resistor):\n",
    "    def __init__(self, ohms):\n",
    "        super().__init__(ohms)\n",
    "    \n",
    "    @property\n",
    "    def ohms(self):\n",
    "        return self._ohms\n",
    "    \n",
    "    @ohms.setter\n",
    "    def ohms(self, ohms):\n",
    "        if hasattr(self, '_ohms'):\n",
    "            raise AttributeError('Ohms is immutable')\n",
    "        self._ohms = ohms"
   ]
  },
  {
   "cell_type": "markdown",
   "id": "1b38aa57-88e0-4fc5-b974-05adfbe46f7c",
   "metadata": {},
   "source": [
    "构造好对象之后，如果试图给属性赋值，那么程序就会抛出异常。"
   ]
  },
  {
   "cell_type": "code",
   "execution_count": 14,
   "id": "c8c1a564-279a-40e6-91f4-52618d72f471",
   "metadata": {},
   "outputs": [
    {
     "ename": "AttributeError",
     "evalue": "Ohms is immutable",
     "output_type": "error",
     "traceback": [
      "\u001b[0;31m---------------------------------------------------------------------------\u001b[0m",
      "\u001b[0;31mAttributeError\u001b[0m                            Traceback (most recent call last)",
      "\u001b[0;32m<ipython-input-14-7fbedb722fb3>\u001b[0m in \u001b[0;36m<module>\u001b[0;34m\u001b[0m\n\u001b[1;32m      1\u001b[0m \u001b[0mr4\u001b[0m \u001b[0;34m=\u001b[0m \u001b[0mFixedResistance\u001b[0m\u001b[0;34m(\u001b[0m\u001b[0;36m1e3\u001b[0m\u001b[0;34m)\u001b[0m\u001b[0;34m\u001b[0m\u001b[0;34m\u001b[0m\u001b[0m\n\u001b[0;32m----> 2\u001b[0;31m \u001b[0mr4\u001b[0m\u001b[0;34m.\u001b[0m\u001b[0mohms\u001b[0m \u001b[0;34m=\u001b[0m \u001b[0;36m2e3\u001b[0m\u001b[0;34m\u001b[0m\u001b[0;34m\u001b[0m\u001b[0m\n\u001b[0m",
      "\u001b[0;32m<ipython-input-13-ba849a43c974>\u001b[0m in \u001b[0;36mohms\u001b[0;34m(self, ohms)\u001b[0m\n\u001b[1;32m     10\u001b[0m     \u001b[0;32mdef\u001b[0m \u001b[0mohms\u001b[0m\u001b[0;34m(\u001b[0m\u001b[0mself\u001b[0m\u001b[0;34m,\u001b[0m \u001b[0mohms\u001b[0m\u001b[0;34m)\u001b[0m\u001b[0;34m:\u001b[0m\u001b[0;34m\u001b[0m\u001b[0;34m\u001b[0m\u001b[0m\n\u001b[1;32m     11\u001b[0m         \u001b[0;32mif\u001b[0m \u001b[0mhasattr\u001b[0m\u001b[0;34m(\u001b[0m\u001b[0mself\u001b[0m\u001b[0;34m,\u001b[0m \u001b[0;34m'_ohms'\u001b[0m\u001b[0;34m)\u001b[0m\u001b[0;34m:\u001b[0m\u001b[0;34m\u001b[0m\u001b[0;34m\u001b[0m\u001b[0m\n\u001b[0;32m---> 12\u001b[0;31m             \u001b[0;32mraise\u001b[0m \u001b[0mAttributeError\u001b[0m\u001b[0;34m(\u001b[0m\u001b[0;34m'Ohms is immutable'\u001b[0m\u001b[0;34m)\u001b[0m\u001b[0;34m\u001b[0m\u001b[0;34m\u001b[0m\u001b[0m\n\u001b[0m\u001b[1;32m     13\u001b[0m         \u001b[0mself\u001b[0m\u001b[0;34m.\u001b[0m\u001b[0m_ohms\u001b[0m \u001b[0;34m=\u001b[0m \u001b[0mohms\u001b[0m\u001b[0;34m\u001b[0m\u001b[0;34m\u001b[0m\u001b[0m\n",
      "\u001b[0;31mAttributeError\u001b[0m: Ohms is immutable"
     ]
    }
   ],
   "source": [
    "r4 = FixedResistance(1e3)\n",
    "r4.ohms = 2e3"
   ]
  },
  {
   "cell_type": "markdown",
   "id": "9c8721ef-e5cb-4018-b6b1-686a4bdcb669",
   "metadata": {},
   "source": [
    "用`@property`实现setter和getter时，还应该注意不要让对象产生反常行为。例如，不要在某属性的getter方法里面设置其他属性的值。"
   ]
  },
  {
   "cell_type": "code",
   "execution_count": 15,
   "id": "5f7a85c3-0f94-484a-be5e-f63c3249b88b",
   "metadata": {},
   "outputs": [],
   "source": [
    "class MysteriousResistor(Resistor):\n",
    "    @property\n",
    "    def ohms(self):\n",
    "        self.voltage = self._ohms * self.current\n",
    "        return self._ohms\n",
    "\n",
    "    @ohms.setter\n",
    "    def ohms(self, ohms):\n",
    "        self._ohms = ohms"
   ]
  },
  {
   "cell_type": "markdown",
   "id": "14bf3517-95b6-48b0-ac97-038468ec1fea",
   "metadata": {},
   "source": [
    "假如在获取属性的getter方法里修改了其他属性的值，那么用户查询这个属性时，就会觉得相当奇怪。无法理解为什么另外一个属性会在他查询这个属性时发生变换。"
   ]
  },
  {
   "cell_type": "code",
   "execution_count": 16,
   "id": "7ff39cff-a1d5-4188-981e-b3b961e2a406",
   "metadata": {},
   "outputs": [
    {
     "name": "stdout",
     "output_type": "stream",
     "text": [
      "Before: 0.00\n",
      "After:  0.10\n"
     ]
    }
   ],
   "source": [
    "r7 = MysteriousResistor(10)\n",
    "r7.current = 0.01\n",
    "print(f'Before: {r7.voltage:.2f}')\n",
    "r7.ohms\n",
    "print(f'After:  {r7.voltage:.2f}')"
   ]
  },
  {
   "cell_type": "markdown",
   "id": "0a3babbf-e769-42e5-9c4e-8331b6c2962f",
   "metadata": {},
   "source": [
    "最好的办法是，只在`@property.setter`方法里面修改状态，而且只应该修改对象之中与当前属性有关的状态。同时还要注意不要产生让调用者感到意外的一些副作用，例如，不要动态地引入模块，不要运行速度较慢的辅助函数，不要做I/O等等。\n",
    "类的属性用起来应该跟其他Python对象一样方便切快捷。如果确实要执行比较复杂或比较缓慢的操作，那么应该用普通的方法来做，而不是应该把这些操作放在获取及设置属性的这两个方法里面。\n",
    "\n",
    "`@property`最大的缺点是，通过它而编写的获取即属性设置方法只能由子类共享。与此无关的类不能共用这份逻辑。但是没关系，Python还支持描述符，我们可以利用这种机制把早前编写的属性获取与属性设置逻辑复用到其他许多地方。\n",
    "\n",
    "# #45 考虑用@property实现新的属性访问逻辑，不要急着重构原有的代码"
   ]
  },
  {
   "cell_type": "markdown",
   "id": "44e34a28-7949-48e7-8de8-464f0e5c1054",
   "metadata": {},
   "source": [
    "Python内置的`@property`修饰器使开发者很容易就能实现出灵活的逻辑，它还有一种更为高级的用法，也很常见。就是把简单的数值属性迁移成那种实时计算的属性。这个用法可以确保，按照旧写法来访问属性的代码依然有效。\n",
    "`@property`可以说是一种重要的缓冲机制，使开发者能够逐渐改善接口而不影响已经写好的代码。\n",
    "\n",
    "例如，下面我们用普通的Python对象实现带有配额(quota)的漏桶(leaky bucket)。这个类可以记录当前的配额以及这份配额在多才时间内有效。"
   ]
  },
  {
   "cell_type": "code",
   "execution_count": 6,
   "id": "3ca7bc29-2249-4276-a931-8d97dc1005c7",
   "metadata": {},
   "outputs": [],
   "source": [
    "from datetime import datetime, timedelta\n",
    "\n",
    "class Bucket:\n",
    "    def __init__(self, period):\n",
    "        self.period_delta = timedelta(seconds=period)\n",
    "        self.reset_time = datetime.now()\n",
    "        self.quota = 0\n",
    "    \n",
    "    def __repr__(self):\n",
    "        return f'Bucket(quota={self.quota})'"
   ]
  },
  {
   "cell_type": "markdown",
   "id": "769f1701-a6c5-4d39-bf99-de4b95d945ae",
   "metadata": {},
   "source": [
    "漏桶算法要求在添加配额时，不能把已有的额度带到下一个时段。"
   ]
  },
  {
   "cell_type": "code",
   "execution_count": 3,
   "id": "0773abfa-28a5-40f6-9a1e-2d9e4c5552b4",
   "metadata": {},
   "outputs": [],
   "source": [
    "def fill(bucket, amount):\n",
    "    now = datetime.now()\n",
    "    if (now  - bucket.reset_time) > bucket.period_delta:\n",
    "        bucket.quota = 0\n",
    "        bucket.reset_time = now\n",
    "    bucket.quota += amount"
   ]
  },
  {
   "cell_type": "markdown",
   "id": "9f0ef69c-79c3-41c6-89c3-b501a954570a",
   "metadata": {},
   "source": [
    "如果想使用额度，那么首先必须确保漏桶当前所剩的配额是足够用的。"
   ]
  },
  {
   "cell_type": "code",
   "execution_count": 4,
   "id": "7a339269-6ed9-454f-90ab-eb9b5ae9b7f4",
   "metadata": {},
   "outputs": [],
   "source": [
    "def deduct(bucket, amount):\n",
    "    now = datetime.now()\n",
    "    if (now - bucket.reset_time) > bucket.period_delta:\n",
    "        return False\n",
    "    if bucket.quota - amount < 0:\n",
    "        return False\n",
    "    bucket.quota -= amount\n",
    "    return True"
   ]
  },
  {
   "cell_type": "markdown",
   "id": "c12ef975-b708-4d7c-8ff8-02b7c9912c1e",
   "metadata": {},
   "source": [
    "现在我们来使用这个类。首先填额度："
   ]
  },
  {
   "cell_type": "code",
   "execution_count": 7,
   "id": "f8746ca3-53e8-40b2-b080-f32fc48f6430",
   "metadata": {},
   "outputs": [
    {
     "data": {
      "text/plain": [
       "Bucket(quota=100)"
      ]
     },
     "execution_count": 7,
     "metadata": {},
     "output_type": "execute_result"
    }
   ],
   "source": [
    "bucket = Bucket(60)\n",
    "fill(bucket, 100)\n",
    "bucket"
   ]
  },
  {
   "cell_type": "markdown",
   "id": "c47194b8-3863-4906-9c9f-43f8d095f393",
   "metadata": {},
   "source": [
    "然后根据自己的需要使用额度："
   ]
  },
  {
   "cell_type": "code",
   "execution_count": 8,
   "id": "13839edd-a276-4f81-8a4e-6fefa6e35626",
   "metadata": {},
   "outputs": [
    {
     "name": "stdout",
     "output_type": "stream",
     "text": [
      "Had 99 quota\n"
     ]
    },
    {
     "data": {
      "text/plain": [
       "Bucket(quota=1)"
      ]
     },
     "execution_count": 8,
     "metadata": {},
     "output_type": "execute_result"
    }
   ],
   "source": [
    "if deduct(bucket, 99):\n",
    "    print('Had 99 quota')\n",
    "else:\n",
    "    print('Not enough for 99 quota')\n",
    "\n",
    "bucket"
   ]
  },
  {
   "cell_type": "markdown",
   "id": "1cf6fc83-ee7c-4ccc-8fff-2737c4b61508",
   "metadata": {},
   "source": [
    "这样用下去，最终会遇到额度不够的情况。从这时开始，额度就不会再变了。"
   ]
  },
  {
   "cell_type": "code",
   "execution_count": 9,
   "id": "fed56362-7dd4-467b-adf8-9db4ac60e81d",
   "metadata": {},
   "outputs": [
    {
     "name": "stdout",
     "output_type": "stream",
     "text": [
      "Not enough for 3 quota\n"
     ]
    },
    {
     "data": {
      "text/plain": [
       "Bucket(quota=1)"
      ]
     },
     "execution_count": 9,
     "metadata": {},
     "output_type": "execute_result"
    }
   ],
   "source": [
    "if deduct(bucket, 3):\n",
    "    print('Had 3 quota')\n",
    "else:\n",
    "    print('Not enough for 3 quota')\n",
    "bucket"
   ]
  },
  {
   "cell_type": "markdown",
   "id": "7d967c89-0449-4f75-9871-7ecbbde7c498",
   "metadata": {},
   "source": [
    "这种实现方式有个问题，就是没办法知道第一次填充漏桶时，给它分配的额度。我们只知道额度会越用越少直到不够位置。\n",
    "如果当前这段时间内的额度已经降到0，那么不管你想使用多少额度，`deduct`函数都会返回`False`，除非通过`fill`函数再往里面补充额度。\n",
    "所以，当`dedcut`函数返回`False`时，了解这究竟是因为`Bucket`没有足够的额度可以扣减，还是说它一开始根本就没有分配到任何额度，很重要。\n",
    "\n",
    "为了解决这个问题，可以修改这个类，把当前时间段内的初始额度与已经使用的额度明确记录下来。"
   ]
  },
  {
   "cell_type": "code",
   "execution_count": 12,
   "id": "04903d1d-92c7-4d02-b76e-651f868adbb4",
   "metadata": {},
   "outputs": [],
   "source": [
    "class NewBucket:\n",
    "    def __init__(self, period):\n",
    "        self.period_delta = timedelta(seconds=period)\n",
    "        self.reset_time = datetime.now()\n",
    "        self.max_quota = 0\n",
    "        self.quota_consumed = 0\n",
    "    \n",
    "    def __repr__(self):\n",
    "        return (f'NewBucket(max_quota={self.max_quota}) ', f'quota_consumed={self.quota_consumed}')\n",
    "    \n",
    "    @property\n",
    "    def quota(self):\n",
    "        return self.max_quota - self.quota_consumed"
   ]
  },
  {
   "cell_type": "markdown",
   "id": "8c079fb8-6ad7-42f1-964f-5b8ac01a381b",
   "metadata": {},
   "source": [
    "同时，为了让用户能像使用原来的`Bucket`类那样使用这个新类。我们下面用这个`@property`方法根据刚才设计的那两个属性实时计算漏桶目前的水位。"
   ]
  },
  {
   "cell_type": "code",
   "execution_count": 13,
   "id": "a761d838-a14f-44eb-9646-384e194f0163",
   "metadata": {},
   "outputs": [],
   "source": [
    "class NewBucket:\n",
    "    def __init__(self, period):\n",
    "        self.period_delta = timedelta(seconds=period)\n",
    "        self.reset_time = datetime.now()\n",
    "        self.max_quota = 0\n",
    "        self.quota_consumed = 0\n",
    "    \n",
    "    def __repr__(self):\n",
    "        return (f'NewBucket(max_quota={self.max_quota}) ', f'quota_consumed={self.quota_consumed}')\n",
    "    \n",
    "    @property\n",
    "    def quota(self):\n",
    "        return self.max_quota - self.quota_consumed"
   ]
  },
  {
   "cell_type": "markdown",
   "id": "2a12ffc0-296f-41ed-90a5-64c1596f4519",
   "metadata": {},
   "source": [
    "然后，我们实现下面这个方法，用来处理quota属性的赋值操作。采用旧式的`fill`与`deduct`函数来增减额度的那些代码依然可以正常运作，因为那两个函数在修改额度时会触发这个新方法，笔者在的代码里对相关情况做了特殊处理。"
   ]
  },
  {
   "cell_type": "code",
   "execution_count": 14,
   "id": "ed1e93ef-3ffd-4ab3-a679-c5a2f2e9c80f",
   "metadata": {},
   "outputs": [],
   "source": [
    "class NewBucket:\n",
    "    def __init__(self, period):\n",
    "        self.period_delta = timedelta(seconds=period)\n",
    "        self.reset_time = datetime.now()\n",
    "        self.max_quota = 0\n",
    "        self.quota_consumed = 0\n",
    "    \n",
    "    def __repr__(self):\n",
    "        return (f'NewBucket(max_quota={self.max_quota}) ', f'quota_consumed={self.quota_consumed}')\n",
    "    \n",
    "    @property\n",
    "    def quota(self):\n",
    "        return self.max_quota - self.quota_consumed\n",
    "    \n",
    "    @quota.setter\n",
    "    def quota(self, amount):\n",
    "        delta = self.max_quota - amount\n",
    "        if amount == 0 :\n",
    "            self.quota_consumed = 0\n",
    "            self.max_quota = 0\n",
    "        elif delta < 0:\n",
    "            assert self.quota_consumed == 0\n",
    "            self.max_quota = amount\n",
    "        else:\n",
    "            assert amount > 0\n",
    "            self.quota_consumed = delta"
   ]
  },
  {
   "cell_type": "markdown",
   "id": "448ca6f6-465d-443d-bed2-47466922e74f",
   "metadata": {},
   "source": [
    "按照旧的用法来使用新的漏桶，依然可以得到正确的结果。"
   ]
  },
  {
   "cell_type": "code",
   "execution_count": 17,
   "id": "312a91f5-737d-4fd2-8935-faea3fa5a920",
   "metadata": {},
   "outputs": [
    {
     "name": "stdout",
     "output_type": "stream",
     "text": [
      "Initial Bucket(quota=1)\n",
      "Filled Bucket(quota=101)\n",
      "Had 99 quota\n",
      "Now Bucket(quota=2)\n",
      "Not enough for 3 quota\n",
      "Still Bucket(quota=2)\n"
     ]
    }
   ],
   "source": [
    "bert = NewBucket(60)\n",
    "print('Initial', bucket)\n",
    "fill(bucket, 100)\n",
    "print('Filled', bucket)\n",
    "\n",
    "if deduct(bucket, 99):\n",
    "    print('Had 99 quota')\n",
    "else:\n",
    "    print('Not enough for 99 quota')\n",
    "    \n",
    "print('Now', bucket)\n",
    "\n",
    "if deduct(bucket, 3):\n",
    "    print('Had 3 quota')\n",
    "else:\n",
    "    print('Not enough for 3 quota')\n",
    "\n",
    "print('Still', bucket)"
   ]
  },
  {
   "cell_type": "markdown",
   "id": "042f6fb6-63e8-4ad9-8d4f-60d47bf9760c",
   "metadata": {},
   "source": [
    "这个方案的最大好处是，原来根据`Bucket.quota`所写的那些代码可以继续沿用，而且无须考虑`Bucket`现在已经换成了新的`NewBucket`。"
   ]
  },
  {
   "cell_type": "markdown",
   "id": "06b8659a-87b0-4e65-98f3-0205caec4dcc",
   "metadata": {},
   "source": [
    "# #46 用描述符来改写需要复用的@property方法\n",
    "\n",
    "Python内置的`@property`机制的最大确点就是不方便复用。例如，我们要编写一个类来记录学生的家庭作业成绩，而且要确保设置的成绩位于0到100之间。"
   ]
  },
  {
   "cell_type": "code",
   "execution_count": 2,
   "id": "0942b5b1-24a5-4352-9eff-cebc697c8cd2",
   "metadata": {},
   "outputs": [],
   "source": [
    "class Homework:\n",
    "    def __init__(self):\n",
    "        self._grade = 0\n",
    "    \n",
    "    @property\n",
    "    def grade(self):\n",
    "        return self._grade\n",
    "    \n",
    "    @grade.setter\n",
    "    def grade(self, value):\n",
    "        if not (0 <= value <= 100):\n",
    "            raise ValueError(f'Grade must be betwwen 0 and 100')\n",
    "        self._grade = value"
   ]
  },
  {
   "cell_type": "markdown",
   "id": "de44f760-fe75-456e-84e2-296dcc31a834",
   "metadata": {},
   "source": [
    "受`@property`修饰的属性用起来很简单。"
   ]
  },
  {
   "cell_type": "code",
   "execution_count": 3,
   "id": "bb89064e-e925-4110-bc39-c00f3690cd6e",
   "metadata": {},
   "outputs": [],
   "source": [
    "galileo = Homework()\n",
    "galileo.grade = 95"
   ]
  },
  {
   "cell_type": "markdown",
   "id": "666e2fa9-f800-4f62-85fe-6966bb59f24e",
   "metadata": {},
   "source": [
    "假设，我们还需要写一个类记录学生的考试成绩，而且要把每科的成绩分别记录下来。"
   ]
  },
  {
   "cell_type": "code",
   "execution_count": 4,
   "id": "b4e19298-6012-4788-b4a5-b0239c56d089",
   "metadata": {},
   "outputs": [],
   "source": [
    "class Exam:\n",
    "    def __init__(self):\n",
    "        self._writing_grade = 0\n",
    "        self._math_grade = 0\n",
    "    \n",
    "    @staticmethod\n",
    "    def _check_grade(value):\n",
    "        if not (0 <= value <= 100):\n",
    "            raise ValueError(f'Grade must be betwwen 0 and 100')\n"
   ]
  },
  {
   "cell_type": "markdown",
   "id": "48d04fde-86e2-4dd4-8879-dbd553054c1b",
   "metadata": {},
   "source": [
    "这样很麻烦，因为每科的成绩都需要一套`@property`方法，而且其中设置属性值的那个方法还必须调用`_check_grade`验证新值。"
   ]
  },
  {
   "cell_type": "code",
   "execution_count": 5,
   "id": "d8d5f13b-6a86-43c8-8206-c7f4af28fb72",
   "metadata": {},
   "outputs": [],
   "source": [
    "class Exam:\n",
    "    def __init__(self):\n",
    "        self._writing_grade = 0\n",
    "        self._math_grade = 0\n",
    "    \n",
    "    @staticmethod\n",
    "    def _check_grade(value):\n",
    "        if not (0 <= value <= 100):\n",
    "            raise ValueError(f'Grade must be betwwen 0 and 100')\n",
    "    \n",
    "    @property\n",
    "    def writing_grade(self):\n",
    "        return self._writing_grade\n",
    "    \n",
    "    @writing_grade.setter\n",
    "    def writing_grade(self, value):\n",
    "        self._check_grade(value)\n",
    "        self._writing_grade = value\n",
    "    \n",
    "    @property\n",
    "    def math_grade(self):\n",
    "        return self._math_grade\n",
    "    \n",
    "    @math_grade.setter\n",
    "    def math_grade(self, value):\n",
    "        self._check_grade(value)\n",
    "        self._math_grade = value\n"
   ]
  },
  {
   "cell_type": "markdown",
   "id": "d3238187-56f3-4433-b8b3-db5ff0ee065f",
   "metadata": {},
   "source": [
    "这样写不仅麻烦，而且无法复用。\n",
    "在Python里，这样的功能最好通过描述符(descriptor)实现。描述符协议规定了程序应该如何处理属性访问操作。充当描述符的那个类能够实现`__get__`与`__set__`方法，这样其他类就可以共用这个描述符所实现的逻辑而无须把这套逻辑分别重写一遍。\n",
    "\n",
    "下面重新定义`Exam`类，这次我们采用类级别的属性来实现每科成绩的访问功能，这些属性指向下面这个`Grade`类的实例，而这个`Grade`类则实现刚才提到的描述符协议。"
   ]
  },
  {
   "cell_type": "code",
   "execution_count": 6,
   "id": "0114a879-1d03-47dc-87e2-0f56f356faea",
   "metadata": {},
   "outputs": [],
   "source": [
    "class Grade:\n",
    "    def __get__(self, instance, instance_type):\n",
    "        pass\n",
    "    def __set__(self, instance, value):\n",
    "        pass\n",
    "\n",
    "class Exam:\n",
    "    math_grade = Grade()\n",
    "    writing_grade = Grade()\n",
    "    science_grade = Grade()\n",
    "    "
   ]
  },
  {
   "cell_type": "markdown",
   "id": "dcc79bd5-aea1-4701-b525-ade3ea4cf919",
   "metadata": {},
   "source": [
    "在解释`Grade`类的工作原理之前，我们首先要知道，当程序访问`Exam`实例的某个属性时，Python如何将访问操作派发到`Exam`类的描述符属性上面。例如，如果要给`Exam`实例的`writing_grade`属性赋值："
   ]
  },
  {
   "cell_type": "code",
   "execution_count": 7,
   "id": "176888c3-be35-483d-bff2-5a1f31ce004d",
   "metadata": {},
   "outputs": [],
   "source": [
    "exam = Exam()\n",
    "exam.writing_grade = 40"
   ]
  },
  {
   "cell_type": "markdown",
   "id": "690e02b8-2117-4ff1-b6d7-d0714c9d0cec",
   "metadata": {},
   "source": [
    "那么，Python会把这次赋值操作转译为："
   ]
  },
  {
   "cell_type": "code",
   "execution_count": 8,
   "id": "3cdb9f4a-8381-45da-a2f1-c2d33bee23ff",
   "metadata": {},
   "outputs": [],
   "source": [
    "Exam.__dict__['writing_grade'].__set__(exam, 40)"
   ]
  },
  {
   "cell_type": "markdown",
   "id": "c7672996-c054-4bd7-8b45-1970c68f92a8",
   "metadata": {},
   "source": [
    "获取这个属性时也一样："
   ]
  },
  {
   "cell_type": "code",
   "execution_count": 9,
   "id": "e8efeb38-e3cd-4834-9e1f-f1db54ed0f04",
   "metadata": {},
   "outputs": [],
   "source": [
    "exam.writing_grade"
   ]
  },
  {
   "cell_type": "markdown",
   "id": "6c0a0573-b81f-404e-b6d0-a065ec3638e5",
   "metadata": {},
   "source": [
    "Python会转译为："
   ]
  },
  {
   "cell_type": "code",
   "execution_count": 10,
   "id": "1d9e3ebf-0c54-47c2-8d30-ff74c077ad72",
   "metadata": {},
   "outputs": [],
   "source": [
    "Exam.__dict__['writing_grade'].__get__(exam, Exam)"
   ]
  },
  {
   "cell_type": "markdown",
   "id": "2b6180af-a424-4775-84db-c6c6aec5282c",
   "metadata": {},
   "source": [
    "这样的转译效果是由`object`的`__getattribute__`方法促成的。简单地说，就是当`Eaxm`实例里面没有名为`writing_grade`的属性时，Python会转而在类的层面查找，查询`Eaxm`类里面有没有这样一个属性。如果有，而且还实现了`__get__`与`__set__`方法后，那么系统就认定你想通过描述符协议定义的这个属性的访问行为。\n",
    "\n",
    "知道了这条规则之后，我们来尝试把`Homework`类早前用`@property`实现的成绩验证逻辑搬到`Grade`描述符里面。"
   ]
  },
  {
   "cell_type": "code",
   "execution_count": 11,
   "id": "65f1739b-2624-4f59-bd30-4c5a375e5109",
   "metadata": {},
   "outputs": [],
   "source": [
    "class Grade:\n",
    "    def __init__(self):\n",
    "        self._value = 0\n",
    "    \n",
    "    def __get__(self, instance, instance_type):\n",
    "        return self._value\n",
    "    def __set__(self, instance, value):\n",
    "        if not (0 <= value <= 100):\n",
    "            raise ValueError(f'Grade must be betwwen 0 and 100')\n",
    "        self._value = value\n"
   ]
  },
  {
   "cell_type": "markdown",
   "id": "3e806109-7214-4d07-84b9-c8e2885866b9",
   "metadata": {},
   "source": [
    "这样写其实不对，而且会让程序出现混乱。但在同一个`Exam`实例上面访问不同的属性是没有问题的。"
   ]
  },
  {
   "cell_type": "code",
   "execution_count": 12,
   "id": "f4400cee-dd3b-4d9e-ad6d-079c4ce941a7",
   "metadata": {},
   "outputs": [
    {
     "name": "stdout",
     "output_type": "stream",
     "text": [
      "Writing 82\n",
      "Science 99\n"
     ]
    }
   ],
   "source": [
    "class Exam:\n",
    "    math_grade = Grade()\n",
    "    writing_grade = Grade()\n",
    "    science_grade = Grade()\n",
    "\n",
    "first_exam = Exam()\n",
    "first_exam.writing_grade = 82\n",
    "first_exam.science_grade = 99\n",
    "print('Writing', first_exam.writing_grade)\n",
    "print('Science', first_exam.science_grade)"
   ]
  },
  {
   "cell_type": "markdown",
   "id": "ea3eae72-45ff-4df2-944a-756e69987543",
   "metadata": {},
   "source": [
    "但是，在不同的`Exam`实例上分别访问同一个属性却会看到奇怪的结果。"
   ]
  },
  {
   "cell_type": "code",
   "execution_count": 13,
   "id": "c70d0a24-8cbc-49f0-bd71-37f6c5de682e",
   "metadata": {},
   "outputs": [
    {
     "name": "stdout",
     "output_type": "stream",
     "text": [
      "Second 75 is right\n",
      "First 75 is wrong;should be 82\n"
     ]
    }
   ],
   "source": [
    "second_exam = Exam()\n",
    "second_exam.writing_grade = 75\n",
    "\n",
    "print(f'Second {second_exam.writing_grade} is right')\n",
    "print(f'First {first_exam.writing_grade} is wrong;'\n",
    "     f'should be 82')\n"
   ]
  },
  {
   "cell_type": "markdown",
   "id": "1e125b9d-9746-4d10-b8d3-079d3384a87f",
   "metadata": {},
   "source": [
    "出现这个问题的原因在于，这些`Eaxm`实例之中的`writing_grade`属性实际上是在共享同一个`Grade`实例。\n",
    "为了解决此问题，我们必须把每个`Exam`实例在这个属性上面的取值都记录下来。可以通过字典实现每个实例的状态保存。"
   ]
  },
  {
   "cell_type": "code",
   "execution_count": 14,
   "id": "b4af42af-dab5-4975-9fbb-d2727597d23a",
   "metadata": {},
   "outputs": [],
   "source": [
    "class Grade:\n",
    "    def __init__(self):\n",
    "        self._values = {}\n",
    "    \n",
    "    def __get__(self, instance, instance_type):\n",
    "        if instance is None:\n",
    "            return self\n",
    "        return self._values.get(instance, 0)\n",
    "    def __set__(self, instance, value):\n",
    "        if not (0 <= value <= 100):\n",
    "            raise ValueError(f'Grade must be betwwen 0 and 100')\n",
    "        self._values[instance] = value\n"
   ]
  },
  {
   "cell_type": "markdown",
   "id": "872e61c2-1ec1-47a3-92e9-85859c71a2c4",
   "metadata": {},
   "source": [
    "这种实现方案很简单，而且能得到正确结果，但仍然有一个缺陷，就是会泄露内存。\n",
    "\n",
    "为了解决这个问题，我们可以求助于Python内置的`weakref`模块。该模块里有一种特殊的字典，名为`WeakKeyDictionary`，它可以取代刚才实现`_values`时所用的普通字典。\n",
    "这个字典的特殊之处在于：如果运行时系统发现，指向`Eaxm`实例的引用只剩一个，而这个引用又是由`WeakKeyDictionary`的键所发起的，那么系统会将该引用从这个特殊的字典里删掉，于是指向那个`Exam`实例的引用数量就会降为0。"
   ]
  },
  {
   "cell_type": "code",
   "execution_count": 15,
   "id": "2165b58a-c00e-4639-b1ce-e73dfb2c6188",
   "metadata": {},
   "outputs": [],
   "source": [
    "from weakref import WeakKeyDictionary\n",
    "\n",
    "class Grade:\n",
    "    def __init__(self):\n",
    "        self._values = WeakKeyDictionary()\n",
    "    \n",
    "    def __get__(self, instance, instance_type):\n",
    "        if instance is None:\n",
    "            return self\n",
    "        return self._values.get(instance, 0)\n",
    "    def __set__(self, instance, value):\n",
    "        if not (0 <= value <= 100):\n",
    "            raise ValueError(f'Grade must be betwwen 0 and 100')\n",
    "        self._values[instance] = value\n"
   ]
  },
  {
   "cell_type": "markdown",
   "id": "40e181d9-9b1a-4573-b67b-9ba5589c8c0e",
   "metadata": {},
   "source": [
    "用这种字典改写`Grade`描述符之后，`Exam`就能正常运作了。"
   ]
  },
  {
   "cell_type": "code",
   "execution_count": 16,
   "id": "c9d34ba3-179d-4855-9353-7fbd1d023d9f",
   "metadata": {},
   "outputs": [
    {
     "name": "stdout",
     "output_type": "stream",
     "text": [
      "First 82 is right\n",
      "Second 75 is right\n"
     ]
    }
   ],
   "source": [
    "class Exam:\n",
    "    math_grade = Grade()\n",
    "    writing_grade = Grade()\n",
    "    science_grade = Grade()\n",
    "\n",
    "first_exam = Exam()\n",
    "first_exam.writing_grade = 82\n",
    "second_exam = Exam()\n",
    "second_exam.writing_grade = 75\n",
    "print(f'First {first_exam.writing_grade} is right')\n",
    "print(f'Second {second_exam.writing_grade} is right')\n"
   ]
  },
  {
   "cell_type": "markdown",
   "id": "7d144c6b-1725-48eb-b715-e8a0aed4dcc6",
   "metadata": {},
   "source": [
    "# #47 针对惰性属性使用__getattr__、__getattribute__及__setattr__\n",
    "\n",
    "假设我们想把数据库中的记录表示为Python对象，数据库有它自己的模式(schema)，而程序在把记录表示成对象时，必须知道数据库是按照什么样的模式来组织这些记录的。\n",
    "\n",
    "这种动态的行为可以通过名为`__getattr__`的特殊方法来实现。如果类中定义了此方法，那么每当访问该类对象的属性，而且实例字典里又找不到这个属性时，系统就会触发`__getattr__`方法。"
   ]
  },
  {
   "cell_type": "code",
   "execution_count": 2,
   "id": "ae0ae5e0-aab9-4671-90bc-492321508180",
   "metadata": {},
   "outputs": [],
   "source": [
    "class LazyRecord:\n",
    "    def __init__(self):\n",
    "        self.exists = 5\n",
    "    def __getattr__(self, name):\n",
    "        value = f'Value for {name}'\n",
    "        setattr(self, name, value)\n",
    "        return value"
   ]
  },
  {
   "cell_type": "code",
   "execution_count": 3,
   "id": "f29860fd-8482-415d-9439-93634f89859f",
   "metadata": {},
   "outputs": [
    {
     "name": "stdout",
     "output_type": "stream",
     "text": [
      "Before:  {'exists': 5}\n",
      "foo:   Value for foo\n",
      "After:  {'exists': 5, 'foo': 'Value for foo'}\n"
     ]
    }
   ],
   "source": [
    "data = LazyRecord()\n",
    "print('Before: ', data.__dict__) # 此时并没有foo这个属性\n",
    "print('foo:  ',data.foo)\n",
    "print('After: ', data.__dict__) # 此时多了foo这个属性"
   ]
  },
  {
   "cell_type": "markdown",
   "id": "73d088ce-e53f-4dac-8b9b-48b4ae8d4d0b",
   "metadata": {},
   "source": [
    "下面我们通过子类给LazyRecord增加日志功能，用来观察程序在什么样的情况下才会调用`__getattr__`方法。"
   ]
  },
  {
   "cell_type": "code",
   "execution_count": 4,
   "id": "8e1dd44b-98de-4873-bcc1-8f1e8ac5dbce",
   "metadata": {},
   "outputs": [
    {
     "name": "stdout",
     "output_type": "stream",
     "text": [
      "exists:       5\n",
      "* Called __getattr__('foo'), populating instance dictionary\n",
      "* Returning 'Value for foo'\n",
      "Fisrt foo:    Value for foo\n",
      "Second foo:   Value for foo\n"
     ]
    }
   ],
   "source": [
    "class LoggingLazyRecord(LazyRecord):\n",
    "    def __getattr__(self, name):\n",
    "        print(f'* Called __getattr__({name!r}), populating instance dictionary')\n",
    "        result = super().__getattr__(name)\n",
    "        print(f'* Returning {result!r}')\n",
    "        return result\n",
    "\n",
    "data = LoggingLazyRecord()\n",
    "print('exists:      ', data.exists)\n",
    "print('Fisrt foo:   ', data.foo)\n",
    "print('Second foo:  ', data.foo)"
   ]
  },
  {
   "cell_type": "markdown",
   "id": "a7f0c614-bc0a-424d-bdbe-8128808dcd9c",
   "metadata": {},
   "source": [
    "`exists`属性本来就在实例字典里，所以不会触发`__getattr__`。接下来，访问`data.foo`。`foo`属性不在实例字典里，因此触发了该方法。并把`foo`属性设置到字典里。\n",
    "第二次访问的时候，已经包含这个属性，就不会触发`__getattr__`。\n",
    "\n",
    "假设我们还需要验证数据库系统的事务状态。即，用户每次访问某属性时，我们都要确保数据库里面的那条记录依然有效，而且相应的事务也处在开启状态。这个需求没有办法通过`__getattr__`实现，因为一旦对象的实例字典里包含了这个属性，那么程序就会直接从字典获取，而不会再触发`__getattr__`。\n",
    "\n",
    "为了应对这种比较高级的用法，Python的object还提供了另一个挂钩，叫做`__getattribute__`。只要访问对象中的属性，就会触发这个方法。\n",
    "于是，我们可以在这个方法里面检测全局的事务状态，但值得注意的是，这种写法开销很大。\n",
    "下面就定义`ValidtingRecord`类，让它实现我们说的方法，并在系统每次调用这个方法时，打印相关的日志消息。"
   ]
  },
  {
   "cell_type": "code",
   "execution_count": 7,
   "id": "5b2b81b6-a89d-40a7-b7d3-6eff8bca3abd",
   "metadata": {},
   "outputs": [
    {
     "name": "stdout",
     "output_type": "stream",
     "text": [
      "* Calaled __getattribute__('exists')\n",
      "* Found 'exists', returing 5\n",
      "exists:       5\n",
      "* Calaled __getattribute__('foo')\n",
      "* Setting 'foo' to 'Value for foo'\n",
      "Fisrt foo:    Value for foo\n",
      "* Calaled __getattribute__('foo')\n",
      "* Found 'foo', returing 'Value for foo'\n",
      "Second foo:   Value for foo\n"
     ]
    }
   ],
   "source": [
    "class ValidatingRecord:\n",
    "    def __init__(self):\n",
    "        self.exists = 5\n",
    "    \n",
    "    def __getattribute__(self, name):\n",
    "        print(f'* Calaled __getattribute__({name!r})')\n",
    "        try:\n",
    "            value = super().__getattribute__(name)\n",
    "            print(f'* Found {name!r}, returing {value!r}')\n",
    "            return value\n",
    "        except AttributeError:\n",
    "            value = f'Value for {name}'\n",
    "            print(f'* Setting {name!r} to {value!r}')\n",
    "            setattr(self, name, value)\n",
    "            return value\n",
    "\n",
    "data = ValidatingRecord()\n",
    "\n",
    "print('exists:      ', data.exists)\n",
    "print('Fisrt foo:   ', data.foo)\n",
    "print('Second foo:  ', data.foo)"
   ]
  },
  {
   "cell_type": "markdown",
   "id": "2bfb9fe3-d94a-423c-8d94-98283e004de4",
   "metadata": {},
   "source": [
    "如果要访问的属性根本就不应该存在，那么可以在`__getattr__`方法里面拦截。无论是`__getattr__`还是`__getattribute__`，都应该抛出标准的`AttributeError`表示属性不存在，或不适合存在的情况。"
   ]
  },
  {
   "cell_type": "code",
   "execution_count": 9,
   "id": "41008c8f-c657-4520-8001-18a4e2fe49d7",
   "metadata": {},
   "outputs": [
    {
     "ename": "AttributeError",
     "evalue": "bad_name is missing",
     "output_type": "error",
     "traceback": [
      "\u001b[0;31m---------------------------------------------------------------------------\u001b[0m",
      "\u001b[0;31mAttributeError\u001b[0m                            Traceback (most recent call last)",
      "\u001b[0;32m/var/folders/h5/58f251ws7bsfdgld4kgcv_pr0000gn/T/ipykernel_3032/1713336196.py\u001b[0m in \u001b[0;36m<module>\u001b[0;34m\u001b[0m\n\u001b[1;32m      5\u001b[0m \u001b[0;34m\u001b[0m\u001b[0m\n\u001b[1;32m      6\u001b[0m \u001b[0mdata\u001b[0m \u001b[0;34m=\u001b[0m \u001b[0mMissingPropertyRecord\u001b[0m\u001b[0;34m(\u001b[0m\u001b[0;34m)\u001b[0m\u001b[0;34m\u001b[0m\u001b[0;34m\u001b[0m\u001b[0m\n\u001b[0;32m----> 7\u001b[0;31m \u001b[0mdata\u001b[0m\u001b[0;34m.\u001b[0m\u001b[0mbad_name\u001b[0m\u001b[0;34m\u001b[0m\u001b[0;34m\u001b[0m\u001b[0m\n\u001b[0m",
      "\u001b[0;32m/var/folders/h5/58f251ws7bsfdgld4kgcv_pr0000gn/T/ipykernel_3032/1713336196.py\u001b[0m in \u001b[0;36m__getattr__\u001b[0;34m(self, name)\u001b[0m\n\u001b[1;32m      2\u001b[0m     \u001b[0;32mdef\u001b[0m \u001b[0m__getattr__\u001b[0m\u001b[0;34m(\u001b[0m\u001b[0mself\u001b[0m\u001b[0;34m,\u001b[0m \u001b[0mname\u001b[0m\u001b[0;34m)\u001b[0m\u001b[0;34m:\u001b[0m\u001b[0;34m\u001b[0m\u001b[0;34m\u001b[0m\u001b[0m\n\u001b[1;32m      3\u001b[0m         \u001b[0;32mif\u001b[0m \u001b[0mname\u001b[0m \u001b[0;34m==\u001b[0m \u001b[0;34m'bad_name'\u001b[0m\u001b[0;34m:\u001b[0m\u001b[0;34m\u001b[0m\u001b[0;34m\u001b[0m\u001b[0m\n\u001b[0;32m----> 4\u001b[0;31m             \u001b[0;32mraise\u001b[0m \u001b[0mAttributeError\u001b[0m\u001b[0;34m(\u001b[0m\u001b[0;34mf'{name} is missing'\u001b[0m\u001b[0;34m)\u001b[0m\u001b[0;34m\u001b[0m\u001b[0;34m\u001b[0m\u001b[0m\n\u001b[0m\u001b[1;32m      5\u001b[0m \u001b[0;34m\u001b[0m\u001b[0m\n\u001b[1;32m      6\u001b[0m \u001b[0mdata\u001b[0m \u001b[0;34m=\u001b[0m \u001b[0mMissingPropertyRecord\u001b[0m\u001b[0;34m(\u001b[0m\u001b[0;34m)\u001b[0m\u001b[0;34m\u001b[0m\u001b[0;34m\u001b[0m\u001b[0m\n",
      "\u001b[0;31mAttributeError\u001b[0m: bad_name is missing"
     ]
    }
   ],
   "source": [
    "class MissingPropertyRecord:\n",
    "    def __getattr__(self, name):\n",
    "        if name == 'bad_name':\n",
    "            raise AttributeError(f'{name} is missing')\n",
    "\n",
    "data = MissingPropertyRecord()\n",
    "data.bad_name"
   ]
  },
  {
   "cell_type": "markdown",
   "id": "2cfa80ec-e6ea-4534-8be0-84ef09e403d1",
   "metadata": {},
   "source": [
    "在编写通用的Python代码时，我们经常需要依靠内置的`hasattr`函数判断属性是否存在，并通过内置的`getattr`函数获取属性值。\n",
    "这些函数会先在实例的`__dict__`字典里面查找，如果找不到，则会触发`__getattr__`。"
   ]
  },
  {
   "cell_type": "code",
   "execution_count": 10,
   "id": "f8a91289-72a3-4afb-b79b-33d9ae015e53",
   "metadata": {},
   "outputs": [
    {
     "name": "stdout",
     "output_type": "stream",
     "text": [
      "Before:           {'exists': 5}\n",
      "* Called __getattr__('foo'), populating instance dictionary\n",
      "* Returning 'Value for foo'\n",
      "Has first foo:    True\n",
      "After:            {'exists': 5, 'foo': 'Value for foo'}\n",
      "Has second foo:   True\n"
     ]
    }
   ],
   "source": [
    "data = LoggingLazyRecord() # 实现 __getattr__\n",
    "print('Before:          ', data.__dict__)\n",
    "print('Has first foo:   ', hasattr(data, 'foo'))\n",
    "print('After:           ',data.__dict__)\n",
    "print('Has second foo:  ', hasattr(data, 'foo'))"
   ]
  },
  {
   "cell_type": "markdown",
   "id": "c829e31a-4261-491e-a82b-ec287ef0729e",
   "metadata": {},
   "source": [
    "在运行上面那段代码的过程中，`__getattr__`只触发了一次。\n",
    "如果实现的是`__getattribute__`方法，那么效果就不一样了，程序每次对实例做`hasattr`与`getattr`操作时，都会触发这个方法。"
   ]
  },
  {
   "cell_type": "code",
   "execution_count": 12,
   "id": "2f2ae780-ad34-4ff3-a9da-7cada8da7a91",
   "metadata": {},
   "outputs": [
    {
     "name": "stdout",
     "output_type": "stream",
     "text": [
      "* Calaled __getattribute__('foo')\n",
      "* Setting 'foo' to 'Value for foo'\n",
      "Has first foo:    True\n",
      "* Calaled __getattribute__('foo')\n",
      "* Found 'foo', returing 'Value for foo'\n",
      "Has second foo:   True\n"
     ]
    }
   ],
   "source": [
    "data = ValidatingRecord() # 实现了 __getattribute__\n",
    "print('Has first foo:   ', hasattr(data, 'foo'))\n",
    "print('Has second foo:  ', hasattr(data, 'foo'))"
   ]
  },
  {
   "cell_type": "markdown",
   "id": "3dbf2f9a-9246-4275-b04f-8bc3e79ecdb2",
   "metadata": {},
   "source": [
    "假设程序给Python对象赋值时，我们不想立刻更新数据库。这个功能可以通过`__setattr__`实现，它也是object提供的挂钩，可以拦截所有的属性赋值操作。\n",
    "属性的赋值操作只需要这一个挂钩就行。只要给实例中的属性赋值，就会触发该方法。"
   ]
  },
  {
   "cell_type": "code",
   "execution_count": 13,
   "id": "4970d26a-f87b-4f83-b736-5850fefdfcfd",
   "metadata": {},
   "outputs": [],
   "source": [
    "class SavingRecord:\n",
    "    def __setattr__(self, name, value):\n",
    "        # Save some data for the record\n",
    "        # ...\n",
    "        super().__setattr__(name, value)\n",
    "    "
   ]
  },
  {
   "cell_type": "markdown",
   "id": "f3b3d616-e827-457e-9347-b230c76cf08d",
   "metadata": {},
   "source": [
    "下面我们从上面这个类中派生一个子类，让它的`__setattr__`方法把每一次属性赋值操作都记录下来。"
   ]
  },
  {
   "cell_type": "code",
   "execution_count": 15,
   "id": "fafe84a0-c5ea-4962-b208-32bc1631d476",
   "metadata": {},
   "outputs": [
    {
     "name": "stdout",
     "output_type": "stream",
     "text": [
      "Before:  {}\n",
      "* Called __setattr__('foo', 5)\n",
      "After:   {'foo': 5}\n",
      "* Called __setattr__('foo', 7)\n",
      "Finally:  {'foo': 7}\n"
     ]
    }
   ],
   "source": [
    "class LoggingSavingRecord(SavingRecord):\n",
    "    def __setattr__(self, name, value):\n",
    "        print(f'* Called __setattr__({name!r}, {value!r})')\n",
    "        super().__setattr__(name, value)\n",
    "\n",
    "data = LoggingSavingRecord()\n",
    "print('Before: ', data.__dict__)\n",
    "data.foo = 5\n",
    "print('After:  ', data.__dict__)\n",
    "data.foo = 7\n",
    "print('Finally: ', data.__dict__)"
   ]
  },
  {
   "cell_type": "markdown",
   "id": "c70c716e-64af-492f-88b5-bc4e5bc932df",
   "metadata": {},
   "source": [
    "`__getattribute__`与`__setattr__`这样的方法有个问题，就是只要访问对象的属性，就会触发该方法。有时候，我们不希望出现这种效果。例如，我们想实现这样一个类，让它通过自制的字典而不是标准的`__dict__`来保存属性，当在这个类的实例上面访问属性时，那么该实例会从自己的`_data`字典里面查找。"
   ]
  },
  {
   "cell_type": "code",
   "execution_count": 16,
   "id": "c1711a94-45f6-413a-a2dc-026fa47f4242",
   "metadata": {},
   "outputs": [],
   "source": [
    "class BrokenDictionaryRecord:\n",
    "    def __init__(self, data):\n",
    "        self._data = {}\n",
    "    \n",
    "    def __getattribute__(self, name):\n",
    "        print(f'* Called __getattribute__({name!r})')\n",
    "        return self._data[name]\n"
   ]
  },
  {
   "cell_type": "markdown",
   "id": "16a46800-4e0c-47f8-804a-8bff28a2a731",
   "metadata": {},
   "source": [
    "可惜，这样就导致`__getattribute__`方法必须访问`self._data`才行。如果直接访问，那么程序会一直递归下去，直到崩溃。"
   ]
  },
  {
   "cell_type": "code",
   "execution_count": 18,
   "id": "d4138c24-7e31-43e0-bd31-f95db8a812be",
   "metadata": {},
   "outputs": [],
   "source": [
    "data = BrokenDictionaryRecord({'foo': 3})\n",
    "# data.foo\n",
    "# RecursionError: maximum recursion depth exceeded while calling a Python object"
   ]
  },
  {
   "cell_type": "markdown",
   "id": "0e248288-2466-48d7-bf3b-dae58eba488c",
   "metadata": {},
   "source": [
    "因为在`__getattribute__`访问`self._data`时，由于`_data`是自身的一项属性，程序会触发`__getattribute__`来获取这项属性，这又会访问到`self._data`，于是程序就一直递归下去。\n",
    "\n",
    "为了解决这个问题，我们可以改用`super().__getattribute__`方法获取`_data`属性，由于超类的`__getattribute__`是直接从实例的属性字典获取的，不会继续触发`__getattribute__`，这样就避开了递归。"
   ]
  },
  {
   "cell_type": "code",
   "execution_count": 19,
   "id": "8f0dfe30-9388-4d5f-86a1-b545f76ba1ca",
   "metadata": {},
   "outputs": [
    {
     "name": "stdout",
     "output_type": "stream",
     "text": [
      "* Called __getattribute__('foo')\n",
      "foo:  3\n"
     ]
    }
   ],
   "source": [
    "class DictionaryRecord:\n",
    "    def __init__(self, data):\n",
    "        self._data = data\n",
    "    \n",
    "    def __getattribute__(self, name):\n",
    "        print(f'* Called __getattribute__({name!r})')\n",
    "        data_dict = super().__getattribute__('_data')\n",
    "        return data_dict[name]\n",
    "\n",
    "data = DictionaryRecord({'foo': 3})\n",
    "print('foo: ', data.foo)"
   ]
  },
  {
   "cell_type": "markdown",
   "id": "9cbca987-3b85-4ad5-86e5-a1a7aae0b970",
   "metadata": {},
   "source": [
    "在`__setattr__`里面为这种对象实现属性修改逻辑时，也需要通过`super().__setattr__`来获取`_data`字典。\n",
    "\n",
    "# #48 用__init__subclass__验证子类写得是否正确\n",
    "\n",
    "元类最简单的一种用法是验证某个类定义得是否正确。元类提供了一套可靠的手段，只要根据这个元类来定义新类，就能用元类中的验证逻辑核查新类的代码写得是否正确。\n",
    "\n",
    "一般来说，我们会在`__init__`方法里面检查新对象构造得是否正确。但有时，我们想尽早拦住这个错误。例如，当程序刚刚启动并把包含这个类的模块加载进来时，我们就想验证这个类写得对不对，此时便可利用元类来实现。\n",
    "\n",
    "在讲解如何用自定义的元类验证子类之前，我们首先必须明白元类的标准用法。元类应该从`type`之中继承。\n",
    "在默认情况下，系统会把通过这个元类所定义的其他类发送给元类的`__new__`方法，让该方法知道那类的class语句时怎么写的。\n",
    "下面就定义这样一个元类，如果用户通过这个元类来定义其他类，那么在那个类真正构造出来之前，我们可以先在`__new__`里面观察到它的写法并做出修改。"
   ]
  },
  {
   "cell_type": "code",
   "execution_count": 1,
   "id": "4252bbef-f354-4735-8cc8-42daa1988644",
   "metadata": {},
   "outputs": [
    {
     "name": "stdout",
     "output_type": "stream",
     "text": [
      "* Running <class '__main__.Meta'>.__new__ for MyClass\n",
      "Base: ()\n",
      "{'__module__': '__main__', '__qualname__': 'MyClass', 'stuff': 123, 'foo': <function MyClass.foo at 0x7f7a308e5e50>}\n",
      "* Running <class '__main__.Meta'>.__new__ for MySubclass\n",
      "Base: (<class '__main__.MyClass'>,)\n",
      "{'__module__': '__main__', '__qualname__': 'MySubclass', 'other': 567, 'bar': <function MySubclass.bar at 0x7f7a30b7b040>}\n"
     ]
    }
   ],
   "source": [
    "class Meta(type):\n",
    "    def __new__(meta, name, bases, class_dict):\n",
    "        print(f\"* Running {meta}.__new__ for {name}\")\n",
    "        print(\"Base:\", bases)\n",
    "        print(class_dict)\n",
    "        return type.__new__(meta, name, bases, class_dict)\n",
    "\n",
    "class MyClass(metaclass=Meta):\n",
    "    stuff = 123\n",
    "    def foo(self):\n",
    "        pass\n",
    "    \n",
    "class MySubclass(MyClass):\n",
    "    other = 567\n",
    "    \n",
    "    def bar(self):\n",
    "        pass"
   ]
  },
  {
   "cell_type": "markdown",
   "id": "1e6e0a2d-3514-4ae0-af2c-b1cebaefe092",
   "metadata": {},
   "source": [
    "元类可以获知那个类的名称(name)，类的所有超类(bases)以及class语句体中定义的所有类属性(class_dict)。\n",
    "我们可以在元类的`__new__`方法里面添加一些代码，用来判断这个元类所定义的类的各项参数是否合理。例如，要用不同的类来表示边数不同的多边形。\n",
    "如果把这些类都纳入同一套体系，那么可以定义这样一个元类，让该体系内的所有类都受它约束。"
   ]
  },
  {
   "cell_type": "code",
   "execution_count": 2,
   "id": "08be391b-389f-4d20-974b-555650165b3c",
   "metadata": {},
   "outputs": [],
   "source": [
    "class ValidatePolygon(type):\n",
    "    def __new__(meta, name, bases, class_dict):\n",
    "        # 只验证Polygon类的子类\n",
    "        if bases:\n",
    "            if class_dict['sides'] < 3:\n",
    "                raise ValueError('Polygons need 3+ sides')\n",
    "        \n",
    "        return type.__new__(meta, name, bases, class_dict)\n",
    "\n",
    "class Polygon(metaclass=ValidatePolygon):\n",
    "    sides = None\n",
    "    @classmethod\n",
    "    def interior_angles(cls):\n",
    "        return (cls.sides - 2) * 180\n",
    "\n",
    "class Triangle(Polygon):\n",
    "    sides = 3\n",
    "\n",
    "class Rectangle(Polygon):\n",
    "    sides = 4\n",
    "\n",
    "class Nonagon(Polygon):\n",
    "    sides = 9\n",
    "\n",
    "assert Triangle.interior_angles() == 180\n",
    "assert Rectangle.interior_angles() == 360\n",
    "assert Nonagon.interior_angles() == 1260"
   ]
  },
  {
   "cell_type": "markdown",
   "id": "e45bc1fa-ef5e-417a-a462-0370fda3a820",
   "metadata": {},
   "source": [
    "如果试着定义边数小于3的多边形子类，那么刚把那个子类的class语句体写完，元类就会通过`__new__`方法察觉到这个问题。\n",
    "这意味着，只要定义了无效的多边形子类，程序就无法正常启动。"
   ]
  },
  {
   "cell_type": "code",
   "execution_count": 3,
   "id": "1aee46b1-d13c-4a3d-82e2-26c71a80e2ff",
   "metadata": {},
   "outputs": [
    {
     "name": "stdout",
     "output_type": "stream",
     "text": [
      "Before class\n",
      "Before sides\n",
      "After sides\n"
     ]
    },
    {
     "ename": "ValueError",
     "evalue": "Polygons need 3+ sides",
     "output_type": "error",
     "traceback": [
      "\u001b[0;31m---------------------------------------------------------------------------\u001b[0m",
      "\u001b[0;31mValueError\u001b[0m                                Traceback (most recent call last)",
      "\u001b[0;32m/var/folders/h5/58f251ws7bsfdgld4kgcv_pr0000gn/T/ipykernel_3997/1619289719.py\u001b[0m in \u001b[0;36m<module>\u001b[0;34m\u001b[0m\n\u001b[1;32m      1\u001b[0m \u001b[0mprint\u001b[0m\u001b[0;34m(\u001b[0m\u001b[0;34m'Before class'\u001b[0m\u001b[0;34m)\u001b[0m\u001b[0;34m\u001b[0m\u001b[0;34m\u001b[0m\u001b[0m\n\u001b[1;32m      2\u001b[0m \u001b[0;34m\u001b[0m\u001b[0m\n\u001b[0;32m----> 3\u001b[0;31m \u001b[0;32mclass\u001b[0m \u001b[0mLine\u001b[0m\u001b[0;34m(\u001b[0m\u001b[0mPolygon\u001b[0m\u001b[0;34m)\u001b[0m\u001b[0;34m:\u001b[0m\u001b[0;34m\u001b[0m\u001b[0;34m\u001b[0m\u001b[0m\n\u001b[0m\u001b[1;32m      4\u001b[0m     \u001b[0mprint\u001b[0m\u001b[0;34m(\u001b[0m\u001b[0;34m'Before sides'\u001b[0m\u001b[0;34m)\u001b[0m\u001b[0;34m\u001b[0m\u001b[0;34m\u001b[0m\u001b[0m\n\u001b[1;32m      5\u001b[0m     \u001b[0msides\u001b[0m \u001b[0;34m=\u001b[0m \u001b[0;36m2\u001b[0m\u001b[0;34m\u001b[0m\u001b[0;34m\u001b[0m\u001b[0m\n",
      "\u001b[0;32m/var/folders/h5/58f251ws7bsfdgld4kgcv_pr0000gn/T/ipykernel_3997/504365032.py\u001b[0m in \u001b[0;36m__new__\u001b[0;34m(meta, name, bases, class_dict)\u001b[0m\n\u001b[1;32m      4\u001b[0m         \u001b[0;32mif\u001b[0m \u001b[0mbases\u001b[0m\u001b[0;34m:\u001b[0m\u001b[0;34m\u001b[0m\u001b[0;34m\u001b[0m\u001b[0m\n\u001b[1;32m      5\u001b[0m             \u001b[0;32mif\u001b[0m \u001b[0mclass_dict\u001b[0m\u001b[0;34m[\u001b[0m\u001b[0;34m'sides'\u001b[0m\u001b[0;34m]\u001b[0m \u001b[0;34m<\u001b[0m \u001b[0;36m3\u001b[0m\u001b[0;34m:\u001b[0m\u001b[0;34m\u001b[0m\u001b[0;34m\u001b[0m\u001b[0m\n\u001b[0;32m----> 6\u001b[0;31m                 \u001b[0;32mraise\u001b[0m \u001b[0mValueError\u001b[0m\u001b[0;34m(\u001b[0m\u001b[0;34m'Polygons need 3+ sides'\u001b[0m\u001b[0;34m)\u001b[0m\u001b[0;34m\u001b[0m\u001b[0;34m\u001b[0m\u001b[0m\n\u001b[0m\u001b[1;32m      7\u001b[0m \u001b[0;34m\u001b[0m\u001b[0m\n\u001b[1;32m      8\u001b[0m         \u001b[0;32mreturn\u001b[0m \u001b[0mtype\u001b[0m\u001b[0;34m.\u001b[0m\u001b[0m__new__\u001b[0m\u001b[0;34m(\u001b[0m\u001b[0mmeta\u001b[0m\u001b[0;34m,\u001b[0m \u001b[0mname\u001b[0m\u001b[0;34m,\u001b[0m \u001b[0mbases\u001b[0m\u001b[0;34m,\u001b[0m \u001b[0mclass_dict\u001b[0m\u001b[0;34m)\u001b[0m\u001b[0;34m\u001b[0m\u001b[0;34m\u001b[0m\u001b[0m\n",
      "\u001b[0;31mValueError\u001b[0m: Polygons need 3+ sides"
     ]
    }
   ],
   "source": [
    "print('Before class')\n",
    "\n",
    "class Line(Polygon):\n",
    "    print('Before sides')\n",
    "    sides = 2\n",
    "    print('After sides')\n",
    "\n",
    "print('After class')"
   ]
  },
  {
   "cell_type": "markdown",
   "id": "df3bad52-eaab-4757-acc7-5ec595b39cd4",
   "metadata": {},
   "source": [
    "但是这种写法还是有点啰嗦。Python3.6引入了一种简化的写法，能够直接通过`__init__subclass__`这个特殊的类方法实现相同的功能，这样就用专门定义元类了。"
   ]
  },
  {
   "cell_type": "code",
   "execution_count": 4,
   "id": "a2443c47-aafc-4351-b2bf-6cdef4758361",
   "metadata": {},
   "outputs": [],
   "source": [
    "class BetterPolygon:\n",
    "    sides = None\n",
    "    \n",
    "    def __init_subclass__(cls):\n",
    "        super().__init_subclass__()\n",
    "        if cls.sides < 3:\n",
    "            raise ValueError('Polygons need 3+ sides')\n",
    "    \n",
    "    @classmethod\n",
    "    def interior_angles(cls):\n",
    "        return (cls.sides - 2) * 180\n",
    "\n",
    "class Hexagon(BetterPolygon):\n",
    "    sides = 6\n",
    "\n",
    "assert Hexagon.interior_angles() == 720\n"
   ]
  },
  {
   "cell_type": "markdown",
   "id": "7d7a8127-0ea3-460d-b014-fa42f3d1a943",
   "metadata": {},
   "source": [
    "现在代码简短多了。在`__init_subclass__`方法里面，我们直接通过`cls`实例来访问类级别的`sides`属性。"
   ]
  },
  {
   "cell_type": "code",
   "execution_count": 5,
   "id": "d58f3234-0ea0-4528-b5ff-5a9deffa9555",
   "metadata": {},
   "outputs": [
    {
     "name": "stdout",
     "output_type": "stream",
     "text": [
      "Before class\n"
     ]
    },
    {
     "ename": "ValueError",
     "evalue": "Polygons need 3+ sides",
     "output_type": "error",
     "traceback": [
      "\u001b[0;31m---------------------------------------------------------------------------\u001b[0m",
      "\u001b[0;31mValueError\u001b[0m                                Traceback (most recent call last)",
      "\u001b[0;32m/var/folders/h5/58f251ws7bsfdgld4kgcv_pr0000gn/T/ipykernel_3997/3548689399.py\u001b[0m in \u001b[0;36m<module>\u001b[0;34m\u001b[0m\n\u001b[1;32m      1\u001b[0m \u001b[0mprint\u001b[0m\u001b[0;34m(\u001b[0m\u001b[0;34m'Before class'\u001b[0m\u001b[0;34m)\u001b[0m\u001b[0;34m\u001b[0m\u001b[0;34m\u001b[0m\u001b[0m\n\u001b[1;32m      2\u001b[0m \u001b[0;34m\u001b[0m\u001b[0m\n\u001b[0;32m----> 3\u001b[0;31m \u001b[0;32mclass\u001b[0m \u001b[0mPoint\u001b[0m\u001b[0;34m(\u001b[0m\u001b[0mBetterPolygon\u001b[0m\u001b[0;34m)\u001b[0m\u001b[0;34m:\u001b[0m\u001b[0;34m\u001b[0m\u001b[0;34m\u001b[0m\u001b[0m\n\u001b[0m\u001b[1;32m      4\u001b[0m     \u001b[0msides\u001b[0m \u001b[0;34m=\u001b[0m \u001b[0;36m1\u001b[0m\u001b[0;34m\u001b[0m\u001b[0;34m\u001b[0m\u001b[0m\n\u001b[1;32m      5\u001b[0m \u001b[0;34m\u001b[0m\u001b[0m\n",
      "\u001b[0;32m/var/folders/h5/58f251ws7bsfdgld4kgcv_pr0000gn/T/ipykernel_3997/2055010121.py\u001b[0m in \u001b[0;36m__init_subclass__\u001b[0;34m(cls)\u001b[0m\n\u001b[1;32m      5\u001b[0m         \u001b[0msuper\u001b[0m\u001b[0;34m(\u001b[0m\u001b[0;34m)\u001b[0m\u001b[0;34m.\u001b[0m\u001b[0m__init_subclass__\u001b[0m\u001b[0;34m(\u001b[0m\u001b[0;34m)\u001b[0m\u001b[0;34m\u001b[0m\u001b[0;34m\u001b[0m\u001b[0m\n\u001b[1;32m      6\u001b[0m         \u001b[0;32mif\u001b[0m \u001b[0mcls\u001b[0m\u001b[0;34m.\u001b[0m\u001b[0msides\u001b[0m \u001b[0;34m<\u001b[0m \u001b[0;36m3\u001b[0m\u001b[0;34m:\u001b[0m\u001b[0;34m\u001b[0m\u001b[0;34m\u001b[0m\u001b[0m\n\u001b[0;32m----> 7\u001b[0;31m             \u001b[0;32mraise\u001b[0m \u001b[0mValueError\u001b[0m\u001b[0;34m(\u001b[0m\u001b[0;34m'Polygons need 3+ sides'\u001b[0m\u001b[0;34m)\u001b[0m\u001b[0;34m\u001b[0m\u001b[0;34m\u001b[0m\u001b[0m\n\u001b[0m\u001b[1;32m      8\u001b[0m \u001b[0;34m\u001b[0m\u001b[0m\n\u001b[1;32m      9\u001b[0m     \u001b[0;34m@\u001b[0m\u001b[0mclassmethod\u001b[0m\u001b[0;34m\u001b[0m\u001b[0;34m\u001b[0m\u001b[0m\n",
      "\u001b[0;31mValueError\u001b[0m: Polygons need 3+ sides"
     ]
    }
   ],
   "source": [
    "print('Before class')\n",
    "\n",
    "class Point(BetterPolygon):\n",
    "    sides = 1\n",
    "\n",
    "print('After class')"
   ]
  },
  {
   "cell_type": "markdown",
   "id": "c40807b6-bba5-47ca-b0c6-76c02b4f3cfa",
   "metadata": {},
   "source": [
    "但是这样实现有一个缺点，就是每个类只能定义一个元类。"
   ]
  },
  {
   "cell_type": "code",
   "execution_count": 6,
   "id": "d8a93282-8c0a-4f3b-be06-0a0a1410608f",
   "metadata": {},
   "outputs": [],
   "source": [
    "class ValidateFilled(type):\n",
    "    def __new__(meta, name, bases, class_dict):\n",
    "        if bases:\n",
    "            if class_dict['color'] not in ('red', 'green'):\n",
    "                raise ValueError('Fill color must be supported')\n",
    "        return type.__new__(meta, name, bases, class_dict)\n",
    "\n",
    "class Filled(metaclass=ValidateFilled):\n",
    "    color = None"
   ]
  },
  {
   "cell_type": "markdown",
   "id": "7ffee46f-60e1-406a-92a1-652b8f2ca48e",
   "metadata": {},
   "source": [
    "如果想同时利用`Filled`的元类与`Polygon`元类做验证，那么程序就会给出奇怪的错误消息。"
   ]
  },
  {
   "cell_type": "code",
   "execution_count": 7,
   "id": "a0be0971-57ec-4661-9b68-578818cd17d3",
   "metadata": {},
   "outputs": [
    {
     "ename": "TypeError",
     "evalue": "metaclass conflict: the metaclass of a derived class must be a (non-strict) subclass of the metaclasses of all its bases",
     "output_type": "error",
     "traceback": [
      "\u001b[0;31m---------------------------------------------------------------------------\u001b[0m",
      "\u001b[0;31mTypeError\u001b[0m                                 Traceback (most recent call last)",
      "\u001b[0;32m/var/folders/h5/58f251ws7bsfdgld4kgcv_pr0000gn/T/ipykernel_3997/1182594629.py\u001b[0m in \u001b[0;36m<module>\u001b[0;34m\u001b[0m\n\u001b[0;32m----> 1\u001b[0;31m \u001b[0;32mclass\u001b[0m \u001b[0mRedPentagon\u001b[0m\u001b[0;34m(\u001b[0m\u001b[0mFilled\u001b[0m\u001b[0;34m,\u001b[0m \u001b[0mPolygon\u001b[0m\u001b[0;34m)\u001b[0m\u001b[0;34m:\u001b[0m\u001b[0;34m\u001b[0m\u001b[0;34m\u001b[0m\u001b[0m\n\u001b[0m\u001b[1;32m      2\u001b[0m     \u001b[0mcolor\u001b[0m \u001b[0;34m=\u001b[0m \u001b[0;34m'red'\u001b[0m\u001b[0;34m\u001b[0m\u001b[0;34m\u001b[0m\u001b[0m\n\u001b[1;32m      3\u001b[0m     \u001b[0msides\u001b[0m \u001b[0;34m=\u001b[0m \u001b[0;36m5\u001b[0m\u001b[0;34m\u001b[0m\u001b[0;34m\u001b[0m\u001b[0m\n",
      "\u001b[0;31mTypeError\u001b[0m: metaclass conflict: the metaclass of a derived class must be a (non-strict) subclass of the metaclasses of all its bases"
     ]
    }
   ],
   "source": [
    "class RedPentagon(Filled, Polygon):\n",
    "    color = 'red'\n",
    "    sides = 5"
   ]
  },
  {
   "cell_type": "markdown",
   "id": "ef0d98a3-d9a0-4a20-be19-135cdc01f378",
   "metadata": {},
   "source": [
    "要解决这个问题，我们可以创建一套元类体系，让不同层面上的元类分别完成各自的验证逻辑。"
   ]
  },
  {
   "cell_type": "code",
   "execution_count": 8,
   "id": "eb04ac68-97f6-4578-b0db-603abc24a1fe",
   "metadata": {},
   "outputs": [],
   "source": [
    "class ValidatePolygon(type):\n",
    "    def __new__(meta, name, bases, class_dict):\n",
    "        # 再验证边数\n",
    "        if not class_dict.get('is_root'):\n",
    "            if class_dict['sides'] < 3:\n",
    "                raise ValueError('Polygons need 3+ sides')\n",
    "        \n",
    "        return type.__new__(meta, name, bases, class_dict)\n",
    "\n",
    "class Polygon(metaclass=ValidatePolygon):\n",
    "    is_root = True\n",
    "    sides = None\n",
    "\n",
    "class ValidateFilledPolygon(ValidatePolygon):\n",
    "    def __new__(meta, name, bases, class_dict):\n",
    "        # 先验证颜色\n",
    "        if not class_dict.get('is_root'):\n",
    "            if class_dict['color'] not in ('red', 'green'):\n",
    "                raise ValueError('Fill color must be supported')\n",
    "        \n",
    "        return super().__new__(meta, name, bases, class_dict)\n",
    "\n",
    "class FilledPolygon(Polygon, metaclass=ValidateFilledPolygon):\n",
    "    is_root = True\n",
    "    color = None"
   ]
  },
  {
   "cell_type": "markdown",
   "id": "88f682a2-03ad-4a7f-8396-a81dd90a317b",
   "metadata": {},
   "source": [
    "同时，这也要求我们必须设计一个支持填充色的多边形类(`FilledPolygon`)。现在带有具体填充色与边数的多边形需要从这个`FilledPolygon`里面继承。"
   ]
  },
  {
   "cell_type": "code",
   "execution_count": 9,
   "id": "43e0b140-17c0-4724-95e9-e41c6dbce095",
   "metadata": {},
   "outputs": [],
   "source": [
    "class GreenPentagon(FilledPolygon):\n",
    "    color = 'green'\n",
    "    sides = 5\n",
    "\n",
    "greenie = GreenPentagon()\n",
    "assert isinstance(greenie, Polygon)"
   ]
  },
  {
   "cell_type": "markdown",
   "id": "d48882b6-5b77-4b56-8e80-06339bd00007",
   "metadata": {},
   "source": [
    "如果采用不支持的颜色。"
   ]
  },
  {
   "cell_type": "code",
   "execution_count": 10,
   "id": "d0cca9b4-0d5a-405b-8e5d-0268f947f51b",
   "metadata": {},
   "outputs": [
    {
     "ename": "ValueError",
     "evalue": "Fill color must be supported",
     "output_type": "error",
     "traceback": [
      "\u001b[0;31m---------------------------------------------------------------------------\u001b[0m",
      "\u001b[0;31mValueError\u001b[0m                                Traceback (most recent call last)",
      "\u001b[0;32m/var/folders/h5/58f251ws7bsfdgld4kgcv_pr0000gn/T/ipykernel_3997/1696298101.py\u001b[0m in \u001b[0;36m<module>\u001b[0;34m\u001b[0m\n\u001b[0;32m----> 1\u001b[0;31m \u001b[0;32mclass\u001b[0m \u001b[0mOrangePentagon\u001b[0m\u001b[0;34m(\u001b[0m\u001b[0mFilledPolygon\u001b[0m\u001b[0;34m)\u001b[0m\u001b[0;34m:\u001b[0m\u001b[0;34m\u001b[0m\u001b[0;34m\u001b[0m\u001b[0m\n\u001b[0m\u001b[1;32m      2\u001b[0m     \u001b[0mcolor\u001b[0m \u001b[0;34m=\u001b[0m \u001b[0;34m'orange'\u001b[0m\u001b[0;34m\u001b[0m\u001b[0;34m\u001b[0m\u001b[0m\n\u001b[1;32m      3\u001b[0m     \u001b[0msides\u001b[0m \u001b[0;34m=\u001b[0m \u001b[0;36m5\u001b[0m\u001b[0;34m\u001b[0m\u001b[0;34m\u001b[0m\u001b[0m\n",
      "\u001b[0;32m/var/folders/h5/58f251ws7bsfdgld4kgcv_pr0000gn/T/ipykernel_3997/1449684336.py\u001b[0m in \u001b[0;36m__new__\u001b[0;34m(meta, name, bases, class_dict)\u001b[0m\n\u001b[1;32m     17\u001b[0m         \u001b[0;32mif\u001b[0m \u001b[0;32mnot\u001b[0m \u001b[0mclass_dict\u001b[0m\u001b[0;34m.\u001b[0m\u001b[0mget\u001b[0m\u001b[0;34m(\u001b[0m\u001b[0;34m'is_root'\u001b[0m\u001b[0;34m)\u001b[0m\u001b[0;34m:\u001b[0m\u001b[0;34m\u001b[0m\u001b[0;34m\u001b[0m\u001b[0m\n\u001b[1;32m     18\u001b[0m             \u001b[0;32mif\u001b[0m \u001b[0mclass_dict\u001b[0m\u001b[0;34m[\u001b[0m\u001b[0;34m'color'\u001b[0m\u001b[0;34m]\u001b[0m \u001b[0;32mnot\u001b[0m \u001b[0;32min\u001b[0m \u001b[0;34m(\u001b[0m\u001b[0;34m'red'\u001b[0m\u001b[0;34m,\u001b[0m \u001b[0;34m'green'\u001b[0m\u001b[0;34m)\u001b[0m\u001b[0;34m:\u001b[0m\u001b[0;34m\u001b[0m\u001b[0;34m\u001b[0m\u001b[0m\n\u001b[0;32m---> 19\u001b[0;31m                 \u001b[0;32mraise\u001b[0m \u001b[0mValueError\u001b[0m\u001b[0;34m(\u001b[0m\u001b[0;34m'Fill color must be supported'\u001b[0m\u001b[0;34m)\u001b[0m\u001b[0;34m\u001b[0m\u001b[0;34m\u001b[0m\u001b[0m\n\u001b[0m\u001b[1;32m     20\u001b[0m \u001b[0;34m\u001b[0m\u001b[0m\n\u001b[1;32m     21\u001b[0m         \u001b[0;32mreturn\u001b[0m \u001b[0msuper\u001b[0m\u001b[0;34m(\u001b[0m\u001b[0;34m)\u001b[0m\u001b[0;34m.\u001b[0m\u001b[0m__new__\u001b[0m\u001b[0;34m(\u001b[0m\u001b[0mmeta\u001b[0m\u001b[0;34m,\u001b[0m \u001b[0mname\u001b[0m\u001b[0;34m,\u001b[0m \u001b[0mbases\u001b[0m\u001b[0;34m,\u001b[0m \u001b[0mclass_dict\u001b[0m\u001b[0;34m)\u001b[0m\u001b[0;34m\u001b[0m\u001b[0;34m\u001b[0m\u001b[0m\n",
      "\u001b[0;31mValueError\u001b[0m: Fill color must be supported"
     ]
    }
   ],
   "source": [
    "class OrangePentagon(FilledPolygon):\n",
    "    color = 'orange'\n",
    "    sides = 5"
   ]
  },
  {
   "cell_type": "markdown",
   "id": "7dda7c25-7d2e-444c-83d6-d67b1306d0d6",
   "metadata": {},
   "source": [
    "`ValidateFilledPolygon`元类继承自`ValidatePolygon`，因此边数的错误也可以检查出来。"
   ]
  },
  {
   "cell_type": "code",
   "execution_count": 11,
   "id": "14e2266b-9473-4c34-842f-7a7af0139519",
   "metadata": {},
   "outputs": [
    {
     "ename": "ValueError",
     "evalue": "Polygons need 3+ sides",
     "output_type": "error",
     "traceback": [
      "\u001b[0;31m---------------------------------------------------------------------------\u001b[0m",
      "\u001b[0;31mValueError\u001b[0m                                Traceback (most recent call last)",
      "\u001b[0;32m/var/folders/h5/58f251ws7bsfdgld4kgcv_pr0000gn/T/ipykernel_3997/3139824580.py\u001b[0m in \u001b[0;36m<module>\u001b[0;34m\u001b[0m\n\u001b[0;32m----> 1\u001b[0;31m \u001b[0;32mclass\u001b[0m \u001b[0mRedLine\u001b[0m\u001b[0;34m(\u001b[0m\u001b[0mFilledPolygon\u001b[0m\u001b[0;34m)\u001b[0m\u001b[0;34m:\u001b[0m\u001b[0;34m\u001b[0m\u001b[0;34m\u001b[0m\u001b[0m\n\u001b[0m\u001b[1;32m      2\u001b[0m     \u001b[0mcolor\u001b[0m \u001b[0;34m=\u001b[0m \u001b[0;34m'red'\u001b[0m\u001b[0;34m\u001b[0m\u001b[0;34m\u001b[0m\u001b[0m\n\u001b[1;32m      3\u001b[0m     \u001b[0msides\u001b[0m \u001b[0;34m=\u001b[0m \u001b[0;36m2\u001b[0m\u001b[0;34m\u001b[0m\u001b[0;34m\u001b[0m\u001b[0m\n",
      "\u001b[0;32m/var/folders/h5/58f251ws7bsfdgld4kgcv_pr0000gn/T/ipykernel_3997/1449684336.py\u001b[0m in \u001b[0;36m__new__\u001b[0;34m(meta, name, bases, class_dict)\u001b[0m\n\u001b[1;32m     19\u001b[0m                 \u001b[0;32mraise\u001b[0m \u001b[0mValueError\u001b[0m\u001b[0;34m(\u001b[0m\u001b[0;34m'Fill color must be supported'\u001b[0m\u001b[0;34m)\u001b[0m\u001b[0;34m\u001b[0m\u001b[0;34m\u001b[0m\u001b[0m\n\u001b[1;32m     20\u001b[0m \u001b[0;34m\u001b[0m\u001b[0m\n\u001b[0;32m---> 21\u001b[0;31m         \u001b[0;32mreturn\u001b[0m \u001b[0msuper\u001b[0m\u001b[0;34m(\u001b[0m\u001b[0;34m)\u001b[0m\u001b[0;34m.\u001b[0m\u001b[0m__new__\u001b[0m\u001b[0;34m(\u001b[0m\u001b[0mmeta\u001b[0m\u001b[0;34m,\u001b[0m \u001b[0mname\u001b[0m\u001b[0;34m,\u001b[0m \u001b[0mbases\u001b[0m\u001b[0;34m,\u001b[0m \u001b[0mclass_dict\u001b[0m\u001b[0;34m)\u001b[0m\u001b[0;34m\u001b[0m\u001b[0;34m\u001b[0m\u001b[0m\n\u001b[0m\u001b[1;32m     22\u001b[0m \u001b[0;34m\u001b[0m\u001b[0m\n\u001b[1;32m     23\u001b[0m \u001b[0;32mclass\u001b[0m \u001b[0mFilledPolygon\u001b[0m\u001b[0;34m(\u001b[0m\u001b[0mPolygon\u001b[0m\u001b[0;34m,\u001b[0m \u001b[0mmetaclass\u001b[0m\u001b[0;34m=\u001b[0m\u001b[0mValidateFilledPolygon\u001b[0m\u001b[0;34m)\u001b[0m\u001b[0;34m:\u001b[0m\u001b[0;34m\u001b[0m\u001b[0;34m\u001b[0m\u001b[0m\n",
      "\u001b[0;32m/var/folders/h5/58f251ws7bsfdgld4kgcv_pr0000gn/T/ipykernel_3997/1449684336.py\u001b[0m in \u001b[0;36m__new__\u001b[0;34m(meta, name, bases, class_dict)\u001b[0m\n\u001b[1;32m      4\u001b[0m         \u001b[0;32mif\u001b[0m \u001b[0;32mnot\u001b[0m \u001b[0mclass_dict\u001b[0m\u001b[0;34m.\u001b[0m\u001b[0mget\u001b[0m\u001b[0;34m(\u001b[0m\u001b[0;34m'is_root'\u001b[0m\u001b[0;34m)\u001b[0m\u001b[0;34m:\u001b[0m\u001b[0;34m\u001b[0m\u001b[0;34m\u001b[0m\u001b[0m\n\u001b[1;32m      5\u001b[0m             \u001b[0;32mif\u001b[0m \u001b[0mclass_dict\u001b[0m\u001b[0;34m[\u001b[0m\u001b[0;34m'sides'\u001b[0m\u001b[0;34m]\u001b[0m \u001b[0;34m<\u001b[0m \u001b[0;36m3\u001b[0m\u001b[0;34m:\u001b[0m\u001b[0;34m\u001b[0m\u001b[0;34m\u001b[0m\u001b[0m\n\u001b[0;32m----> 6\u001b[0;31m                 \u001b[0;32mraise\u001b[0m \u001b[0mValueError\u001b[0m\u001b[0;34m(\u001b[0m\u001b[0;34m'Polygons need 3+ sides'\u001b[0m\u001b[0;34m)\u001b[0m\u001b[0;34m\u001b[0m\u001b[0;34m\u001b[0m\u001b[0m\n\u001b[0m\u001b[1;32m      7\u001b[0m \u001b[0;34m\u001b[0m\u001b[0m\n\u001b[1;32m      8\u001b[0m         \u001b[0;32mreturn\u001b[0m \u001b[0mtype\u001b[0m\u001b[0;34m.\u001b[0m\u001b[0m__new__\u001b[0m\u001b[0;34m(\u001b[0m\u001b[0mmeta\u001b[0m\u001b[0;34m,\u001b[0m \u001b[0mname\u001b[0m\u001b[0;34m,\u001b[0m \u001b[0mbases\u001b[0m\u001b[0;34m,\u001b[0m \u001b[0mclass_dict\u001b[0m\u001b[0;34m)\u001b[0m\u001b[0;34m\u001b[0m\u001b[0;34m\u001b[0m\u001b[0m\n",
      "\u001b[0;31mValueError\u001b[0m: Polygons need 3+ sides"
     ]
    }
   ],
   "source": [
    "class RedLine(FilledPolygon):\n",
    "    color = 'red'\n",
    "    sides = 2"
   ]
  },
  {
   "cell_type": "markdown",
   "id": "345350b3-a8b0-4c2d-8f69-435758d5e1ad",
   "metadata": {},
   "source": [
    "虽然这样能实现验证，但却没办法组合。这个问题，同样可以通过`__init_subclass__`这个特殊的类方法来解决。\n",
    "在多层的类体系中，只要内置的`super()`函数来调用`__init_subclass__`方法，系统就会按照适当的解析顺序触发超类或平级类的`__init__subclass__`方法。\n",
    "\n",
    "这种写法可以正确应对多重继承。"
   ]
  },
  {
   "cell_type": "code",
   "execution_count": 13,
   "id": "91d7f333-8a50-479f-81c4-9ee385857161",
   "metadata": {},
   "outputs": [],
   "source": [
    "class Filled:\n",
    "    color = None\n",
    "    \n",
    "    def __init_subclass__(cls):\n",
    "        super().__init_subclass__()\n",
    "        if cls.color not in ('red', 'green', 'blue'):\n",
    "            raise ValueError('Fills need a valid color')"
   ]
  },
  {
   "cell_type": "markdown",
   "id": "07cc8f19-df6f-41d8-8150-31ea96cebbce",
   "metadata": {},
   "source": [
    "现在，我们就来定义这样的子类。定义好之后，系统会触发其中一个超类的`__init_subclass__`方法，而那个方法又会通过`super()`正确触发另一个超类的`__init_subclass__`方法。"
   ]
  },
  {
   "cell_type": "code",
   "execution_count": 14,
   "id": "e40e0cf3-da6a-4ba6-ad48-d55272dddb93",
   "metadata": {},
   "outputs": [],
   "source": [
    "class RedTriangle(Filled, BetterPolygon):\n",
    "    color = 'red'\n",
    "    sides = 3\n",
    "\n",
    "ruddy = RedTriangle()\n",
    "assert isinstance(ruddy, Filled)\n",
    "assert isinstance(ruddy, BetterPolygon)"
   ]
  },
  {
   "cell_type": "markdown",
   "id": "fb02fe1d-2685-4581-8d32-e8a3a14c184b",
   "metadata": {},
   "source": [
    "如果子类的边数不符合要求："
   ]
  },
  {
   "cell_type": "code",
   "execution_count": 15,
   "id": "33ff23ab-6417-431c-9b15-d731f385e176",
   "metadata": {},
   "outputs": [
    {
     "name": "stdout",
     "output_type": "stream",
     "text": [
      "Before class\n"
     ]
    },
    {
     "ename": "ValueError",
     "evalue": "Polygons need 3+ sides",
     "output_type": "error",
     "traceback": [
      "\u001b[0;31m---------------------------------------------------------------------------\u001b[0m",
      "\u001b[0;31mValueError\u001b[0m                                Traceback (most recent call last)",
      "\u001b[0;32m/var/folders/h5/58f251ws7bsfdgld4kgcv_pr0000gn/T/ipykernel_3997/2550909414.py\u001b[0m in \u001b[0;36m<module>\u001b[0;34m\u001b[0m\n\u001b[1;32m      1\u001b[0m \u001b[0mprint\u001b[0m\u001b[0;34m(\u001b[0m\u001b[0;34m'Before class'\u001b[0m\u001b[0;34m)\u001b[0m\u001b[0;34m\u001b[0m\u001b[0;34m\u001b[0m\u001b[0m\n\u001b[1;32m      2\u001b[0m \u001b[0;34m\u001b[0m\u001b[0m\n\u001b[0;32m----> 3\u001b[0;31m \u001b[0;32mclass\u001b[0m \u001b[0mBlueLine\u001b[0m\u001b[0;34m(\u001b[0m\u001b[0mFilled\u001b[0m\u001b[0;34m,\u001b[0m \u001b[0mBetterPolygon\u001b[0m\u001b[0;34m)\u001b[0m\u001b[0;34m:\u001b[0m\u001b[0;34m\u001b[0m\u001b[0;34m\u001b[0m\u001b[0m\n\u001b[0m\u001b[1;32m      4\u001b[0m     \u001b[0mcolor\u001b[0m \u001b[0;34m=\u001b[0m \u001b[0;34m'blue'\u001b[0m\u001b[0;34m\u001b[0m\u001b[0;34m\u001b[0m\u001b[0m\n\u001b[1;32m      5\u001b[0m     \u001b[0msides\u001b[0m \u001b[0;34m=\u001b[0m \u001b[0;36m2\u001b[0m\u001b[0;34m\u001b[0m\u001b[0;34m\u001b[0m\u001b[0m\n",
      "\u001b[0;32m/var/folders/h5/58f251ws7bsfdgld4kgcv_pr0000gn/T/ipykernel_3997/3501412681.py\u001b[0m in \u001b[0;36m__init_subclass__\u001b[0;34m(cls)\u001b[0m\n\u001b[1;32m      3\u001b[0m \u001b[0;34m\u001b[0m\u001b[0m\n\u001b[1;32m      4\u001b[0m     \u001b[0;32mdef\u001b[0m \u001b[0m__init_subclass__\u001b[0m\u001b[0;34m(\u001b[0m\u001b[0mcls\u001b[0m\u001b[0;34m)\u001b[0m\u001b[0;34m:\u001b[0m\u001b[0;34m\u001b[0m\u001b[0;34m\u001b[0m\u001b[0m\n\u001b[0;32m----> 5\u001b[0;31m         \u001b[0msuper\u001b[0m\u001b[0;34m(\u001b[0m\u001b[0;34m)\u001b[0m\u001b[0;34m.\u001b[0m\u001b[0m__init_subclass__\u001b[0m\u001b[0;34m(\u001b[0m\u001b[0;34m)\u001b[0m\u001b[0;34m\u001b[0m\u001b[0;34m\u001b[0m\u001b[0m\n\u001b[0m\u001b[1;32m      6\u001b[0m         \u001b[0;32mif\u001b[0m \u001b[0mcls\u001b[0m\u001b[0;34m.\u001b[0m\u001b[0mcolor\u001b[0m \u001b[0;32mnot\u001b[0m \u001b[0;32min\u001b[0m \u001b[0;34m(\u001b[0m\u001b[0;34m'red'\u001b[0m\u001b[0;34m,\u001b[0m \u001b[0;34m'green'\u001b[0m\u001b[0;34m,\u001b[0m \u001b[0;34m'blue'\u001b[0m\u001b[0;34m)\u001b[0m\u001b[0;34m:\u001b[0m\u001b[0;34m\u001b[0m\u001b[0;34m\u001b[0m\u001b[0m\n\u001b[1;32m      7\u001b[0m             \u001b[0;32mraise\u001b[0m \u001b[0mValueError\u001b[0m\u001b[0;34m(\u001b[0m\u001b[0;34m'Fills need a valid color'\u001b[0m\u001b[0;34m)\u001b[0m\u001b[0;34m\u001b[0m\u001b[0;34m\u001b[0m\u001b[0m\n",
      "\u001b[0;32m/var/folders/h5/58f251ws7bsfdgld4kgcv_pr0000gn/T/ipykernel_3997/2055010121.py\u001b[0m in \u001b[0;36m__init_subclass__\u001b[0;34m(cls)\u001b[0m\n\u001b[1;32m      5\u001b[0m         \u001b[0msuper\u001b[0m\u001b[0;34m(\u001b[0m\u001b[0;34m)\u001b[0m\u001b[0;34m.\u001b[0m\u001b[0m__init_subclass__\u001b[0m\u001b[0;34m(\u001b[0m\u001b[0;34m)\u001b[0m\u001b[0;34m\u001b[0m\u001b[0;34m\u001b[0m\u001b[0m\n\u001b[1;32m      6\u001b[0m         \u001b[0;32mif\u001b[0m \u001b[0mcls\u001b[0m\u001b[0;34m.\u001b[0m\u001b[0msides\u001b[0m \u001b[0;34m<\u001b[0m \u001b[0;36m3\u001b[0m\u001b[0;34m:\u001b[0m\u001b[0;34m\u001b[0m\u001b[0;34m\u001b[0m\u001b[0m\n\u001b[0;32m----> 7\u001b[0;31m             \u001b[0;32mraise\u001b[0m \u001b[0mValueError\u001b[0m\u001b[0;34m(\u001b[0m\u001b[0;34m'Polygons need 3+ sides'\u001b[0m\u001b[0;34m)\u001b[0m\u001b[0;34m\u001b[0m\u001b[0;34m\u001b[0m\u001b[0m\n\u001b[0m\u001b[1;32m      8\u001b[0m \u001b[0;34m\u001b[0m\u001b[0m\n\u001b[1;32m      9\u001b[0m     \u001b[0;34m@\u001b[0m\u001b[0mclassmethod\u001b[0m\u001b[0;34m\u001b[0m\u001b[0;34m\u001b[0m\u001b[0m\n",
      "\u001b[0;31mValueError\u001b[0m: Polygons need 3+ sides"
     ]
    }
   ],
   "source": [
    "print('Before class')\n",
    "\n",
    "class BlueLine(Filled, BetterPolygon):\n",
    "    color = 'blue'\n",
    "    sides = 2\n",
    "\n",
    "print('After class')"
   ]
  },
  {
   "cell_type": "markdown",
   "id": "b517f724-a469-4a13-96ff-460b88ba4061",
   "metadata": {},
   "source": [
    "`__init_subclass__`还可以处理更为复杂的情况，例如棱形继承。"
   ]
  },
  {
   "cell_type": "code",
   "execution_count": 16,
   "id": "c2ce20ce-a072-4f05-9ea2-791220bfc738",
   "metadata": {},
   "outputs": [
    {
     "name": "stdout",
     "output_type": "stream",
     "text": [
      "Top for <class '__main__.Left'>\n",
      "Top for <class '__main__.Right'>\n",
      "Top for <class '__main__.Bottom'>\n",
      "Right for <class '__main__.Bottom'>\n",
      "Left for <class '__main__.Bottom'>\n"
     ]
    }
   ],
   "source": [
    "class Top:\n",
    "    def __init_subclass__(cls):\n",
    "        super().__init_subclass__()\n",
    "        print(f'Top for {cls}')\n",
    "    \n",
    "class Left(Top):\n",
    "    def __init_subclass__(cls):\n",
    "        super().__init_subclass__()\n",
    "        print(f'Left for {cls}')\n",
    "\n",
    "class Right(Top):\n",
    "    def __init_subclass__(cls):\n",
    "        super().__init_subclass__()\n",
    "        print(f'Right for {cls}')\n",
    "\n",
    "class Bottom(Left, Right):\n",
    "    def __init_subclass__(cls):\n",
    "        super().__init_subclass__()\n",
    "        print(f'Bottom for {cls}')"
   ]
  },
  {
   "cell_type": "markdown",
   "id": "549786c3-49b4-42e0-84d5-20f3d69e3706",
   "metadata": {},
   "source": [
    "由于是通过`super()`触发`__init_subclass__`，系统在处理`Bottom`类的定义时，只会把`Top`类的`__init_subclss__`执行一遍。\n",
    "\n",
    "# #49 用__init_subclass__记录现有的子类\n",
    "\n",
    "元类还有个常见的用途，是可以自动记录程序之中的类型。利用这项功能，我们就能根据某个标识符反向查出它对应的类。\n",
    "\n",
    "比如，我们想给Python对象做序列化处理，并将其表示成JSON格式的数据。要实现这个功能，首先得想法把对象转换成JSON字符串。"
   ]
  },
  {
   "cell_type": "code",
   "execution_count": 1,
   "id": "c47fed58-bf7d-484e-80d2-8cc763819029",
   "metadata": {},
   "outputs": [],
   "source": [
    "import json\n",
    "class Serializable:\n",
    "    def __init__(self, *args):\n",
    "        self.args = args\n",
    "    \n",
    "    def serialize(self):\n",
    "        return json.dumps({'args': self.args})"
   ]
  },
  {
   "cell_type": "markdown",
   "id": "fd5f96ad-7fbc-4e30-bf43-927efb8114b1",
   "metadata": {},
   "source": [
    "这样，我们可以把`Point2D`这样简单而不可变得数据转化成JSON字符串。"
   ]
  },
  {
   "cell_type": "code",
   "execution_count": 3,
   "id": "93b4a50a-c61e-4fbf-9a94-0202595e6ae8",
   "metadata": {},
   "outputs": [
    {
     "name": "stdout",
     "output_type": "stream",
     "text": [
      "Object:     Point2D(5, 3)\n",
      "Serialized: {\"args\": [5, 3]}\n"
     ]
    }
   ],
   "source": [
    "class Point2D(Serializable):\n",
    "    def __init__(self, x, y):\n",
    "        super().__init__(x, y)\n",
    "        self.x = x\n",
    "        self.y = y\n",
    "    \n",
    "    def __repr__(self):\n",
    "        return f'Point2D({self.x}, {self.y})'\n",
    "\n",
    "point = Point2D(5, 3)\n",
    "print('Object:    ', point)\n",
    "print('Serialized:', point.serialize())"
   ]
  },
  {
   "cell_type": "markdown",
   "id": "9d71a23d-507a-4d9d-b0f2-88c2723137a3",
   "metadata": {},
   "source": [
    "假设还需要实现反序列功能。"
   ]
  },
  {
   "cell_type": "code",
   "execution_count": 4,
   "id": "06dcbd1e-ed1c-49d3-8d27-c040f291eee7",
   "metadata": {},
   "outputs": [],
   "source": [
    "class Deserializable(Serializable):\n",
    "    @classmethod\n",
    "    def deserialize(cls, json_data):\n",
    "        params = json.loads(json_data)\n",
    "        return cls(*params['args'])"
   ]
  },
  {
   "cell_type": "markdown",
   "id": "42743f2b-efef-46c4-86f0-4a5ef5b6b065",
   "metadata": {},
   "source": [
    "这样，就可以让简单的不可变数据同时具备序列化与反序列化功能。"
   ]
  },
  {
   "cell_type": "code",
   "execution_count": 5,
   "id": "89b07bb0-4244-48c8-ac07-46ee770bcb6e",
   "metadata": {},
   "outputs": [
    {
     "name": "stdout",
     "output_type": "stream",
     "text": [
      "Before:     Point2D(5, 3)\n",
      "Serialized: {\"args\": [5, 3]}\n",
      "After:      Point2D(5, 3)\n"
     ]
    }
   ],
   "source": [
    "class BetterPoint2D(Deserializable):\n",
    "    def __init__(self, x, y):\n",
    "        super().__init__(x, y)\n",
    "        self.x = x\n",
    "        self.y = y\n",
    "    \n",
    "    def __repr__(self):\n",
    "        return f'Point2D({self.x}, {self.y})'\n",
    "\n",
    "before = BetterPoint2D(5, 3)\n",
    "print('Before:    ', before)\n",
    "data = before.serialize()\n",
    "print('Serialized:', data)\n",
    "after = BetterPoint2D.deserialize(data)\n",
    "print('After:     ', after)"
   ]
  },
  {
   "cell_type": "markdown",
   "id": "0192a060-e47a-44f7-94b5-1d7a01808f08",
   "metadata": {},
   "source": [
    "缺点是，我们必须提前知道JSON字符串所表示的类型，然后才能还原成对象。\n",
    "我们来改进它。"
   ]
  },
  {
   "cell_type": "code",
   "execution_count": 7,
   "id": "ebd2450d-90fd-4d7d-8cf9-b0b6aa2f5685",
   "metadata": {},
   "outputs": [],
   "source": [
    "class BetterSerializable:\n",
    "    def __init__(self, *args):\n",
    "        self.args = args\n",
    "    \n",
    "    def serialize(self):\n",
    "        return json.dumps({\n",
    "            # 同时把所表示的类型存储\n",
    "            'class': self.__class__.__name__,\n",
    "            'args': self.args,\n",
    "        })\n",
    "\n",
    "    def __repr__(self):\n",
    "        name = self.__class__.__name__\n",
    "        args_str = ', '.join(str(x) for x in self.args)\n",
    "        return f'{name}({args_str})'"
   ]
  },
  {
   "cell_type": "markdown",
   "id": "4f7a1e71-f0b0-4089-b955-7224717b9ccb",
   "metadata": {},
   "source": [
    "然后，用一份字典把支持序列化与反序列化的类记录下来，凡是经过`register_class`注册的类，其JSON数据都可以通过`deserialize`函数还原成相应的对象。"
   ]
  },
  {
   "cell_type": "code",
   "execution_count": 17,
   "id": "58fa8edf-a7bd-40c2-9009-43268eaa1914",
   "metadata": {},
   "outputs": [],
   "source": [
    "registry = {}\n",
    "\n",
    "def register_class(target_class):\n",
    "    registry[target_class.__name__] = target_class\n",
    "\n",
    "def deserialize(data):\n",
    "    params = json.loads(data)\n",
    "    name = params['class']\n",
    "    target_class = registry[name]\n",
    "    return target_class(*params['args'])"
   ]
  },
  {
   "cell_type": "markdown",
   "id": "d51daa16-c7a3-466d-8ea4-82bc6820dafa",
   "metadata": {},
   "source": [
    "为确保`deserialize`函数能正确还原JSON数据，必须调用上面的注册方法。"
   ]
  },
  {
   "cell_type": "code",
   "execution_count": 18,
   "id": "4036a305-ca2a-4c67-8609-ccc70877fd4d",
   "metadata": {},
   "outputs": [],
   "source": [
    "class EvenBetterPoint2D(BetterSerializable):\n",
    "    def __init__(self, x, y):\n",
    "        super().__init__(x, y)\n",
    "        self.x = x\n",
    "        self.y = y\n",
    "\n",
    "register_class(EvenBetterPoint2D)"
   ]
  },
  {
   "cell_type": "markdown",
   "id": "89b8249f-ea09-4129-9f47-4d1ad11ddb79",
   "metadata": {},
   "source": [
    "这样就可以把任意的JSON字符串都还原为相应的对象，而不需要明确指出类名，因为`deserialize`函数会从注册字典里面查询。"
   ]
  },
  {
   "cell_type": "code",
   "execution_count": 19,
   "id": "be25ad7f-1204-4dce-9c6b-503e738332ce",
   "metadata": {},
   "outputs": [
    {
     "name": "stdout",
     "output_type": "stream",
     "text": [
      "Before:     EvenBetterPoint2D(5, 3)\n",
      "Serialized: {\"class\": \"EvenBetterPoint2D\", \"args\": [5, 3]}\n",
      "After:      EvenBetterPoint2D(5, 3)\n"
     ]
    }
   ],
   "source": [
    "before = EvenBetterPoint2D(5, 3)\n",
    "print('Before:    ', before)\n",
    "data = before.serialize()\n",
    "print('Serialized:', data)\n",
    "after = deserialize(data)\n",
    "print('After:     ', after)"
   ]
  },
  {
   "cell_type": "markdown",
   "id": "7bc1c8ed-994a-4bbf-acfc-deb9244c6398",
   "metadata": {},
   "source": [
    "如果忘记调用注册方法，就会出问题。\n",
    "\n",
    "那如何优化呢？\n",
    "\n",
    "可以通过元类实现，让元类自动调用注册方法。"
   ]
  },
  {
   "cell_type": "code",
   "execution_count": 20,
   "id": "9b8e854e-41f4-49a9-b2db-b8e56633b060",
   "metadata": {},
   "outputs": [],
   "source": [
    "class Meta(type):\n",
    "    def __new__(meta, name, bases, class_dict):\n",
    "        cls = type.__new__(meta, name, bases, class_dict)\n",
    "        register_class(cls)\n",
    "        return cls\n",
    "    \n",
    "class RegisteredSerializable(BetterSerializable, metaclass=Meta):\n",
    "    pass"
   ]
  },
  {
   "cell_type": "markdown",
   "id": "7bebf449-1dbc-41d8-a1da-54949dcfc973",
   "metadata": {},
   "source": [
    "用户只要把`RegisteredSerializable`的子类定义完就好。"
   ]
  },
  {
   "cell_type": "code",
   "execution_count": 22,
   "id": "a52bb20e-1a5e-4788-bab9-1e49e523e8d6",
   "metadata": {},
   "outputs": [
    {
     "name": "stdout",
     "output_type": "stream",
     "text": [
      "Before:     Vector3D(10, -7, 3)\n",
      "Serialized: {\"class\": \"Vector3D\", \"args\": [10, -7, 3]}\n",
      "After:      Vector3D(10, -7, 3)\n"
     ]
    }
   ],
   "source": [
    "class Vector3D(RegisteredSerializable):\n",
    "    def __init__(self, x, y, z):\n",
    "        super().__init__(x, y, z)\n",
    "        self.x, self.y, self.z = x, y, z\n",
    "        \n",
    "before = Vector3D(10, -7, 3)\n",
    "print('Before:    ', before)\n",
    "data = before.serialize()\n",
    "print('Serialized:', data)\n",
    "print('After:     ', deserialize(data))"
   ]
  },
  {
   "cell_type": "markdown",
   "id": "64b30a98-7b0e-4aa3-8385-a9b5d50c5677",
   "metadata": {},
   "source": [
    "还有简单的办法。通过`__init_subclss__`特殊类方法实现。"
   ]
  },
  {
   "cell_type": "code",
   "execution_count": 23,
   "id": "7229ea3b-63f1-42e1-b44a-9bb11890d704",
   "metadata": {},
   "outputs": [
    {
     "name": "stdout",
     "output_type": "stream",
     "text": [
      "Before:     Vector1D(6)\n",
      "Serialized: {\"class\": \"Vector1D\", \"args\": [6]}\n",
      "After:      Vector1D(6)\n"
     ]
    }
   ],
   "source": [
    "class BetterRegisteredSerializable(BetterSerializable):\n",
    "    def __init_subclass__(cls):\n",
    "        super().__init_subclass__()\n",
    "        register_class(cls)\n",
    "\n",
    "class Vector1D(BetterRegisteredSerializable):\n",
    "    def __init__(self, magnitude):\n",
    "        super().__init__(magnitude)\n",
    "        self.magnitude = magnitude\n",
    "    \n",
    "    \n",
    "before = Vector1D(6)\n",
    "print('Before:    ', before)\n",
    "data = before.serialize()\n",
    "print('Serialized:', data)\n",
    "print('After:     ', deserialize(data))"
   ]
  },
  {
   "cell_type": "markdown",
   "id": "76ab645d-8b51-4f62-abf4-650a0eeb1bfe",
   "metadata": {},
   "source": [
    "# #50 用__set_name__给类属性加注解\n",
    "\n",
    "元类还有一个更有用的功能，可以在某个类真正投入使用之前，率先修改或注解这个类所定义的属性。这通常需要与描述符搭配使用。\n",
    "\n",
    "例如，我们要定义一个新的类，来表示客户数据库中的每一行数据。这个类需要定义一些属性，与数据表中的各列相对应，每个属性都分别表示这行数据在这一列的取值。下面用描述符来实现这些属性，把她们和数据表中同名的列联系起来。"
   ]
  },
  {
   "cell_type": "code",
   "execution_count": 1,
   "id": "13961bc2-d324-492d-a7a0-6ac9cdef5235",
   "metadata": {},
   "outputs": [],
   "source": [
    "class Field:\n",
    "    def __init__(self, name):\n",
    "        self.name = name\n",
    "        self.internel_name =  '_' + self.name\n",
    "    \n",
    "    def __get__(self, instance, instance_type):\n",
    "        if instance is None:\n",
    "            return self\n",
    "        return getattr(instance, self.internel_name, '')\n",
    "    \n",
    "    def __set__(self, instance, value):\n",
    "        setattr(instance, self.internel_name, value)"
   ]
  },
  {
   "cell_type": "markdown",
   "id": "8ba10565-f872-4cff-85d3-c42608879b25",
   "metadata": {},
   "source": [
    "`Field`描述符的`name`属性指的是数据表中那一列的列名，所以，我们通过`setattr`把每行数据在这个属性上的取值保存到那行数据自己的状态字典里面去。\n",
    "\n",
    "下面定义`Customer`类，每个`Customer`都表示数据表中的一行数据，其中的四个属性分别对应于这行数据在那四列上面的取值。"
   ]
  },
  {
   "cell_type": "code",
   "execution_count": 2,
   "id": "d1cade00-e04b-4061-a8cc-66acf5c28001",
   "metadata": {},
   "outputs": [],
   "source": [
    "class Customer:\n",
    "    # 类属性\n",
    "    first_name = Field('first_name')\n",
    "    last_name = Field('last_name')\n",
    "    prefix = Field('prefix')\n",
    "    suffix = Field('suffix')"
   ]
  },
  {
   "cell_type": "markdown",
   "id": "4873fcb9-b466-4da1-a39a-211f73080b60",
   "metadata": {},
   "source": [
    "这个类用起来很简单。"
   ]
  },
  {
   "cell_type": "code",
   "execution_count": 3,
   "id": "fd7093f4-c1ce-45c0-a987-fb9c0d2173f5",
   "metadata": {},
   "outputs": [
    {
     "name": "stdout",
     "output_type": "stream",
     "text": [
      "Before: '' {}\n",
      "After: 'Euclid' {'_first_name': 'Euclid'}\n"
     ]
    }
   ],
   "source": [
    "cust = Customer()\n",
    "print(f'Before: {cust.first_name!r} {cust.__dict__}')\n",
    "cust.first_name = 'Euclid'\n",
    "print(f'After: {cust.first_name!r} {cust.__dict__}')"
   ]
  },
  {
   "cell_type": "markdown",
   "id": "48986df3-f0b1-4543-8923-c07e64ba7013",
   "metadata": {},
   "source": [
    "这样写虽然没错，但是有点啰嗦。`first_name = Field('first_name')`中出现了两个`first_name`。\n",
    "\n",
    "元类可以当作class语句的挂钩，只要class语句体定义完毕，元类就会看到它的写法并尽快做出应对。我们看如何修改。"
   ]
  },
  {
   "cell_type": "code",
   "execution_count": 13,
   "id": "79a9332f-ffb6-4a73-a582-c60aecae9704",
   "metadata": {},
   "outputs": [],
   "source": [
    "class Meta(type):\n",
    "    def __new__(meta, name, bases, class_dict):\n",
    "        for key, value in class_dict.items():\n",
    "            if isinstance(value, Field):\n",
    "                value.name = key\n",
    "                value.internal_name = '_' + key\n",
    "        cls = type.__new__(meta, name, bases, class_dict)\n",
    "        return cls"
   ]
  },
  {
   "cell_type": "markdown",
   "id": "3959613c-ff1a-4cd8-b852-926875c9f3d7",
   "metadata": {},
   "source": [
    "下面定义一个基类，让该基类把刚才定义好的`Meta`当成元类。凡是表示数据库某行的类都继承自该基类，以确保它们可以利用元类所提供的功能。"
   ]
  },
  {
   "cell_type": "code",
   "execution_count": 14,
   "id": "49b00d55-5674-4be1-8cc2-8da3697ed262",
   "metadata": {},
   "outputs": [],
   "source": [
    "class DatabaseRow(metaclass=Meta):\n",
    "    pass"
   ]
  },
  {
   "cell_type": "markdown",
   "id": "00da377b-2b4c-4fd0-9366-ceff710aa26f",
   "metadata": {},
   "source": [
    "为了跟元类配合，`Field`描述符需要稍加调整。"
   ]
  },
  {
   "cell_type": "code",
   "execution_count": 24,
   "id": "b67d872b-281b-40e7-bbeb-329354f09892",
   "metadata": {},
   "outputs": [],
   "source": [
    "class Field:\n",
    "    def __init__(self):\n",
    "        # 这些通过元类来设置\n",
    "        self.name = None\n",
    "        self.internal_name = None\n",
    "    \n",
    "    def __get__(self, instance, instance_type):\n",
    "        if instance is None:\n",
    "            return self\n",
    "        return getattr(instance, self.internal_name, '')\n",
    "    \n",
    "    def __set__(self, instance, value):\n",
    "        setattr(instance, self.internal_name, value)"
   ]
  },
  {
   "cell_type": "markdown",
   "id": "9818e4fb-e8e4-4316-971e-831f866655ea",
   "metadata": {},
   "source": [
    "这样，代码就不像之前那么冗余了。"
   ]
  },
  {
   "cell_type": "code",
   "execution_count": 25,
   "id": "aa04c417-fb7d-4a28-8cea-8b81968767aa",
   "metadata": {},
   "outputs": [],
   "source": [
    "class BetterCustomer(DatabaseRow):\n",
    "    first_name = Field()\n",
    "    last_name = Field()\n",
    "    prefix = Field()\n",
    "    suffix = Field()"
   ]
  },
  {
   "cell_type": "code",
   "execution_count": 26,
   "id": "e823d3a3-0b03-4059-8f96-7353ecf27eed",
   "metadata": {},
   "outputs": [
    {
     "name": "stdout",
     "output_type": "stream",
     "text": [
      "Before: '' {}\n",
      "After: 'Euler' {'_first_name': 'Euler'}\n"
     ]
    }
   ],
   "source": [
    "cust = BetterCustomer()\n",
    "print(f'Before: {cust.first_name!r} {cust.__dict__}')\n",
    "cust.first_name = 'Euler'\n",
    "print(f'After: {cust.first_name!r} {cust.__dict__}')"
   ]
  },
  {
   "cell_type": "markdown",
   "id": "bd010f36-d97d-4de3-a535-8b8acc7fa130",
   "metadata": {},
   "source": [
    "这个方法的缺点是，必须从`DatabaseRow`继承。如果不能继承，那么代码就会无法运行。\n",
    "这个问题可以通过给描述符定义`__set_name__`特殊来解决。如果某个类用这种描述符来定义字段，那么系统就会在描述符上面触发这个特殊方法。\n",
    "下面我们将`Meta.__new__`之中的逻辑移动到Field描述符的`__set_name__`里面。"
   ]
  },
  {
   "cell_type": "code",
   "execution_count": 2,
   "id": "e7ecea86-28f7-421b-874c-63fdfac23a4e",
   "metadata": {},
   "outputs": [],
   "source": [
    "class Field:\n",
    "    def __init__(self):\n",
    "        # 这些通过元类来设置\n",
    "        self.name = None\n",
    "        self.internal_name = None\n",
    "    \n",
    "    def __set_name__(self, owner, name):\n",
    "        # 当类创建每个描述符时被调用\n",
    "        self.name = name\n",
    "        self.internal_name = '_' + name\n",
    "    \n",
    "    def __get__(self, instance, instance_type):\n",
    "        if instance is None:\n",
    "            return self\n",
    "        return getattr(instance, self.internal_name, '')\n",
    "    \n",
    "    def __set__(self, instance, value):\n",
    "        setattr(instance, self.internal_name, value)"
   ]
  },
  {
   "cell_type": "markdown",
   "id": "7c015934-56de-4128-b06a-ee8c423c9438",
   "metadata": {},
   "source": [
    "现在，我们可以直接在类里面通过Field描述符来定义字段，而不用继承某个基类，还能把元类给省掉。"
   ]
  },
  {
   "cell_type": "code",
   "execution_count": 3,
   "id": "9778e4d4-9af4-43f7-b3d1-f44f0647d005",
   "metadata": {},
   "outputs": [
    {
     "name": "stdout",
     "output_type": "stream",
     "text": [
      "Before: '' {}\n",
      "After: 'Mersenne' {'_first_name': 'Mersenne'}\n"
     ]
    }
   ],
   "source": [
    "class FixedCustomer:\n",
    "    first_name = Field()\n",
    "    last_name = Field()\n",
    "    prefix = Field()\n",
    "    suffix = Field()\n",
    "\n",
    "cust = FixedCustomer()\n",
    "print(f'Before: {cust.first_name!r} {cust.__dict__}')\n",
    "cust.first_name = 'Mersenne'\n",
    "print(f'After: {cust.first_name!r} {cust.__dict__}')"
   ]
  },
  {
   "cell_type": "markdown",
   "id": "aa556709-5a2b-42b6-92bf-a085ef6c6986",
   "metadata": {},
   "source": [
    "# #51 优先考虑通过类修饰器来提供可组合的扩充功能，不要使用元类\n",
    "\n",
    "尽管元类允许我们用各种方式来定制其他类的创建逻辑，但有些情况未必能处理好。\n",
    "\n",
    "例如，要写一个辅助函数来修饰类中的每个方法，把这些方法在执行时所用的参数、所返回的值以及所抛出的异常都打印出来。"
   ]
  },
  {
   "cell_type": "code",
   "execution_count": 20,
   "id": "b18bd48a-10fa-4b46-8286-bdd16de9c9c9",
   "metadata": {},
   "outputs": [],
   "source": [
    "from functools import wraps\n",
    "\n",
    "def trace_func(func):\n",
    "    if hasattr(func, 'tracing'):\n",
    "        return func\n",
    "    \n",
    "    @wraps(func)\n",
    "    def wrapper(*args, **kwargs):\n",
    "        result = None\n",
    "        try:\n",
    "            result = func(*args, **kwargs)\n",
    "            return result\n",
    "        except Exception as e:\n",
    "            result = e\n",
    "            raise\n",
    "        finally:\n",
    "            print(f'{func.__name__}({args!r}, {kwargs!r}) -> {result!r}')\n",
    "    \n",
    "    wrapper.tracing = True\n",
    "    return wrapper"
   ]
  },
  {
   "cell_type": "markdown",
   "id": "8534cc68-c75a-43fa-932f-5b8cc67dce1e",
   "metadata": {},
   "source": [
    "如果我们从标准的dict里面派生类下面这个子类。我们可以这么使用："
   ]
  },
  {
   "cell_type": "code",
   "execution_count": 21,
   "id": "b431204c-b5e8-44bd-a261-a151ffeba1a3",
   "metadata": {},
   "outputs": [],
   "source": [
    "class TraceDict(dict):\n",
    "    @trace_func\n",
    "    def __init__(self, *args, **kwargs):\n",
    "        super().__init__(*args, **kwargs)\n",
    "    \n",
    "    @trace_func\n",
    "    def __setitem__(self, *args, **kwargs):\n",
    "        return super().__setitem__(*args, **kwargs)\n",
    "    \n",
    "    @trace_func\n",
    "    def __getitem__(self,  *args, **kwargs):\n",
    "        return super().__getitem__(*args, **kwargs)"
   ]
  },
  {
   "cell_type": "markdown",
   "id": "5aed8824-7d58-4c11-996a-4549a874e0ba",
   "metadata": {},
   "source": [
    "下面来验证一下。"
   ]
  },
  {
   "cell_type": "code",
   "execution_count": 22,
   "id": "f8611864-832b-408d-86ec-a4e16f97eca5",
   "metadata": {},
   "outputs": [
    {
     "name": "stdout",
     "output_type": "stream",
     "text": [
      "__init__(({'hi': 1}, [('hi', 1)]), {}) -> None\n",
      "__setitem__(({'hi': 1, 'there': 2}, 'there', 2), {}) -> None\n",
      "__getitem__(({'hi': 1, 'there': 2}, 'hi'), {}) -> 1\n",
      "__getitem__(({'hi': 1, 'there': 2}, 'does not exist'), {}) -> KeyError('does not exist')\n"
     ]
    }
   ],
   "source": [
    "trace_dict = TraceDict([('hi', 1)])\n",
    "trace_dict['there'] = 2\n",
    "trace_dict['hi']\n",
    "try:\n",
    "    trace_dict['does not exist']\n",
    "except KeyError:\n",
    "    pass"
   ]
  },
  {
   "cell_type": "markdown",
   "id": "7fa5ae9e-15b4-4bad-af6a-6fd7e7874384",
   "metadata": {},
   "source": [
    "这样写有个缺点，需要在子类中把需要`@trace_func`修饰的方法全重写一遍。\n",
    "\n",
    "要解决这个问题，其中一个办法是通过元类自动修饰那个类的所有方法。"
   ]
  },
  {
   "cell_type": "code",
   "execution_count": 42,
   "id": "b73ca139-e179-4021-82c8-3d3590f39229",
   "metadata": {},
   "outputs": [],
   "source": [
    "import types\n",
    "\n",
    "trace_types = (\n",
    "    types.MethodType,\n",
    "    types.FunctionType,\n",
    "    types.BuiltinFunctionType,\n",
    "    types.BuiltinMethodType,\n",
    "    types.MethodDescriptorType,\n",
    "    types.ClassMethodDescriptorType)\n",
    "\n",
    "class TraceMeta(type):\n",
    "    def __new__(meta, name, bases, class_dict):\n",
    "        klass = super().__new__(meta, name, bases, class_dict)\n",
    "\n",
    "        for key in dir(klass):\n",
    "            value = getattr(klass, key)\n",
    "            if isinstance(value, trace_types):\n",
    "                wrapped = trace_func(value)\n",
    "                setattr(klass, key, wrapped)\n",
    "\n",
    "        return klass"
   ]
  },
  {
   "cell_type": "markdown",
   "id": "bfca9996-ec61-4e9a-a395-0c5c048d27de",
   "metadata": {},
   "source": [
    "现在，只需要让子类继承dict，配置下元类就可以了。"
   ]
  },
  {
   "cell_type": "code",
   "execution_count": 43,
   "id": "3a17eaba-353a-41d5-bab7-c59e2f1e32da",
   "metadata": {},
   "outputs": [
    {
     "name": "stdout",
     "output_type": "stream",
     "text": [
      "__new__((<class '__main__.TraceDict'>, [('hi', 1)]), {}) -> {}\n",
      "__getitem__(({'hi': 1, 'there': 2}, 'hi'), {}) -> 1\n",
      "__getitem__(({'hi': 1, 'there': 2}, 'does not exist'), {}) -> KeyError('does not exist')\n"
     ]
    }
   ],
   "source": [
    "class TraceDict(dict, metaclass=TraceMeta):\n",
    "    pass\n",
    "\n",
    "trace_dict = TraceDict([('hi', 1)])\n",
    "trace_dict['there'] = 2\n",
    "trace_dict['hi']\n",
    "try:\n",
    "    trace_dict['does not exist']\n",
    "except KeyError:\n",
    "    pass"
   ]
  },
  {
   "cell_type": "markdown",
   "id": "6edfb5e5-512c-4bb6-be48-41a999494250",
   "metadata": {},
   "source": [
    "这种方法确实有效，但如果子类所继承的那个超类本身已经指定了它自己的metaclass，那么会怎样呢"
   ]
  },
  {
   "cell_type": "code",
   "execution_count": 44,
   "id": "0d0f749d-753c-449f-bc65-fe584c69c60f",
   "metadata": {},
   "outputs": [
    {
     "ename": "TypeError",
     "evalue": "metaclass conflict: the metaclass of a derived class must be a (non-strict) subclass of the metaclasses of all its bases",
     "output_type": "error",
     "traceback": [
      "\u001b[0;31m---------------------------------------------------------------------------\u001b[0m",
      "\u001b[0;31mTypeError\u001b[0m                                 Traceback (most recent call last)",
      "\u001b[0;32m/var/folders/h5/58f251ws7bsfdgld4kgcv_pr0000gn/T/ipykernel_7882/738434464.py\u001b[0m in \u001b[0;36m<module>\u001b[0;34m\u001b[0m\n\u001b[1;32m      5\u001b[0m     \u001b[0;32mpass\u001b[0m\u001b[0;34m\u001b[0m\u001b[0;34m\u001b[0m\u001b[0m\n\u001b[1;32m      6\u001b[0m \u001b[0;34m\u001b[0m\u001b[0m\n\u001b[0;32m----> 7\u001b[0;31m \u001b[0;32mclass\u001b[0m \u001b[0mTraceDict\u001b[0m\u001b[0;34m(\u001b[0m\u001b[0mSimpleDict\u001b[0m\u001b[0;34m,\u001b[0m \u001b[0mmetaclass\u001b[0m\u001b[0;34m=\u001b[0m\u001b[0mTraceMeta\u001b[0m\u001b[0;34m)\u001b[0m\u001b[0;34m:\u001b[0m\u001b[0;34m\u001b[0m\u001b[0;34m\u001b[0m\u001b[0m\n\u001b[0m\u001b[1;32m      8\u001b[0m     \u001b[0;32mpass\u001b[0m\u001b[0;34m\u001b[0m\u001b[0;34m\u001b[0m\u001b[0m\n",
      "\u001b[0;31mTypeError\u001b[0m: metaclass conflict: the metaclass of a derived class must be a (non-strict) subclass of the metaclasses of all its bases"
     ]
    }
   ],
   "source": [
    "class OtherMeta(type):\n",
    "    pass\n",
    "\n",
    "class SimpleDict(dict, metaclass=OtherMeta):\n",
    "    pass\n",
    "\n",
    "class TraceDict(SimpleDict, metaclass=TraceMeta):\n",
    "    pass"
   ]
  },
  {
   "cell_type": "markdown",
   "id": "32b4d026-2042-4eee-8142-2fe8e80421f0",
   "metadata": {},
   "source": [
    "这样会发生冲突，理论上我们可以让TraceMeta继承OtherMeta，从而解决这个问题。"
   ]
  },
  {
   "cell_type": "code",
   "execution_count": 45,
   "id": "9be5d704-0128-461c-8651-440daf2d075e",
   "metadata": {},
   "outputs": [
    {
     "name": "stdout",
     "output_type": "stream",
     "text": [
      "__init_subclass__((), {}) -> None\n",
      "__new__((<class '__main__.TraceDict'>, [('hi', 1)]), {}) -> {}\n",
      "__getitem__(({'hi': 1, 'there': 2}, 'hi'), {}) -> 1\n",
      "__getitem__(({'hi': 1, 'there': 2}, 'does not exist'), {}) -> KeyError('does not exist')\n"
     ]
    }
   ],
   "source": [
    "class TraceMeta(type):\n",
    "    def __new__(meta, name, bases, class_dict):\n",
    "        klass = type.__new__(meta, name, bases, class_dict)\n",
    "\n",
    "        for key in dir(klass):\n",
    "            value = getattr(klass, key)\n",
    "            if isinstance(value, trace_types):\n",
    "                wrapped = trace_func(value)\n",
    "                setattr(klass, key, wrapped)\n",
    "\n",
    "        return klass\n",
    "\n",
    "class OtherMeta(TraceMeta):\n",
    "    pass\n",
    "\n",
    "class SimpleDict(dict, metaclass=OtherMeta):\n",
    "    pass\n",
    "\n",
    "class TraceDict(SimpleDict, metaclass=TraceMeta):\n",
    "    pass\n",
    "\n",
    "trace_dict = TraceDict([('hi', 1)])\n",
    "trace_dict['there'] = 2\n",
    "trace_dict['hi']\n",
    "try:\n",
    "    trace_dict['does not exist']\n",
    "except KeyError:\n",
    "    pass  # Expected\n",
    "else:\n",
    "    assert False"
   ]
  },
  {
   "cell_type": "markdown",
   "id": "021173d1-1393-4ec0-8391-e42912fe26b3",
   "metadata": {},
   "source": [
    "然后，如果TraceMeta不是我们写的，那么这种方法就无法满足了。\n",
    "\n",
    "为此，我们可以换一种方法，就是使用类修饰器来实现。这种修饰器与函数修饰器相似，都通过`@`符号来施加，但加在类的上面。"
   ]
  },
  {
   "cell_type": "code",
   "execution_count": 52,
   "id": "f655a94e-35c8-4743-af45-9c757f3dda21",
   "metadata": {},
   "outputs": [
    {
     "name": "stdout",
     "output_type": "stream",
     "text": [
      "<class '__main__.MyClass'>\n",
      "hello\n"
     ]
    }
   ],
   "source": [
    "def my_class_decorator(klass):\n",
    "    klass.extra_param = 'hello'\n",
    "    return klass\n",
    "\n",
    "@my_class_decorator\n",
    "class MyClass:\n",
    "    pass\n",
    "\n",
    "print(MyClass)\n",
    "print(MyClass.extra_param)"
   ]
  },
  {
   "cell_type": "markdown",
   "id": "5f8ac180-c68f-4e2f-9361-4b75740665ef",
   "metadata": {},
   "source": [
    "现在就来实现这样一个类修饰器，它可以施加在类上面，让该类的所有方法与函数都能自动封装在trace_func之中。"
   ]
  },
  {
   "cell_type": "code",
   "execution_count": 53,
   "id": "56f51673-ca33-468a-ae5a-d796da2ab693",
   "metadata": {},
   "outputs": [],
   "source": [
    "def trace(klass):\n",
    "    for key in dir(klass):\n",
    "        value = getattr(klass, key)\n",
    "        if isinstance(value, trace_types):\n",
    "            wrapped = trace_func(value)\n",
    "            setattr(klass, key, wrapped)\n",
    "    return klass"
   ]
  },
  {
   "cell_type": "markdown",
   "id": "934b15eb-e6ab-4576-b0ca-1a279a330746",
   "metadata": {},
   "source": [
    "我们把类修饰器运用到自定义的dict子类上面，这样它就有了与刚才那套元类方案相同的功能。"
   ]
  },
  {
   "cell_type": "code",
   "execution_count": 54,
   "id": "7be9022d-b9bc-4f3c-a32a-46f5b14fcb38",
   "metadata": {},
   "outputs": [
    {
     "name": "stdout",
     "output_type": "stream",
     "text": [
      "__new__((<class '__main__.TraceDict'>, [('hi', 1)]), {}) -> {}\n",
      "__getitem__(({'hi': 1, 'there': 2}, 'hi'), {}) -> 1\n",
      "__getitem__(({'hi': 1, 'there': 2}, 'does not exist'), {}) -> KeyError('does not exist')\n"
     ]
    }
   ],
   "source": [
    "@trace\n",
    "class TraceDict(dict):\n",
    "    pass\n",
    "\n",
    "trace_dict = TraceDict([('hi', 1)])\n",
    "trace_dict['there'] = 2\n",
    "trace_dict['hi']\n",
    "try:\n",
    "    trace_dict['does not exist']\n",
    "except KeyError:\n",
    "    pass  # Expected\n",
    "else:\n",
    "    assert False"
   ]
  },
  {
   "cell_type": "markdown",
   "id": "167efb87-cda1-44aa-b846-8ff58d969fbe",
   "metadata": {},
   "source": [
    "另外，类修饰器也能施加到已经有metaclass的类上面。"
   ]
  },
  {
   "cell_type": "code",
   "execution_count": 55,
   "id": "d8e11710-c552-4bde-8732-5c3d4f2aa7ad",
   "metadata": {},
   "outputs": [
    {
     "name": "stdout",
     "output_type": "stream",
     "text": [
      "__new__((<class '__main__.TraceDict'>, [('hi', 1)]), {}) -> {}\n",
      "__getitem__(({'hi': 1, 'there': 2}, 'hi'), {}) -> 1\n",
      "__getitem__(({'hi': 1, 'there': 2}, 'does not exist'), {}) -> KeyError('does not exist')\n"
     ]
    }
   ],
   "source": [
    "class OtherMeta(type):\n",
    "    pass\n",
    "\n",
    "@trace\n",
    "class TraceDict(dict, metaclass=OtherMeta):\n",
    "    pass\n",
    "\n",
    "trace_dict = TraceDict([('hi', 1)])\n",
    "trace_dict['there'] = 2\n",
    "trace_dict['hi']\n",
    "try:\n",
    "    trace_dict['does not exist']\n",
    "except KeyError:\n",
    "    pass  # Expected\n",
    "else:\n",
    "    assert False"
   ]
  },
  {
   "cell_type": "code",
   "execution_count": null,
   "id": "9f2d8622-80f3-412f-ac65-7c12f7f917f7",
   "metadata": {},
   "outputs": [],
   "source": []
  }
 ],
 "metadata": {
  "kernelspec": {
   "display_name": "Python 3 (ipykernel)",
   "language": "python",
   "name": "python3"
  },
  "language_info": {
   "codemirror_mode": {
    "name": "ipython",
    "version": 3
   },
   "file_extension": ".py",
   "mimetype": "text/x-python",
   "name": "python",
   "nbconvert_exporter": "python",
   "pygments_lexer": "ipython3",
   "version": "3.9.7"
  }
 },
 "nbformat": 4,
 "nbformat_minor": 5
}
